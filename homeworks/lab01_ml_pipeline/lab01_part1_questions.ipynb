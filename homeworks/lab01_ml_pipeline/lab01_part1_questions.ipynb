{
  "cells": [
    {
      "cell_type": "markdown",
      "metadata": {
        "id": "WxG0eA8FGzfx"
      },
      "source": [
        "*Credits: materials from this notebook belong to YSDA [Practical DL](https://github.com/yandexdataschool/Practical_DL) course. Special thanks for making them available online.*"
      ]
    },
    {
      "cell_type": "markdown",
      "metadata": {
        "id": "s5gZLwISGzf4"
      },
      "source": [
        "# Lab assignment №1, part 1\n",
        "\n",
        "This lab assignment consists of several parts. You are supposed to make some transformations, train some models, estimate the quality of the models and explain your results.\n",
        "\n",
        "Several comments:\n",
        "* Don't hesitate to ask questions, it's a good practice.\n",
        "* No private/public sharing, please. The copied assignments will be graded with 0 points.\n",
        "* Blocks of this lab will be graded separately."
      ]
    },
    {
      "cell_type": "markdown",
      "metadata": {
        "id": "iQSoQM2aGzf7"
      },
      "source": [
        "## 1. Matrix differentiation"
      ]
    },
    {
      "cell_type": "markdown",
      "metadata": {
        "id": "hxOTCtp1Gzf8"
      },
      "source": [
        "Since it easy to google every task please please please try to undestand what's going on. The \"just answer\" thing will be not counted, make sure to present derivation of your solution. It is absolutely OK if you found an answer on web then just exercise in $\\LaTeX$ copying it into here."
      ]
    },
    {
      "cell_type": "markdown",
      "metadata": {
        "id": "G-hp0J0fGzf9"
      },
      "source": [
        "Useful links:\n",
        "[1](http://www.machinelearning.ru/wiki/images/2/2a/Matrix-Gauss.pdf)\n",
        "[2](http://www.atmos.washington.edu/~dennis/MatrixCalculus.pdf)"
      ]
    },
    {
      "cell_type": "markdown",
      "metadata": {
        "id": "TUz2coBZGzf-"
      },
      "source": [
        "## ex. 1"
      ]
    },
    {
      "cell_type": "markdown",
      "metadata": {
        "id": "Spp0_3V0Gzf_"
      },
      "source": [
        "$$  \n",
        "y = x^Tx,  \\quad x \\in \\mathbb{R}^N\n",
        "$$"
      ]
    },
    {
      "cell_type": "markdown",
      "metadata": {
        "id": "VF18Rs9HGzf_"
      },
      "source": [
        "$$\n",
        "dy = d \\langle x, x \\rangle = 2 \\langle x, dx \\rangle \\Rightarrow \\frac{dy}{dx} = \\nabla_x y = 2x\n",
        "$$"
      ]
    },
    {
      "cell_type": "markdown",
      "metadata": {
        "id": "YWWXyDjyGzgD"
      },
      "source": [
        "## ex. 2"
      ]
    },
    {
      "cell_type": "markdown",
      "metadata": {
        "id": "lKQT5TReGzgD"
      },
      "source": [
        "$$ y = tr(AB) \\quad A,B \\in \\mathbb{R}^{N \\times N} $$"
      ]
    },
    {
      "cell_type": "markdown",
      "metadata": {
        "id": "cjgqGTi1GzgE"
      },
      "source": [
        "$$\n",
        "tr(AB) = tr(BA) \\Rightarrow dy = d \\langle B^T, A \\rangle = \\langle B^T, dA \\rangle \\Rightarrow \\frac{dy}{dA} = \\nabla_A y = B^T\n",
        "$$"
      ]
    },
    {
      "cell_type": "markdown",
      "metadata": {
        "id": "ROwrXS9PGzgF"
      },
      "source": [
        "## ex. 3"
      ]
    },
    {
      "cell_type": "markdown",
      "metadata": {
        "id": "9V2_LC6lGzgG"
      },
      "source": [
        "$$  \n",
        "y = x^TAc , \\quad A\\in \\mathbb{R}^{N \\times N}, x\\in \\mathbb{R}^{N}, c\\in \\mathbb{R}^{N}\n",
        "$$"
      ]
    },
    {
      "cell_type": "markdown",
      "metadata": {
        "id": "Zieu8fgCGzgH"
      },
      "source": [
        "$$\n",
        "dy = d \\langle x, Ac \\rangle = d \\langle x c^T, A \\rangle \\Rightarrow \\frac{dy}{dA} = \\nabla_A y = x c^T\n",
        "$$"
      ]
    },
    {
      "cell_type": "markdown",
      "metadata": {
        "id": "Vqe3rXT2GzgH"
      },
      "source": [
        "Hint for the latter (one of the ways): use *ex. 2* result and the fact\n",
        "$$\n",
        "tr(ABC) = tr (CAB)\n",
        "$$"
      ]
    },
    {
      "cell_type": "markdown",
      "metadata": {
        "id": "1e_uA9zEGzgI"
      },
      "source": [
        "## ex. 4"
      ]
    },
    {
      "cell_type": "markdown",
      "metadata": {
        "id": "h2xKnxnYGzgI"
      },
      "source": [
        "Classic matrix factorization example. Given matrix $X$ you need to find $A$, $S$ to approximate $X$. This can be done by simple gradient descent iteratively alternating $A$ and $S$ updates.\n",
        "$$\n",
        "J = || X - AS ||_F^2  , \\quad A\\in \\mathbb{R}^{N \\times R} , \\quad S\\in \\mathbb{R}^{R \\times M}\n",
        "$$\n",
        "$$\n",
        " dJ = d [(X - AS)^T (X - AS)] = dtr[(X - AS)^T (X - AS)] = dtr[X^T X - X^T AS - S^T A^T X + S^T A^T AS] = d[tr X^TX - tr XAS - tr S^T A^T X + tr S^T A^T AS] = -d (tr S X^T A) - d(tr S X^T A) + d\\langle AS, AS \\rangle = \\langle -2 A^T X , dS \\rangle + 2 \\langle AS, d(AS) \\rangle = \\langle -2 A^T X, dS \\rangle + 2 \\langle AS, AdS \\rangle = \\langle -2 A^T X + 2 A^T A S, dS \\rangle\n",
        "$$\n",
        "\n",
        "$$\n",
        "\\Rightarrow \\frac{dJ}{dS} = -2 A^T X + 2 A^T A S = 2 A^T (AS - X)\n",
        "$$\n",
        "\n",
        "You may use one of the following approaches:"
      ]
    },
    {
      "cell_type": "markdown",
      "metadata": {
        "id": "COpaCjcmGzgJ"
      },
      "source": [
        "#### First approach\n",
        "Using ex.2 and the fact:\n",
        "$$\n",
        "|| X ||_F^2 = tr(XX^T)\n",
        "$$\n",
        "it is easy to derive gradients (you can find it in one of the refs)."
      ]
    },
    {
      "cell_type": "markdown",
      "metadata": {
        "id": "CxAheEXzGzgJ"
      },
      "source": [
        "#### Second approach\n",
        "You can use *slightly different techniques* if they suits you. Take a look at this derivation:\n",
        "<img src=\"grad.png\">\n",
        "(excerpt from [Handbook of blind source separation, Jutten, page 517](https://books.google.ru/books?id=PTbj03bYH6kC&printsec=frontcover&dq=Handbook+of+Blind+Source+Separation&hl=en&sa=X&ved=0ahUKEwi-q_apiJDLAhULvXIKHVXJDWcQ6AEIHDAA#v=onepage&q=Handbook%20of%20Blind%20Source%20Separation&f=false), open for better picture)."
      ]
    },
    {
      "cell_type": "markdown",
      "metadata": {
        "id": "brpohQB0GzgK"
      },
      "source": [
        "#### Third approach\n",
        "And finally we can use chain rule!\n",
        "let $ F = AS $\n",
        "\n",
        "\n",
        "$$\n",
        "J = || X - F ||_F^2\n",
        "$$\n",
        "\n",
        "**Find**\n",
        "$$\n",
        "dJ = d \\langle X - F, X - F \\rangle = 2 \\langle X - F, d(X - F) \\rangle = -2 \\langle X - F, dF \\rangle \\Rightarrow \\frac{dJ}{dF} =  2(F - X)\n",
        "$$\n",
        "and\n",
        "$$\n",
        "\\frac{dF}{dS} =\n",
        "$$\n",
        "(the shape should be $ NM \\times RM )$.\n",
        "\n",
        "Now it is easy do get desired gradients:\n",
        "$$\n",
        "\\frac{dJ}{dS} =  \n",
        "$$"
      ]
    },
    {
      "cell_type": "markdown",
      "metadata": {
        "collapsed": true,
        "jupyter": {
          "outputs_hidden": true
        },
        "id": "fG8i5fijGzgL"
      },
      "source": [
        "## 2. kNN questions\n",
        "Here come the questions from the assignment0_01. Please, refer to the assignment0_01 to get the context of the questions."
      ]
    },
    {
      "cell_type": "markdown",
      "metadata": {
        "id": "4e9sbsKxGzgL"
      },
      "source": [
        "### Question 1\n",
        "\n",
        "Notice the structured patterns in the distance matrix, where some rows or columns are visible brighter. (Note that with the default color scheme black indicates low distances while white indicates high distances.)\n",
        "\n",
        "- What in the data is the cause behind the distinctly bright rows?\n",
        "- What causes the columns?\n",
        "\n",
        "*Your Answer:*\n",
        "\n",
        "- Too light lines mean that the test sample object is located at a large distance from the training objects. In fact, such test objects can be called outliers. The distance between objects means how similar they are to each other. Thus, the bright lines correspond to pictures that are very different from the pictures in the training set.\n",
        "- The bright columns are explained in a similar way, but the distant object is the image of the training sample.\n"
      ]
    },
    {
      "cell_type": "markdown",
      "metadata": {
        "id": "hD556c4UGzgM"
      },
      "source": [
        "### Question 2\n",
        "\n",
        "We can also use other distance metrics such as L1 distance.\n",
        "For pixel values $p_{ij}^{(k)}$ at location $(i,j)$ of some image $I_k$,\n",
        "\n",
        "the mean $\\mu$ across all pixels over all images is $$\\mu=\\frac{1}{nhw}\\sum_{k=1}^n\\sum_{i=1}^{h}\\sum_{j=1}^{w}p_{ij}^{(k)}$$\n",
        "And the pixel-wise mean $\\mu_{ij}$ across all images is\n",
        "$$\\mu_{ij}=\\frac{1}{n}\\sum_{k=1}^np_{ij}^{(k)}.$$\n",
        "The general standard deviation $\\sigma$ and pixel-wise standard deviation $\\sigma_{ij}$ is defined similarly.\n",
        "\n",
        "Which of the following preprocessing steps will not change the performance of a Nearest Neighbor classifier that uses L1 distance? Select all that apply.\n",
        "1. Subtracting the mean $\\mu$ ($\\tilde{p}_{ij}^{(k)}=p_{ij}^{(k)}-\\mu$.)\n",
        "2. Subtracting the per pixel mean $\\mu_{ij}$  ($\\tilde{p}_{ij}^{(k)}=p_{ij}^{(k)}-\\mu_{ij}$.)\n",
        "3. Subtracting the mean $\\mu$ and dividing by the standard deviation $\\sigma$.\n",
        "4. Subtracting the pixel-wise mean $\\mu_{ij}$ and dividing by the pixel-wise standard deviation $\\sigma_{ij}$.\n",
        "5. Rotating the coordinate axes of the data.\n",
        "\n",
        "*Your Answer:*\n",
        "\n",
        "1. **Will not affect**\n",
        "$$\n",
        "    \\tilde{D} = \\sum_{i=1}^h \\sum_{j=1}^w | \\tilde{p}_{ij}^{(k_1)} - \\tilde{p}_{ij}^{(k_2)} | = \\sum_{i=1}^h \\sum_{j=1}^w | (p_{ij}^{(k_1)} - \\mu) - (p_{ij}^{(k_2)} - \\mu) | = \\sum_{i=1}^h \\sum_{j=1}^w | p_{ij}^{(k_1)} - p_{ij}^{(k_2)}| = D\n",
        "$$\n",
        "\n",
        "2. **Will not affect**\n",
        "$$\n",
        "    \\tilde{D} = \\sum_{i=1}^h \\sum_{j=1}^w | \\tilde{p}_{ij}^{(k_1)} - \\tilde{p}_{ij}^{(k_2)} | = \\sum_{i=1}^h \\sum_{j=1}^w | (p_{ij}^{(k_1)} - \\mu_{ij}) - (p_{ij}^{(k_2)} - \\mu_{ij}) | = \\sum_{i=1}^h \\sum_{j=1}^w | p_{ij}^{(k_1)} - p_{ij}^{(k_2)}| = D\n",
        "$$\n",
        "\n",
        "3. **Will not affect**\n",
        "$$\n",
        "    \\tilde{D} = \\sum_{i=1}^h \\sum_{j=1}^w | \\tilde{p}_{ij}^{(k_1)} - \\tilde{p}_{ij}^{(k_2)} | = \\sum_{i=1}^h \\sum_{j=1}^w | \\frac{p_{ij}^{(k_1)} - \\mu}{\\sigma} - \\frac{p_{ij}^{(k_2)} - \\mu}{\\sigma} | = \\frac{1}{\\sigma} \\sum_{i=1}^h \\sum_{j=1}^w | p_{ij}^{(k_1)} - p_{ij}^{(k_2)}| = \\frac{D}{\\sigma}\n",
        "$$\n",
        "\n",
        "    Thus, the relative order will be preserved.\n",
        "\n",
        "4. **Will affect**\n",
        "$$\n",
        "    \\tilde{D} = \\sum_{i=1}^h \\sum_{j=1}^w | \\tilde{p}_{ij}^{(k_1)} - \\tilde{p}_{ij}^{(k_2)} | = \\sum_{i=1}^h \\sum_{j=1}^w | \\frac{p_{ij}^{(k_1)} - \\mu_{ij}}{\\sigma_{ij}} - \\frac{p_{ij}^{(k_2)} - \\mu_{ij}}{\\sigma_{ij}} | = \\sum_{i=1}^h \\sum_{j=1}^w \\frac{1}{\\sigma_{ij}} | p_{ij}^{(k_1)} - p_{ij}^{(k_2)}|\n",
        "$$\n",
        "\n",
        "    Suppose, $$h = 1$$ and $$w = 2$$ Let $$pic_{1} = (0, 0), pic_{2} = (100, 1), pic_{3} = (50, 5)$$ Obviously, $$ D_{1, 2} > D_{1, 3} $$\n",
        "\n",
        "    $$ \\mu_{0, 0} = \\frac{0 + 50 + 100}{3} = 50, \\sigma_{0, 0} = \\sqrt{\\frac{0^2 + 50^2 + 100^2}{3} - \\mu_{0, 0}^2} \\approx 40.8 $$\n",
        "\n",
        "    $$ \\mu_{0, 1} = \\frac{0 + 1 + 5}{3} = 2, \\sigma_{0, 1} = \\sqrt{\\frac{0^2 + 1^2 + 5^2}{3} - \\mu_{0, 1}^2} \\approx 2.1 $$\n",
        "\n",
        "    Thus,\n",
        "    $$ \\tilde{D_{1, 2}} \\approx \\frac{100}{40} + \\frac{1}{2} = 3 $$\n",
        "    $$ \\tilde{D_{1, 3}} \\approx \\frac{50}{40} + \\frac{5}{2} = 3.75 $$\n",
        "    $$ \\Rightarrow \\tilde{D_{1, 3}} > \\tilde{D_{1, 2}} $$\n",
        "\n",
        "    Thus, the relative distances change.\n",
        "\n",
        "5. **Will affect**\n",
        "\n",
        "    Suppose, $$h = 1$$ and $$w = 2$$ Let $$pic_{1} = (0, 0), pic_{2} = (\\frac{1}{\\sqrt{2}}, \\frac{1}{\\sqrt{2}}), pic_{3} = (0, 1)$$ Therefore, $$ D_{1, 2} = \\frac{2}{\\sqrt{2}} > D_{1, 3} = 1 $$\n",
        "\n",
        "    $$ After rotating the base by 45 degrees: $$\n",
        "    $$ D_{1, 2} = 1 < D_{1, 3} = \\frac{2}{\\sqrt{2}}$$\n",
        "\n",
        "    Thus, the relative distances change after the basis is rotated."
      ]
    },
    {
      "cell_type": "markdown",
      "metadata": {
        "id": "yAgl-wDHGzgM"
      },
      "source": [
        "## Question 3\n",
        "\n",
        "Which of the following statements about $k$-Nearest Neighbor ($k$-NN) are true in a classification setting, and for all $k$? Select all that apply.\n",
        "1. The decision boundary (hyperplane between classes in feature space) of the k-NN classifier is linear.\n",
        "2. The training error of a 1-NN will always be lower than that of 5-NN.\n",
        "3. The test error of a 1-NN will always be lower than that of a 5-NN.\n",
        "4. The time needed to classify a test example with the k-NN classifier grows with the size of the training set.\n",
        "5. None of the above.\n",
        "\n",
        "*Your Answer:*\n",
        "1. **False**\n",
        "\n",
        "    \"The decision boundaries of kNN are locally linear segments, but in general have a complex shape that is not equivalent to a line in 2D or a hyperplane in higher dimensions.\" Feature space is divided by Voronoi diagram cells.\n",
        "2. **True**\n",
        "    \n",
        "    The test error of a 1-NN will always **less or equal** than that of 5-NN, because the nearest neighbor of object from train sample is this object itself. So the test error of a 1-NN will be always equal to zero.\n",
        "3. **False**\n",
        "\n",
        "    Consider a regular pentagon, the vertices belong to class A. Let the center of this pentagon be a vertex of class B. Then in 1-NN the vertices will be identified as from class B. In the case of 5-NN, the vertices are identified correctly. Thus, the error when using 5-NN will be less.\n",
        "4. **True**\n",
        "\n",
        "    Yes, the classification time increases, since to search for nearest neighbors it is necessary to calculate the distance to each object in the training sample, and even select the closest ones.\n"
      ]
    }
  ],
  "metadata": {
    "kernelspec": {
      "display_name": "mipt",
      "language": "python",
      "name": "mipt"
    },
    "language_info": {
      "codemirror_mode": {
        "name": "ipython",
        "version": 3
      },
      "file_extension": ".py",
      "mimetype": "text/x-python",
      "name": "python",
      "nbconvert_exporter": "python",
      "pygments_lexer": "ipython3",
      "version": "3.9.5"
    },
    "colab": {
      "provenance": []
    }
  },
  "nbformat": 4,
  "nbformat_minor": 0
}