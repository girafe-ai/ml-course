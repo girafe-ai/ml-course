{
  "nbformat": 4,
  "nbformat_minor": 0,
  "metadata": {
    "kernelspec": {
      "display_name": "Py3 research env",
      "language": "python",
      "name": "py3_research"
    },
    "language_info": {
      "codemirror_mode": {
        "name": "ipython",
        "version": 3
      },
      "file_extension": ".py",
      "mimetype": "text/x-python",
      "name": "python",
      "nbconvert_exporter": "python",
      "pygments_lexer": "ipython3",
      "version": "3.6.7"
    },
    "colab": {
      "name": "kNN_practice_0_01.ipynb",
      "provenance": [],
      "toc_visible": true
    },
    "accelerator": "GPU"
  },
  "cells": [
    {
      "cell_type": "markdown",
      "metadata": {
        "tags": [
          "pdf-title"
        ],
        "id": "_I7bJwfbyAj4",
        "colab_type": "text"
      },
      "source": [
        "# k-Nearest Neighbor (kNN) implementation\n",
        "\n",
        "*Credits: this notebook is deeply based on Stanford CS231n course assignment 1. Source link: http://cs231n.github.io/assignments2019/assignment1/*\n",
        "\n",
        "The kNN classifier consists of two stages:\n",
        "\n",
        "- During training, the classifier takes the training data and simply remembers it\n",
        "- During testing, kNN classifies every test image by comparing to all training images and transfering the labels of the k most similar training examples\n",
        "- The value of k is cross-validated\n",
        "\n",
        "In this exercise you will implement these steps and understand the basic Image Classification pipeline and gain proficiency in writing efficient, vectorized code.\n",
        "\n",
        "We will work with the handwritten digits dataset. Images will be flattened (8x8 sized image -> 64 sized vector) and treated as vectors."
      ]
    },
    {
      "cell_type": "code",
      "metadata": {
        "id": "7IVl86EJyAkA",
        "colab_type": "code",
        "outputId": "937cc9a7-70bc-412f-d32b-8b9443288606",
        "colab": {
          "base_uri": "https://localhost:8080/",
          "height": 224
        }
      },
      "source": [
        "'''\n",
        "If you are using Google Colab, uncomment the next line to download `k_nearest_neighbor.py`. \n",
        "You can open and change it in Colab using the \"Files\" sidebar on the left.\n",
        "'''\n",
        "!wget https://raw.githubusercontent.com/chgcool/ml_mipt_basic/master/k_nearest_neighbor.py"
      ],
      "execution_count": 0,
      "outputs": [
        {
          "output_type": "stream",
          "text": [
            "--2020-02-29 11:26:07--  https://raw.githubusercontent.com/chgcool/ml_mipt_basic/master/k_nearest_neighbor.py\n",
            "Resolving raw.githubusercontent.com (raw.githubusercontent.com)... 151.101.0.133, 151.101.64.133, 151.101.128.133, ...\n",
            "Connecting to raw.githubusercontent.com (raw.githubusercontent.com)|151.101.0.133|:443... connected.\n",
            "HTTP request sent, awaiting response... 200 OK\n",
            "Length: 8769 (8.6K) [text/plain]\n",
            "Saving to: ‘k_nearest_neighbor.py’\n",
            "\n",
            "\rk_nearest_neighbor.   0%[                    ]       0  --.-KB/s               \rk_nearest_neighbor. 100%[===================>]   8.56K  --.-KB/s    in 0s      \n",
            "\n",
            "2020-02-29 11:26:08 (177 MB/s) - ‘k_nearest_neighbor.py’ saved [8769/8769]\n",
            "\n"
          ],
          "name": "stdout"
        }
      ]
    },
    {
      "cell_type": "code",
      "metadata": {
        "id": "CrSWdwDsyAkK",
        "colab_type": "code",
        "outputId": "be745a0b-a37d-429e-cb9f-fdabd4117d89",
        "colab": {
          "base_uri": "https://localhost:8080/",
          "height": 799
        }
      },
      "source": [
        "from sklearn import datasets\n",
        "dataset = datasets.load_digits()\n",
        "print(dataset.DESCR)"
      ],
      "execution_count": 0,
      "outputs": [
        {
          "output_type": "stream",
          "text": [
            ".. _digits_dataset:\n",
            "\n",
            "Optical recognition of handwritten digits dataset\n",
            "--------------------------------------------------\n",
            "\n",
            "**Data Set Characteristics:**\n",
            "\n",
            "    :Number of Instances: 5620\n",
            "    :Number of Attributes: 64\n",
            "    :Attribute Information: 8x8 image of integer pixels in the range 0..16.\n",
            "    :Missing Attribute Values: None\n",
            "    :Creator: E. Alpaydin (alpaydin '@' boun.edu.tr)\n",
            "    :Date: July; 1998\n",
            "\n",
            "This is a copy of the test set of the UCI ML hand-written digits datasets\n",
            "https://archive.ics.uci.edu/ml/datasets/Optical+Recognition+of+Handwritten+Digits\n",
            "\n",
            "The data set contains images of hand-written digits: 10 classes where\n",
            "each class refers to a digit.\n",
            "\n",
            "Preprocessing programs made available by NIST were used to extract\n",
            "normalized bitmaps of handwritten digits from a preprinted form. From a\n",
            "total of 43 people, 30 contributed to the training set and different 13\n",
            "to the test set. 32x32 bitmaps are divided into nonoverlapping blocks of\n",
            "4x4 and the number of on pixels are counted in each block. This generates\n",
            "an input matrix of 8x8 where each element is an integer in the range\n",
            "0..16. This reduces dimensionality and gives invariance to small\n",
            "distortions.\n",
            "\n",
            "For info on NIST preprocessing routines, see M. D. Garris, J. L. Blue, G.\n",
            "T. Candela, D. L. Dimmick, J. Geist, P. J. Grother, S. A. Janet, and C.\n",
            "L. Wilson, NIST Form-Based Handprint Recognition System, NISTIR 5469,\n",
            "1994.\n",
            "\n",
            ".. topic:: References\n",
            "\n",
            "  - C. Kaynak (1995) Methods of Combining Multiple Classifiers and Their\n",
            "    Applications to Handwritten Digit Recognition, MSc Thesis, Institute of\n",
            "    Graduate Studies in Science and Engineering, Bogazici University.\n",
            "  - E. Alpaydin, C. Kaynak (1998) Cascading Classifiers, Kybernetika.\n",
            "  - Ken Tang and Ponnuthurai N. Suganthan and Xi Yao and A. Kai Qin.\n",
            "    Linear dimensionalityreduction using relevance weighted LDA. School of\n",
            "    Electrical and Electronic Engineering Nanyang Technological University.\n",
            "    2005.\n",
            "  - Claudio Gentile. A New Approximate Maximal Margin Classification\n",
            "    Algorithm. NIPS. 2000.\n"
          ],
          "name": "stdout"
        }
      ]
    },
    {
      "cell_type": "code",
      "metadata": {
        "id": "qUbM3yrgyAkS",
        "colab_type": "code",
        "outputId": "a6bf25be-3cbd-4626-8371-81781a285f52",
        "colab": {
          "base_uri": "https://localhost:8080/",
          "height": 85
        }
      },
      "source": [
        "# First 100 images will be used for testing. This dataset is not sorted by the labels, so it's ok\n",
        "# to do the split this way.\n",
        "# Please be careful when you split your data into train and test in general.\n",
        "test_border = 100\n",
        "X_train, y_train = dataset.data[test_border:], dataset.target[test_border:]\n",
        "X_test, y_test = dataset.data[:test_border], dataset.target[:test_border]\n",
        "\n",
        "print('Training data shape: ', X_train.shape)\n",
        "print('Training labels shape: ', y_train.shape)\n",
        "print('Test data shape: ', X_test.shape)\n",
        "print('Test labels shape: ', y_test.shape)\n",
        "num_test = X_test.shape[0]"
      ],
      "execution_count": 0,
      "outputs": [
        {
          "output_type": "stream",
          "text": [
            "Training data shape:  (1697, 64)\n",
            "Training labels shape:  (1697,)\n",
            "Test data shape:  (100, 64)\n",
            "Test labels shape:  (100,)\n"
          ],
          "name": "stdout"
        }
      ]
    },
    {
      "cell_type": "code",
      "metadata": {
        "tags": [
          "pdf-ignore"
        ],
        "id": "QYroHPuXyAka",
        "colab_type": "code",
        "colab": {}
      },
      "source": [
        "# Run some setup code for this notebook.\n",
        "import random\n",
        "import numpy as np\n",
        "import matplotlib.pyplot as plt\n",
        "\n",
        "# This is a bit of magic to make matplotlib figures appear inline in the notebook\n",
        "# rather than in a new window.\n",
        "%matplotlib inline\n",
        "plt.rcParams['figure.figsize'] = (14.0, 12.0) # set default size of plots\n",
        "plt.rcParams['image.interpolation'] = 'nearest'\n",
        "plt.rcParams['image.cmap'] = 'gray'\n",
        "\n",
        "# Some more magic so that the notebook will reload external python modules;\n",
        "# see http://stackoverflow.com/questions/1907993/autoreload-of-modules-in-ipython\n",
        "%load_ext autoreload\n",
        "%autoreload 2"
      ],
      "execution_count": 0,
      "outputs": []
    },
    {
      "cell_type": "code",
      "metadata": {
        "tags": [
          "pdf-ignore"
        ],
        "id": "lsXPZjUSyAki",
        "colab_type": "code",
        "outputId": "d759d980-9550-4ed7-a381-e8bedfd56615",
        "colab": {
          "base_uri": "https://localhost:8080/",
          "height": 686
        }
      },
      "source": [
        "# Visualize some examples from the dataset.\n",
        "# We show a few examples of training images from each class.\n",
        "classes = list(np.arange(10))\n",
        "num_classes = len(classes)\n",
        "samples_per_class = 7\n",
        "for y, cls in enumerate(classes):\n",
        "    idxs = np.flatnonzero(y_train == y)\n",
        "    idxs = np.random.choice(idxs, samples_per_class, replace=False)\n",
        "    for i, idx in enumerate(idxs):\n",
        "        plt_idx = i * num_classes + y + 1\n",
        "        plt.subplot(samples_per_class, num_classes, plt_idx)\n",
        "        plt.imshow(X_train[idx].reshape((8, 8)).astype('uint8'))\n",
        "        plt.axis('off')\n",
        "        if i == 0:\n",
        "            plt.title(cls)\n",
        "plt.show()"
      ],
      "execution_count": 0,
      "outputs": [
        {
          "output_type": "display_data",
          "data": {
            "image/png": "[encoded data removed]",
            "text/plain": [
              "<Figure size 1008x864 with 70 Axes>"
            ]
          },
          "metadata": {
            "tags": []
          }
        }
      ]
    },
    {
      "cell_type": "markdown",
      "metadata": {
        "id": "M2oiXCaAyAkq",
        "colab_type": "text"
      },
      "source": [
        "Autoreload is a great stuff, but sometimes it does not work as intended. The code below aims to fix than. __Do not forget to save your changes in the `.py` file before reloading the `KNearestNeighbor` class.__"
      ]
    },
    {
      "cell_type": "code",
      "metadata": {
        "tags": [
          "pdf-ignore"
        ],
        "id": "C9dvDraIyAks",
        "colab_type": "code",
        "colab": {}
      },
      "source": [
        "# This dirty hack might help if the autoreload has failed for some reason\n",
        "try:\n",
        "    del KNearestNeighbor\n",
        "except:\n",
        "    pass\n",
        "\n",
        "from k_nearest_neighbor import KNearestNeighbor\n",
        "\n",
        "# Create a kNN classifier instance. \n",
        "# Remember that training a kNN classifier is a noop: \n",
        "# the Classifier simply remembers the data and does no further processing \n",
        "classifier = KNearestNeighbor()\n",
        "classifier.fit(X_train, y_train)"
      ],
      "execution_count": 0,
      "outputs": []
    },
    {
      "cell_type": "code",
      "metadata": {
        "id": "vmxPVdNPyAk4",
        "colab_type": "code",
        "outputId": "d545acff-ec37-43e8-e32e-286963d4b308",
        "colab": {
          "base_uri": "https://localhost:8080/",
          "height": 34
        }
      },
      "source": [
        "X_train.shape"
      ],
      "execution_count": 0,
      "outputs": [
        {
          "output_type": "execute_result",
          "data": {
            "text/plain": [
              "(1697, 64)"
            ]
          },
          "metadata": {
            "tags": []
          },
          "execution_count": 7
        }
      ]
    },
    {
      "cell_type": "markdown",
      "metadata": {
        "id": "FuRtWH0OyAk_",
        "colab_type": "text"
      },
      "source": [
        "We would now like to classify the test data with the kNN classifier. Recall that we can break down this process into two steps: \n",
        "\n",
        "1. First we must compute the distances between all test examples and all train examples. \n",
        "2. Given these distances, for each test example we find the k nearest examples and have them vote for the label\n",
        "\n",
        "Lets begin with computing the distance matrix between all training and test examples. For example, if there are **Ntr** training examples and **Nte** test examples, this stage should result in a **Nte x Ntr** matrix where each element (i,j) is the distance between the i-th test and j-th train example.\n",
        "\n",
        "**Note: For the three distance computations that we require you to implement in this notebook, you may not use the np.linalg.norm() function that numpy provides.**\n",
        "\n",
        "First, open `k_nearest_neighbor.py` and implement the function `compute_distances_two_loops` that uses a (very inefficient) double loop over all pairs of (test, train) examples and computes the distance matrix one element at a time."
      ]
    },
    {
      "cell_type": "code",
      "metadata": {
        "id": "Z0xrF6P6yAlD",
        "colab_type": "code",
        "outputId": "4d1fe34b-68cc-4723-a85e-c839b3004fd8",
        "colab": {
          "base_uri": "https://localhost:8080/",
          "height": 34
        }
      },
      "source": [
        "# Open k_nearest_neighbor.py and implement\n",
        "# compute_distances_two_loops.\n",
        "\n",
        "# Test your implementation:\n",
        "dists = classifier.compute_distances_two_loops(X_test)\n",
        "print(dists.shape)"
      ],
      "execution_count": 0,
      "outputs": [
        {
          "output_type": "stream",
          "text": [
            "(100, 1697)\n"
          ],
          "name": "stdout"
        }
      ]
    },
    {
      "cell_type": "code",
      "metadata": {
        "id": "j-3rF14QyAlK",
        "colab_type": "code",
        "outputId": "c6b90292-e5b2-48d4-8481-25d94c3d0100",
        "colab": {
          "base_uri": "https://localhost:8080/",
          "height": 98
        }
      },
      "source": [
        "# We can visualize the distance matrix: each row is a single test example and\n",
        "# its distances to training examples\n",
        "plt.imshow(dists, interpolation='none')\n",
        "plt.show()"
      ],
      "execution_count": 0,
      "outputs": [
        {
          "output_type": "display_data",
          "data": {
            "image/png": "[encoded data removed]",
            "text/plain": [
              "<Figure size 1008x864 with 1 Axes>"
            ]
          },
          "metadata": {
            "tags": []
          }
        }
      ]
    },
    {
      "cell_type": "markdown",
      "metadata": {
        "tags": [
          "pdf-inline"
        ],
        "id": "8giaBujYyAlT",
        "colab_type": "text"
      },
      "source": [
        "**Inline Question 1** \n",
        "\n",
        "Notice the structured patterns in the distance matrix, where some rows or columns are visible brighter. (Note that with the default color scheme black indicates low distances while white indicates high distances.)\n",
        "\n",
        "- What in the data is the cause behind the distinctly bright rows?\n",
        "- What causes the columns?\n",
        "\n",
        "$\\color{blue}{\\textit Your Answer:}$ *fill this in.*\n",
        "- Строчка - это расстояние от одной картинки из тестовый данных до всех картинок из тренировочных данных. Эта картинка может быть любой непонятной загогулиной, непохожей на цифру, то есть иметь большое расстояние до всех тренировочных данных.\n",
        "\n",
        "- Столбец - расстояние от картинки из training до всех картинок из test. Но тренировочный датасет специально может содержать какие-нибудь редкие случаи или вообще быть неточным.\n"
      ]
    },
    {
      "cell_type": "code",
      "metadata": {
        "id": "4v2HGplMyAlV",
        "colab_type": "code",
        "outputId": "3866c32b-f8f1-4cff-b038-3878ae7537f9",
        "colab": {
          "base_uri": "https://localhost:8080/",
          "height": 34
        }
      },
      "source": [
        "# Now implement the function predict_labels and run the code below:\n",
        "# We use k = 1 (which is Nearest Neighbor).\n",
        "y_test_pred = classifier.predict_labels(dists, k=1)\n",
        "\n",
        "# Compute and print the fraction of correctly predicted examples\n",
        "num_correct = np.sum(y_test_pred == y_test)\n",
        "accuracy = float(num_correct) / num_test\n",
        "print('Got %d / %d correct => accuracy: %f' % (num_correct, num_test, accuracy))"
      ],
      "execution_count": 0,
      "outputs": [
        {
          "output_type": "stream",
          "text": [
            "Got 95 / 100 correct => accuracy: 0.950000\n"
          ],
          "name": "stdout"
        }
      ]
    },
    {
      "cell_type": "markdown",
      "metadata": {
        "id": "Sy-dM30myAlc",
        "colab_type": "text"
      },
      "source": [
        "You should expect to see approximately `95%` accuracy. Now lets try out a larger `k`, say `k = 5`:"
      ]
    },
    {
      "cell_type": "code",
      "metadata": {
        "id": "_DpPGQWRyAle",
        "colab_type": "code",
        "outputId": "de0f1de8-81df-431c-ff2d-f862802b82af",
        "colab": {
          "base_uri": "https://localhost:8080/",
          "height": 34
        }
      },
      "source": [
        "y_test_pred = classifier.predict_labels(dists, k=5)\n",
        "num_correct = np.sum(y_test_pred == y_test)\n",
        "accuracy = float(num_correct) / num_test\n",
        "print('Got %d / %d correct => accuracy: %f' % (num_correct, num_test, accuracy))"
      ],
      "execution_count": 0,
      "outputs": [
        {
          "output_type": "stream",
          "text": [
            "Got 93 / 100 correct => accuracy: 0.930000\n"
          ],
          "name": "stdout"
        }
      ]
    },
    {
      "cell_type": "markdown",
      "metadata": {
        "id": "ED3lRytVyAlm",
        "colab_type": "text"
      },
      "source": [
        "Accuracy should slightly decrease with `k = 5` compared to `k = 1`."
      ]
    },
    {
      "cell_type": "markdown",
      "metadata": {
        "tags": [
          "pdf-inline"
        ],
        "id": "3SvuPfDCyAlo",
        "colab_type": "text"
      },
      "source": [
        "**Inline Question 2**\n",
        "\n",
        "We can also use other distance metrics such as L1 distance.\n",
        "For pixel values $p_{ij}^{(k)}$ at location $(i,j)$ of some image $I_k$, \n",
        "\n",
        "the mean $\\mu$ across all pixels over all images is $$\\mu=\\frac{1}{nhw}\\sum_{k=1}^n\\sum_{i=1}^{h}\\sum_{j=1}^{w}p_{ij}^{(k)}$$\n",
        "And the pixel-wise mean $\\mu_{ij}$ across all images is \n",
        "$$\\mu_{ij}=\\frac{1}{n}\\sum_{k=1}^np_{ij}^{(k)}.$$\n",
        "The general standard deviation $\\sigma$ and pixel-wise standard deviation $\\sigma_{ij}$ is defined similarly.\n",
        "\n",
        "Which of the following preprocessing steps will not change the performance of a Nearest Neighbor classifier that uses L1 distance? Select all that apply.\n",
        "1. Subtracting the mean $\\mu$ ($\\tilde{p}_{ij}^{(k)}=p_{ij}^{(k)}-\\mu$.)\n",
        "2. Subtracting the per pixel mean $\\mu_{ij}$  ($\\tilde{p}_{ij}^{(k)}=p_{ij}^{(k)}-\\mu_{ij}$.)\n",
        "3. Subtracting the mean $\\mu$ and dividing by the standard deviation $\\sigma$.\n",
        "4. Subtracting the pixel-wise mean $\\mu_{ij}$ and dividing by the pixel-wise standard deviation $\\sigma_{ij}$.\n",
        "5. Rotating the coordinate axes of the data.\n",
        "\n",
        "$\\color{blue}{\\textit Your Answer:}$\n",
        "1, 2, 3, 5\n",
        "\n",
        "$\\color{blue}{\\textit Your Explanation:}$\n",
        "\n",
        "1. $L1(p^{(k)}, p^{(m)}) = \\sum_{i,j}|p_{i,j}^{(k)} - p_{i,j}^{(m)}| = \\sum_{i,j}|(p_{i,j}^{(k)} - \\mu) - (p_{i,j}^{(m)} - \\mu)| = \\sum_{i,j}|\\overline{p}_{i,j}^{(k)} - \\overline{p}_{i,j}^{(m)}|$\n",
        "\n",
        "2. Аналогично, добавляем и вычитаем $\\mu_{i,j}$\n",
        "\n",
        "3. От того, что мы сделали гомотетию с любым коэффициентом, k ближайших соседей для любой картинки не изменятся.\n",
        "\n",
        "4. Теперь мы будем делить разные компоненты суммы на разные числа, то есть расстояния по разным координатом теперь будут браться с разным весом. Очевидно, это повлияет на L1\n",
        "\n",
        "5. Очевидно, $L1(p^{(k)}_{i,j} p^{(m)}_{i,j})$ не изменится, потому что $p^{(k)}_{i,j}$ и $p^{(m)}_{i,j}$ перейдут в соответствующие точки."
      ]
    },
    {
      "cell_type": "code",
      "metadata": {
        "tags": [
          "pdf-ignore-input"
        ],
        "id": "odn1VZBtyAlu",
        "colab_type": "code",
        "outputId": "ef4900bd-c437-43fc-b05e-c480c31b39f8",
        "colab": {
          "base_uri": "https://localhost:8080/",
          "height": 51
        }
      },
      "source": [
        "# Now lets speed up distance matrix computation by using partial vectorization\n",
        "# with one loop. Implement the function compute_distances_one_loop and run the\n",
        "# code below:\n",
        "dists_one = classifier.compute_distances_one_loop(X_test)\n",
        "\n",
        "# To ensure that our vectorized implementation is correct, we make sure that it\n",
        "# agrees with the naive implementation. There are many ways to decide whether\n",
        "# two matrices are similar; one of the simplest is the Frobenius norm. In case\n",
        "# you haven't seen it before, the Frobenius norm of two matrices is the square\n",
        "# root of the squared sum of differences of all elements; in other words, reshape\n",
        "# the matrices into vectors and compute the Euclidean distance between them.\n",
        "difference = np.linalg.norm(dists - dists_one, ord='fro')\n",
        "print('One loop difference was: %f' % (difference, ))\n",
        "if difference < 0.001:\n",
        "    print('Good! The distance matrices are the same')\n",
        "else:\n",
        "    print('Uh-oh! The distance matrices are different')"
      ],
      "execution_count": 0,
      "outputs": [
        {
          "output_type": "stream",
          "text": [
            "One loop difference was: 0.000000\n",
            "Good! The distance matrices are the same\n"
          ],
          "name": "stdout"
        }
      ]
    },
    {
      "cell_type": "code",
      "metadata": {
        "scrolled": true,
        "tags": [
          "pdf-ignore-input"
        ],
        "id": "brnLveLeyAl5",
        "colab_type": "code",
        "outputId": "9d21da6a-24b8-499f-ffa1-4f032f045424",
        "colab": {
          "base_uri": "https://localhost:8080/",
          "height": 51
        }
      },
      "source": [
        "# Now implement the fully vectorized version inside compute_distances_no_loops\n",
        "# and run the code\n",
        "dists_two = classifier.compute_distances_no_loops(X_test)\n",
        "\n",
        "# check that the distance matrix agrees with the one we computed before:\n",
        "difference = np.linalg.norm(dists - dists_two, ord='fro')\n",
        "print('No loop difference was: %f' % (difference, ))\n",
        "if difference < 0.001:\n",
        "    print('Good! The distance matrices are the same')\n",
        "else:\n",
        "    print('Uh-oh! The distance matrices are different')"
      ],
      "execution_count": 0,
      "outputs": [
        {
          "output_type": "stream",
          "text": [
            "No loop difference was: 0.000000\n",
            "Good! The distance matrices are the same\n"
          ],
          "name": "stdout"
        }
      ]
    },
    {
      "cell_type": "markdown",
      "metadata": {
        "id": "F41y5283yAmD",
        "colab_type": "text"
      },
      "source": [
        "### Comparing handcrafted and `sklearn` implementations\n",
        "In this section we will just compare the performance of handcrafted and `sklearn` kNN algorithms. The predictions should be the same. No need to write any code in this section."
      ]
    },
    {
      "cell_type": "code",
      "metadata": {
        "id": "ruqOPNywyAmH",
        "colab_type": "code",
        "colab": {}
      },
      "source": [
        "from sklearn import neighbors"
      ],
      "execution_count": 0,
      "outputs": []
    },
    {
      "cell_type": "code",
      "metadata": {
        "id": "ZUPWANoSyAmN",
        "colab_type": "code",
        "colab": {}
      },
      "source": [
        "implemented_knn = KNearestNeighbor()\n",
        "implemented_knn.fit(X_train, y_train)"
      ],
      "execution_count": 0,
      "outputs": []
    },
    {
      "cell_type": "code",
      "metadata": {
        "id": "K6s5h6r3yAmT",
        "colab_type": "code",
        "outputId": "cb961aa1-c44f-4315-f1a3-12f0bd0112fa",
        "colab": {
          "base_uri": "https://localhost:8080/",
          "height": 187
        }
      },
      "source": [
        "n_neighbors = 1\n",
        "external_knn = neighbors.KNeighborsClassifier(n_neighbors=n_neighbors)\n",
        "external_knn.fit(X_train, y_train)\n",
        "print('sklearn kNN (k=1) implementation achieves: {} accuracy on the test set'.format(\n",
        "    external_knn.score(X_test, y_test)\n",
        "))\n",
        "y_predicted = implemented_knn.predict(X_test, k=n_neighbors).astype(int)\n",
        "accuracy_score = sum((y_predicted==y_test).astype(float)) / num_test\n",
        "print('Handcrafted kNN (k=1) implementation achieves: {} accuracy on the test set'.format(accuracy_score))\n",
        "assert np.array_equal(\n",
        "    external_knn.predict(X_test),\n",
        "    y_predicted\n",
        "), 'Labels predicted by handcrafted and sklearn kNN implementations are different!'\n",
        "print('\\nsklearn and handcrafted kNN implementations provide same predictions')\n",
        "print('_'*76)\n",
        "\n",
        "\n",
        "n_neighbors = 5\n",
        "external_knn = neighbors.KNeighborsClassifier(n_neighbors=n_neighbors)\n",
        "external_knn.fit(X_train, y_train)\n",
        "print('sklearn kNN (k=5) implementation achieves: {} accuracy on the test set'.format(\n",
        "    external_knn.score(X_test, y_test)\n",
        "))\n",
        "y_predicted = implemented_knn.predict(X_test, k=n_neighbors).astype(int)\n",
        "accuracy_score = sum((y_predicted==y_test).astype(float)) / num_test\n",
        "print('Handcrafted kNN (k=5) implementation achieves: {} accuracy on the test set'.format(accuracy_score))\n",
        "assert np.array_equal(\n",
        "    external_knn.predict(X_test),\n",
        "    y_predicted\n",
        "), 'Labels predicted by handcrafted and sklearn kNN implementations are different!'\n",
        "print('\\nsklearn and handcrafted kNN implementations provide same predictions')\n",
        "print('_'*76)\n",
        "\n"
      ],
      "execution_count": 0,
      "outputs": [
        {
          "output_type": "stream",
          "text": [
            "sklearn kNN (k=1) implementation achieves: 0.95 accuracy on the test set\n",
            "Handcrafted kNN (k=1) implementation achieves: 0.95 accuracy on the test set\n",
            "\n",
            "sklearn and handcrafted kNN implementations provide same predictions\n",
            "____________________________________________________________________________\n",
            "sklearn kNN (k=5) implementation achieves: 0.93 accuracy on the test set\n",
            "Handcrafted kNN (k=5) implementation achieves: 0.93 accuracy on the test set\n",
            "\n",
            "sklearn and handcrafted kNN implementations provide same predictions\n",
            "____________________________________________________________________________\n"
          ],
          "name": "stdout"
        }
      ]
    },
    {
      "cell_type": "markdown",
      "metadata": {
        "id": "MNE3UE7oyAma",
        "colab_type": "text"
      },
      "source": [
        "### Measuring the time\n",
        "Finally let's compare how fast the implementations are.\n",
        "\n",
        "To make the difference more noticable, let's repeat the train and test objects (there is no point but to compute the distance between more pairs)."
      ]
    },
    {
      "cell_type": "code",
      "metadata": {
        "id": "MSNOQ9wSyAmc",
        "colab_type": "code",
        "colab": {}
      },
      "source": [
        "X_train_big = np.vstack([X_train]*5)\n",
        "X_test_big = np.vstack([X_test]*5)\n",
        "y_train_big = np.hstack([y_train]*5)\n",
        "y_test_big = np.hstack([y_test]*5)"
      ],
      "execution_count": 0,
      "outputs": []
    },
    {
      "cell_type": "code",
      "metadata": {
        "tags": [
          "pdf-ignore-input"
        ],
        "id": "foaT1PVZyAmj",
        "colab_type": "code",
        "outputId": "93f23a11-fca2-4f03-83ef-848e21723939",
        "colab": {
          "base_uri": "https://localhost:8080/",
          "height": 68
        }
      },
      "source": [
        "classifier_big = KNearestNeighbor()\n",
        "classifier_big.fit(X_train_big, y_train_big)\n",
        "# Let's compare how fast the implementations are\n",
        "def time_function(f, *args):\n",
        "    \"\"\"\n",
        "    Call a function f with args and return the time (in seconds) that it took to execute.\n",
        "    \"\"\"\n",
        "    import time\n",
        "    tic = time.time()\n",
        "    f(*args)\n",
        "    toc = time.time()\n",
        "    return toc - tic\n",
        "\n",
        "two_loop_time = time_function(classifier_big.compute_distances_two_loops, X_test_big)\n",
        "print('Two loop version took %f seconds' % two_loop_time)\n",
        "\n",
        "one_loop_time = time_function(classifier_big.compute_distances_one_loop, X_test_big)\n",
        "print('One loop version took %f seconds' % one_loop_time)\n",
        "\n",
        "no_loop_time = time_function(classifier_big.compute_distances_no_loops, X_test_big)\n",
        "print('No loop version took %f seconds' % no_loop_time)\n",
        "\n",
        "# You should see significantly faster performance with the fully vectorized implementation!\n",
        "\n",
        "# NOTE: depending on what machine you're using, \n",
        "# you might not see a speedup when you go from two loops to one loop, \n",
        "# and might even see a slow-down."
      ],
      "execution_count": 0,
      "outputs": [
        {
          "output_type": "stream",
          "text": [
            "Two loop version took 28.624502 seconds\n",
            "One loop version took 0.592868 seconds\n",
            "No loop version took 0.057820 seconds\n"
          ],
          "name": "stdout"
        }
      ]
    },
    {
      "cell_type": "markdown",
      "metadata": {
        "id": "9zQ_Oc0kyAmw",
        "colab_type": "text"
      },
      "source": [
        "The improvement seems significant. (On some hardware one loop version may take even more time, than two loop, but no loop should definitely be the fastest. "
      ]
    },
    {
      "cell_type": "markdown",
      "metadata": {
        "tags": [
          "pdf-inline"
        ],
        "id": "665jTbEgyAmx",
        "colab_type": "text"
      },
      "source": [
        "**Inline Question 3**\n",
        "\n",
        "Which of the following statements about $k$-Nearest Neighbor ($k$-NN) are true in a classification setting, and for all $k$? Select all that apply.\n",
        "1. The decision boundary (hyperplane between classes in feature space) of the k-NN classifier is linear.\n",
        "2. The training error of a 1-NN will always be lower than that of 5-NN.\n",
        "3. The test error of a 1-NN will always be lower than that of a 5-NN.\n",
        "4. The time needed to classify a test example with the k-NN classifier grows with the size of the training set.\n",
        "5. None of the above.\n",
        "\n",
        "$\\color{blue}{\\textit Your Answer:}$\n",
        "2, 4\n",
        "\n",
        "$\\color{blue}{\\textit Your Explanation:}$\n",
        "1. [FALSE] Простой пример на плоскости: точки одного цвета в кружочке по центку, точки другого цвета по периметру. Для небольших k линия разделения будет окружностью.\n",
        "\n",
        "2. [TRUE] в 1-NN training error вообще не будет, потому что любой тренировочный объект будет ближе всего к себе самому, и классифицирован будет так же.\n",
        "\n",
        "3. [FALSE] Можно привести примеры, когда будет лучше один, а когда другой метод.\n",
        "\n",
        "4. [TRUE] Потому что матрица dists считается дольше\n",
        "\n"
      ]
    },
    {
      "cell_type": "markdown",
      "metadata": {
        "id": "pjLKea-LyAmz",
        "colab_type": "text"
      },
      "source": [
        "### Submitting your work\n",
        "To submit your work you need to log into Yandex contest (link will be provided later) and upload the `k_nearest_neighbor.py` file for the corresponding problem"
      ]
    }
  ]
}