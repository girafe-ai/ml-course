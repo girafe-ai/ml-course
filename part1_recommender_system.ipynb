{
 "cells": [
  {
   "cell_type": "markdown",
   "metadata": {
    "collapsed": true,
    "id": "rDkF84U7_UNb"
   },
   "source": [
    "# Рекомендательные системы\n",
    "\n",
    "Идея рекомендательных систем на основе ближайшего соседа – использовать предпочтения некоторой группы людей, похожих на данного пользователя, чтобы рекомендовать ему что-либо.\n",
    "\n",
    "У такой модели много применений:\n",
    "\n",
    "- рекомендация товаров интернет-магазинов\n",
    "- рекомендация музыки или фильмов\n",
    "- рекомендация людей/контента в социальных сетях\n",
    "\n",
    "![Amazon](https://github.com/v-goncharenko/madmo-adv/raw/83af16ed575aa75377b31d2e1c67288b42f46db5/09_recommendations/images/amazon.jpg)\n",
    "\n",
    "Пример рекомендательной системы Amazon.com\n",
    "\n",
    "![Imdb](https://github.com/v-goncharenko/madmo-adv/raw/255e43e0ee146c0b5c1c4cf9305abc0034fed5e2/09_recommendations/images/imdb.png)\n",
    "\n",
    "Рекомендация фильмов от IMDb.\n",
    "\n",
    "Естественный способ получить рекомендацию о чем-либо - спросить мнение об этом у друзей или любых людей, которым нравится то же, что и вам. Эту идею можно использовать и для машины: для каждого человека алгоритм просматривает большую группу людей и ищет в ней подгруппу с похожим на данного человека вкусом. Далее создается список того, что еще нравится этим людям, а затем человеку рекомендуются предложения из этого списка. Такой алгоритм называется алгоритмом **коллаборативной фильтрации**.\n",
    "\n",
    "Для красивого вывода на экран сложных объектов будем использовать **pprint**"
   ]
  },
  {
   "cell_type": "code",
   "execution_count": 1,
   "metadata": {
    "ExecuteTime": {
     "end_time": "2022-07-05T15:32:50.997292Z",
     "start_time": "2022-07-05T15:32:50.993144Z"
    },
    "id": "PHSLMDPN_UN4"
   },
   "outputs": [],
   "source": [
    "import pprint\n",
    "\n",
    "\n",
    "pp = pprint.PrettyPrinter(indent=4)"
   ]
  },
  {
   "cell_type": "markdown",
   "metadata": {
    "id": "cPGF-dVQ_UOA"
   },
   "source": [
    "## Подготовка данных\n",
    "\n",
    "Чтобы хранить сразу много предпочтений для каждого человека, удобнее всего воспользоваться **вложенным словарем**.\n",
    "\n",
    "Самый простой способ создать словарь в python - использовать фигурные скобки {}. Данные в словаре хранятся в формате ключ – значение, разделенные двоеточием:\n",
    "\n",
    "```python\n",
    "dict = {'key': value}\n",
    "```\n",
    "\n",
    "Мы будем работать с *вложенным словарем* кинокритиков и выставленных ими оценок для небольшого набора данных о фильмах. Построим его следующим образом:\n",
    "\n",
    "1. для каждого кинокритика создаем словарь оценок фильмов в формате\n",
    "\n",
    "   ```python\n",
    "    scores_dict = {\n",
    "        'film_1': 'score_1', \n",
    "        'film_2': 'score_2', \n",
    "        ...\n",
    "    }\n",
    "   ```\n",
    "\n",
    "1. создаем словарь кинокритиков, где в качестве значений будет соответствующий ему словарь оценок\n",
    "\n",
    "   ```python\n",
    "     critics = {\n",
    "         'critic_name_1': <scores_dict_1>, \n",
    "         'critic_name_2': <scores_dict_2>,\n",
    "         ...\n",
    "     }\n",
    "   ```"
   ]
  },
  {
   "cell_type": "code",
   "execution_count": 2,
   "metadata": {
    "ExecuteTime": {
     "end_time": "2022-07-05T15:32:51.452941Z",
     "start_time": "2022-07-05T15:32:51.441733Z"
    },
    "id": "GgmLknLa_UOC"
   },
   "outputs": [],
   "source": [
    "# Словарь кинокритиков и выставленных ими оценок\n",
    "critics = {\n",
    "    \"Lisa Rose\": {\n",
    "        \"Lady in the Water\": 2.5,\n",
    "        \"Snakes on a Plane\": 3.5,\n",
    "        \"Just My Luck\": 3.0,\n",
    "        \"Superman Returns\": 3.5,\n",
    "        \"You, Me and Dupree\": 2.5,\n",
    "        \"The Night Listener\": 3.0,\n",
    "    },\n",
    "    \"Gene Seymour\": {\n",
    "        \"Lady in the Water\": 3.0,\n",
    "        \"Snakes on a Plane\": 3.5,\n",
    "        \"Just My Luck\": 1.5,\n",
    "        \"Superman Returns\": 5.0,\n",
    "        \"The Night Listener\": 3.0,\n",
    "        \"You, Me and Dupree\": 3.5,\n",
    "    },\n",
    "    \"Michael Phillips\": {\n",
    "        \"Lady in the Water\": 2.5,\n",
    "        \"Snakes on a Plane\": 3.0,\n",
    "        \"Superman Returns\": 3.5,\n",
    "        \"The Night Listener\": 4.0,\n",
    "    },\n",
    "    \"Claudia Puig\": {\n",
    "        \"Snakes on a Plane\": 3.5,\n",
    "        \"Just My Luck\": 3.0,\n",
    "        \"The Night Listener\": 4.5,\n",
    "        \"Superman Returns\": 4.0,\n",
    "        \"You, Me and Dupree\": 2.5,\n",
    "    },\n",
    "    \"Mick LaSalle\": {\n",
    "        \"Lady in the Water\": 3.0,\n",
    "        \"Snakes on a Plane\": 4.0,\n",
    "        \"Just My Luck\": 2.0,\n",
    "        \"Superman Returns\": 3.0,\n",
    "        \"The Night Listener\": 3.0,\n",
    "        \"You, Me and Dupree\": 2.0,\n",
    "    },\n",
    "    \"Jack Matthews\": {\n",
    "        \"Lady in the Water\": 3.0,\n",
    "        \"Snakes on a Plane\": 4.0,\n",
    "        \"The Night Listener\": 3.0,\n",
    "        \"Superman Returns\": 5.0,\n",
    "        \"You, Me and Dupree\": 3.5,\n",
    "    },\n",
    "    \"Toby\": {\"Snakes on a Plane\": 4.5, \"You, Me and Dupree\": 1.0, \"Superman Returns\": 4.0},\n",
    "}"
   ]
  },
  {
   "cell_type": "markdown",
   "metadata": {
    "id": "AWuJJu46_UOa"
   },
   "source": [
    "## Критерий похожести\n",
    "\n",
    "Как мы уже говорили, чтобы выделить подгруппу людей с похожим вкусом, необходимо как-то определить, насколько люди похожи.\n",
    "В нашем случае мы будем сравнивать оценки людей у одинаковых фильмов.\n",
    "Мы рассмотрим два способа сравнения. С помощью:\n",
    "\n",
    "- расстояния Евклида\n",
    "- корреляции Пирсона\n",
    "\n",
    "### Оценка по евклидову расстоянию\n",
    "\n",
    "Евклидово расстояние для точек $x = (x_1, x_2, ... , x_n)$ и $y = (y_1, y_2, ... , y_n)$ определяется следующим образом:\n",
    "\n",
    "$$\n",
    "\\begin{equation}\n",
    "d(x, y) = \\sqrt{\\sum_{i = 1}^n (x_i - y_i)^2}\n",
    "\\end{equation}\n",
    "$$"
   ]
  },
  {
   "cell_type": "code",
   "execution_count": 3,
   "metadata": {
    "ExecuteTime": {
     "end_time": "2022-07-05T15:32:52.038732Z",
     "start_time": "2022-07-05T15:32:52.035317Z"
    },
    "id": "QRL9xHpD_UOi"
   },
   "outputs": [],
   "source": [
    "from math import sqrt"
   ]
  },
  {
   "cell_type": "markdown",
   "metadata": {
    "id": "dh44bqPR_UOl"
   },
   "source": [
    "Для понимания расстояния Евклида рассмотрим случай, когда *n = 2*. То есть каждый объект выборки (точка) описывается двумя параметрами (координатами). $x = (x_1, x_2)$ и $y = (y_1, y_2)$. Тогда Евклидово расстояние равно расстоянию между точками на плоскости.\n",
    "\n",
    "$$\n",
    "d(x, y) = \\sqrt{\\sum_{i = 1}^n (x_i - y_i)^2} = \\sqrt{(x_2 - x_1)^2 + (y_2 - y_1)^2}\n",
    "$$\n",
    "\n",
    "Или, если представить задачу геометрически:\n",
    "\n",
    "![](https://github.com/v-goncharenko/madmo-adv/raw/255e43e0ee146c0b5c1c4cf9305abc0034fed5e2/09_recommendations/images/euclid2d.png)"
   ]
  },
  {
   "cell_type": "markdown",
   "metadata": {
    "id": "GbG9JJaI_UOn"
   },
   "source": [
    "Для примера вычислим расстояния Евклида для близких точек с координатам (1, 1) и (2, 3):"
   ]
  },
  {
   "cell_type": "code",
   "execution_count": 4,
   "metadata": {
    "ExecuteTime": {
     "end_time": "2022-07-05T15:32:52.939153Z",
     "start_time": "2022-07-05T15:32:52.922516Z"
    },
    "colab": {
     "base_uri": "https://localhost:8080/",
     "height": 34
    },
    "id": "FPi8cSZg_UOo",
    "outputId": "91a93a3b-1208-482f-bed8-62efad075434"
   },
   "outputs": [
    {
     "data": {
      "text/plain": [
       "2.23606797749979"
      ]
     },
     "execution_count": 4,
     "metadata": {},
     "output_type": "execute_result"
    }
   ],
   "source": [
    "sqrt(pow(2 - 1, 2) + pow(3 - 1, 2))"
   ]
  },
  {
   "cell_type": "markdown",
   "metadata": {
    "id": "8mNl75u2_UOs"
   },
   "source": [
    "Теперь вычислим расстояния Евклида для точек, которые находятся далеко (1, 1) и (8, 10):"
   ]
  },
  {
   "cell_type": "code",
   "execution_count": 5,
   "metadata": {
    "ExecuteTime": {
     "end_time": "2022-07-05T15:32:53.438401Z",
     "start_time": "2022-07-05T15:32:53.431886Z"
    },
    "colab": {
     "base_uri": "https://localhost:8080/",
     "height": 34
    },
    "id": "v-uToPKM_UOw",
    "outputId": "e9c32fe4-1268-4847-b8ea-546a6ac31821"
   },
   "outputs": [
    {
     "data": {
      "text/plain": [
       "12.206555615733702"
      ]
     },
     "execution_count": 5,
     "metadata": {},
     "output_type": "execute_result"
    }
   ],
   "source": [
    "sqrt(pow(8 - 1, 2) + pow(10 - 0, 2))"
   ]
  },
  {
   "cell_type": "markdown",
   "metadata": {
    "id": "Zd_WOtl5_UO0"
   },
   "source": [
    "Расстояние, вычисленное по этой формуле, будет тем меньше, чем больше сходство людей (чем ближе точки). Нам же нужна функция, значение которой будет, наоборот, большое, если люди сильно похожи друг на друга. То есть схожесть больше (от 0 до 1), если точки ближе друг другу\n",
    "\n",
    "Для этого будем использовать функцию \"похожести\" в таком виде:\n",
    "\n",
    "$$\n",
    "\\text{similarity }(x, y) = \\dfrac{1}{1 + d(x, y)},\n",
    "$$\n",
    "\n",
    "где $d(x, y)$ - расстояние Евклида.\n",
    "\n",
    "Пример вычисления сходства по новой функции для точек с координатами (1, 1) и (2, 3):"
   ]
  },
  {
   "cell_type": "code",
   "execution_count": 6,
   "metadata": {
    "ExecuteTime": {
     "end_time": "2022-07-05T15:32:54.010092Z",
     "start_time": "2022-07-05T15:32:54.001854Z"
    },
    "colab": {
     "base_uri": "https://localhost:8080/",
     "height": 34
    },
    "id": "h-_1Qjny_UO3",
    "outputId": "e4706d26-d086-494b-f1ae-e30d598bbacf"
   },
   "outputs": [
    {
     "data": {
      "text/plain": [
       "0.3090169943749474"
      ]
     },
     "execution_count": 6,
     "metadata": {},
     "output_type": "execute_result"
    }
   ],
   "source": [
    "1 / (1 + sqrt(pow(2 - 1, 2) + pow(3 - 1, 2)))"
   ]
  },
  {
   "cell_type": "markdown",
   "metadata": {
    "id": "gFXNPs3-_UO7"
   },
   "source": [
    "Пример вычисления сходства по новой функции для точек с координатами (1, 1) и (8, 10):"
   ]
  },
  {
   "cell_type": "code",
   "execution_count": 7,
   "metadata": {
    "ExecuteTime": {
     "end_time": "2022-07-05T15:32:54.716348Z",
     "start_time": "2022-07-05T15:32:54.706569Z"
    },
    "colab": {
     "base_uri": "https://localhost:8080/",
     "height": 34
    },
    "id": "tnfEapUX_UO8",
    "outputId": "745ec5bc-d737-462c-9da9-5de53b6264a1"
   },
   "outputs": [
    {
     "data": {
      "text/plain": [
       "0.08063375388365411"
      ]
     },
     "execution_count": 7,
     "metadata": {},
     "output_type": "execute_result"
    }
   ],
   "source": [
    "1 / (1 + sqrt(pow(8 - 1, 2) + pow(10 - 1, 2)))"
   ]
  },
  {
   "cell_type": "markdown",
   "metadata": {
    "id": "IVGqtEyS_UPB"
   },
   "source": [
    "Далее реализуем несколько простых функций для коллаборативной фильтрации на основе ближайшего соседа. Чтобы воспользоваться ими, необходимо их импортировать из модуля **recommendations**.\n",
    "\n",
    "Необходимо загрузить модуль из внешнего источника с помощью **wget**"
   ]
  },
  {
   "cell_type": "code",
   "execution_count": 8,
   "metadata": {
    "ExecuteTime": {
     "end_time": "2022-07-05T15:32:55.546084Z",
     "start_time": "2022-07-05T15:32:55.405534Z"
    },
    "colab": {
     "base_uri": "https://localhost:8080/",
     "height": 377
    },
    "id": "ULMMqy7K_UPC",
    "outputId": "93a7354d-43e2-45e8-9f04-d6bef88acbae"
   },
   "outputs": [
    {
     "name": "stdout",
     "output_type": "stream",
     "text": [
      "File ‘recommendations.py’ already there; not retrieving.\r\n",
      "\r\n"
     ]
    }
   ],
   "source": [
    "!wget -nc https://raw.githubusercontent.com/v-goncharenko/madmo-adv/83af16ed575aa75377b31d2e1c67288b42f46db5/09_recommendations/recommendations.py"
   ]
  },
  {
   "cell_type": "code",
   "execution_count": 9,
   "metadata": {
    "ExecuteTime": {
     "end_time": "2022-07-05T15:32:55.947200Z",
     "start_time": "2022-07-05T15:32:55.734934Z"
    },
    "colab": {
     "base_uri": "https://localhost:8080/",
     "height": 377
    },
    "id": "ULMMqy7K_UPC",
    "outputId": "93a7354d-43e2-45e8-9f04-d6bef88acbae",
    "scrolled": true
   },
   "outputs": [],
   "source": [
    "from recommendations import (\n",
    "    calculate_similar_items,\n",
    "    get_recommendations,\n",
    "    get_recommended_items,\n",
    "    load_movie_lens,\n",
    "    similar_films,\n",
    ")"
   ]
  },
  {
   "cell_type": "markdown",
   "metadata": {
    "id": "laKWmvSq_UPP"
   },
   "source": [
    "Функцию для подсчета сходства двух критиков на основе расстояния Евклида реализована ниже. Функция принимает на вход три аргумента:\n",
    "\n",
    "- словарь критиков\n",
    "- имя первого критика для сравнения\n",
    "- имя второго критика для сравнения"
   ]
  },
  {
   "cell_type": "code",
   "execution_count": 10,
   "metadata": {
    "ExecuteTime": {
     "end_time": "2022-07-05T15:32:56.531015Z",
     "start_time": "2022-07-05T15:32:56.520967Z"
    }
   },
   "outputs": [],
   "source": [
    "def sim_distance(critics: dict, person1: str, person2: str) -> float:\n",
    "    \"\"\"Calculates euclidian distance based similarity score for persons\"\"\"\n",
    "    # используем написанную функцию для получения фильмов, оцененных обоими критиками\n",
    "    sim_films = similar_films(critics, person1, person2)\n",
    "\n",
    "    # если нет ни одной общей оценки, то есть длина sim_film равна 0 - вернуть 0\n",
    "    if len(sim_films) == 0:\n",
    "        return 0\n",
    "\n",
    "    # для каждого фильма из sim_film посчитаем евклидово расстояние и просуммируем все полученные значения\n",
    "    sum_of_euclead_dist = 0\n",
    "\n",
    "    for film in sim_films:\n",
    "        sum_of_euclead_dist += pow(critics[person1][film] - critics[person2][film], 2)\n",
    "\n",
    "    # считаем похожесть\n",
    "    return 1 / (1 + sum_of_euclead_dist)"
   ]
  },
  {
   "cell_type": "markdown",
   "metadata": {},
   "source": [
    "Посмотрим, как работает эта функция для двух критиков Lisa Rose и Toby:"
   ]
  },
  {
   "cell_type": "code",
   "execution_count": 11,
   "metadata": {
    "ExecuteTime": {
     "end_time": "2022-07-05T15:32:57.508947Z",
     "start_time": "2022-07-05T15:32:57.499276Z"
    },
    "colab": {
     "base_uri": "https://localhost:8080/",
     "height": 34
    },
    "id": "VFRi1-pO_UPS",
    "outputId": "013a1199-0d03-4631-99d8-03ea0e36fb4f"
   },
   "outputs": [
    {
     "data": {
      "text/plain": [
       "0.2222222222222222"
      ]
     },
     "execution_count": 11,
     "metadata": {},
     "output_type": "execute_result"
    }
   ],
   "source": [
    "sim_distance(critics, \"Lisa Rose\", \"Toby\")"
   ]
  },
  {
   "cell_type": "code",
   "execution_count": 12,
   "metadata": {
    "ExecuteTime": {
     "end_time": "2022-07-05T15:32:57.764141Z",
     "start_time": "2022-07-05T15:32:57.758766Z"
    }
   },
   "outputs": [],
   "source": [
    "import numpy as np"
   ]
  },
  {
   "cell_type": "code",
   "execution_count": 13,
   "metadata": {
    "ExecuteTime": {
     "end_time": "2022-07-05T15:32:58.075740Z",
     "start_time": "2022-07-05T15:32:58.067878Z"
    }
   },
   "outputs": [
    {
     "data": {
      "text/plain": [
       "array([[1.   , 0.148, 0.444, 0.286, 0.333, 0.211, 0.222],\n",
       "       [0.148, 1.   , 0.211, 0.133, 0.129, 0.8  , 0.108],\n",
       "       [0.444, 0.211, 1.   , 0.571, 0.286, 0.182, 0.286],\n",
       "       [0.286, 0.133, 0.571, 1.   , 0.174, 0.182, 0.235],\n",
       "       [0.333, 0.129, 0.286, 0.174, 1.   , 0.138, 0.308],\n",
       "       [0.211, 0.8  , 0.182, 0.182, 0.138, 1.   , 0.118],\n",
       "       [0.222, 0.108, 0.286, 0.235, 0.308, 0.118, 1.   ]])"
      ]
     },
     "execution_count": 13,
     "metadata": {},
     "output_type": "execute_result"
    }
   ],
   "source": [
    "dist_sim_vals = np.zeros((len(critics), len(critics)))\n",
    "\n",
    "for i, source in enumerate(critics):\n",
    "    for j, referer in enumerate(critics):\n",
    "        dist_sim_vals[i, j] = sim_distance(critics, source, referer)\n",
    "\n",
    "dist_sim_vals.round(3)"
   ]
  },
  {
   "cell_type": "code",
   "execution_count": 14,
   "metadata": {
    "ExecuteTime": {
     "end_time": "2022-07-05T15:32:58.276510Z",
     "start_time": "2022-07-05T15:32:58.271477Z"
    }
   },
   "outputs": [
    {
     "data": {
      "text/plain": [
       "(0.36752489116590864, 0.2993937425464388)"
      ]
     },
     "execution_count": 14,
     "metadata": {},
     "output_type": "execute_result"
    }
   ],
   "source": [
    "dist_sim_vals.mean(), dist_sim_vals.std()"
   ]
  },
  {
   "cell_type": "code",
   "execution_count": 15,
   "metadata": {
    "ExecuteTime": {
     "end_time": "2022-07-05T15:32:58.469686Z",
     "start_time": "2022-07-05T15:32:58.463741Z"
    }
   },
   "outputs": [
    {
     "data": {
      "text/plain": [
       "array([0.148, 0.444, 0.211, 0.286, 0.133, 0.571, 0.333, 0.129, 0.286,\n",
       "       0.174, 0.211, 0.8  , 0.182, 0.182, 0.138, 0.222, 0.108, 0.286,\n",
       "       0.235, 0.308, 0.118])"
      ]
     },
     "execution_count": 15,
     "metadata": {},
     "output_type": "execute_result"
    }
   ],
   "source": [
    "tirangle_mask = np.tri(len(critics), k=-1, dtype=np.bool_)\n",
    "\n",
    "norm_dist_sim_vals = dist_sim_vals[tirangle_mask]\n",
    "\n",
    "norm_dist_sim_vals.round(3)"
   ]
  },
  {
   "cell_type": "code",
   "execution_count": 16,
   "metadata": {
    "ExecuteTime": {
     "end_time": "2022-07-05T15:32:58.652062Z",
     "start_time": "2022-07-05T15:32:58.647099Z"
    }
   },
   "outputs": [
    {
     "data": {
      "text/plain": [
       "(0.26211237302689333, 0.1636870664584294)"
      ]
     },
     "execution_count": 16,
     "metadata": {},
     "output_type": "execute_result"
    }
   ],
   "source": [
    "norm_dist_sim_vals.mean(), norm_dist_sim_vals.std()"
   ]
  },
  {
   "cell_type": "code",
   "execution_count": 17,
   "metadata": {
    "ExecuteTime": {
     "end_time": "2022-07-05T15:32:58.941129Z",
     "start_time": "2022-07-05T15:32:58.833442Z"
    }
   },
   "outputs": [],
   "source": [
    "import matplotlib.pyplot as plt\n",
    "\n",
    "\n",
    "def plot_pdf(values: np.ndarray, title: str):\n",
    "    \"\"\"Plots `values` distribution density\"\"\"\n",
    "    plt.figure(figsize=(10, 5))\n",
    "    plt.violinplot(values.flatten(), vert=False, showmedians=True)\n",
    "    plt.xlabel(\"Similarity\")\n",
    "    plt.grid()\n",
    "    plt.title(title)\n",
    "    plt.show()"
   ]
  },
  {
   "cell_type": "code",
   "execution_count": 18,
   "metadata": {
    "ExecuteTime": {
     "end_time": "2022-07-05T15:32:59.080976Z",
     "start_time": "2022-07-05T15:32:59.024856Z"
    }
   },
   "outputs": [
    {
     "data": {
      "image/png": "[encoded data removed]",
      "text/plain": [
       "<Figure size 720x360 with 1 Axes>"
      ]
     },
     "metadata": {
      "needs_background": "light"
     },
     "output_type": "display_data"
    }
   ],
   "source": [
    "plot_pdf(dist_sim_vals, \"Euclidian similarity distribution\")"
   ]
  },
  {
   "cell_type": "code",
   "execution_count": 19,
   "metadata": {
    "ExecuteTime": {
     "end_time": "2022-07-05T15:32:59.282054Z",
     "start_time": "2022-07-05T15:32:59.228646Z"
    }
   },
   "outputs": [
    {
     "data": {
      "image/png": "[encoded data removed]",
      "text/plain": [
       "<Figure size 720x360 with 1 Axes>"
      ]
     },
     "metadata": {
      "needs_background": "light"
     },
     "output_type": "display_data"
    }
   ],
   "source": [
    "plot_pdf(norm_dist_sim_vals, \"Normalized euclidian similarity distribution\")"
   ]
  },
  {
   "cell_type": "markdown",
   "metadata": {
    "id": "4xSa0SN2_UPU"
   },
   "source": [
    "Эта функция работает также как:\n",
    "\n",
    "$$\n",
    "\\text{similarity}(x, y) = \\dfrac{1}{1 + d(x, y)}\n",
    "$$\n",
    "\n",
    "где $d(x, y)$ - расстояние Евклида.\n",
    "\n",
    "Однако, по осям будет фильмы и оценки от критиков. Если у критиков нет одинаковых фильмов, то мы этих критиков не рассматриваем"
   ]
  },
  {
   "cell_type": "markdown",
   "metadata": {
    "id": "e7RF8iYA_UPV"
   },
   "source": [
    "### Коэффициент корреляции Пирсона\n",
    "\n",
    "Другой способ определять степень схожести - использовать коэффициент корреляции Пирсона. Этот коэффициент показывает, насколько два набора данных хорошо ложатся на прямую.\n",
    "\n",
    "![](https://github.com/v-goncharenko/madmo-adv/raw/255e43e0ee146c0b5c1c4cf9305abc0034fed5e2/09_recommendations/images/pearson.jpg)\n",
    "\n",
    "Два кинокритика со средним значением корреляции 0.41 (слева) и два кинокритика с высоким значением корреляции 0.75 (справа).\n",
    "\n",
    "Корреляция Пирсона считается по формуле:\n",
    "\n",
    "$$\n",
    "\\bar{x} = \\frac{1}{n} \\sum_{j = 1}^n x_j ;\\ \\bar{y} = \\frac{1}{n} \\sum_{j = 1}^n y_j \\\\\n",
    "\\text{corr}(x, y) = \\dfrac{\\sum_{i = 1}^n (x_i - \\bar{x}) (y_i - \\bar{y})}{\\sqrt{\\sum_{i = 1}^n (x_i - \\bar{x})^2 \\sum_{i = 1}^n (y_i - \\bar{y})^2}}\n",
    "$$"
   ]
  },
  {
   "cell_type": "markdown",
   "metadata": {
    "id": "YuwEP5n4_UPb"
   },
   "source": [
    "По аналогии с функцией **sim_distance()** в модуле **recommendations** реализована функция для подсчета сходства двух критиков на основе корреляции Пирсона. Она называется **sim_pearson()**. Функция принимает на вход те же самые аргументы, что и **sim_distance()**:\n",
    "\n",
    "- словарь критиков\n",
    "- имя первого критика для сравнения\n",
    "- имя второго критика для сравнения\n",
    "\n",
    "Посмотрим, как работает эта функция для двух критиков Lisa Rose и Gene Seymour:"
   ]
  },
  {
   "cell_type": "code",
   "execution_count": 20,
   "metadata": {
    "ExecuteTime": {
     "end_time": "2022-07-05T15:33:00.391547Z",
     "start_time": "2022-07-05T15:33:00.380044Z"
    }
   },
   "outputs": [],
   "source": [
    "from math import isnan\n",
    "\n",
    "from scipy.stats import pearsonr\n",
    "\n",
    "\n",
    "def sim_pearson(critics_dict, person1, person2):\n",
    "    \"\"\"Calculates pearson correlation based similarity between persons\"\"\"\n",
    "    # получить список фильмов, оцененных обоими критиками\n",
    "    sim_films = similar_films(critics_dict, person1, person2)\n",
    "\n",
    "    # если нет ни одной общей оценки, вернуть 0\n",
    "    # if len(sim_films) < 2:\n",
    "    if not len(sim_films):\n",
    "        return 0\n",
    "\n",
    "    # получим оценки критиков для фильмов из пересечения\n",
    "    scores1 = []\n",
    "    scores2 = []\n",
    "    for film in sim_films:\n",
    "        scores1.append(critics_dict[person1][film])\n",
    "        scores2.append(critics_dict[person2][film])\n",
    "\n",
    "    # посчитаем коэффициент корреляции\n",
    "    # берем [0] от результата, так как функция pearsonr() возвращает еще значение p-value\n",
    "    correlation = pearsonr(scores1, scores2)[0]\n",
    "\n",
    "    # если вдруг было деление на ноль и функция вернула nan, то присваиваем ноль\n",
    "    if isnan(correlation):\n",
    "        correlation = 0\n",
    "\n",
    "    return correlation"
   ]
  },
  {
   "cell_type": "code",
   "execution_count": 21,
   "metadata": {
    "ExecuteTime": {
     "end_time": "2022-07-05T15:33:00.611321Z",
     "start_time": "2022-07-05T15:33:00.605401Z"
    },
    "colab": {
     "base_uri": "https://localhost:8080/",
     "height": 34
    },
    "id": "6vn27sKY_UPf",
    "outputId": "8a81ef74-987a-457a-912b-d9869a968fe0"
   },
   "outputs": [
    {
     "data": {
      "text/plain": [
       "0.39605901719066977"
      ]
     },
     "execution_count": 21,
     "metadata": {},
     "output_type": "execute_result"
    }
   ],
   "source": [
    "sim_pearson(critics, \"Lisa Rose\", \"Gene Seymour\")"
   ]
  },
  {
   "cell_type": "code",
   "execution_count": 22,
   "metadata": {
    "ExecuteTime": {
     "end_time": "2022-07-05T15:33:01.003553Z",
     "start_time": "2022-07-05T15:33:00.997608Z"
    }
   },
   "outputs": [
    {
     "data": {
      "text/plain": [
       "0.9912407071619302"
      ]
     },
     "execution_count": 22,
     "metadata": {},
     "output_type": "execute_result"
    }
   ],
   "source": [
    "sim_pearson(critics, \"Lisa Rose\", \"Toby\")"
   ]
  },
  {
   "cell_type": "markdown",
   "metadata": {},
   "source": [
    "Исследуем распределение такой величины схожести"
   ]
  },
  {
   "cell_type": "code",
   "execution_count": 23,
   "metadata": {
    "ExecuteTime": {
     "end_time": "2022-07-05T15:33:01.701122Z",
     "start_time": "2022-07-05T15:33:01.683795Z"
    }
   },
   "outputs": [
    {
     "data": {
      "text/plain": [
       "array([[ 1.   ,  0.396,  0.405,  0.567,  0.594,  0.747,  0.991],\n",
       "       [ 0.396,  1.   ,  0.205,  0.315,  0.412,  0.964,  0.381],\n",
       "       [ 0.405,  0.205,  1.   ,  1.   , -0.258,  0.135, -1.   ],\n",
       "       [ 0.567,  0.315,  1.   ,  1.   ,  0.567,  0.029,  0.893],\n",
       "       [ 0.594,  0.412, -0.258,  0.567,  1.   ,  0.211,  0.924],\n",
       "       [ 0.747,  0.964,  0.135,  0.029,  0.211,  1.   ,  0.663],\n",
       "       [ 0.991,  0.381, -1.   ,  0.893,  0.924,  0.663,  1.   ]])"
      ]
     },
     "execution_count": 23,
     "metadata": {},
     "output_type": "execute_result"
    }
   ],
   "source": [
    "dist_pear_vals = np.zeros((len(critics), len(critics)))\n",
    "\n",
    "for i, source in enumerate(critics):\n",
    "    for j, referer in enumerate(critics):\n",
    "        dist_pear_vals[i, j] = sim_pearson(critics, source, referer)\n",
    "\n",
    "dist_pear_vals.round(3)"
   ]
  },
  {
   "cell_type": "code",
   "execution_count": 24,
   "metadata": {
    "ExecuteTime": {
     "end_time": "2022-07-05T15:33:01.858590Z",
     "start_time": "2022-07-05T15:33:01.852284Z"
    }
   },
   "outputs": [
    {
     "data": {
      "text/plain": [
       "(0.5159356584296166, 0.4713252827635987)"
      ]
     },
     "execution_count": 24,
     "metadata": {},
     "output_type": "execute_result"
    }
   ],
   "source": [
    "dist_pear_vals.mean(), dist_pear_vals.std()"
   ]
  },
  {
   "cell_type": "code",
   "execution_count": 25,
   "metadata": {
    "ExecuteTime": {
     "end_time": "2022-07-05T15:33:02.275871Z",
     "start_time": "2022-07-05T15:33:02.269851Z"
    }
   },
   "outputs": [
    {
     "data": {
      "text/plain": [
       "array([ 0.396,  0.405,  0.205,  0.567,  0.315,  1.   ,  0.594,  0.412,\n",
       "       -0.258,  0.567,  0.747,  0.964,  0.135,  0.029,  0.211,  0.991,\n",
       "        0.381, -1.   ,  0.893,  0.924,  0.663])"
      ]
     },
     "execution_count": 25,
     "metadata": {},
     "output_type": "execute_result"
    }
   ],
   "source": [
    "tirangle_mask = np.tri(len(critics), k=-1, dtype=np.bool_)\n",
    "\n",
    "norm_pear_sim_vals = dist_pear_vals[tirangle_mask]\n",
    "\n",
    "norm_pear_sim_vals.round(3)"
   ]
  },
  {
   "cell_type": "code",
   "execution_count": 26,
   "metadata": {
    "ExecuteTime": {
     "end_time": "2022-07-05T15:33:02.520541Z",
     "start_time": "2022-07-05T15:33:02.515361Z"
    }
   },
   "outputs": [
    {
     "data": {
      "text/plain": [
       "(0.43525826816788604, 0.4621798568790931)"
      ]
     },
     "execution_count": 26,
     "metadata": {},
     "output_type": "execute_result"
    }
   ],
   "source": [
    "norm_pear_sim_vals.mean(), norm_pear_sim_vals.std()"
   ]
  },
  {
   "cell_type": "code",
   "execution_count": 27,
   "metadata": {
    "ExecuteTime": {
     "end_time": "2022-07-05T15:33:02.813087Z",
     "start_time": "2022-07-05T15:33:02.738611Z"
    }
   },
   "outputs": [
    {
     "data": {
      "image/png": "[encoded data removed]",
      "text/plain": [
       "<Figure size 720x360 with 1 Axes>"
      ]
     },
     "metadata": {
      "needs_background": "light"
     },
     "output_type": "display_data"
    }
   ],
   "source": [
    "plot_pdf(dist_pear_vals, \"Pearson similarity distribution\")"
   ]
  },
  {
   "cell_type": "code",
   "execution_count": 28,
   "metadata": {
    "ExecuteTime": {
     "end_time": "2022-07-05T15:33:03.238434Z",
     "start_time": "2022-07-05T15:33:03.145399Z"
    }
   },
   "outputs": [
    {
     "data": {
      "image/png": "[encoded data removed]",
      "text/plain": [
       "<Figure size 720x360 with 1 Axes>"
      ]
     },
     "metadata": {
      "needs_background": "light"
     },
     "output_type": "display_data"
    }
   ],
   "source": [
    "plot_pdf(norm_pear_sim_vals, \"Normalized pearson similarity distribution\")"
   ]
  },
  {
   "cell_type": "markdown",
   "metadata": {
    "id": "nHdaw1RB_UPi"
   },
   "source": [
    "## Ранжирование критиков"
   ]
  },
  {
   "cell_type": "markdown",
   "metadata": {
    "id": "xlFS82dj_UPi"
   },
   "source": [
    "После того как мы выбрали критерий для сравнения двух людей, можно начать искать для каждого человека подгруппу других людей с наиболее похожими вкусами.\n",
    "\n",
    "Для этого ниже реализована функция **top_matches()**. Функция возвращает список n наилучших соответствий для человека из словаря critics.\n",
    "\n",
    "Соответственно, аргументы у функции:\n",
    "\n",
    "- словарь критиков *critics*\n",
    "- имя персоны *person*, для которой подбираем соответствия\n",
    "- число *n* наилучших соответствий\n",
    "\n",
    "Кроме этого, так как мы хотим использовать различные расстояния, то в качестве аргумента мы будем также передавать имя функции-расстояния (*sim_fn*)."
   ]
  },
  {
   "cell_type": "code",
   "execution_count": 29,
   "metadata": {
    "ExecuteTime": {
     "end_time": "2022-07-05T15:33:04.007675Z",
     "start_time": "2022-07-05T15:33:03.997682Z"
    }
   },
   "outputs": [],
   "source": [
    "from typing import Callable\n",
    "\n",
    "\n",
    "# возвращает топ-n наиболее похожих на person человек из critics_dict\n",
    "def top_matches(critics: dict, person: str, n: int = 5, similarity_fn: Callable = sim_pearson):\n",
    "    \"\"\"Retruns top-n most similar critics\"\"\"\n",
    "    # инициализируем лист оценок похожести\n",
    "    scores = []\n",
    "\n",
    "    # для каждого человека в словаре критиков\n",
    "    for other in critics:\n",
    "        if other == person:\n",
    "            continue\n",
    "\n",
    "        # добавить в scores похожесть, вычисленную с помощью функции, записанной в similarity, и имя человека\n",
    "        similarity_score = similarity_fn(critics, person, other)\n",
    "        scores.append((similarity_score, other))\n",
    "\n",
    "    # отсортировать список по убыванию оценок\n",
    "    scores.sort(reverse=True)  # аргумент reverse=True отвечает за убывающий порядок\n",
    "\n",
    "    # возвращаем первые n человек\n",
    "    return scores[0:n]"
   ]
  },
  {
   "cell_type": "markdown",
   "metadata": {
    "id": "8rIwr1LP_UPk"
   },
   "source": [
    "Пример вычисления топ-3 критиков похожих на Toby по корреляции Пирсона:"
   ]
  },
  {
   "cell_type": "code",
   "execution_count": 30,
   "metadata": {
    "ExecuteTime": {
     "end_time": "2022-07-05T15:33:04.444629Z",
     "start_time": "2022-07-05T15:33:04.437900Z"
    },
    "colab": {
     "base_uri": "https://localhost:8080/",
     "height": 68
    },
    "id": "3dRiz0NF_UPk",
    "outputId": "e151d4f9-7b71-46c8-bcc9-f428b47e8404"
   },
   "outputs": [
    {
     "data": {
      "text/plain": [
       "[(0.9912407071619302, 'Lisa Rose'),\n",
       " (0.9244734516419049, 'Mick LaSalle'),\n",
       " (0.8934051474415643, 'Claudia Puig')]"
      ]
     },
     "execution_count": 30,
     "metadata": {},
     "output_type": "execute_result"
    }
   ],
   "source": [
    "top_matches(critics, \"Toby\", n=3, similarity_fn=sim_pearson)"
   ]
  },
  {
   "cell_type": "markdown",
   "metadata": {
    "id": "Ab2yEqVL_UPm"
   },
   "source": [
    "Как работает эта функция:\n",
    "\n",
    "- считаем схожесть интересующего нас критика с каждым другим критиком используя функцию **similarity**\n",
    "- сортируем результаты\n",
    "- возвращаем топ **n** результатов\n",
    "\n",
    "Пример вычисления топ-3 критиков похожих на Toby по евклидову расстоянию:"
   ]
  },
  {
   "cell_type": "code",
   "execution_count": 31,
   "metadata": {
    "ExecuteTime": {
     "end_time": "2022-07-05T15:33:05.557521Z",
     "start_time": "2022-07-05T15:33:05.546639Z"
    }
   },
   "outputs": [
    {
     "name": "stdout",
     "output_type": "stream",
     "text": [
      "{   'Lisa Rose': {   'Just My Luck': 3.0,\n",
      "                     'Lady in the Water': 2.5,\n",
      "                     'Snakes on a Plane': 3.5,\n",
      "                     'Superman Returns': 3.5,\n",
      "                     'The Night Listener': 3.0,\n",
      "                     'You, Me and Dupree': 2.5},\n",
      "    'Mick LaSalle': {   'Just My Luck': 2.0,\n",
      "                        'Lady in the Water': 3.0,\n",
      "                        'Snakes on a Plane': 4.0,\n",
      "                        'Superman Returns': 3.0,\n",
      "                        'The Night Listener': 3.0,\n",
      "                        'You, Me and Dupree': 2.0},\n",
      "    'Toby': {   'Snakes on a Plane': 4.5,\n",
      "                'Superman Returns': 4.0,\n",
      "                'You, Me and Dupree': 1.0}}\n"
     ]
    }
   ],
   "source": [
    "pp.pprint({k: v for k, v in critics.items() if k in (\"Toby\", \"Mick LaSalle\", \"Lisa Rose\")})"
   ]
  },
  {
   "cell_type": "code",
   "execution_count": 32,
   "metadata": {
    "ExecuteTime": {
     "end_time": "2022-07-05T15:33:11.842063Z",
     "start_time": "2022-07-05T15:33:11.832812Z"
    },
    "colab": {
     "base_uri": "https://localhost:8080/",
     "height": 68
    },
    "id": "brjogX-B_UPp",
    "outputId": "1ea13b5f-2981-4aef-e958-74e57e6ccdb5"
   },
   "outputs": [
    {
     "data": {
      "text/plain": [
       "[(0.3076923076923077, 'Mick LaSalle'),\n",
       " (0.2857142857142857, 'Michael Phillips'),\n",
       " (0.23529411764705882, 'Claudia Puig')]"
      ]
     },
     "execution_count": 32,
     "metadata": {},
     "output_type": "execute_result"
    }
   ],
   "source": [
    "top_matches(critics, \"Toby\", n=3, similarity_fn=sim_distance)"
   ]
  },
  {
   "cell_type": "markdown",
   "metadata": {
    "id": "epcfG-45_UPu"
   },
   "source": [
    "Выбор расстояния для подбора похожести зависит от конкретной задачи. Имеет смысл попробовать разные критерии и посмотреть, какой из них дает наилучший результат."
   ]
  },
  {
   "cell_type": "markdown",
   "metadata": {
    "id": "Eus_ti7o_UPu"
   },
   "source": [
    "## Рекомендация фильмов (User-based подход)"
   ]
  },
  {
   "cell_type": "markdown",
   "metadata": {
    "id": "mGV5SoZH_UPv"
   },
   "source": [
    "Мы умеем находить людей с похожим мнением как у рассматриваемого человека. Но как получить конкретную рекомендацию с набором фильмов? Можно было бы просто посмотреть на то, какие фильмы понравились похожему человеку, и выбрать из них не просмотренные. Однако, такой способ не стабилен: можем, например, отобрать критика, которому по каким-то причинам понравился фильм, получивший негативные оценки от остальных.\n",
    "\n",
    "Чтобы разрешить эту проблему, можно ранжировать сами фильмы, вычисляя взвешенную сумму оценок критиков. Мы будем брать оценку фильма у критика и умножать его на коэффициент похожести с тем, для которого мы строим рекомендацию. Затем полученный результат суммировать и нормировать.\n",
    "\n",
    "Идея такого подхода в том, что люди похожие на тебя вносят больший вклад в \"рейтинг\" фильма."
   ]
  },
  {
   "cell_type": "markdown",
   "metadata": {
    "id": "Ps7-hjHV_UPw"
   },
   "source": [
    "<p align=\"center\">\n",
    "  <img src=\"https://drive.google.com/uc?id=1FllGQ-zOF_37EZs8GamE2LTV6rp5WGyn\" alt=\"Drawing\" style=\"width: 700px;\" width=\"700\"/>\n",
    "</p>"
   ]
  },
  {
   "cell_type": "markdown",
   "metadata": {
    "id": "zRfh4yer_UPx"
   },
   "source": [
    "Этот подход реализован в модуле **recommendations** в функции **get_recommendations()**. Функция принимает на вход следующие аргументы:\n",
    "\n",
    "- словарь критиков *critics_dict*\n",
    "- имя персоны *person*, для которой подбираем соответствия\n",
    "- имя функции-критерия для сравнения\n",
    "\n",
    "**Code 14:**"
   ]
  },
  {
   "cell_type": "code",
   "execution_count": 33,
   "metadata": {
    "ExecuteTime": {
     "end_time": "2022-07-05T15:33:13.606179Z",
     "start_time": "2022-07-05T15:33:13.598163Z"
    },
    "colab": {
     "base_uri": "https://localhost:8080/",
     "height": 69
    },
    "id": "zJh5vXT0_UPy",
    "outputId": "7cdb87de-e2c8-473b-d0b2-10a03d01592d"
   },
   "outputs": [
    {
     "data": {
      "text/plain": [
       "[(3.347789526713101, 'The Night Listener'),\n",
       " (2.832549918264162, 'Lady in the Water'),\n",
       " (2.530980703765565, 'Just My Luck')]"
      ]
     },
     "execution_count": 33,
     "metadata": {},
     "output_type": "execute_result"
    }
   ],
   "source": [
    "get_recommendations(critics, \"Toby\", sim_pearson)"
   ]
  },
  {
   "cell_type": "code",
   "execution_count": 34,
   "metadata": {
    "ExecuteTime": {
     "end_time": "2022-07-05T15:33:13.781962Z",
     "start_time": "2022-07-05T15:33:13.776228Z"
    },
    "colab": {
     "base_uri": "https://localhost:8080/",
     "height": 35
    },
    "id": "-peDbStUHhFR",
    "outputId": "f13e88d6-6edc-4150-f259-90eb908cd823"
   },
   "outputs": [
    {
     "data": {
      "text/plain": [
       "{'Snakes on a Plane': 4.5, 'You, Me and Dupree': 1.0, 'Superman Returns': 4.0}"
      ]
     },
     "execution_count": 34,
     "metadata": {},
     "output_type": "execute_result"
    }
   ],
   "source": [
    "critics[\"Toby\"]"
   ]
  },
  {
   "cell_type": "markdown",
   "metadata": {
    "id": "3KtJ5piw_UP0"
   },
   "source": [
    "Как работает эта функция:\n",
    "\n",
    "- считаем схожесть пользователя с каждым другим пользователем\n",
    "- перебираем фильмы, которые смотрели другие пользователи, но не смотрел текущий пользователь\n",
    "- нормируем рейтинг фильмов на основе того насколько он понравился другим пользователям, и того насколько каждый из других пользователей похож на текущего пользователя\n",
    "- сортируем список"
   ]
  },
  {
   "cell_type": "markdown",
   "metadata": {
    "id": "ivfbEJYh_UP1"
   },
   "source": [
    "**Code 15:**"
   ]
  },
  {
   "cell_type": "code",
   "execution_count": 35,
   "metadata": {
    "ExecuteTime": {
     "end_time": "2022-07-05T15:33:14.746533Z",
     "start_time": "2022-07-05T15:33:14.736414Z"
    },
    "colab": {
     "base_uri": "https://localhost:8080/",
     "height": 73
    },
    "id": "bxb6b8UH_UP1",
    "outputId": "1e14b649-b4f1-4b0f-a397-aa2551bdef33"
   },
   "outputs": [
    {
     "data": {
      "text/plain": [
       "[(3.5002478401415877, 'The Night Listener'),\n",
       " (2.7561242939959363, 'Lady in the Water'),\n",
       " (2.461988486074374, 'Just My Luck')]"
      ]
     },
     "execution_count": 35,
     "metadata": {},
     "output_type": "execute_result"
    }
   ],
   "source": [
    "get_recommendations(critics, \"Toby\", sim_distance)"
   ]
  },
  {
   "cell_type": "markdown",
   "metadata": {
    "id": "DtdRcrIB_UP3"
   },
   "source": [
    "Мы получили ранжированный список фильмов, а также прогноз оценки, которую поставит Toby этим фильмам."
   ]
  },
  {
   "cell_type": "markdown",
   "metadata": {
    "id": "ISMyknUc_UP4"
   },
   "source": [
    "## Коллаборативная фильтрация по сходству объектов (Item-based collaborative filtering)\n",
    "\n",
    "Мы реализовали механизм выдачи рекомендаций таким образом, что для создания набора данных необходимы оценки, выставленные каждым\n",
    "пользователем. Для нескольких тысяч людей это, возможно, и будет работать, но, когда речь идет о миллионах пользователей и товаров, сравнение каждого пользователя со всеми другими, а затем сравнение товаров, займет недопустимо много времени.\n",
    "\n",
    "<p align=\"center\">\n",
    "  <img src=\"https://drive.google.com/uc?id=1ojBsHkO0Do1MApgULhAJye3pVFDm_-bZ\" alt=\"Drawing\" style=\"width: 700px;\"/>\n",
    "</p>"
   ]
  },
  {
   "cell_type": "markdown",
   "metadata": {
    "id": "ZQ2FwE5n_UP5"
   },
   "source": [
    "Техника, которую мы применяли до сих пор, называется **коллаборативной фильтрацией по схожести пользователей**. Альтернатива известна под названием **коллаборативная фильтрация по схожести образцов**. \n",
    "\n",
    "Основная идея процедуры фильтрации по схожести образцов заключается в том, чтобы для каждого образца заранее вычислить большинство похожих на него. Тогда для выдачи рекомендаций алгоритму достаточно будет найти те образцы, которым пользователь выставил наивысшие оценки, а затем сформировать список образцов, максимально похожих на эти.\n",
    "\n",
    "Отметим одно существенное отличие: хотя на первом шаге необходимо исследовать все данные, результаты сравнения образцов изменяются не так часто, как результаты сравнения пользователей.\n",
    "\n",
    "<p align=\"center\">\n",
    "  <img src=\"https://drive.google.com/uc?id=1FexrozBH2sZR3TCgVs1-eKGtwdEtdmaP\" alt=\"Drawing\" style=\"width: 700px;\" width=\"700\"/>\n",
    "</p>"
   ]
  },
  {
   "cell_type": "markdown",
   "metadata": {
    "collapsed": true,
    "id": "iKjMD6J8_UP8"
   },
   "source": [
    "Чтобы сравнивать образцы, нужно первым делом построить полный набор данных о похожих образцах. В первую очередь, нам нужно переделать словарь предпочтений критиков таким образом, чтобы теперь был словарь фильмов и их оценок:\n",
    "\n",
    "```python\n",
    "film_dict = {\n",
    "    'film_name_1': \n",
    "    {'critic_1': 'score_1', \n",
    "     'critic_2': 'score_2', \n",
    "     ...\n",
    "    }, \n",
    "    ...\n",
    "}\n",
    "```\n",
    "\n",
    "Далее для каждого фильма посчитать наиболее похожие образцы и коэффициенты похожести для них. Для подсчета схожести будем использовать евклидово расстояние.\n",
    "\n",
    "В модуле **recommendations** есть функция **calculate_similar_items()**, которая делает сразу оба шага. На вход её нужно подать словарь с оценками критиков *critics* и число образцов, которые мы считаем наиболее похожими (остальные не выводим).\n",
    "\n",
    "**Code 16:**"
   ]
  },
  {
   "cell_type": "code",
   "execution_count": 36,
   "metadata": {
    "ExecuteTime": {
     "end_time": "2022-07-05T15:33:16.005874Z",
     "start_time": "2022-07-05T15:33:15.998572Z"
    },
    "id": "adYIzV9d_UP8"
   },
   "outputs": [],
   "source": [
    "itemsim = calculate_similar_items(critics, n=10)"
   ]
  },
  {
   "cell_type": "code",
   "execution_count": 37,
   "metadata": {
    "ExecuteTime": {
     "end_time": "2022-07-05T15:33:16.209009Z",
     "start_time": "2022-07-05T15:33:16.201653Z"
    },
    "colab": {
     "base_uri": "https://localhost:8080/",
     "height": 537
    },
    "id": "jAbK3axg_UQA",
    "outputId": "05edfb52-9478-47f0-9799-6f25c15e8f03"
   },
   "outputs": [
    {
     "name": "stdout",
     "output_type": "stream",
     "text": [
      "{   'Just My Luck': [   (0.2222222222222222, 'Lady in the Water'),\n",
      "                        (0.18181818181818182, 'You, Me and Dupree'),\n",
      "                        (0.15384615384615385, 'The Night Listener'),\n",
      "                        (0.10526315789473684, 'Snakes on a Plane'),\n",
      "                        (0.06451612903225806, 'Superman Returns')],\n",
      "    'Lady in the Water': [   (0.4, 'You, Me and Dupree'),\n",
      "                             (0.2857142857142857, 'The Night Listener'),\n",
      "                             (0.2222222222222222, 'Snakes on a Plane'),\n",
      "                             (0.2222222222222222, 'Just My Luck'),\n",
      "                             (0.09090909090909091, 'Superman Returns')],\n",
      "    'Snakes on a Plane': [   (0.2222222222222222, 'Lady in the Water'),\n",
      "                             (0.18181818181818182, 'The Night Listener'),\n",
      "                             (0.16666666666666666, 'Superman Returns'),\n",
      "                             (0.10526315789473684, 'Just My Luck'),\n",
      "                             (0.05128205128205128, 'You, Me and Dupree')],\n",
      "    'Superman Returns': [   (0.16666666666666666, 'Snakes on a Plane'),\n",
      "                            (0.10256410256410256, 'The Night Listener'),\n",
      "                            (0.09090909090909091, 'Lady in the Water'),\n",
      "                            (0.06451612903225806, 'Just My Luck'),\n",
      "                            (0.05333333333333334, 'You, Me and Dupree')],\n",
      "    'The Night Listener': [   (0.2857142857142857, 'Lady in the Water'),\n",
      "                              (0.18181818181818182, 'Snakes on a Plane'),\n",
      "                              (0.15384615384615385, 'Just My Luck'),\n",
      "                              (0.14814814814814814, 'You, Me and Dupree'),\n",
      "                              (0.10256410256410256, 'Superman Returns')],\n",
      "    'You, Me and Dupree': [   (0.4, 'Lady in the Water'),\n",
      "                              (0.18181818181818182, 'Just My Luck'),\n",
      "                              (0.14814814814814814, 'The Night Listener'),\n",
      "                              (0.05333333333333334, 'Superman Returns'),\n",
      "                              (0.05128205128205128, 'Snakes on a Plane')]}\n"
     ]
    }
   ],
   "source": [
    "pp.pprint(itemsim)"
   ]
  },
  {
   "cell_type": "code",
   "execution_count": 38,
   "metadata": {
    "ExecuteTime": {
     "end_time": "2022-07-05T15:33:16.409125Z",
     "start_time": "2022-07-05T15:33:16.401671Z"
    },
    "colab": {
     "base_uri": "https://localhost:8080/",
     "height": 104
    },
    "id": "gRdOzNm9IQWl",
    "outputId": "65111b26-0dc2-4eba-efc1-a9711f5d77e8"
   },
   "outputs": [
    {
     "data": {
      "text/plain": [
       "[(0.16666666666666666, 'Snakes on a Plane'),\n",
       " (0.10256410256410256, 'The Night Listener'),\n",
       " (0.09090909090909091, 'Lady in the Water'),\n",
       " (0.06451612903225806, 'Just My Luck'),\n",
       " (0.05333333333333334, 'You, Me and Dupree')]"
      ]
     },
     "execution_count": 38,
     "metadata": {},
     "output_type": "execute_result"
    }
   ],
   "source": [
    "itemsim[\"Superman Returns\"]"
   ]
  },
  {
   "cell_type": "markdown",
   "metadata": {
    "id": "cNqKm0c7_UQC"
   },
   "source": [
    "Получили вложенный словарь с фильмами и их похожестью на другие фильмы."
   ]
  },
  {
   "cell_type": "markdown",
   "metadata": {
    "id": "Hfp_yAP8_UQC"
   },
   "source": [
    "Теперь мы готовы выдавать рекомендации, пользуясь словарем данных о схожести образцов. По аналогии с тем, что мы уже делали, необходимо получить список всех образцов, которым пользователь выставлял оценки, найти похожие и взвесить их с учетом коэффициентов подобия (умножить оценку на коэффициент подобия)."
   ]
  },
  {
   "cell_type": "markdown",
   "metadata": {
    "id": "w-1dRSQl_UQD"
   },
   "source": [
    "<p align=\"center\">\n",
    "  <img src=\"https://drive.google.com/uc?id=1KW6PdGw7D4tmln9BlTuqB7W3_svQBVl_\" alt=\"Drawing\" style=\"width: 700px;\" width=\"700\"/>\n",
    "</p>"
   ]
  },
  {
   "cell_type": "markdown",
   "metadata": {
    "id": "8f7bximq_UQE"
   },
   "source": [
    "Этот механизм реализован в функции **get_recommended_items()** из **recommendations**. На вход подается:\n",
    "\n",
    "- словарь с оценками пользователя (в нашем случае это словарь критиков, *critics*)\n",
    "- словарь с данными о схожести образцов, *itemsim*\n",
    "- имя критика, для которого строим рекомендации"
   ]
  },
  {
   "cell_type": "markdown",
   "metadata": {
    "id": "32FRi714_UQE"
   },
   "source": [
    "Получим рекомендации для пользователя Toby:\n",
    "\n",
    "**Code 17:**"
   ]
  },
  {
   "cell_type": "code",
   "execution_count": 39,
   "metadata": {
    "ExecuteTime": {
     "end_time": "2022-07-05T15:33:18.344723Z",
     "start_time": "2022-07-05T15:33:18.336803Z"
    }
   },
   "outputs": [
    {
     "data": {
      "text/plain": [
       "{'Snakes on a Plane': 4.5, 'You, Me and Dupree': 1.0, 'Superman Returns': 4.0}"
      ]
     },
     "execution_count": 39,
     "metadata": {},
     "output_type": "execute_result"
    }
   ],
   "source": [
    "critics[\"Toby\"]"
   ]
  },
  {
   "cell_type": "code",
   "execution_count": 40,
   "metadata": {
    "ExecuteTime": {
     "end_time": "2022-07-05T15:33:18.604783Z",
     "start_time": "2022-07-05T15:33:18.599102Z"
    },
    "colab": {
     "base_uri": "https://localhost:8080/",
     "height": 69
    },
    "id": "Au-TzhYH_UQE",
    "outputId": "b8dd815c-a8bc-47ac-d28b-79d0d230c2cf"
   },
   "outputs": [
    {
     "data": {
      "text/plain": [
       "[(3.182634730538922, 'The Night Listener'),\n",
       " (2.5983318700614575, 'Just My Luck'),\n",
       " (2.4730878186968837, 'Lady in the Water')]"
      ]
     },
     "execution_count": 40,
     "metadata": {},
     "output_type": "execute_result"
    }
   ],
   "source": [
    "get_recommended_items(critics, itemsim, \"Toby\")"
   ]
  },
  {
   "cell_type": "markdown",
   "metadata": {
    "id": "kboZa2t0_UQH"
   },
   "source": [
    "## Метрики качества для рекомендательных систем\n",
    "\n",
    "Для оценки качества работы рекомендательных систем можно рассмотреть две специальные метрики **Hit Rate** (HR) и **Mean Reciprocal Rank** (MRR).\n",
    "\n",
    "Определим как **попадание** (**hit**) - ситуацию, когда фильм был рекомендован пользователю в топ-N и пользователь посмотрел его."
   ]
  },
  {
   "cell_type": "markdown",
   "metadata": {
    "id": "FRnU59A9_UQJ"
   },
   "source": [
    "### Hit Rate at k (HR@k)\n",
    "\n",
    "**Hit Rate at k (процент попаданий из k предсказаний)** определяется как общее число попаданий, нормированное на количество пользователей. Попаданием считается наличие верной рекомендации среди предложенных k вариантов (обычно берётся топ самых релевантных объектов, предложенных нашей моделью).\n",
    "\n",
    "$$\n",
    "\\text{HR} = \\frac{1}{\\text{# test users}} \\sum_{\\text{test users}}{\\text{hit}}\n",
    "$$\n",
    "\n",
    "Чем больше процент попаданий, тем лучше будет наша система рекомендаций.\n",
    "\n",
    "*Замечание*: в некотором смысле, Hit Rate представляет собой производное от классических ML метрик precision и recall."
   ]
  },
  {
   "cell_type": "markdown",
   "metadata": {
    "id": "7v4hQXwA_UQM"
   },
   "source": [
    "### Mean Reciprocal Rank (MRR)\n",
    "\n",
    "Отличие метрики **Mean Reciprocal Rank** от предыдущей в том, что мы учитываем не общее количество попаданий, а обратное рангу (месту в списке рекомендаций) **первое попадание**.<br>\n",
    "Например, если фильм, просмотренный пользователем (попадание), стоял на втором месте, обратное рангу будет равно $\\frac{1}{2}$, а если бы стоял на третьем - $\\frac{1}{3}$ и так далее.\n",
    "\n",
    "$$\n",
    "\\text{MRR} = \\frac{1}{\\text{# test users}} \\sum_{\\text{test users}}{\\frac{1}{\\text{hit rank}}}\n",
    "$$\n",
    "\n",
    "Рассмотрим на примере. Toby получил следующий список рекомендаций:"
   ]
  },
  {
   "cell_type": "code",
   "execution_count": 41,
   "metadata": {
    "ExecuteTime": {
     "end_time": "2022-07-05T15:33:19.658524Z",
     "start_time": "2022-07-05T15:33:19.649114Z"
    },
    "colab": {
     "base_uri": "https://localhost:8080/",
     "height": 73
    },
    "id": "xkD151Wi_UQP",
    "outputId": "5af9e2cc-fc44-43d8-93b5-4a27f6d068cb"
   },
   "outputs": [
    {
     "data": {
      "text/plain": [
       "[(3.347789526713101, 'The Night Listener'),\n",
       " (2.832549918264162, 'Lady in the Water'),\n",
       " (2.530980703765565, 'Just My Luck')]"
      ]
     },
     "execution_count": 41,
     "metadata": {},
     "output_type": "execute_result"
    }
   ],
   "source": [
    "get_recommendations(critics, \"Toby\", sim_pearson)"
   ]
  },
  {
   "cell_type": "markdown",
   "metadata": {
    "id": "NWid3AD0_UQS"
   },
   "source": [
    "Допустим, после этого Toby посмотрел 5 фильмов и выставил им следующие оценки:\n",
    "\n",
    "| Film               | Score |\n",
    "| ------------------ | ----- |\n",
    "| The Departed       | 4.5   |\n",
    "| The Night Listener | 4     |\n",
    "| Lady in the Water  | 3.9   |\n",
    "| The Firm           | 3.7   |\n",
    "| Just My Luck       | 3     |"
   ]
  },
  {
   "cell_type": "markdown",
   "metadata": {
    "id": "Vb3ymJfX_UQT"
   },
   "source": [
    "Как мы видим, только два фильма из списка рекомендаций попали в личный топ-3 Toby.<br>\n",
    "Получается, что **попадание (hits)** у него 2.\n",
    "\n",
    "**HR = $\\dfrac{1}{1} * 2 = 2$**, так как выборка тестовых пользователей (test_users) состоит из одного Toby.\n",
    "\n",
    "Далее посчитаем MRR:\n",
    "\n",
    "- **$\\frac{1}{hit\\,rank}$** для фильма The Night Listener - это $\\dfrac{1}{2}$\n",
    "- **$\\frac{1}{hit\\,rank}$** для фильма Lady in the Water - это $\\dfrac{1}{3}$\n",
    "\n",
    "Но фильм **The Night Listener** стоит выше в рейтинге Toby, чем **Lady in the Water**, поэтому:\n",
    "\n",
    "**MRR = $\\dfrac{1}{1}*\\dfrac{1}{2} = \\dfrac{1}{2}$**, так как, опять же, выборка тестовых пользователей (test_users) состоит из одного Toby."
   ]
  },
  {
   "cell_type": "markdown",
   "metadata": {
    "id": "uVz--JCg_UQV"
   },
   "source": [
    "## Бонус\\* : Рекомендация на данных MovieLens"
   ]
  },
  {
   "cell_type": "markdown",
   "metadata": {
    "id": "hswKQL4m_UQW"
   },
   "source": [
    "В этом примере мы рассмотрим реальный набор данных с оценками фильмов, который называется MovieLens.<br>\n",
    "Источник данных: http://grouplens.org/datasets/movielens/"
   ]
  },
  {
   "cell_type": "markdown",
   "metadata": {
    "id": "AZts6qpz_UQX"
   },
   "source": [
    "Датасет представляет собой набор фильмов, которые 162541 пользователей сайта MovieLens оценивали по 5-бальной шкале. В наборе также есть дополнительная информация такая как описание фильмов тегами, но в нашем упражнении мы её использовать не будем для упрощения. Также, чтобы уменьшить время вычислений, будем использовать данный только 943 пользователей. Каждый пользователь в датасете оценил минимум 20 фильмов.\n",
    "\n",
    "Загруженный датасет будет в следующем виде:\n",
    "\n",
    "```python\n",
    "\n",
    "preferences = {\n",
    "    'user_id_1' : {\n",
    "        'film_name_1' : rate,\n",
    "        'film_name_2' : rate,\n",
    "        ...\n",
    "        'film_name_21' : rate,\n",
    "    },\n",
    "    ...\n",
    "    'user_id_943' : {\n",
    "        'film_name_1' : rate,\n",
    "        'film_name_2' : rate,\n",
    "        ...\n",
    "        'film_name_30' : rate,\n",
    "    }\n",
    "}\n",
    "\n",
    "```"
   ]
  },
  {
   "cell_type": "markdown",
   "metadata": {
    "collapsed": true,
    "id": "sLW7AFQe_UQX"
   },
   "source": [
    "Чтобы загрузить набор данных MovieLens, в модуле **recommendations** есть функция **load_movie_lens()**. Она возвращает словарь предпочтений фильмов для набора людей. Пользователи зашифрованы идентификатором. Для каждого пользователя имеется название\n",
    "фильма, а также оценка, выставленная фильму данным пользователе.\n",
    "\n",
    "Перед запуском функции необходимо предварительно загрузить из внешнего источника файлы с данными с помощью **wget**."
   ]
  },
  {
   "cell_type": "code",
   "execution_count": 42,
   "metadata": {
    "ExecuteTime": {
     "end_time": "2022-07-05T15:33:45.108165Z",
     "start_time": "2022-07-05T15:33:21.781831Z"
    },
    "colab": {
     "base_uri": "https://localhost:8080/",
     "height": 731
    },
    "id": "mhF7cLORFOIK",
    "outputId": "f5bbab9d-0887-4417-f537-70b284236c88",
    "scrolled": true
   },
   "outputs": [
    {
     "name": "stdout",
     "output_type": "stream",
     "text": [
      "--2022-07-05 18:33:21--  https://www.dropbox.com/s/e0nehgkgv3uoad3/u.item\n",
      "Resolving www.dropbox.com (www.dropbox.com)... 2620:100:6026:18::a27d:4612, 162.125.70.18\n",
      "Connecting to www.dropbox.com (www.dropbox.com)|2620:100:6026:18::a27d:4612|:443... connected.\n",
      "HTTP request sent, awaiting response... 301 Moved Permanently\n",
      "Location: /s/raw/e0nehgkgv3uoad3/u.item [following]\n",
      "--2022-07-05 18:33:22--  https://www.dropbox.com/s/raw/e0nehgkgv3uoad3/u.item\n",
      "Reusing existing connection to [www.dropbox.com]:443.\n",
      "HTTP request sent, awaiting response... 302 Found\n",
      "Location: https://uc4496cafb1e61344e7cbb1a9b10.dl.dropboxusercontent.com/cd/0/inline/Boh0LWW6XShow8gmZZvPq6nFYPVuj78PBCKY81efeN6q12FcixmSoJ3gQGLjEkk7QtCRSzT3xKYrRoYAq4bOwJ1E13eK1_o89D_1gbWZmyWFtT6jvw3haf5CKMTpklKr0V5KJ7n8yZf1ChHy2l7btEQ2zaT0HwmIxDbMuFY2p2jasA/file# [following]\n",
      "--2022-07-05 18:33:23--  https://uc4496cafb1e61344e7cbb1a9b10.dl.dropboxusercontent.com/cd/0/inline/Boh0LWW6XShow8gmZZvPq6nFYPVuj78PBCKY81efeN6q12FcixmSoJ3gQGLjEkk7QtCRSzT3xKYrRoYAq4bOwJ1E13eK1_o89D_1gbWZmyWFtT6jvw3haf5CKMTpklKr0V5KJ7n8yZf1ChHy2l7btEQ2zaT0HwmIxDbMuFY2p2jasA/file\n",
      "Resolving uc4496cafb1e61344e7cbb1a9b10.dl.dropboxusercontent.com (uc4496cafb1e61344e7cbb1a9b10.dl.dropboxusercontent.com)... 2620:100:6026:15::a27d:460f, 162.125.70.15\n",
      "Connecting to uc4496cafb1e61344e7cbb1a9b10.dl.dropboxusercontent.com (uc4496cafb1e61344e7cbb1a9b10.dl.dropboxusercontent.com)|2620:100:6026:15::a27d:460f|:443... connected.\n",
      "HTTP request sent, awaiting response... 200 OK\n",
      "Length: 236344 (231K) [text/plain]\n",
      "Saving to: ‘u.item’\n",
      "\n",
      "u.item              100%[===================>] 230,80K   275KB/s    in 0,8s    \n",
      "\n",
      "2022-07-05 18:33:26 (275 KB/s) - ‘u.item’ saved [236344/236344]\n",
      "\n",
      "--2022-07-05 18:33:26--  https://www.dropbox.com/s/7sy6mzs6d2skp8h/u.data\n",
      "Resolving www.dropbox.com (www.dropbox.com)... 2620:100:6026:18::a27d:4612, 162.125.70.18\n",
      "Connecting to www.dropbox.com (www.dropbox.com)|2620:100:6026:18::a27d:4612|:443... connected.\n",
      "HTTP request sent, awaiting response... 301 Moved Permanently\n",
      "Location: /s/raw/7sy6mzs6d2skp8h/u.data [following]\n",
      "--2022-07-05 18:33:27--  https://www.dropbox.com/s/raw/7sy6mzs6d2skp8h/u.data\n",
      "Reusing existing connection to [www.dropbox.com]:443.\n",
      "HTTP request sent, awaiting response... 302 Found\n",
      "Location: https://uc0e60ab1c6192a676412a563518.dl.dropboxusercontent.com/cd/0/inline/BohxxAnkaXYkcCWPWJHTtn7nO0YTvqTQ7end2KpgPJQVy4cdSwEEcqPK4i6qH1Ae1QVfxMqZDvnto5BXYIZOI8JxBLwBzbdFHuHcDGEacjdZ3kPLtyak8b5nymZ2tOtT1-hgIcokNh8269gNn5VrnkpCoEuUxF2NRWVuoiWiRuBvOA/file# [following]\n",
      "--2022-07-05 18:33:27--  https://uc0e60ab1c6192a676412a563518.dl.dropboxusercontent.com/cd/0/inline/BohxxAnkaXYkcCWPWJHTtn7nO0YTvqTQ7end2KpgPJQVy4cdSwEEcqPK4i6qH1Ae1QVfxMqZDvnto5BXYIZOI8JxBLwBzbdFHuHcDGEacjdZ3kPLtyak8b5nymZ2tOtT1-hgIcokNh8269gNn5VrnkpCoEuUxF2NRWVuoiWiRuBvOA/file\n",
      "Resolving uc0e60ab1c6192a676412a563518.dl.dropboxusercontent.com (uc0e60ab1c6192a676412a563518.dl.dropboxusercontent.com)... 2620:100:6026:15::a27d:460f, 162.125.70.15\n",
      "Connecting to uc0e60ab1c6192a676412a563518.dl.dropboxusercontent.com (uc0e60ab1c6192a676412a563518.dl.dropboxusercontent.com)|2620:100:6026:15::a27d:460f|:443... connected.\n",
      "HTTP request sent, awaiting response... 200 OK\n",
      "Length: 1979173 (1,9M) [text/plain]\n",
      "Saving to: ‘u.data’\n",
      "\n",
      "u.data              100%[===================>]   1,89M   119KB/s    in 16s     \n",
      "\n",
      "2022-07-05 18:33:44 (119 KB/s) - ‘u.data’ saved [1979173/1979173]\n",
      "\n"
     ]
    }
   ],
   "source": [
    "!wget https://www.dropbox.com/s/e0nehgkgv3uoad3/u.item\n",
    "!wget https://www.dropbox.com/s/7sy6mzs6d2skp8h/u.data"
   ]
  },
  {
   "cell_type": "code",
   "execution_count": 43,
   "metadata": {
    "ExecuteTime": {
     "end_time": "2022-07-05T15:33:45.175483Z",
     "start_time": "2022-07-05T15:33:45.111443Z"
    },
    "id": "e9gPRH23_UQZ"
   },
   "outputs": [],
   "source": [
    "preferences = load_movie_lens()"
   ]
  },
  {
   "cell_type": "markdown",
   "metadata": {
    "id": "71KUt9P7_UQc"
   },
   "source": [
    "Выведем фильмы для пользователя с ID 87 и рейтинги этих фильмов"
   ]
  },
  {
   "cell_type": "code",
   "execution_count": 44,
   "metadata": {
    "ExecuteTime": {
     "end_time": "2022-07-05T15:34:02.565274Z",
     "start_time": "2022-07-05T15:34:02.547009Z"
    },
    "colab": {
     "base_uri": "https://localhost:8080/",
     "height": 1000
    },
    "id": "O6auJMKg_UQd",
    "outputId": "b914cdd4-3b53-4c59-9377-192568099aa3"
   },
   "outputs": [
    {
     "name": "stdout",
     "output_type": "stream",
     "text": [
      "{   '2001: A Space Odyssey (1968)': 5.0,\n",
      "    'Ace Ventura: Pet Detective (1994)': 4.0,\n",
      "    'Addams Family Values (1993)': 2.0,\n",
      "    'Addicted to Love (1997)': 4.0,\n",
      "    'Adventures of Priscilla, Queen of the Desert, The (1994)': 3.0,\n",
      "    'Adventures of Robin Hood, The (1938)': 5.0,\n",
      "    'Air Force One (1997)': 3.0,\n",
      "    'Air Up There, The (1994)': 3.0,\n",
      "    'Alien (1979)': 4.0,\n",
      "    'American President, The (1995)': 5.0,\n",
      "    'Annie Hall (1977)': 4.0,\n",
      "    'Apocalypse Now (1979)': 4.0,\n",
      "    'Babe (1995)': 5.0,\n",
      "    'Baby-Sitters Club, The (1995)': 2.0,\n",
      "    'Back to the Future (1985)': 5.0,\n",
      "    'Bad Boys (1995)': 4.0,\n",
      "    'Bananas (1971)': 5.0,\n",
      "    'Barcelona (1994)': 3.0,\n",
      "    'Batman & Robin (1997)': 4.0,\n",
      "    'Batman (1989)': 3.0,\n",
      "    'Batman Returns (1992)': 3.0,\n",
      "    'Big Green, The (1995)': 3.0,\n",
      "    'Big Squeeze, The (1996)': 2.0,\n",
      "    'Birdcage, The (1996)': 4.0,\n",
      "    'Blade Runner (1982)': 4.0,\n",
      "    'Blues Brothers, The (1980)': 5.0,\n",
      "    'Boomerang (1992)': 3.0,\n",
      "    'Boot, Das (1981)': 4.0,\n",
      "    'Brady Bunch Movie, The (1995)': 2.0,\n",
      "    'Braveheart (1995)': 4.0,\n",
      "    'Bridge on the River Kwai, The (1957)': 5.0,\n",
      "    'Broken Arrow (1996)': 3.0,\n",
      "    'Butch Cassidy and the Sundance Kid (1969)': 5.0,\n",
      "    'Citizen Kane (1941)': 4.0,\n",
      "    \"City Slickers II: The Legend of Curly's Gold (1994)\": 3.0,\n",
      "    'Clear and Present Danger (1994)': 5.0,\n",
      "    'Cliffhanger (1993)': 3.0,\n",
      "    'Clockwork Orange, A (1971)': 4.0,\n",
      "    'Clueless (1995)': 4.0,\n",
      "    'Con Air (1997)': 4.0,\n",
      "    'Conan the Barbarian (1981)': 3.0,\n",
      "    'Coneheads (1993)': 4.0,\n",
      "    'Cool Hand Luke (1967)': 5.0,\n",
      "    'Cops and Robbersons (1994)': 3.0,\n",
      "    'Cowboy Way, The (1994)': 3.0,\n",
      "    'Crow, The (1994)': 3.0,\n",
      "    'Dances with Wolves (1990)': 5.0,\n",
      "    \"Dante's Peak (1997)\": 3.0,\n",
      "    'Dave (1993)': 4.0,\n",
      "    'Days of Thunder (1990)': 5.0,\n",
      "    'Dead Man Walking (1995)': 4.0,\n",
      "    'Dead Poets Society (1989)': 5.0,\n",
      "    'Deer Hunter, The (1978)': 3.0,\n",
      "    'Demolition Man (1993)': 3.0,\n",
      "    'Desperado (1995)': 3.0,\n",
      "    'Die Hard (1988)': 4.0,\n",
      "    'Die Hard: With a Vengeance (1995)': 4.0,\n",
      "    'Down Periscope (1996)': 4.0,\n",
      "    'Dragonheart (1996)': 4.0,\n",
      "    'Dumb & Dumber (1994)': 4.0,\n",
      "    'Dunston Checks In (1996)': 1.0,\n",
      "    'E.T. the Extra-Terrestrial (1982)': 3.0,\n",
      "    'Ed Wood (1994)': 3.0,\n",
      "    'Empire Strikes Back, The (1980)': 5.0,\n",
      "    'Endless Summer 2, The (1994)': 3.0,\n",
      "    'Evil Dead II (1987)': 2.0,\n",
      "    'Executive Decision (1996)': 3.0,\n",
      "    'Fargo (1996)': 5.0,\n",
      "    'First Wives Club, The (1996)': 2.0,\n",
      "    'Fish Called Wanda, A (1988)': 5.0,\n",
      "    'Forget Paris (1995)': 4.0,\n",
      "    'Four Weddings and a Funeral (1994)': 5.0,\n",
      "    'French Kiss (1995)': 5.0,\n",
      "    'Fugitive, The (1993)': 5.0,\n",
      "    'Full Metal Jacket (1987)': 4.0,\n",
      "    'Get Shorty (1995)': 5.0,\n",
      "    'Glory (1989)': 4.0,\n",
      "    'Godfather, The (1972)': 4.0,\n",
      "    'GoldenEye (1995)': 4.0,\n",
      "    'Good, The Bad and The Ugly, The (1966)': 5.0,\n",
      "    'GoodFellas (1990)': 4.0,\n",
      "    'Grease (1978)': 4.0,\n",
      "    'Great White Hype, The (1996)': 3.0,\n",
      "    'Groundhog Day (1993)': 5.0,\n",
      "    'Grumpier Old Men (1995)': 4.0,\n",
      "    'Hard Target (1993)': 4.0,\n",
      "    'Heat (1995)': 3.0,\n",
      "    'Heathers (1989)': 3.0,\n",
      "    'Home Alone (1990)': 4.0,\n",
      "    'Hoop Dreams (1994)': 4.0,\n",
      "    'Hot Shots! Part Deux (1993)': 4.0,\n",
      "    'House Arrest (1996)': 3.0,\n",
      "    'I Love Trouble (1994)': 3.0,\n",
      "    'I.Q. (1994)': 5.0,\n",
      "    'In the Army Now (1994)': 4.0,\n",
      "    'In the Line of Fire (1993)': 5.0,\n",
      "    'Independence Day (ID4) (1996)': 5.0,\n",
      "    'Indiana Jones and the Last Crusade (1989)': 5.0,\n",
      "    'Inkwell, The (1994)': 3.0,\n",
      "    \"It's a Wonderful Life (1946)\": 5.0,\n",
      "    'Jack (1996)': 3.0,\n",
      "    'Jeffrey (1995)': 3.0,\n",
      "    'Jimmy Hollywood (1994)': 3.0,\n",
      "    \"Joe's Apartment (1996)\": 2.0,\n",
      "    'Junior (1994)': 4.0,\n",
      "    'Jurassic Park (1993)': 5.0,\n",
      "    'Kingpin (1996)': 4.0,\n",
      "    'Lightning Jack (1994)': 3.0,\n",
      "    'Lost World: Jurassic Park, The (1997)': 3.0,\n",
      "    'Low Down Dirty Shame, A (1994)': 3.0,\n",
      "    'M*A*S*H (1970)': 5.0,\n",
      "    'Magnificent Seven, The (1954)': 5.0,\n",
      "    'Major Payne (1994)': 3.0,\n",
      "    'Man of the House (1995)': 3.0,\n",
      "    'Manchurian Candidate, The (1962)': 4.0,\n",
      "    'Mars Attacks! (1996)': 3.0,\n",
      "    'Mask, The (1994)': 3.0,\n",
      "    'Matilda (1996)': 3.0,\n",
      "    'Maverick (1994)': 3.0,\n",
      "    'Michael (1996)': 4.0,\n",
      "    'Mighty Aphrodite (1995)': 3.0,\n",
      "    'Milk Money (1994)': 4.0,\n",
      "    'Mission: Impossible (1996)': 4.0,\n",
      "    \"Monty Python's Life of Brian (1979)\": 4.0,\n",
      "    'Mother (1996)': 2.0,\n",
      "    'Mrs. Doubtfire (1993)': 4.0,\n",
      "    'Multiplicity (1996)': 3.0,\n",
      "    'Muppet Treasure Island (1996)': 3.0,\n",
      "    'My Favorite Year (1982)': 3.0,\n",
      "    'Naked Gun 33 1/3: The Final Insult (1994)': 4.0,\n",
      "    'Net, The (1995)': 5.0,\n",
      "    'Nine Months (1995)': 4.0,\n",
      "    'Nutty Professor, The (1996)': 4.0,\n",
      "    'Platoon (1986)': 3.0,\n",
      "    'Prefontaine (1997)': 5.0,\n",
      "    'Private Benjamin (1980)': 4.0,\n",
      "    'Professional, The (1994)': 4.0,\n",
      "    'Program, The (1993)': 3.0,\n",
      "    'Pulp Fiction (1994)': 4.0,\n",
      "    \"Pyromaniac's Love Story, A (1995)\": 3.0,\n",
      "    'Quiet Man, The (1952)': 5.0,\n",
      "    'Raging Bull (1980)': 3.0,\n",
      "    'Raiders of the Lost Ark (1981)': 5.0,\n",
      "    'Raising Arizona (1987)': 3.0,\n",
      "    'Reality Bites (1994)': 3.0,\n",
      "    'Renaissance Man (1994)': 5.0,\n",
      "    'Return of the Jedi (1983)': 5.0,\n",
      "    'Return of the Pink Panther, The (1974)': 4.0,\n",
      "    'River Wild, The (1994)': 4.0,\n",
      "    'Sabrina (1995)': 4.0,\n",
      "    'Santa Clause, The (1994)': 4.0,\n",
      "    \"Schindler's List (1993)\": 4.0,\n",
      "    'Searching for Bobby Fischer (1993)': 4.0,\n",
      "    'Serial Mom (1994)': 1.0,\n",
      "    'Shadow, The (1994)': 3.0,\n",
      "    'Shawshank Redemption, The (1994)': 5.0,\n",
      "    \"Singin' in the Rain (1952)\": 4.0,\n",
      "    'Sleeper (1973)': 4.0,\n",
      "    'Sleepers (1996)': 4.0,\n",
      "    'Sleepless in Seattle (1993)': 5.0,\n",
      "    'Sneakers (1992)': 4.0,\n",
      "    'So I Married an Axe Murderer (1993)': 2.0,\n",
      "    'Something to Talk About (1995)': 2.0,\n",
      "    'Son in Law (1993)': 4.0,\n",
      "    'Speechless (1994)': 4.0,\n",
      "    'Speed (1994)': 5.0,\n",
      "    'Speed 2: Cruise Control (1997)': 3.0,\n",
      "    'Star Trek III: The Search for Spock (1984)': 4.0,\n",
      "    'Star Trek IV: The Voyage Home (1986)': 5.0,\n",
      "    'Star Trek: First Contact (1996)': 4.0,\n",
      "    'Star Trek: The Motion Picture (1979)': 3.0,\n",
      "    'Star Trek: The Wrath of Khan (1982)': 5.0,\n",
      "    'Star Wars (1977)': 5.0,\n",
      "    'Stargate (1994)': 5.0,\n",
      "    'Sting, The (1973)': 5.0,\n",
      "    'Strange Days (1995)': 3.0,\n",
      "    'Strictly Ballroom (1992)': 3.0,\n",
      "    'Striptease (1996)': 2.0,\n",
      "    'Supercop (1992)': 3.0,\n",
      "    'Swimming with Sharks (1995)': 3.0,\n",
      "    'Switchblade Sisters (1975)': 2.0,\n",
      "    'Terminator 2: Judgment Day (1991)': 5.0,\n",
      "    'Terminator, The (1984)': 5.0,\n",
      "    'That Old Feeling (1997)': 4.0,\n",
      "    'That Thing You Do! (1996)': 4.0,\n",
      "    'This Is Spinal Tap (1984)': 5.0,\n",
      "    'To Die For (1995)': 3.0,\n",
      "    'To Kill a Mockingbird (1962)': 4.0,\n",
      "    'To Wong Foo, Thanks for Everything! Julie Newmar (1995)': 3.0,\n",
      "    'Tommy Boy (1995)': 4.0,\n",
      "    'Top Gun (1986)': 5.0,\n",
      "    'Treasure of the Sierra Madre, The (1948)': 4.0,\n",
      "    'True Lies (1994)': 5.0,\n",
      "    'Truth About Cats & Dogs, The (1996)': 4.0,\n",
      "    'Twelve Monkeys (1995)': 4.0,\n",
      "    'Twister (1996)': 4.0,\n",
      "    \"Ulee's Gold (1997)\": 3.0,\n",
      "    'Under Siege (1992)': 4.0,\n",
      "    'Up in Smoke (1978)': 3.0,\n",
      "    'Vegas Vacation (1997)': 4.0,\n",
      "    'Victor/Victoria (1982)': 4.0,\n",
      "    'Waterworld (1995)': 4.0,\n",
      "    \"Weekend at Bernie's (1989)\": 3.0,\n",
      "    'When Harry Met Sally... (1989)': 5.0,\n",
      "    'While You Were Sleeping (1995)': 5.0,\n",
      "    'Wizard of Oz, The (1939)': 5.0,\n",
      "    'Wyatt Earp (1994)': 3.0,\n",
      "    'Young Frankenstein (1974)': 5.0,\n",
      "    'Young Guns (1988)': 3.0,\n",
      "    'Young Guns II (1990)': 2.0}\n"
     ]
    }
   ],
   "source": [
    "pp.pprint(preferences[\"87\"])"
   ]
  },
  {
   "cell_type": "markdown",
   "metadata": {
    "id": "WJcyGO4c_UQf"
   },
   "source": [
    "Посмотрим, какие рекомендации получим с помощью коллаборативной фильтрации по схожести пользователей. Напомним, что для этого реализована функция **get_recommendations()**, которая выдает рекомендации для данного пользователя по похожести на других и предположительную его оценку фильму.\n",
    "\n",
    "Функция принимает на вход следующие аргументы:\n",
    "\n",
    "- словарь пользователей, в этом случае это *preferences*\n",
    "- имя персоны *person*, для которой подбираем соответствия\n",
    "- имя функции-критерия для сравнения\n",
    "\n",
    "Выведем первые топ-30 рекомендаций для пользователя с ID 87, для этого в квадратных скобочках укажем \\[0:30\\].\n",
    "\n",
    "*Замечание*: может появиться предупреждение RuntimeWarning, это связано с тем, что теперь мы работаем с большой выборкой и при подсчете корреляции Пирсона может возникать деление на ноль. В этом случае мы присваиваем корреляции значение ноль."
   ]
  },
  {
   "cell_type": "code",
   "execution_count": 45,
   "metadata": {
    "ExecuteTime": {
     "end_time": "2022-07-05T15:34:06.050454Z",
     "start_time": "2022-07-05T15:34:05.963372Z"
    },
    "colab": {
     "base_uri": "https://localhost:8080/",
     "height": 191
    },
    "id": "RBM810xK_UQg",
    "outputId": "1df6c7df-9e14-4019-deda-8a7e947df76d",
    "scrolled": true
   },
   "outputs": [
    {
     "name": "stderr",
     "output_type": "stream",
     "text": [
      "/opt/homebrew/Caskroom/miniconda/base/envs/ml-mipt/lib/python3.8/site-packages/scipy/stats/stats.py:3913: PearsonRConstantInputWarning: An input array is constant; the correlation coefficent is not defined.\n",
      "  warnings.warn(PearsonRConstantInputWarning())\n"
     ]
    },
    {
     "ename": "ValueError",
     "evalue": "x and y must have length at least 2.",
     "output_type": "error",
     "traceback": [
      "\u001b[0;31m---------------------------------------------------------------------------\u001b[0m",
      "\u001b[0;31mValueError\u001b[0m                                Traceback (most recent call last)",
      "\u001b[0;32m<ipython-input-45-65ba2918a37a>\u001b[0m in \u001b[0;36m<module>\u001b[0;34m\u001b[0m\n\u001b[0;32m----> 1\u001b[0;31m \u001b[0mget_recommendations\u001b[0m\u001b[0;34m(\u001b[0m\u001b[0mpreferences\u001b[0m\u001b[0;34m,\u001b[0m \u001b[0;34m\"87\"\u001b[0m\u001b[0;34m,\u001b[0m \u001b[0msim_pearson\u001b[0m\u001b[0;34m)\u001b[0m\u001b[0;34m[\u001b[0m\u001b[0;36m0\u001b[0m\u001b[0;34m:\u001b[0m\u001b[0;36m10\u001b[0m\u001b[0;34m]\u001b[0m\u001b[0;34m\u001b[0m\u001b[0;34m\u001b[0m\u001b[0m\n\u001b[0m",
      "\u001b[0;32m~/home/girafe-ai/ml-mipt/recommendations.py\u001b[0m in \u001b[0;36mget_recommendations\u001b[0;34m(prefs, person, similarity)\u001b[0m\n\u001b[1;32m     97\u001b[0m             \u001b[0;32mcontinue\u001b[0m\u001b[0;34m\u001b[0m\u001b[0;34m\u001b[0m\u001b[0m\n\u001b[1;32m     98\u001b[0m         \u001b[0;31m# считаем похожесть\u001b[0m\u001b[0;34m\u001b[0m\u001b[0;34m\u001b[0m\u001b[0;34m\u001b[0m\u001b[0m\n\u001b[0;32m---> 99\u001b[0;31m         \u001b[0msim\u001b[0m \u001b[0;34m=\u001b[0m \u001b[0msimilarity\u001b[0m\u001b[0;34m(\u001b[0m\u001b[0mprefs\u001b[0m\u001b[0;34m,\u001b[0m \u001b[0mperson\u001b[0m\u001b[0;34m,\u001b[0m \u001b[0mother\u001b[0m\u001b[0;34m)\u001b[0m\u001b[0;34m\u001b[0m\u001b[0;34m\u001b[0m\u001b[0m\n\u001b[0m\u001b[1;32m    100\u001b[0m \u001b[0;34m\u001b[0m\u001b[0m\n\u001b[1;32m    101\u001b[0m         \u001b[0;31m# игнорировать нулевые и отрицательные значения похожести\u001b[0m\u001b[0;34m\u001b[0m\u001b[0;34m\u001b[0m\u001b[0;34m\u001b[0m\u001b[0m\n",
      "\u001b[0;32m<ipython-input-20-90157929e7e6>\u001b[0m in \u001b[0;36msim_pearson\u001b[0;34m(critics_dict, person1, person2)\u001b[0m\n\u001b[1;32m     23\u001b[0m     \u001b[0;31m# посчитаем коэффициент корреляции\u001b[0m\u001b[0;34m\u001b[0m\u001b[0;34m\u001b[0m\u001b[0;34m\u001b[0m\u001b[0m\n\u001b[1;32m     24\u001b[0m     \u001b[0;31m# берем [0] от результата, так как функция pearsonr() возвращает еще значение p-value\u001b[0m\u001b[0;34m\u001b[0m\u001b[0;34m\u001b[0m\u001b[0;34m\u001b[0m\u001b[0m\n\u001b[0;32m---> 25\u001b[0;31m     \u001b[0mcorrelation\u001b[0m \u001b[0;34m=\u001b[0m \u001b[0mpearsonr\u001b[0m\u001b[0;34m(\u001b[0m\u001b[0mscores1\u001b[0m\u001b[0;34m,\u001b[0m \u001b[0mscores2\u001b[0m\u001b[0;34m)\u001b[0m\u001b[0;34m[\u001b[0m\u001b[0;36m0\u001b[0m\u001b[0;34m]\u001b[0m\u001b[0;34m\u001b[0m\u001b[0;34m\u001b[0m\u001b[0m\n\u001b[0m\u001b[1;32m     26\u001b[0m \u001b[0;34m\u001b[0m\u001b[0m\n\u001b[1;32m     27\u001b[0m     \u001b[0;31m# если вдруг было деление на ноль и функция вернула nan, то присваиваем ноль\u001b[0m\u001b[0;34m\u001b[0m\u001b[0;34m\u001b[0m\u001b[0;34m\u001b[0m\u001b[0m\n",
      "\u001b[0;32m/opt/homebrew/Caskroom/miniconda/base/envs/ml-mipt/lib/python3.8/site-packages/scipy/stats/stats.py\u001b[0m in \u001b[0;36mpearsonr\u001b[0;34m(x, y)\u001b[0m\n\u001b[1;32m   3904\u001b[0m \u001b[0;34m\u001b[0m\u001b[0m\n\u001b[1;32m   3905\u001b[0m     \u001b[0;32mif\u001b[0m \u001b[0mn\u001b[0m \u001b[0;34m<\u001b[0m \u001b[0;36m2\u001b[0m\u001b[0;34m:\u001b[0m\u001b[0;34m\u001b[0m\u001b[0;34m\u001b[0m\u001b[0m\n\u001b[0;32m-> 3906\u001b[0;31m         \u001b[0;32mraise\u001b[0m \u001b[0mValueError\u001b[0m\u001b[0;34m(\u001b[0m\u001b[0;34m'x and y must have length at least 2.'\u001b[0m\u001b[0;34m)\u001b[0m\u001b[0;34m\u001b[0m\u001b[0;34m\u001b[0m\u001b[0m\n\u001b[0m\u001b[1;32m   3907\u001b[0m \u001b[0;34m\u001b[0m\u001b[0m\n\u001b[1;32m   3908\u001b[0m     \u001b[0mx\u001b[0m \u001b[0;34m=\u001b[0m \u001b[0mnp\u001b[0m\u001b[0;34m.\u001b[0m\u001b[0masarray\u001b[0m\u001b[0;34m(\u001b[0m\u001b[0mx\u001b[0m\u001b[0;34m)\u001b[0m\u001b[0;34m\u001b[0m\u001b[0;34m\u001b[0m\u001b[0m\n",
      "\u001b[0;31mValueError\u001b[0m: x and y must have length at least 2."
     ]
    }
   ],
   "source": [
    "get_recommendations(preferences, \"87\", sim_pearson)[0:10]"
   ]
  },
  {
   "cell_type": "markdown",
   "metadata": {
    "id": "IQkH89RB_UQj"
   },
   "source": [
    "Интересно также сравнить полученный результат с рекомендациями по схожести образцов. Напомним, чтобы сравнить образцы, нужно в первую очередь перестроить наш набор данных из набора предпочтений пользователей в набор оценок фильмов. Для этого используем функцию **calculate_similar_items()**. На вход её нужно подать словарь с оценками пользователей *prefernces*. Кроме этого, мы передадим аргумент *n = 50*, так как хотим оставить только 50 наиболее похожих образцов в новом словаре."
   ]
  },
  {
   "cell_type": "markdown",
   "metadata": {
    "id": "8zwZzp1U_UQj"
   },
   "source": [
    "В этот раз мы работаем с большим набором данных и вычисления могут занять некоторое время, поэтому функция также будет выводить сообщение о том, сколько фильмов она уже просмотрела.\n",
    "\n",
    "**Code 22:**"
   ]
  },
  {
   "cell_type": "code",
   "execution_count": 45,
   "metadata": {
    "ExecuteTime": {
     "end_time": "2021-08-12T11:43:48.263870Z",
     "start_time": "2021-08-12T11:43:32.426292Z"
    },
    "colab": {
     "base_uri": "https://localhost:8080/",
     "height": 295
    },
    "id": "CPt61njj_UQk",
    "outputId": "390e25bf-3c9d-4452-e953-e84eed701fc3"
   },
   "outputs": [
    {
     "name": "stdout",
     "output_type": "stream",
     "text": [
      "100 / 1664\n",
      "200 / 1664\n",
      "300 / 1664\n",
      "400 / 1664\n",
      "500 / 1664\n",
      "600 / 1664\n",
      "700 / 1664\n",
      "800 / 1664\n",
      "900 / 1664\n",
      "1000 / 1664\n",
      "1100 / 1664\n",
      "1200 / 1664\n",
      "1300 / 1664\n",
      "1400 / 1664\n",
      "1500 / 1664\n",
      "1600 / 1664\n"
     ]
    }
   ],
   "source": [
    "item_similarities = calculate_similar_items(preferences, n=50)"
   ]
  },
  {
   "cell_type": "markdown",
   "metadata": {
    "id": "Ygkn4Aq2_UQm"
   },
   "source": [
    "Посмотрим на результат:\n",
    "\n",
    "**Code 23:**"
   ]
  },
  {
   "cell_type": "code",
   "execution_count": 46,
   "metadata": {
    "ExecuteTime": {
     "end_time": "2021-08-12T11:43:48.270916Z",
     "start_time": "2021-08-12T11:43:48.265967Z"
    },
    "colab": {
     "base_uri": "https://localhost:8080/",
     "height": 945
    },
    "id": "CSl0P34A_UQn",
    "outputId": "b485fb19-be6d-4854-d625-a9334094d570",
    "scrolled": true
   },
   "outputs": [
    {
     "data": {
      "text/plain": [
       "[(1.0, 'Yankee Zulu (1994)'),\n",
       " (1.0, 'Woman in Question, The (1950)'),\n",
       " (1.0, 'Witness (1985)'),\n",
       " (1.0, \"Wend Kuuni (God's Gift) (1982)\"),\n",
       " (1.0, 'Vie est belle, La (Life is Rosey) (1987)'),\n",
       " (1.0, 'Vermont Is For Lovers (1992)'),\n",
       " (1.0, 'Van, The (1996)'),\n",
       " (1.0, 'Two or Three Things I Know About Her (1966)'),\n",
       " (1.0, 'Two Much (1996)'),\n",
       " (1.0, 'Two Deaths (1995)'),\n",
       " (1.0, 'Two Bits (1995)'),\n",
       " (1.0, 'Touki Bouki (Journey of the Hyena) (1973)'),\n",
       " (1.0, 'Total Eclipse (1995)'),\n",
       " (1.0, 'To Have, or Not (1995)'),\n",
       " (1.0, 'To Cross the Rubicon (1991)'),\n",
       " (1.0, 'Tigrero: A Film That Was Never Made (1994)'),\n",
       " (1.0, 'The Courtyard (1995)'),\n",
       " (1.0, 'Terror in a Texas Town (1958)'),\n",
       " (1.0, 'Talking About Sex (1994)'),\n",
       " (1.0, 'T-Men (1947)'),\n",
       " (1.0, 'Symphonie pastorale, La (1946)'),\n",
       " (1.0, 'Swept from the Sea (1997)'),\n",
       " (1.0, 'Stranger in the House (1997)'),\n",
       " (1.0, 'Stonewall (1995)'),\n",
       " (1.0, 'Squeeze (1996)'),\n",
       " (1.0, 'Spirits of the Dead (Tre passi nel delirio) (1968)'),\n",
       " (1.0, 'Somebody to Love (1994)'),\n",
       " (1.0, 'So Dear to My Heart (1949)'),\n",
       " (1.0, 'Sliding Doors (1998)'),\n",
       " (1.0, 'Shooting Fish (1997)'),\n",
       " (1.0, 'Shadows (Cienie) (1988)'),\n",
       " (1.0, 'Secret Adventures of Tom Thumb, The (1993)'),\n",
       " (1.0, 'Scream of Stone (Schrei aus Stein) (1991)'),\n",
       " (1.0, 'Salut cousin! (1996)'),\n",
       " (1.0, 'Romper Stomper (1992)'),\n",
       " (1.0, 'Relative Fear (1994)'),\n",
       " (1.0, 'Quartier Mozart (1992)'),\n",
       " (1.0, 'Promise, The (Versprechen, Das) (1994)'),\n",
       " (1.0, 'Prefontaine (1997)'),\n",
       " (1.0, \"Pharaoh's Army (1995)\"),\n",
       " (1.0, 'Nosferatu a Venezia (1986)'),\n",
       " (1.0, 'Nina Takes a Lover (1994)'),\n",
       " (1.0, 'Niagara, Niagara (1997)'),\n",
       " (1.0, 'Mr. Jones (1993)'),\n",
       " (1.0, 'Mostro, Il (1994)'),\n",
       " (1.0, 'Modern Affair, A (1995)'),\n",
       " (1.0, 'Mighty, The (1998)'),\n",
       " (1.0, 'Metisse (Café au Lait) (1993)'),\n",
       " (1.0, 'Man from Down Under, The (1943)'),\n",
       " (1.0, 'Liebelei (1933)')]"
      ]
     },
     "execution_count": 46,
     "metadata": {},
     "output_type": "execute_result"
    }
   ],
   "source": [
    "item_similarities[\"What's Eating Gilbert Grape (1993)\"]"
   ]
  },
  {
   "cell_type": "markdown",
   "metadata": {
    "id": "CljYM-UW_UQq"
   },
   "source": [
    "Теперь получим топ-30 рекомендаций для пользователя с учетом похожести фильмов. Используем функцию **get_recommended_items()**, которой на вход подается:\n",
    "\n",
    "- словарь с оценками пользователя (*preferences*)\n",
    "- словарь с данными о схожести фильмов, *item_similarities*\n",
    "- ID пользователя, для которого строим рекомендации\n",
    "\n",
    "**Code 24:**"
   ]
  },
  {
   "cell_type": "code",
   "execution_count": 47,
   "metadata": {
    "ExecuteTime": {
     "end_time": "2021-08-12T11:43:48.281673Z",
     "start_time": "2021-08-12T11:43:48.272506Z"
    },
    "colab": {
     "base_uri": "https://localhost:8080/",
     "height": 574
    },
    "id": "PBBRcaPK_UQq",
    "outputId": "ca8bea29-a975-4bad-d9f9-b975c619b9be"
   },
   "outputs": [
    {
     "data": {
      "text/plain": [
       "[(5.0, \"What's Eating Gilbert Grape (1993)\"),\n",
       " (5.0, 'Vertigo (1958)'),\n",
       " (5.0, 'Usual Suspects, The (1995)'),\n",
       " (5.0, 'Toy Story (1995)'),\n",
       " (5.0, 'Titanic (1997)'),\n",
       " (5.0, 'Sword in the Stone, The (1963)'),\n",
       " (5.0, 'Stand by Me (1986)'),\n",
       " (5.0, 'Sling Blade (1996)'),\n",
       " (5.0, 'Silence of the Lambs, The (1991)'),\n",
       " (5.0, 'Shining, The (1980)'),\n",
       " (5.0, 'Shine (1996)'),\n",
       " (5.0, 'Sense and Sensibility (1995)'),\n",
       " (5.0, 'Scream (1996)'),\n",
       " (5.0, 'Rumble in the Bronx (1995)'),\n",
       " (5.0, 'Rock, The (1996)'),\n",
       " (5.0, 'Robin Hood: Prince of Thieves (1991)'),\n",
       " (5.0, 'Reservoir Dogs (1992)'),\n",
       " (5.0, 'Police Story 4: Project S (Chao ji ji hua) (1993)'),\n",
       " (5.0, 'House of the Spirits, The (1993)'),\n",
       " (5.0, 'Fresh (1994)'),\n",
       " (5.0, 'Denise Calls Up (1995)'),\n",
       " (5.0, 'Day the Sun Turned Cold, The (Tianguo niezi) (1994)'),\n",
       " (5.0, 'Before the Rain (Pred dozhdot) (1994)'),\n",
       " (5.0, 'Assignment, The (1997)'),\n",
       " (5.0, '1-900 (1994)'),\n",
       " (4.875, \"Ed's Next Move (1996)\"),\n",
       " (4.833333333333333, 'Anna (1996)'),\n",
       " (4.8, 'Dark City (1998)'),\n",
       " (4.75, 'Flower of My Secret, The (Flor de mi secreto, La) (1995)'),\n",
       " (4.75, 'Broken English (1996)')]"
      ]
     },
     "execution_count": 47,
     "metadata": {},
     "output_type": "execute_result"
    }
   ],
   "source": [
    "get_recommended_items(preferences, item_similarities, \"87\")[0:30]"
   ]
  },
  {
   "cell_type": "markdown",
   "metadata": {
    "id": "zNZtg9hy_UQt"
   },
   "source": [
    "Выведем список фильмов, которые пользователь с id `87` оценил максимальным баллом:\n",
    "\n",
    "**Code 25:**"
   ]
  },
  {
   "cell_type": "code",
   "execution_count": 48,
   "metadata": {
    "ExecuteTime": {
     "end_time": "2021-08-12T11:43:48.286940Z",
     "start_time": "2021-08-12T11:43:48.282940Z"
    },
    "colab": {
     "base_uri": "https://localhost:8080/",
     "height": 1000
    },
    "id": "K1BUEJFc_UQt",
    "outputId": "766e8d94-216f-479b-eae7-8ee3194ed921",
    "scrolled": true
   },
   "outputs": [
    {
     "data": {
      "text/plain": [
       "{'Jurassic Park (1993)': 5.0,\n",
       " 'Indiana Jones and the Last Crusade (1989)': 5.0,\n",
       " 'Good, The Bad and The Ugly, The (1966)': 5.0,\n",
       " 'Dead Poets Society (1989)': 5.0,\n",
       " 'M*A*S*H (1970)': 5.0,\n",
       " '2001: A Space Odyssey (1968)': 5.0,\n",
       " 'Four Weddings and a Funeral (1994)': 5.0,\n",
       " 'Prefontaine (1997)': 5.0,\n",
       " 'This Is Spinal Tap (1984)': 5.0,\n",
       " 'Cool Hand Luke (1967)': 5.0,\n",
       " 'True Lies (1994)': 5.0,\n",
       " 'Sleepless in Seattle (1993)': 5.0,\n",
       " 'Young Frankenstein (1974)': 5.0,\n",
       " 'Fugitive, The (1993)': 5.0,\n",
       " 'In the Line of Fire (1993)': 5.0,\n",
       " 'Speed (1994)': 5.0,\n",
       " 'Terminator 2: Judgment Day (1991)': 5.0,\n",
       " 'Shawshank Redemption, The (1994)': 5.0,\n",
       " 'Clear and Present Danger (1994)': 5.0,\n",
       " 'Dances with Wolves (1990)': 5.0,\n",
       " 'Adventures of Robin Hood, The (1938)': 5.0,\n",
       " 'Blues Brothers, The (1980)': 5.0,\n",
       " 'Babe (1995)': 5.0,\n",
       " 'Top Gun (1986)': 5.0,\n",
       " 'Get Shorty (1995)': 5.0,\n",
       " 'Wizard of Oz, The (1939)': 5.0,\n",
       " 'When Harry Met Sally... (1989)': 5.0,\n",
       " 'Star Trek IV: The Voyage Home (1986)': 5.0,\n",
       " 'Net, The (1995)': 5.0,\n",
       " 'Fargo (1996)': 5.0,\n",
       " 'Stargate (1994)': 5.0,\n",
       " 'Groundhog Day (1993)': 5.0,\n",
       " 'Bridge on the River Kwai, The (1957)': 5.0,\n",
       " 'Star Trek: The Wrath of Khan (1982)': 5.0,\n",
       " 'Bananas (1971)': 5.0,\n",
       " 'French Kiss (1995)': 5.0,\n",
       " 'Empire Strikes Back, The (1980)': 5.0,\n",
       " 'Return of the Jedi (1983)': 5.0,\n",
       " 'Butch Cassidy and the Sundance Kid (1969)': 5.0,\n",
       " 'Star Wars (1977)': 5.0,\n",
       " 'Magnificent Seven, The (1954)': 5.0,\n",
       " 'Back to the Future (1985)': 5.0,\n",
       " 'Terminator, The (1984)': 5.0,\n",
       " 'Fish Called Wanda, A (1988)': 5.0,\n",
       " \"It's a Wonderful Life (1946)\": 5.0,\n",
       " 'Renaissance Man (1994)': 5.0,\n",
       " 'American President, The (1995)': 5.0,\n",
       " 'I.Q. (1994)': 5.0,\n",
       " 'While You Were Sleeping (1995)': 5.0,\n",
       " 'Independence Day (ID4) (1996)': 5.0,\n",
       " 'Raiders of the Lost Ark (1981)': 5.0,\n",
       " 'Quiet Man, The (1952)': 5.0,\n",
       " 'Sting, The (1973)': 5.0,\n",
       " 'Days of Thunder (1990)': 5.0}"
      ]
     },
     "execution_count": 48,
     "metadata": {},
     "output_type": "execute_result"
    }
   ],
   "source": [
    "{x: preferences[\"87\"][x] for x in preferences[\"87\"] if preferences[\"87\"][x] == 5}"
   ]
  },
  {
   "cell_type": "markdown",
   "metadata": {
    "id": "Z97RjzWY_UQz"
   },
   "source": [
    "Валидация для моделей рекомендательных систем устроена достаточно сложно.\n",
    "Например, нам нужно забыть часть рейтингов фильмов для пользователя, а потом попытаться восстановить их с\n",
    "помощью нашей модели.\n",
    "\n",
    "В данном случае, мы можем оценить адекватность полученных рекомендаций, просмотрев списки фильмов. Однако, на текущем датасете, из-за размера выборки, такое сделать сложно.\n",
    "\n",
    "Приведем примеры интерпретации:\n",
    "\n",
    "- В случае использования расстояния, основанного на коррелции, модель рекомендует в первую очередь боевики\n",
    "- В случае использование похожестей фильмов мы видим как общепризнанные шедевры, так и боевики\n",
    "- В реальности пользователю нравятся фильмы, которые нравятся всем, приключенческие фильмы и боевики\n",
    "\n",
    "С такой точки зрения оба списка рекомендаций кажутся адекватным, а то, что они не пересекаются связано с тем,\n",
    "что есть много похожих друг на друга фильмов - и мы не можем рекомендовать сразу все такие фильмы пользователю."
   ]
  },
  {
   "cell_type": "markdown",
   "metadata": {
    "id": "vNcZplo7_UQz"
   },
   "source": [
    "Для рекомендательных систем есть специальные библиотеки, например, https://surprise.readthedocs.io/, однако, их применение требует более глубокого знакомства с темой (которое мы проведём далее)."
   ]
  },
  {
   "cell_type": "code",
   "execution_count": 49,
   "metadata": {
    "ExecuteTime": {
     "end_time": "2021-08-12T11:43:48.290416Z",
     "start_time": "2021-08-12T11:43:48.288111Z"
    },
    "id": "cfxwVA9jM5GG"
   },
   "outputs": [],
   "source": [
    "real = list(\n",
    "    {x: preferences[\"87\"][x] for x in preferences[\"87\"] if preferences[\"87\"][x] == 5}.keys()\n",
    ")"
   ]
  },
  {
   "cell_type": "code",
   "execution_count": 50,
   "metadata": {
    "ExecuteTime": {
     "end_time": "2021-08-12T11:43:48.549249Z",
     "start_time": "2021-08-12T11:43:48.291920Z"
    },
    "colab": {
     "base_uri": "https://localhost:8080/",
     "height": 884
    },
    "id": "Ww7DmG03NfnJ",
    "outputId": "9e0bf062-e977-4cc3-f4cd-fda2635b7382",
    "scrolled": true
   },
   "outputs": [
    {
     "name": "stdout",
     "output_type": "stream",
     "text": [
      "False\n",
      "False\n",
      "False\n",
      "False\n",
      "False\n",
      "False\n",
      "False\n",
      "False\n",
      "False\n",
      "False\n",
      "False\n",
      "False\n",
      "False\n",
      "False\n",
      "False\n",
      "False\n",
      "False\n",
      "False\n",
      "False\n",
      "False\n",
      "False\n",
      "False\n",
      "False\n",
      "False\n",
      "False\n",
      "False\n",
      "False\n",
      "False\n",
      "False\n",
      "False\n",
      "False\n",
      "False\n",
      "False\n",
      "False\n",
      "False\n",
      "False\n",
      "False\n",
      "False\n",
      "False\n",
      "False\n",
      "False\n",
      "False\n",
      "False\n",
      "False\n",
      "False\n",
      "False\n",
      "False\n",
      "False\n",
      "False\n",
      "False\n"
     ]
    }
   ],
   "source": [
    "for i in range(0, 50):\n",
    "    print(get_recommended_items(preferences, item_similarities, \"87\")[:50][i][1] in real)"
   ]
  }
 ],
 "metadata": {
  "colab": {
   "collapsed_sections": [],
   "name": "level1_seminar3_recommender_system.ipynb",
   "provenance": [],
   "toc_visible": true
  },
  "kernelspec": {
   "display_name": "Python [conda env:ml-mipt]",
   "language": "python",
   "name": "conda-env-ml-mipt-py"
  },
  "language_info": {
   "codemirror_mode": {
    "name": "ipython",
    "version": 3
   },
   "file_extension": ".py",
   "mimetype": "text/x-python",
   "name": "python",
   "nbconvert_exporter": "python",
   "pygments_lexer": "ipython3",
   "version": "3.8.13"
  },
  "name": "lesson11_recsys.ipynb",
  "toc": {
   "base_numbering": 1,
   "nav_menu": {},
   "number_sections": true,
   "sideBar": true,
   "skip_h1_title": false,
   "title_cell": "Table of Contents",
   "title_sidebar": "Contents",
   "toc_cell": false,
   "toc_position": {
    "height": "calc(100% - 180px)",
    "left": "10px",
    "top": "150px",
    "width": "384px"
   },
   "toc_section_display": true,
   "toc_window_display": true
  }
 },
 "nbformat": 4,
 "nbformat_minor": 1
}
