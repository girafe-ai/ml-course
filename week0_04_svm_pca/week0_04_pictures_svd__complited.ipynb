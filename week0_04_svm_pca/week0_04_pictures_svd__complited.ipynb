{
 "cells": [
  {
   "cell_type": "markdown",
   "metadata": {},
   "source": [
    "# Pictures compression using SVD\n",
    "In this exercise you are supposed to study how SVD could be used in image compression.\n",
    "\n",
    "_Based on open course in [Numerical Linear Algebra](https://github.com/oseledets/nla2018) by Ivan Oseledets_"
   ]
  },
  {
   "cell_type": "code",
   "execution_count": null,
   "metadata": {},
   "outputs": [],
   "source": [
    "# If you are using colab, uncomment this cell\n",
    "\n",
    "# ! wget https://raw.githubusercontent.com/girafe-ai/ml-mipt/a5bf18c/datasets/waiting.jpeg\n",
    "# ! wget https://raw.githubusercontent.com/girafe-ai/ml-mipt/a5bf18c/datasets/mipt.jpg\n",
    "# ! wget https://raw.githubusercontent.com/girafe-ai/ml-mipt/a5bf18c/datasets/simpsons.jpg\n",
    "\n",
    "# ! mkdir ../dataset\n",
    "# ! mv -t ../dataset waiting.jpeg mipt.jpg simpsons.jpg"
   ]
  },
  {
   "cell_type": "code",
   "execution_count": null,
   "metadata": {},
   "outputs": [],
   "source": [
    "%matplotlib inline\n",
    "import matplotlib.pyplot as plt\n",
    "import numpy as np\n",
    "from PIL import Image"
   ]
  },
  {
   "cell_type": "markdown",
   "metadata": {},
   "source": [
    "## 1. Singular values\n",
    "\n",
    "Compute the singular values of some predownloaded image (via the code provided below) and plot them. Do not forget to use logarithmic scale."
   ]
  },
  {
   "cell_type": "code",
   "execution_count": null,
   "metadata": {},
   "outputs": [],
   "source": [
    "face_raw = Image.open(\"../dataset/waiting.jpeg\")\n",
    "face = np.array(face_raw).astype(np.uint8)\n",
    "\n",
    "plt.imshow(face_raw)\n",
    "plt.xticks(())\n",
    "plt.yticks(())\n",
    "plt.title(\"Original Picture\")\n",
    "plt.show()"
   ]
  },
  {
   "cell_type": "code",
   "execution_count": null,
   "metadata": {},
   "outputs": [],
   "source": [
    "# Image is saved as a 3-dimensional array with shape H x W x C (heigt x width x channels)\n",
    "Rf = face[:, :, 0]\n",
    "Gf = face[:, :, 1]\n",
    "Bf = face[:, :, 2]\n",
    "\n",
    "# Compute SVD and plot the singular values for different image channels\n",
    "u, Rs, vh = np.linalg.svd(Rf, full_matrices=False)\n",
    "u, Gs, vh = np.linalg.svd(Gf, full_matrices=False)\n",
    "u, Bs, vh = np.linalg.svd(Bf, full_matrices=False)\n",
    "\n",
    "plt.figure(figsize=(12, 7))\n",
    "plt.plot(Rs, \"ro\")\n",
    "plt.plot(Gs, \"g.\")\n",
    "plt.plot(Bs, \"b:\")\n",
    "plt.yscale(\"log\")\n",
    "plt.ylabel(\"Singular vals\")\n",
    "plt.show()"
   ]
  },
  {
   "cell_type": "markdown",
   "metadata": {},
   "source": [
    "## 2. Compress\n",
    "\n",
    "Complete a function ```compress```, that performs SVD and truncates it (using $k$ singular values/vectors). See the prototype below. \n",
    "\n",
    "Note, that in case when your images are not grayscale you have to split your image to channels and work with matrices corresponding to different channels separately.\n",
    "\n",
    "Plot approximate reconstructed image $M_\\varepsilon$ of your favorite image such that $rank(M_\\varepsilon) = 5, 20, 50$ using ```plt.subplots```."
   ]
  },
  {
   "cell_type": "code",
   "execution_count": null,
   "metadata": {},
   "outputs": [],
   "source": [
    "def compress(image: np.ndarray, k: int) -> (np.ndarray, np.ndarray):\n",
    "    \"\"\"\n",
    "    Perform svd decomposition and truncate it (using k singular values/vectors)\n",
    "\n",
    "    Parameters:\n",
    "        image (np.array): input image (probably, colourful)\n",
    "        k (int): approximation rank\n",
    "\n",
    "    Returns:\n",
    "      reconst_matrix (np.array): reconstructed matrix (tensor in colourful case)\n",
    "      s (np.array): array of singular values\n",
    "    \"\"\"\n",
    "    image2 = image.copy()\n",
    "\n",
    "    Rf = image2[:, :, 0]\n",
    "    Gf = image2[:, :, 1]\n",
    "    Bf = image2[:, :, 2]\n",
    "\n",
    "    # compute per-channel SVD for and reconstruct the input image with the given approximation rank\n",
    "    Ru, Rs, Rvh = np.linalg.svd(Rf, full_matrices=False)\n",
    "    Gu, Gs, Gvh = np.linalg.svd(Gf, full_matrices=False)\n",
    "    Bu, Bs, Bvh = np.linalg.svd(Bf, full_matrices=False)\n",
    "    Rs = Rs[:k]\n",
    "    Gs = Gs[:k]\n",
    "    Bs = Bs[:k]\n",
    "\n",
    "    reduced_im = np.zeros((image.shape), np.uint8)\n",
    "    Red = Ru[:, :k] @ np.diag(Rs) @ Rvh[:k, :]\n",
    "    Green = Gu[:, :k] @ np.diag(Gs) @ Gvh[:k, :]\n",
    "    Blue = Bu[:, :k] @ np.diag(Bs) @ Bvh[:k, :]\n",
    "    reduced_im[:, :, 0] = Red\n",
    "    reduced_im[:, :, 1] = Green\n",
    "    reduced_im[:, :, 2] = Blue\n",
    "\n",
    "    s = np.zeros((len(Gs), 3))\n",
    "    s[:, 0] = Rs\n",
    "    s[:, 1] = Gs\n",
    "    s[:, 2] = Bs\n",
    "    return reduced_im.copy(), s"
   ]
  },
  {
   "cell_type": "code",
   "execution_count": null,
   "metadata": {},
   "outputs": [],
   "source": [
    "plt.figure(figsize=(18, 12))\n",
    "for i, k in enumerate([350, 300, 250, 200, 150, 100, 50, 20, 5]):\n",
    "    plt.subplot(3, 3, i + 1)\n",
    "    im, s = compress(face, k)\n",
    "    plt.imshow(Image.fromarray(im, \"RGB\"))\n",
    "    plt.xticks(())\n",
    "    plt.yticks(())\n",
    "    plt.title(f\"{k} greatest SV\")"
   ]
  },
  {
   "cell_type": "markdown",
   "metadata": {},
   "source": [
    "## 3. Discover\n",
    "\n",
    "Plot the following two figures for your favorite picture\n",
    "* How relative error of approximation depends on the rank of approximation?\n",
    "* How compression rate in terms of storing information ((singular vectors + singular numbers) / total size of image) depends on the rank of approximation?"
   ]
  },
  {
   "cell_type": "code",
   "execution_count": null,
   "metadata": {},
   "outputs": [],
   "source": [
    "def compute_relative_error(image: np.ndarray, compressed_image: np.ndarray) -> np.float64:\n",
    "    image = image.astype(np.float64)\n",
    "    compressed_image = compressed_image.astype(np.float64)\n",
    "\n",
    "    # error = MSE(image, compressed_image) / l2_norm(image)\n",
    "    relative_error = np.linalg.norm(image - compressed_image)\n",
    "    relative_error /= np.linalg.norm(image)\n",
    "\n",
    "    return relative_error"
   ]
  },
  {
   "cell_type": "code",
   "execution_count": null,
   "metadata": {},
   "outputs": [],
   "source": [
    "# fancy progress bar\n",
    "from tqdm.auto import tqdm\n",
    "\n",
    "\n",
    "k_list = range(5, 386, 5)\n",
    "rel_err = []\n",
    "info = []\n",
    "for k in tqdm(k_list, leave=False):\n",
    "    img, _ = compress(face, k)\n",
    "\n",
    "    current_relative_error = compute_relative_error(face, img)\n",
    "\n",
    "    # U(385xK) @ S(diag KxK) @ V^T(Kx498)\n",
    "    current_information = k * (385 + 1 + 498)\n",
    "\n",
    "    rel_err.append(current_relative_error)\n",
    "    info.append(current_information)\n",
    "\n",
    "plt.figure(figsize=(12, 7))\n",
    "\n",
    "plt.subplot(2, 1, 1)\n",
    "plt.title(\"Memory volume plot\")\n",
    "plt.xlabel(\"Rank\")\n",
    "plt.ylabel(\"Bytes\")\n",
    "plt.plot(k_list, info)\n",
    "\n",
    "plt.subplot(2, 1, 2)\n",
    "plt.title(\"Relative error plot\")\n",
    "plt.xlabel(\"Rank\")\n",
    "plt.ylabel(\"Rel err value\")\n",
    "plt.plot(k_list, rel_err)\n",
    "\n",
    "plt.tight_layout()\n",
    "plt.show()"
   ]
  },
  {
   "cell_type": "markdown",
   "metadata": {},
   "source": [
    "## 4. Compare\n",
    "\n",
    " Consider the following two pictures. Compute their approximations (with the same rank, or relative error). What do you see? Explain results."
   ]
  },
  {
   "cell_type": "code",
   "execution_count": null,
   "metadata": {},
   "outputs": [],
   "source": [
    "image_raw1 = Image.open(\"../dataset/mipt.jpg\")\n",
    "image_raw2 = Image.open(\"../dataset/simpsons.jpg\")\n",
    "\n",
    "image1 = np.array(image_raw1).astype(np.uint8)\n",
    "image2 = np.array(image_raw2).astype(np.uint8)\n",
    "\n",
    "plt.figure(figsize=(18, 6))\n",
    "plt.subplot(1, 2, 1)\n",
    "plt.imshow(image_raw1)\n",
    "plt.title(\"One Picture\")\n",
    "plt.xticks(())\n",
    "plt.yticks(())\n",
    "\n",
    "plt.subplot(1, 2, 2)\n",
    "plt.imshow(image_raw2)\n",
    "plt.title(\"Another Picture\")\n",
    "plt.xticks(())\n",
    "plt.yticks(())\n",
    "\n",
    "plt.show()"
   ]
  },
  {
   "cell_type": "markdown",
   "metadata": {},
   "source": [
    "### Same Rank"
   ]
  },
  {
   "cell_type": "code",
   "execution_count": null,
   "metadata": {},
   "outputs": [],
   "source": [
    "im1, _ = compress(image1, 100)\n",
    "im2, _ = compress(image2, 100)\n",
    "\n",
    "plt.figure(figsize=(18, 6))\n",
    "\n",
    "plt.subplot(1, 2, 1)\n",
    "plt.imshow(Image.fromarray(im1, \"RGB\"))\n",
    "plt.xticks(())\n",
    "plt.yticks(())\n",
    "\n",
    "plt.subplot(1, 2, 2)\n",
    "plt.imshow(Image.fromarray(im2, \"RGB\"))\n",
    "plt.xticks(())\n",
    "plt.yticks(())\n",
    "\n",
    "plt.show()"
   ]
  },
  {
   "cell_type": "markdown",
   "metadata": {},
   "source": [
    "### Same Relative Error"
   ]
  },
  {
   "cell_type": "code",
   "execution_count": null,
   "metadata": {},
   "outputs": [],
   "source": [
    "k_list = range(5, 500, 1)\n",
    "rel_err1 = []\n",
    "rel_err2 = []\n",
    "relative_error_threshold = 0.15\n",
    "\n",
    "for k in tqdm(k_list):\n",
    "    image1_compressed, s = compress(image1, k)\n",
    "    image2_compressed, s = compress(image2, k)\n",
    "\n",
    "    relative_error_1 = compute_relative_error(image1, image1_compressed)\n",
    "    relative_error_2 = compute_relative_error(image2, image2_compressed)\n",
    "\n",
    "    rel_err1.append(relative_error_1)\n",
    "    rel_err2.append(relative_error_2)\n",
    "\n",
    "# find the indices\n",
    "idx1 = int(np.argwhere(np.diff(np.sign(np.array(rel_err1) - relative_error_threshold))).flatten())\n",
    "idx2 = int(np.argwhere(np.diff(np.sign(np.array(rel_err2) - relative_error_threshold))).flatten())\n",
    "print(\"K1 = {}; K2 = {}\".format(k_list[idx1], k_list[idx2]))\n",
    "\n",
    "plt.figure(figsize=(12, 7))\n",
    "\n",
    "plt.plot(k_list[idx1], rel_err1[idx1], \"ro\")\n",
    "plt.plot(k_list[idx2], rel_err2[idx2], \"ro\")\n",
    "plt.title(\"Rel err for 2 pics\")\n",
    "plt.xlabel(\"Rank\")\n",
    "plt.ylabel(\"Rel error val\")\n",
    "\n",
    "plt.plot(k_list, rel_err1, label=\"Image 1\")\n",
    "plt.plot(k_list, rel_err2, label=\"Image 2\")\n",
    "plt.plot(k_list, [relative_error_threshold] * len(k_list), \":\")\n",
    "\n",
    "plt.legend()\n",
    "plt.show()"
   ]
  },
  {
   "cell_type": "code",
   "execution_count": null,
   "metadata": {},
   "outputs": [],
   "source": [
    "image1_compressed, _ = compress(image1, idx1)\n",
    "image2_compressed, _ = compress(image2, idx2)\n",
    "\n",
    "plt.figure(figsize=(18, 6))\n",
    "\n",
    "plt.subplot(1, 2, 1)\n",
    "plt.imshow(Image.fromarray(image1_compressed, \"RGB\"))\n",
    "plt.xticks(())\n",
    "plt.yticks(())\n",
    "\n",
    "plt.subplot(1, 2, 2)\n",
    "plt.imshow(Image.fromarray(image2_compressed, \"RGB\"))\n",
    "plt.xticks(())\n",
    "plt.yticks(())\n",
    "plt.show()"
   ]
  }
 ],
 "metadata": {
  "kernelspec": {
   "display_name": "Python 3",
   "language": "python",
   "name": "python3"
  },
  "language_info": {
   "codemirror_mode": {
    "name": "ipython",
    "version": 3
   },
   "file_extension": ".py",
   "mimetype": "text/x-python",
   "name": "python",
   "nbconvert_exporter": "python",
   "pygments_lexer": "ipython3",
   "version": "3.8.11"
  }
 },
 "nbformat": 4,
 "nbformat_minor": 2
}
