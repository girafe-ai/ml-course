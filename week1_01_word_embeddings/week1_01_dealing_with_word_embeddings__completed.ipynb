{
 "cells": [
  {
   "cell_type": "markdown",
   "metadata": {
    "id": "02ZfltAhzOgl"
   },
   "source": [
    "## Practice: Dealing with Word Embeddings\n",
    "##### Credits: embeddings visualization is based on the notebook by [YSDA NLP course](https://github.com/yandexdataschool/nlp_course)\n",
    "\n",
    "Today we gonna play with word embeddings: train our own little embedding, load one from   gensim model zoo and use it to visualize text corpora.\n",
    "\n",
    "This whole thing is gonna happen on top of embedding dataset.\n",
    "\n",
    "__Requirements:__ if you're running locally, in the selected environment run the following command:\n",
    "\n",
    "```pip install --upgrade nltk gensim bokeh umap-learn```"
   ]
  },
  {
   "cell_type": "code",
   "execution_count": null,
   "metadata": {
    "id": "ZG1D1VYxzOgq"
   },
   "outputs": [],
   "source": [
    "import string\n",
    "\n",
    "import numpy as np\n",
    "import umap\n",
    "from IPython.display import clear_output\n",
    "from matplotlib import pyplot as plt\n",
    "from nltk.tokenize import WordPunctTokenizer"
   ]
  },
  {
   "cell_type": "markdown",
   "metadata": {},
   "source": [
    "Download the data (alternative download link: https://yadi.sk/i/BPQrUu1NaTduEw)"
   ]
  },
  {
   "cell_type": "code",
   "execution_count": null,
   "metadata": {
    "colab": {
     "base_uri": "https://localhost:8080/"
    },
    "id": "gn2OmjnWzOgs",
    "outputId": "6b95a6e0-2f68-4df4-a61f-3d531a51211a"
   },
   "outputs": [],
   "source": [
    "import sys\n",
    "\n",
    "\n",
    "if \"google.colab\" in sys.modules:\n",
    "    !wget \"https://www.dropbox.com/s/obaitrix9jyu84r/quora.txt?dl=1\" -O ./quora.txt -nc"
   ]
  },
  {
   "cell_type": "code",
   "execution_count": null,
   "metadata": {
    "colab": {
     "base_uri": "https://localhost:8080/",
     "height": 58
    },
    "id": "qQpRIS02zOgu",
    "outputId": "93141c9b-d9ba-43b6-c562-5c9541135a88",
    "scrolled": false
   },
   "outputs": [],
   "source": [
    "data = list(open(\"./quora.txt\", encoding=\"utf-8\"))\n",
    "data[50]"
   ]
  },
  {
   "cell_type": "markdown",
   "metadata": {
    "id": "5ePOBJPhzOgu"
   },
   "source": [
    "__Tokenization:__ a typical first step for an nlp task is to split raw data into words.\n",
    "The text we're working with is in raw format: with all the punctuation and smiles attached to some words, so a simple str.split won't do.\n",
    "\n",
    "Let's use __`nltk`__ - a library that handles many nlp tasks like tokenization, stemming or part-of-speech tagging."
   ]
  },
  {
   "cell_type": "code",
   "execution_count": null,
   "metadata": {
    "colab": {
     "base_uri": "https://localhost:8080/"
    },
    "id": "gyYXKgoPzOgv",
    "outputId": "359cf795-c4ba-40ca-fb92-679979e1da3a"
   },
   "outputs": [],
   "source": [
    "tokenizer = WordPunctTokenizer()\n",
    "\n",
    "print(tokenizer.tokenize(data[50]))"
   ]
  },
  {
   "cell_type": "code",
   "execution_count": null,
   "metadata": {
    "id": "HDJpVwiRzOgw"
   },
   "outputs": [],
   "source": [
    "# TASK: lowercase everything and extract tokens with tokenizer.\n",
    "# data_tok should be a list of lists of tokens for each line in data.\n",
    "\n",
    "data_tok = [tokenizer.tokenize(x.lower()) for x in data]"
   ]
  },
  {
   "cell_type": "markdown",
   "metadata": {
    "id": "z1KoCy-yzOgw"
   },
   "source": [
    "Let's peek at the result:"
   ]
  },
  {
   "cell_type": "code",
   "execution_count": null,
   "metadata": {
    "colab": {
     "base_uri": "https://localhost:8080/",
     "height": 58
    },
    "id": "GmKD6oPJzOgw",
    "outputId": "1cff423e-43f3-4439-ef2a-a1fd9260d318"
   },
   "outputs": [],
   "source": [
    "\" \".join(data_tok[0])"
   ]
  },
  {
   "cell_type": "markdown",
   "metadata": {
    "id": "al9oS1v-zOgx"
   },
   "source": [
    "Small check that everything is alright"
   ]
  },
  {
   "cell_type": "code",
   "execution_count": null,
   "metadata": {
    "id": "hy3cDzCHzOgx"
   },
   "outputs": [],
   "source": [
    "assert all(\n",
    "    isinstance(row, (list, tuple)) for row in data_tok\n",
    "), \"please convert each line into a list of tokens (strings)\"\n",
    "assert all(\n",
    "    all(isinstance(tok, str) for tok in row) for row in data_tok\n",
    "), \"please convert each line into a list of tokens (strings)\"\n",
    "is_latin = lambda tok: all(\"a\" <= x.lower() <= \"z\" for x in tok)  # noqa: E731\n",
    "assert all(\n",
    "    map(lambda l: not is_latin(l) or l.islower(), map(\" \".join, data_tok))\n",
    "), \"please make sure to lowercase the data\""
   ]
  },
  {
   "cell_type": "markdown",
   "metadata": {
    "id": "07_VQTqtzOgy"
   },
   "source": [
    "__Word vectors:__ as the saying goes, there's more than one way to train word embeddings. There's Word2Vec and GloVe with different objective functions. Then there's fasttext that uses character-level models to train word embeddings. \n",
    "\n",
    "The choice is huge, so let's start someplace small: __gensim__ is another NLP library that features many vector-based models incuding word2vec."
   ]
  },
  {
   "cell_type": "code",
   "execution_count": null,
   "metadata": {
    "id": "8I2WYCsHzOgy"
   },
   "outputs": [],
   "source": [
    "from gensim.models import Word2Vec\n",
    "\n",
    "\n",
    "model = Word2Vec(\n",
    "    data_tok,\n",
    "    vector_size=32,  # embedding vector size\n",
    "    min_count=5,  # consider words that occured at least 5 times\n",
    "    window=5,\n",
    ").wv  # define context as a 5-word window around the target word"
   ]
  },
  {
   "cell_type": "code",
   "execution_count": null,
   "metadata": {
    "colab": {
     "base_uri": "https://localhost:8080/"
    },
    "id": "aYP3GodTzOgz",
    "outputId": "08bfdaef-a2cf-4b31-f9cf-f77bc17c3fec"
   },
   "outputs": [],
   "source": [
    "# now you can get word vectors!\n",
    "model.get_vector(\"cat\")"
   ]
  },
  {
   "cell_type": "code",
   "execution_count": null,
   "metadata": {
    "colab": {
     "base_uri": "https://localhost:8080/"
    },
    "id": "1UdUs-pSzOgz",
    "outputId": "5e363ea3-86da-4b66-acab-bedc9b6ea50f"
   },
   "outputs": [],
   "source": [
    "# or query similar words directly. Go play with it!\n",
    "model.most_similar(\"rat\")"
   ]
  },
  {
   "cell_type": "markdown",
   "metadata": {
    "id": "-wXF6XyjzOg0"
   },
   "source": [
    "### Using pre-trained model\n",
    "\n",
    "Took it a while, huh? Now imagine training life-sized (100~300D) word embeddings on gigabytes of text: wikipedia articles or twitter posts. \n",
    "\n",
    "Thankfully, nowadays you can get a pre-trained word embedding model in 2 lines of code (no sms required, promise)."
   ]
  },
  {
   "cell_type": "code",
   "execution_count": null,
   "metadata": {
    "id": "aZAzPP7JzOg0"
   },
   "outputs": [],
   "source": [
    "import gensim.downloader as api\n",
    "\n",
    "\n",
    "model = api.load(\"glove-twitter-25\")"
   ]
  },
  {
   "cell_type": "code",
   "execution_count": null,
   "metadata": {
    "colab": {
     "base_uri": "https://localhost:8080/"
    },
    "id": "daw7BlKdzOg0",
    "outputId": "00fcb8a5-dcbb-44d5-8eb5-b7b01dc8f8bf"
   },
   "outputs": [],
   "source": [
    "model.most_similar(positive=[\"stick\"], negative=[\"tree\"])"
   ]
  },
  {
   "cell_type": "markdown",
   "metadata": {
    "id": "oiEG3aEVzOg1"
   },
   "source": [
    "### Visualizing word vectors\n",
    "\n",
    "One way to see if our vectors are any good is to plot them. Thing is, those vectors are in 30D+ space and we humans are more used to 2-3D.\n",
    "\n",
    "Luckily, we machine learners know about __dimensionality reduction__ methods.\n",
    "\n",
    "Let's use that to plot 1000 most frequent words"
   ]
  },
  {
   "cell_type": "code",
   "execution_count": null,
   "metadata": {
    "colab": {
     "base_uri": "https://localhost:8080/"
    },
    "id": "qNxsXqVszOg2",
    "outputId": "ced61e31-f687-4095-fafe-b239e9bfd96b"
   },
   "outputs": [],
   "source": [
    "model.sort_by_descending_frequency()\n",
    "words = list(model.key_to_index.keys())[:1000]\n",
    "\n",
    "print(words[::100])"
   ]
  },
  {
   "cell_type": "code",
   "execution_count": null,
   "metadata": {
    "id": "JeVQ3EjOzOg2"
   },
   "outputs": [],
   "source": [
    "# for each word, compute it's vector with model\n",
    "word_vectors = np.asarray([model[x] for x in words])"
   ]
  },
  {
   "cell_type": "code",
   "execution_count": null,
   "metadata": {
    "id": "l-JvM_GHzOg3"
   },
   "outputs": [],
   "source": [
    "assert isinstance(word_vectors, np.ndarray)\n",
    "assert word_vectors.shape == (len(words), 25)\n",
    "assert np.isfinite(word_vectors).all()"
   ]
  },
  {
   "cell_type": "code",
   "execution_count": null,
   "metadata": {
    "colab": {
     "base_uri": "https://localhost:8080/"
    },
    "id": "yvnIvKJIzOg3",
    "outputId": "5bc784ca-28e4-4111-9bc5-aeccf5697b8c"
   },
   "outputs": [],
   "source": [
    "word_vectors.shape"
   ]
  },
  {
   "cell_type": "markdown",
   "metadata": {
    "id": "v-xFaWYMzOg3"
   },
   "source": [
    "#### Linear projection: PCA\n",
    "\n",
    "The simplest linear dimensionality reduction method is __P__rincipial __C__omponent __A__nalysis.\n",
    "\n",
    "In geometric terms, PCA tries to find axes along which most of the variance occurs. The \"natural\" axes, if you wish.\n",
    "\n",
    "<img src=\"https://github.com/yandexdataschool/Practical_RL/raw/master/yet_another_week/_resource/pca_fish.png\" style=\"width:30%\">\n",
    "\n",
    "\n",
    "Under the hood, it attempts to decompose object-feature matrix $X$ into two smaller matrices: $W$ and $\\hat W$ minimizing _mean squared error_:\n",
    "\n",
    "$$\\|(X W) \\hat{W} - X\\|^2_2 \\to_{W, \\hat{W}} \\min$$\n",
    "- $X \\in \\mathbb{R}^{n \\times m}$ - object matrix (**centered**);\n",
    "- $W \\in \\mathbb{R}^{m \\times d}$ - matrix of direct transformation;\n",
    "- $\\hat{W} \\in \\mathbb{R}^{d \\times m}$ - matrix of reverse transformation;\n",
    "- $n$ samples, $m$ original dimensions and $d$ target dimensions;\n",
    "\n"
   ]
  },
  {
   "cell_type": "code",
   "execution_count": null,
   "metadata": {
    "id": "dwD4gbivzOg4"
   },
   "outputs": [],
   "source": [
    "from sklearn.decomposition import PCA\n",
    "from sklearn.preprocessing import StandardScaler\n",
    "\n",
    "\n",
    "pca = PCA(2)\n",
    "scaler = StandardScaler()\n",
    "# map word vectors onto 2d plane with PCA. Use good old sklearn api (fit, transform)\n",
    "# after that, normalize vectors to make sure they have zero mean and unit variance\n",
    "word_vectors_pca = pca.fit_transform(word_vectors)\n",
    "word_vectors_pca = scaler.fit_transform(word_vectors_pca)\n",
    "# and maybe MORE OF YOUR CODE here :)"
   ]
  },
  {
   "cell_type": "code",
   "execution_count": null,
   "metadata": {
    "id": "HRKiP16NzOg4"
   },
   "outputs": [],
   "source": [
    "assert word_vectors_pca.shape == (len(word_vectors), 2), \"there must be a 2d vector for each word\"\n",
    "assert max(abs(word_vectors_pca.mean(0))) < 1e-5, \"points must be zero-centered\"\n",
    "assert max(abs(1.0 - word_vectors_pca.std(0))) < 1e-2, \"points must have unit variance\""
   ]
  },
  {
   "cell_type": "markdown",
   "metadata": {
    "id": "-gEIsDA_zOg5"
   },
   "source": [
    "#### Let's draw it!"
   ]
  },
  {
   "cell_type": "code",
   "execution_count": null,
   "metadata": {
    "id": "yghY6sMVzOg5"
   },
   "outputs": [],
   "source": [
    "import bokeh.models as bm\n",
    "import bokeh.plotting as pl\n",
    "from bokeh.io import output_notebook\n",
    "\n",
    "\n",
    "output_notebook()\n",
    "\n",
    "\n",
    "def draw_vectors(\n",
    "    x, y, radius=10, alpha=0.25, color=\"blue\", width=600, height=400, show=True, **kwargs\n",
    "):\n",
    "    \"\"\"draws an interactive plot for data points with auxilirary info on hover\"\"\"\n",
    "    if isinstance(color, str):\n",
    "        color = [color] * len(x)\n",
    "    data_source = bm.ColumnDataSource({\"x\": x, \"y\": y, \"color\": color, **kwargs})\n",
    "\n",
    "    fig = pl.figure(active_scroll=\"wheel_zoom\", width=width, height=height)\n",
    "    fig.scatter(\"x\", \"y\", size=radius, color=\"color\", alpha=alpha, source=data_source)\n",
    "\n",
    "    fig.add_tools(bm.HoverTool(tooltips=[(key, \"@\" + key) for key in kwargs.keys()]))\n",
    "    if show:\n",
    "        pl.show(fig)\n",
    "    return fig"
   ]
  },
  {
   "cell_type": "code",
   "execution_count": null,
   "metadata": {
    "colab": {
     "base_uri": "https://localhost:8080/",
     "height": 455
    },
    "id": "HVwErXcOzOg6",
    "outputId": "4b7cba60-7fb7-4c5d-fb0a-ee297aafd001"
   },
   "outputs": [],
   "source": [
    "draw_vectors(word_vectors_pca[:, 0], word_vectors_pca[:, 1], token=words)\n",
    "\n",
    "# hover a mouse over there and see if you can identify the clusters"
   ]
  },
  {
   "cell_type": "markdown",
   "metadata": {
    "id": "hM_dhTILzOg6"
   },
   "source": [
    "### Visualizing neighbors with UMAP\n",
    "PCA is nice but it's strictly linear and thus only able to capture coarse high-level structure of the data.\n",
    "\n",
    "If we instead want to focus on keeping neighboring points near, we could use UMAP, which is itself an embedding method. Here you can read __[more on UMAP (ru)](https://habr.com/ru/company/newprolab/blog/350584/)__ and on __[t-SNE](https://distill.pub/2016/misread-tsne/)__, which is also an embedding."
   ]
  },
  {
   "cell_type": "code",
   "execution_count": null,
   "metadata": {
    "colab": {
     "base_uri": "https://localhost:8080/"
    },
    "id": "VRltW6TGzOg7",
    "outputId": "c15e91af-9c97-40d9-872d-aa2c5d39847f"
   },
   "outputs": [],
   "source": [
    "embedding = umap.UMAP(n_neighbors=5).fit_transform(word_vectors)"
   ]
  },
  {
   "cell_type": "code",
   "execution_count": null,
   "metadata": {
    "colab": {
     "base_uri": "https://localhost:8080/",
     "height": 455
    },
    "id": "lMY4OExQzOg7",
    "outputId": "ead76692-ca81-4117-9ee2-466810adeaf2"
   },
   "outputs": [],
   "source": [
    "draw_vectors(embedding[:, 0], embedding[:, 1], token=words)\n",
    "\n",
    "# hover a mouse over there and see if you can identify the clusters"
   ]
  },
  {
   "cell_type": "markdown",
   "metadata": {
    "id": "fS3DNyVwzOg9"
   },
   "source": [
    "### Visualizing phrases\n",
    "\n",
    "Word embeddings can also be used to represent short phrases. The simplest way is to take __an average__ of vectors for all tokens in the phrase with some weights.\n",
    "\n",
    "This trick is useful to identify what data are you working with: find if there are any outliers, clusters or other artefacts.\n",
    "\n",
    "Let's try this new hammer on our data!\n"
   ]
  },
  {
   "cell_type": "code",
   "execution_count": null,
   "metadata": {
    "id": "s5O9jJPpzOg-"
   },
   "outputs": [],
   "source": [
    "def get_phrase_embedding(phrase):\n",
    "    \"\"\"\n",
    "    Convert phrase to a vector by aggregating it's word embeddings. See description above.\n",
    "    \"\"\"\n",
    "    vector = np.zeros([model.vector_size], dtype=\"float32\")\n",
    "    phrase_tokenized = tokenizer.tokenize(phrase.lower())\n",
    "    phrase_vectors = [model[x] for x in phrase_tokenized if model.has_index_for(x)]\n",
    "\n",
    "    if len(phrase_vectors) != 0:\n",
    "        vector = np.mean(phrase_vectors, axis=0)\n",
    "    return vector"
   ]
  },
  {
   "cell_type": "code",
   "execution_count": null,
   "metadata": {
    "colab": {
     "base_uri": "https://localhost:8080/",
     "height": 58
    },
    "id": "zX4pwg_azOg_",
    "outputId": "1465ed0f-cc85-4fd6-9828-3beb5721cecf"
   },
   "outputs": [],
   "source": [
    "data[402687]"
   ]
  },
  {
   "cell_type": "code",
   "execution_count": null,
   "metadata": {
    "colab": {
     "base_uri": "https://localhost:8080/"
    },
    "id": "IRDTsbzlzOhA",
    "outputId": "945c2513-c5f6-40aa-986f-a088963eed81"
   },
   "outputs": [],
   "source": [
    "get_phrase_embedding(data[402687])"
   ]
  },
  {
   "cell_type": "code",
   "execution_count": null,
   "metadata": {
    "id": "2xZP3ei8zOhA"
   },
   "outputs": [],
   "source": [
    "vector = get_phrase_embedding(\"I'm very sure. This never happened to me before...\")"
   ]
  },
  {
   "cell_type": "code",
   "execution_count": null,
   "metadata": {
    "colab": {
     "base_uri": "https://localhost:8080/"
    },
    "id": "Gg_K0vIGzOhB",
    "outputId": "a63675e6-b727-4e53-fb47-6e6d73257257"
   },
   "outputs": [],
   "source": [
    "vector"
   ]
  },
  {
   "cell_type": "code",
   "execution_count": null,
   "metadata": {
    "id": "cfleSp0TzOhB"
   },
   "outputs": [],
   "source": [
    "# let's only consider ~5k phrases for a first run.\n",
    "chosen_phrases = data[:: len(data) // 1000]\n",
    "\n",
    "# compute vectors for chosen phrases and turn them to numpy array\n",
    "phrase_vectors = np.asarray([get_phrase_embedding(x) for x in chosen_phrases])  # YOUR CODE"
   ]
  },
  {
   "cell_type": "code",
   "execution_count": null,
   "metadata": {
    "id": "a5E-m97RzOhC"
   },
   "outputs": [],
   "source": [
    "assert isinstance(phrase_vectors, np.ndarray) and np.isfinite(phrase_vectors).all()\n",
    "assert phrase_vectors.shape == (len(chosen_phrases), model.vector_size)"
   ]
  },
  {
   "cell_type": "code",
   "execution_count": null,
   "metadata": {
    "id": "9SWTa61DzOhC"
   },
   "outputs": [],
   "source": [
    "# map vectors into 2d space with pca, tsne or your other method of choice\n",
    "# don't forget to normalize\n",
    "\n",
    "phrase_vectors_2d = umap.UMAP(n_neighbors=3).fit_transform(phrase_vectors)\n",
    "# phrase_vectors_2d = pca.fit_transform(phrase_vectors)\n",
    "\n",
    "# phrase_vectors_2d = scaler.fit_transform(phrase_vectors_2d)\n",
    "# phrase_vectors_2d = (phrase_vectors_2d - phrase_vectors_2d.mean(axis=0)) / phrase_vectors_2d.std(axis=0)"
   ]
  },
  {
   "cell_type": "code",
   "execution_count": null,
   "metadata": {
    "colab": {
     "base_uri": "https://localhost:8080/",
     "height": 455
    },
    "id": "9EybsIAZzOhD",
    "outputId": "585ef03f-0680-4023-f68a-684cb6adaaea"
   },
   "outputs": [],
   "source": [
    "draw_vectors(\n",
    "    phrase_vectors_2d[:, 0],\n",
    "    phrase_vectors_2d[:, 1],\n",
    "    phrase=[phrase[:50] for phrase in chosen_phrases],\n",
    "    radius=20,\n",
    ")"
   ]
  },
  {
   "cell_type": "markdown",
   "metadata": {
    "id": "LZPmrDBxzOhD"
   },
   "source": [
    "Finally, let's build a simple \"similar question\" engine with phrase embeddings we've built."
   ]
  },
  {
   "cell_type": "code",
   "execution_count": null,
   "metadata": {
    "id": "t_eOw_A4zOhE"
   },
   "outputs": [],
   "source": [
    "# compute vector embedding for all lines in data\n",
    "data_vectors = np.vstack([get_phrase_embedding(line) for line in data])"
   ]
  },
  {
   "cell_type": "code",
   "execution_count": null,
   "metadata": {
    "id": "580sztdBzOhE"
   },
   "outputs": [],
   "source": [
    "norms = np.linalg.norm(data_vectors, axis=1)"
   ]
  },
  {
   "cell_type": "code",
   "execution_count": null,
   "metadata": {
    "id": "hQwOmZHbzOhE"
   },
   "outputs": [],
   "source": [
    "printable_set = set(string.printable)"
   ]
  },
  {
   "cell_type": "code",
   "execution_count": null,
   "metadata": {
    "id": "EcFUO5fHzOhF"
   },
   "outputs": [],
   "source": [
    "data_subset = [x for x in data if set(x).issubset(printable_set)]"
   ]
  },
  {
   "cell_type": "code",
   "execution_count": null,
   "metadata": {
    "id": "mD2S7HF6zOhF"
   },
   "outputs": [],
   "source": [
    "def find_nearest(query, k=10):\n",
    "    \"\"\"\n",
    "    given text line (query), return k most similar lines from data, sorted from most to least similar\n",
    "    similarity should be measured as cosine between query and line embedding vectors\n",
    "    hint: it's okay to use global variables: data and data_vectors. see also: np.argpartition, np.argsort\n",
    "    \"\"\"\n",
    "    query_vector = get_phrase_embedding(query)\n",
    "    dists = data_vectors.dot(query_vector[:, None])[:, 0] / (\n",
    "        (norms + 1e-16) * np.linalg.norm(query_vector)\n",
    "    )\n",
    "    nearest_elements = dists.argsort(axis=0)[-k:][::-1]\n",
    "    out = [data[i] for i in nearest_elements]\n",
    "    return out"
   ]
  },
  {
   "cell_type": "code",
   "execution_count": null,
   "metadata": {
    "colab": {
     "base_uri": "https://localhost:8080/"
    },
    "id": "ngHaxYmpzOhF",
    "outputId": "eac57b04-0d51-4d93-b51b-3a72d5ba63bf"
   },
   "outputs": [],
   "source": [
    "results = find_nearest(query=\"How do I stay active?\", k=5)\n",
    "\n",
    "print(\"\".join(results))\n",
    "\n",
    "# assert len(results) == 10 and isinstance(results[0], str)\n",
    "# assert results[0] == 'How do I get to the dark web?\\n'\n",
    "# assert results[3] == 'What can I do to save the world?\\n'"
   ]
  },
  {
   "cell_type": "code",
   "execution_count": null,
   "metadata": {
    "colab": {
     "base_uri": "https://localhost:8080/"
    },
    "id": "-sFkjt8UzOhG",
    "outputId": "5c0f50a3-72bc-4f37-f8c0-f8a028ecdb92"
   },
   "outputs": [],
   "source": [
    "results = find_nearest(query=\"How do i enter the matrix?\", k=10)\n",
    "\n",
    "print(\"\".join(results))\n",
    "\n",
    "assert len(results) == 10 and isinstance(results[0], str)\n",
    "assert results[0] == \"How do I get to the dark web?\\n\"\n",
    "assert results[3] == \"What can I do to save the world?\\n\""
   ]
  },
  {
   "cell_type": "code",
   "execution_count": null,
   "metadata": {
    "id": "9-o1a547zOhG",
    "outputId": "c5973c14-576d-43c8-84d9-eee2fd0b4c35"
   },
   "outputs": [],
   "source": [
    "find_nearest(query=\"Why don't i ask a question myself?\", k=10)"
   ]
  },
  {
   "cell_type": "code",
   "execution_count": null,
   "metadata": {
    "id": "CTG4naA0zOhH"
   },
   "outputs": [],
   "source": [
    "from sklearn.cluster import KMeans"
   ]
  },
  {
   "cell_type": "code",
   "execution_count": null,
   "metadata": {
    "id": "SB9YLNT9zOhH"
   },
   "outputs": [],
   "source": [
    "kmeans = KMeans(3)"
   ]
  },
  {
   "cell_type": "code",
   "execution_count": null,
   "metadata": {
    "id": "ORda6OU0zOhH"
   },
   "outputs": [],
   "source": [
    "labels = kmeans.fit_predict(np.asarray(phrase_vectors))"
   ]
  },
  {
   "cell_type": "code",
   "execution_count": null,
   "metadata": {
    "id": "ePJdPoFIzOhH"
   },
   "outputs": [],
   "source": [
    "_colors = [\"red\", \"green\", \"blue\"]"
   ]
  },
  {
   "cell_type": "code",
   "execution_count": null,
   "metadata": {
    "id": "3qJMbFOlzOhH",
    "outputId": "897a75c7-1fa4-482f-ad33-198775bcebf6"
   },
   "outputs": [],
   "source": [
    "draw_vectors(\n",
    "    phrase_vectors_2d[:, 0],\n",
    "    phrase_vectors_2d[:, 1],\n",
    "    color=[_colors[label] for label in labels],\n",
    "    phrase=[phrase[:50] for phrase in chosen_phrases],\n",
    "    radius=20,\n",
    ")"
   ]
  },
  {
   "cell_type": "code",
   "execution_count": null,
   "metadata": {
    "id": "2ewpJMsYzOhI",
    "outputId": "f65a76d9-d7bd-4c4a-9600-3725ded7f79d"
   },
   "outputs": [],
   "source": [
    "plt.figure(figsize=(12, 10))\n",
    "plt.scatter(phrase_vectors_2d[:, 0], phrase_vectors_2d[:, 1], c=labels.astype(float))"
   ]
  },
  {
   "cell_type": "markdown",
   "metadata": {
    "collapsed": true,
    "id": "vtiym_38zOhI"
   },
   "source": [
    "__Now what?__\n",
    "* Try running TSNE instead of UMAP (it takes a long time)\n",
    "* Try running UMAP or TSNEon all data, not just 1000 phrases\n",
    "* See what other embeddings are there in the model zoo: `gensim.downloader.info()`\n",
    "* Take a look at [FastText](https://github.com/facebookresearch/fastText) embeddings\n",
    "* Optimize find_nearest with locality-sensitive hashing: use [nearpy](https://github.com/pixelogik/NearPy) or `sklearn.neighbors`.\n",
    "\n",
    "\n"
   ]
  },
  {
   "cell_type": "markdown",
   "metadata": {
    "id": "qeFVovmZzOhI"
   },
   "source": [
    "### Extra: your own word2vec"
   ]
  },
  {
   "cell_type": "code",
   "execution_count": null,
   "metadata": {
    "id": "11ddL4eqzOhI"
   },
   "outputs": [],
   "source": [
    "import itertools\n",
    "\n",
    "import torch\n",
    "import torch.autograd as autograd  # noqa: F401\n",
    "import torch.nn as nn\n",
    "import torch.nn.functional as F\n",
    "import torch.optim as optim  # noqa: F401\n",
    "from torch.optim.lr_scheduler import ReduceLROnPlateau, StepLR  # noqa: F401"
   ]
  },
  {
   "cell_type": "code",
   "execution_count": null,
   "metadata": {
    "id": "h1jqGcjpzOhI"
   },
   "outputs": [],
   "source": [
    "vocabulary = set(itertools.chain.from_iterable(data_tok))\n",
    "\n",
    "word_to_index = None  # YOUR CODE HERE\n",
    "index_to_word = None  # YOUR CODE HERE\n",
    "word_counter = {word: 0 for word in word_to_index.keys()}"
   ]
  },
  {
   "cell_type": "markdown",
   "metadata": {
    "id": "_YZSGkVHzOhJ"
   },
   "source": [
    "Generating context pairs:"
   ]
  },
  {
   "cell_type": "code",
   "execution_count": null,
   "metadata": {
    "id": "AJnIfcoVzOhJ"
   },
   "outputs": [],
   "source": [
    "context_tuple_list = []\n",
    "w = 4\n",
    "\n",
    "for text in data_tok:\n",
    "    for i, word in enumerate(text):\n",
    "        first_context_word_index = max(0, i - w)\n",
    "        last_context_word_index = min(i + w, len(text))\n",
    "        for j in range(first_context_word_index, last_context_word_index):\n",
    "            if i != j:\n",
    "                context_tuple_list.append((word_to_index[word], word_to_index[text[j]]))\n",
    "                word_counter[word] += 1.0\n",
    "print(\"There are {} pairs of target and context words\".format(len(context_tuple_list)))"
   ]
  },
  {
   "cell_type": "markdown",
   "metadata": {
    "id": "yAFjTN6BzOhJ"
   },
   "source": [
    "Casting everything to `torch.LongTensor`"
   ]
  },
  {
   "cell_type": "code",
   "execution_count": null,
   "metadata": {
    "id": "fF5DsPeMzOhJ"
   },
   "outputs": [],
   "source": [
    "data_torch = torch.tensor(context_tuple_list).type(torch.LongTensor)\n",
    "X_torch = data_torch[:, 0]\n",
    "y_torch = data_torch[:, 1]\n",
    "del data_torch"
   ]
  },
  {
   "cell_type": "code",
   "execution_count": null,
   "metadata": {
    "id": "2t595BmSzOhJ"
   },
   "outputs": [],
   "source": [
    "class Word2VecModel(nn.Module):\n",
    "    def __init__(self, embedding_size, vocab_size):\n",
    "        super(Word2VecModel, self).__init__()\n",
    "        # YOUR CODE HERE\n",
    "\n",
    "    def forward(self, context_word):\n",
    "        # YOUR CODE HERE\n",
    "        pass"
   ]
  },
  {
   "cell_type": "code",
   "execution_count": null,
   "metadata": {
    "id": "ycVuOP1XzOhJ"
   },
   "outputs": [],
   "source": [
    "device = torch.device(\"cuda:0\") if torch.cuda.is_available() else torch.device(\"cpu\")"
   ]
  },
  {
   "cell_type": "code",
   "execution_count": null,
   "metadata": {
    "id": "VnQNqzlizOhJ"
   },
   "outputs": [],
   "source": [
    "model = Word2VecModel(25, len(word_to_index)).to(device)"
   ]
  },
  {
   "cell_type": "code",
   "execution_count": null,
   "metadata": {
    "id": "OI9la2Z3zOhK"
   },
   "outputs": [],
   "source": [
    "loss_func = nn.CrossEntropyLoss()\n",
    "opt = torch.optim.Adam(model.parameters(), lr=0.01)\n",
    "# To reduce learning rate on plateau of the loss functions\n",
    "lr_scheduler = ReduceLROnPlateau(opt, patience=35)"
   ]
  },
  {
   "cell_type": "code",
   "execution_count": null,
   "metadata": {
    "id": "YXj3tmx7zOhK"
   },
   "outputs": [],
   "source": [
    "loss_func(model(X_torch[:5].to(device)), y_torch[:5].to(device))"
   ]
  },
  {
   "cell_type": "code",
   "execution_count": null,
   "metadata": {
    "id": "ysIBA5CgzOhK"
   },
   "outputs": [],
   "source": [
    "batch_size = 1024\n",
    "n_iterations = 1000\n",
    "local_train_loss_history = []"
   ]
  },
  {
   "cell_type": "code",
   "execution_count": null,
   "metadata": {
    "id": "lz7kHqEGzOhK"
   },
   "outputs": [],
   "source": [
    "def plot_train_process(train_loss):\n",
    "    fig, axes = plt.subplots(1, 1, figsize=(15, 5))\n",
    "\n",
    "    axes.set_title(\"Loss\")\n",
    "    axes.plot(train_loss, label=\"train\")\n",
    "    axes.legend()\n",
    "    plt.show()"
   ]
  },
  {
   "cell_type": "code",
   "execution_count": null,
   "metadata": {
    "id": "bXYR683izOhK"
   },
   "outputs": [],
   "source": [
    "for i in range(n_iterations):\n",
    "\n",
    "    ix = np.random.randint(0, len(context_tuple_list), batch_size)\n",
    "    x_batch = X_torch[ix].to(device)\n",
    "    y_batch = y_torch[ix].to(device)\n",
    "\n",
    "    # YOUR CODE HERE: predict log-probabilities or logits\n",
    "\n",
    "    # YOUR CODE HERE: compute loss, just like before\n",
    "    loss = None\n",
    "\n",
    "    # YOUR CODE HERE: compute gradients\n",
    "\n",
    "    # YOUR CODE HERE: Adam step\n",
    "\n",
    "    # YOUR CODE HERE: clear gradients\n",
    "\n",
    "    local_train_loss_history.append(loss.item())\n",
    "    lr_scheduler.step(local_train_loss_history[-1])\n",
    "\n",
    "    if i % 100 == 0:\n",
    "        clear_output(True)\n",
    "        plot_train_process(local_train_loss_history)"
   ]
  },
  {
   "cell_type": "code",
   "execution_count": null,
   "metadata": {
    "id": "px0urkxSzOhK"
   },
   "outputs": [],
   "source": [
    "matrix = next(model.embeddings.parameters()).detach().cpu()"
   ]
  },
  {
   "cell_type": "code",
   "execution_count": null,
   "metadata": {
    "id": "kwXCNQqDzOhK"
   },
   "outputs": [],
   "source": [
    "def get_closest(word, top_n):\n",
    "    global matrix, word_to_index, index_to_word\n",
    "    y = matrix[word_to_index[word]][None, :]\n",
    "\n",
    "    dist = F.cosine_similarity(matrix, y)\n",
    "    index_sorted = torch.argsort(dist)\n",
    "    top_n = index_sorted[-top_n:]\n",
    "    return [index_to_word[x] for x in top_n.numpy()]"
   ]
  },
  {
   "cell_type": "code",
   "execution_count": null,
   "metadata": {
    "id": "938838nczOhL"
   },
   "outputs": [],
   "source": [
    "get_closest(\"apple\", 5)"
   ]
  },
  {
   "cell_type": "markdown",
   "metadata": {
    "id": "XyMj1hDDzOhL"
   },
   "source": [
    "It might look not so promising. Remember about the upgrades to word2vec: subsampling and negative sampling."
   ]
  }
 ],
 "metadata": {
  "colab": {
   "name": "practice1_01_dealing_with_word_embeddings.ipynb",
   "provenance": []
  },
  "kernelspec": {
   "display_name": "Python 3",
   "language": "python",
   "name": "python3"
  },
  "language_info": {
   "codemirror_mode": {
    "name": "ipython",
    "version": 3
   },
   "file_extension": ".py",
   "mimetype": "text/x-python",
   "name": "python",
   "nbconvert_exporter": "python",
   "pygments_lexer": "ipython3",
   "version": "3.8.11"
  }
 },
 "nbformat": 4,
 "nbformat_minor": 1
}
