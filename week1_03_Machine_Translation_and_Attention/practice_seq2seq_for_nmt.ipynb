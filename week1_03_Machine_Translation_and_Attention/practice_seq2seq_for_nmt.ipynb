{
  "cells": [
    {
      "cell_type": "markdown",
      "metadata": {
        "id": "DdHQUEve2qY-"
      },
      "source": [
        "# Practice: Sequence to Sequence for Neural Machne Translation.\n",
        "\n",
        "_Reference: this notebook is based on [open-source implementation](https://github.com/bentrevett/pytorch-seq2seq/blob/master/1%20-%20Sequence%20to%20Sequence%20Learning%20with%20Neural%20Networks.ipynb) of seq2seq NMT in PyTorch._\n",
        "\n",
        "We are going to implement the model from the [Sequence to Sequence Learning with Neural Networks](https://arxiv.org/abs/1409.3215) paper. \n",
        "\n",
        "The model will be trained for German to English translations, but it can be applied to any problem that involves going from one sequence to another, such as summarization."
      ]
    },
    {
      "cell_type": "markdown",
      "metadata": {
        "id": "JVPZ1faB8ieT"
      },
      "source": [
        "\n",
        "## Introduction\n",
        "\n",
        "The most common sequence-to-sequence (seq2seq) models are *encoder-decoder* models, which often use a *recurrent neural network* (RNN) to *encode* the source (input) sentence into a single vector. In this notebook, we'll refer to this single vector as a *context vector*. You can think of the context vector as being an abstract representation of the entire input sentence. This vector is then *decoded* by a second RNN which learns to output the target (output) sentence by generating it one word at a time.\n",
        "\n",
        "![](https://raw.githubusercontent.com/bentrevett/pytorch-seq2seq/master/assets/seq2seq1.png)\n",
        "\n",
        "The above image shows an example translation. The input/source sentence, \"guten morgen\", is input into the encoder (green) one word at a time. We also append a *start of sequence* (`<sos>`) and *end of sequence* (`<eos>`) token to the start and end of sentence, respectively. At each time-step, the input to the encoder RNN is both the current word, $x_t$, as well as the hidden state from the previous time-step, $h_{t-1}$, and the encoder RNN outputs a new hidden state $h_t$. You can think of the hidden state as a vector representation of the sentence so far. The RNN can be represented as a function of both of $x_t$ and $h_{t-1}$:\n",
        "\n",
        "$$h_t = \\text{EncoderRNN}(x_t, h_{t-1})$$\n",
        "\n",
        "We're using the term RNN generally here, it could be any recurrent architecture, such as an *LSTM* (Long Short-Term Memory) or a *GRU* (Gated Recurrent Unit). \n",
        "\n",
        "Here, we have $X = \\{x_1, x_2, ..., x_T\\}$, where $x_1 = \\text{<sos>}, x_2 = \\text{guten}$, etc. The initial hidden state, $h_0$, is usually either initialized to zeros or a learned parameter.\n",
        "\n",
        "Once the final word, $x_T$, has been passed into the RNN, we use the final hidden state, $h_T$, as the context vector, i.e. $h_T = z$. This is a vector representation of the entire source sentence.\n",
        "\n",
        "Now we have our context vector, $z$, we can start decoding it to get the target sentence, \"good morning\". Again, we append start and end of sequence tokens to the target sentence. At each time-step, the input to the decoder RNN (blue) is the current word, $y_t$, as well as the hidden state from the previous time-step, $s_{t-1}$, where the initial decoder hidden state, $s_0$, is the context vector, $s_0 = z = h_T$, i.e. the initial decoder hidden state is the final encoder hidden state. Thus, similar to the encoder, we can represent the decoder as:\n",
        "\n",
        "$$s_t = \\text{DecoderRNN}(y_t, s_{t-1})$$\n",
        "\n",
        "In the decoder, we need to go from the hidden state to an actual word, therefore at each time-step we use $s_t$ to predict (by passing it through a `Linear` layer, shown in purple) what we think is the next word in the sequence, $\\hat{y}_t$. \n",
        "\n",
        "$$\\hat{y}_t = f(s_t)$$\n",
        "\n",
        "We always use `<sos>` for the first input to the decoder, $y_1$, but for subsequent inputs, $y_{t>1}$, we will sometimes use the actual, ground truth next word in the sequence, $y_t$ and sometimes use the word predicted by our decoder, $\\hat{y}_{t-1}$. This is called *teacher forcing*, and you can read about it more [here](https://machinelearningmastery.com/teacher-forcing-for-recurrent-neural-networks/).\n",
        "\n",
        "When training/testing our model, we always know how many words are in our target sentence, so we stop generating words once we hit that many. During inference (i.e. real world usage) it is common to keep generating words until the model outputs an `<eos>` token or after a certain amount of words have been generated.\n",
        "\n",
        "Once we have our predicted target sentence, $\\hat{Y} = \\{ \\hat{y}_1, \\hat{y}_2, ..., \\hat{y}_T \\}$, we compare it against our actual target sentence, $Y = \\{ y_1, y_2, ..., y_T \\}$, to calculate our loss. We then use this loss to update all of the parameters in our model."
      ]
    },
    {
      "cell_type": "markdown",
      "metadata": {
        "id": "EPpb_KNZ2qZF"
      },
      "source": [
        "## Preparing Data\n",
        "\n",
        "We'll be using data provided by [torchtext](https://pytorch.org/text/stable/) and coding the models in PyTorch. We'll also be using [nltk](https://www.nltk.org) to assist with the tokenization.\n",
        "\n",
        "First of all, let's load the data. We will be using the [Multi30k dataset](https://github.com/multi30k/dataset). This is a dataset with ~30,000 parallel English, German and French sentences, each with ~12 words per sentence. We will train model to translate sentences from German into English."
      ]
    },
    {
      "cell_type": "code",
      "execution_count": null,
      "metadata": {
        "id": "6y9Ix6cSOpPt"
      },
      "outputs": [],
      "source": [
        "from torchtext.datasets import Multi30k\n",
        "\n",
        "\n",
        "train_iter = Multi30k(split=\"train\")\n",
        "\n",
        "# torchtext.datasets.DatasetName yield exhaustible IterableDataset.\n",
        "# To fix this we convert our dataset to a list.\n",
        "train_data = list(train_iter)\n",
        "\n",
        "print(f\"Number of training examples: {len(train_data)}\")\n",
        "print(train_data[0])"
      ]
    },
    {
      "cell_type": "markdown",
      "metadata": {
        "id": "C-yHxCXYPEOL"
      },
      "source": [
        "As we can see, dataset provides us with pairs of sentences. However, working with whole sentences is not convenient. For this reason we will use tokenizers. A tokenizer is used to turn a string containing a sentence into a list of individual tokens that make up that string, e.g. \"good morning!\" becomes [\"good\", \"morning\", \"!\"]. We'll start talking about the sentences being a sequence of tokens from now, instead of saying they're a sequence of words. What's the difference? Well, \"good\" and \"morning\" are both words and tokens, but \"!\" is a token, not a word.\n",
        "\n",
        "Just like in previous practice we'll use the `WordPunctTokenizer` from `nltk` library."
      ]
    },
    {
      "cell_type": "code",
      "execution_count": null,
      "metadata": {
        "id": "88zD7lxG2qZH"
      },
      "outputs": [],
      "source": [
        "from nltk.tokenize import WordPunctTokenizer\n",
        "\n",
        "\n",
        "tokenizer = WordPunctTokenizer()\n",
        "print(tokenizer.tokenize(\"good morning!\"))"
      ]
    },
    {
      "cell_type": "markdown",
      "metadata": {
        "id": "CRIu3cSLP7i5"
      },
      "source": [
        "Sentences in our dataset are slightly more complicated, but nothing nltk cannot handle. Before tokenization, however, it is important to lowercase the data. And get rid of a `\\n` at the end of each sentence whilst we are at it. This yields the following data processing pipeline:"
      ]
    },
    {
      "cell_type": "code",
      "execution_count": null,
      "metadata": {
        "id": "JuUjpzf50fFT"
      },
      "outputs": [],
      "source": [
        "src, trg = train_data[0]\n",
        "print(tokenizer.tokenize(trg.rstrip().lower()))"
      ]
    },
    {
      "cell_type": "markdown",
      "metadata": {
        "id": "R_FKGFZu0nSU"
      },
      "source": [
        "We will use this pipeline a lot, so let's pack it into a function."
      ]
    },
    {
      "cell_type": "code",
      "execution_count": null,
      "metadata": {
        "id": "vh_ROrNRgxWq"
      },
      "outputs": [],
      "source": [
        "def tokenize(sent):\n",
        "    return tokenizer.tokenize(sent.rstrip().lower())\n",
        "\n",
        "\n",
        "print(tokenize(src))\n",
        "print(tokenize(trg))"
      ]
    },
    {
      "cell_type": "markdown",
      "metadata": {
        "id": "WDtmw27x2qZJ"
      },
      "source": [
        "In the paper we are implementing, they find it beneficial to reverse the order of the input which they believe \"introduces many short term dependencies in the data that make the optimization problem much easier\". This means that we need to slightly modify previous code:"
      ]
    },
    {
      "cell_type": "code",
      "execution_count": null,
      "metadata": {
        "id": "NNsAcjiGhQc_"
      },
      "outputs": [],
      "source": [
        "print(tokenize(src)[::-1])\n",
        "print(tokenize(trg))"
      ]
    },
    {
      "cell_type": "markdown",
      "metadata": {
        "id": "NsAhj4Ow2qZR"
      },
      "source": [
        "Next, we need to build the *vocabulary* for the source and target languages. The vocabulary is used to associate each unique token with an index (an integer) and this is used to build a one-hot encoding for each token (a vector of all zeros except for the position represented by the index, which is 1). The vocabularies of the source and target languages are distinct. It is important to note that your vocabulary should only be built from the training set and not the validation/test set. This prevents \"information leakage\" into your model, giving you artifically inflated validation/test scores.\n",
        "\n",
        "Using the `min_freq` argument, we only allow tokens that appear at least 2 times to appear in our vocabulary."
      ]
    },
    {
      "cell_type": "code",
      "execution_count": null,
      "metadata": {
        "id": "M3nbxDkmBOi_"
      },
      "outputs": [],
      "source": [
        "from collections import Counter\n",
        "\n",
        "from torchtext.vocab import vocab as Vocab\n",
        "\n",
        "\n",
        "src_counter = Counter()\n",
        "trg_counter = Counter()\n",
        "for src, trg in train_data:\n",
        "    src_counter.update(tokenize(src))\n",
        "    trg_counter.update(tokenize(trg))\n",
        "\n",
        "src_vocab = Vocab(src_counter, min_freq=2)\n",
        "trg_vocab = Vocab(trg_counter, min_freq=2)"
      ]
    },
    {
      "cell_type": "markdown",
      "metadata": {
        "id": "20TsgsHoJgUn"
      },
      "source": [
        "Tokens that appear only once (or do not appear in training data at all) should be converted into an `<unk>` (unknown) token. We can achieve this by adding it to our vocabularies and setting it to default."
      ]
    },
    {
      "cell_type": "code",
      "execution_count": null,
      "metadata": {
        "id": "t_O4Jfe3B1rm"
      },
      "outputs": [],
      "source": [
        "unk_token = \"<unk>\"\n",
        "\n",
        "for vocab in [src_vocab, trg_vocab]:\n",
        "    if unk_token not in vocab:\n",
        "        vocab.insert_token(unk_token, index=0)\n",
        "        vocab.set_default_index(0)"
      ]
    },
    {
      "cell_type": "markdown",
      "metadata": {
        "id": "MaDt4yaMJwu8"
      },
      "source": [
        "Another special tokens we want to have in our vocabularies are `<sos>` (start of sequence), `<eos>` (end of sequence) and `<pad>` (padding) tokens."
      ]
    },
    {
      "cell_type": "code",
      "execution_count": null,
      "metadata": {
        "id": "LHAjF3tnBOgw"
      },
      "outputs": [],
      "source": [
        "sos_token, eos_token, pad_token = \"<sos>\", \"<eos>\", \"<pad>\"\n",
        "specials = [sos_token, eos_token, pad_token]\n",
        "for vocab in [src_vocab, trg_vocab]:\n",
        "    for token in specials:\n",
        "        if token not in vocab:\n",
        "            vocab.append_token(token)"
      ]
    },
    {
      "cell_type": "markdown",
      "metadata": {
        "id": "uKOYM5YmjM5L"
      },
      "source": [
        "Let's check the sizes of our vocabularies:"
      ]
    },
    {
      "cell_type": "code",
      "execution_count": null,
      "metadata": {
        "id": "8sXNHQrW2qZS"
      },
      "outputs": [],
      "source": [
        "print(f\"Unique tokens in source (de) vocabulary: {len(src_vocab)}\")\n",
        "print(f\"Unique tokens in target (en) vocabulary: {len(trg_vocab)}\")"
      ]
    },
    {
      "cell_type": "markdown",
      "metadata": {
        "id": "HrwZsm1pjgj1"
      },
      "source": [
        "Now we can encode our tokenized sentences (i.e. convert them into sequences of token indices) as follows:"
      ]
    },
    {
      "cell_type": "code",
      "execution_count": null,
      "metadata": {
        "id": "SJTZ7R4pkGhO"
      },
      "outputs": [],
      "source": [
        "# Tokenize sentence and add <sos> and <eos> special tokens.\n",
        "tokenized = [sos_token] + tokenize(trg) + [eos_token]\n",
        "\n",
        "# Transform tokens into indices using our vocab.\n",
        "encoded = [trg_vocab[tok] for tok in tokenized]\n",
        "\n",
        "[(tok, idx) for tok, idx in zip(tokenized, encoded)]"
      ]
    },
    {
      "cell_type": "markdown",
      "metadata": {
        "id": "_4dPibdn08_G"
      },
      "source": [
        "Just like before with `tokenize`, let's pack it into a neat little function:"
      ]
    },
    {
      "cell_type": "code",
      "execution_count": null,
      "metadata": {
        "id": "j2o3LUDM1A70"
      },
      "outputs": [],
      "source": [
        "def encode(sent, vocab):\n",
        "    tokenized = [sos_token] + tokenize(sent) + [eos_token]\n",
        "    return [vocab[tok] for tok in tokenized]\n",
        "\n",
        "\n",
        "# Note that here we commited a little crime: after [::-1] the <sos> token in\n",
        "# src sequence is gone to the end whilst the <eos> ended up the last token.\n",
        "# However, it is not that big a problem: <sos> and <eos> tokens only have\n",
        "# special meaning for us, for model they are just some tokens until it's been\n",
        "# trained to use them. For this reason it doesn't care for the actual name of\n",
        "# init and end tokens. And in trg sequence everything is fine, so we are not\n",
        "# ending up starting translation with <eos> token or anything.\n",
        "print(encode(src, src_vocab)[::-1])\n",
        "print(encode(trg, trg_vocab))"
      ]
    },
    {
      "cell_type": "markdown",
      "metadata": {
        "id": "4lnrb6qHxB9t"
      },
      "source": [
        "Now we know how to preprocess our input and output sentences into a NN-readable format. The last thing we need to do is to create a `DataLoader` for our data, which will take our sentences and put them together to form a batch. Problem here lies in the fact that sentences can have different sizes and items in one batch absolutely cannot. For this we use padding (remember the `<pad>` token). Back in version `0.8` torchtext used to provide its own custom classes which handled tokenization, `<sos>`, `<eos>` and `<unk>` tokens and added padding. However, since that time, torchtext ditched this functionality in order to make their dataloading API consistent with PyTorch's one. This in turn means that padding (as well as everything else mentioned) ourselves. Luckily, PyTorch's `DataLoader` supports custom collate functions, which seems like a great place to do all our preprocessing, including padding.\n",
        "\n",
        "> **Note:** you can read more about difference in data handling between versions `0.8` and `0.9` in this [migration tutorial](https://github.com/pytorch/text/blob/master/examples/legacy_tutorial/migration_tutorial.ipynb) from which I borrowed the original idea for `collate_batch` function. However, be careful, as the tutorial uses version `0.9` whilst the actual version for today is `0.11` and there have been slight differences introduced inbetween, but nothing as big as transition from `0.8` to `0.9`.\n",
        "\n",
        "Collate function (`collate_fn` optional argument in `DataLoader.__init__`) takes only one argument which is current data batch, collated into a python list, and should output a collated tensor. `DataLoader` supports different data formats for `Dataset`. Most common are a tuple or a dictionary of values. `DataLoader` takes these containers and collates them into the same typed container with lists of items, e.g. dictionary with same keys, but each key has a list of items or a tuple of lists. We are working with `Multi30k` data, which means that our `train_data` contains tuples of strings (`src` and `trg`). This means that our `collate_batch` function will receive a tuple of 2 lists of strings. And we need to collate them into a single `torch.tensor`. In order to do this, we first need to encode each string into a list of token indices (don't forget to reverse the `src` sequence) and pad them to a same length before creating a tensor. For padding we will use the PyTorch's `pad_sequence` function, which takes a list of tensors of different shapes and a padding value and returns the padded tensor."
      ]
    },
    {
      "cell_type": "code",
      "execution_count": null,
      "metadata": {
        "id": "ZYU_zFx9yuwN"
      },
      "outputs": [],
      "source": [
        "import torch\n",
        "from torch.nn.utils.rnn import pad_sequence\n",
        "from torch.utils.data import DataLoader\n",
        "\n",
        "\n",
        "def collate_batch(batch):\n",
        "    src_list, trg_list = [], []\n",
        "    for src, trg in batch:\n",
        "        # YOUR CODE HERE\n",
        "        # Encode src and trg sentences, convert them into a tensor\n",
        "        # and store them in src_list and trg_list respectively.\n",
        "        pass\n",
        "\n",
        "    # YOUR CODE HERE\n",
        "    # Pad sequences with pad_sequence function.\n",
        "    # src_padded = pad_sequence(...)\n",
        "    # trg_padded = pad_sequence(...)\n",
        "\n",
        "    return src_padded, trg_padded\n",
        "\n",
        "\n",
        "batch_size = 256\n",
        "train_dataloader = DataLoader(train_data, batch_size, shuffle=True, collate_fn=collate_batch)\n",
        "src_batch, trg_batch = next(iter(train_dataloader))\n",
        "src_batch.shape, trg_batch.shape"
      ]
    },
    {
      "cell_type": "markdown",
      "metadata": {
        "id": "Z8_y84x8IJ9s"
      },
      "source": [
        "Cool! Now we can load our data and store it in batches. Whilst we are at it, let's create a dataloader for a validation, which we will use to evaluate out model during training."
      ]
    },
    {
      "cell_type": "code",
      "execution_count": null,
      "metadata": {
        "id": "3pQ5EAJMIW6K"
      },
      "outputs": [],
      "source": [
        "val_data = list(Multi30k(split=\"valid\"))\n",
        "val_dataloader = DataLoader(val_data, batch_size, collate_fn=collate_batch)"
      ]
    },
    {
      "cell_type": "markdown",
      "metadata": {
        "id": "GwMRCOyc2qZV"
      },
      "source": [
        "One could mention, that the first dimention is now `seq_len`, not `batch_size` as used to be. It's because in PyTorch LSTM (and other recurrent units) await for input in format `(seq_len, batch_size, input_size)`. Be careful with that (especially in your homework assignment)."
      ]
    },
    {
      "cell_type": "markdown",
      "metadata": {
        "id": "xwqWXk11sOus"
      },
      "source": [
        "## Building the Seq2Seq Model\n",
        "\n",
        "We'll be building our model in three parts. The encoder, the decoder and a seq2seq model that encapsulates the encoder and decoder and will provide a way to interface with each."
      ]
    },
    {
      "cell_type": "markdown",
      "metadata": {
        "id": "_vUkim3m2qZV"
      },
      "source": [
        "### Encoder\n",
        "\n",
        "First, the encoder, a 2 layer LSTM. The paper we are implementing uses a 4-layer LSTM, but in the interest of training time we cut this down to 2-layers. The concept of multi-layer RNNs is easy to expand from 2 to 4 layers. \n",
        "\n",
        "For a multi-layer RNN, the input sentence, $X$, goes into the first (bottom) layer of the RNN and hidden states, $H=\\{h_1, h_2, ..., h_T\\}$, output by this layer are used as inputs to the RNN in the layer above. Thus, representing each layer with a superscript, the hidden states in the first layer are given by:\n",
        "\n",
        "$$h_t^1 = \\text{EncoderRNN}^1(x_t, h_{t-1}^1)$$\n",
        "\n",
        "The hidden states in the second layer are given by:\n",
        "\n",
        "$$h_t^2 = \\text{EncoderRNN}^2(h_t^1, h_{t-1}^2)$$\n",
        "\n",
        "Using a multi-layer RNN also means we'll also need an initial hidden state as input per layer, $h_0^l$, and we will also output a context vector per layer, $z^l$.\n",
        "\n",
        "Without going into too much detail about LSTMs (see [this](https://colah.github.io/posts/2015-08-Understanding-LSTMs/) blog post if you want to learn more about them), all we need to know is that they're a type of RNN which instead of just taking in a hidden state and returning a new hidden state per time-step, also take in and return a *cell state*, $c_t$, per time-step.\n",
        "\n",
        "$$\\begin{align*}\n",
        "h_t &= \\text{RNN}(x_t, h_{t-1})\\\\\n",
        "(h_t, c_t) &= \\text{LSTM}(x_t, (h_{t-1}, c_{t-1}))\n",
        "\\end{align*}$$\n",
        "\n",
        "\n",
        "You can just think of $c_t$ as another type of hidden state. Similar to $h_0^l$, $c_0^l$ will be initialized to a tensor of all zeros. Also, our context vector will now be both the final hidden state and the final cell state, i.e. $z^l = (h_T^l, c_T^l)$.\n",
        "\n",
        "Extending our multi-layer equations to LSTMs, we get:\n",
        "\n",
        "$$\\begin{align*}\n",
        "(h_t^1, c_t^1) &= \\text{EncoderLSTM}^1(x_t, (h_{t-1}^1, c_{t-1}^1))\\\\\n",
        "(h_t^2, c_t^2) &= \\text{EncoderLSTM}^2(h_t^1, (h_{t-1}^2, c_{t-1}^2))\n",
        "\\end{align*}$$\n",
        "\n",
        "Note how only our hidden state from the first layer is passed as input to the second layer, and not the cell state.\n",
        "\n",
        "So our encoder looks something like this: \n",
        "\n",
        "![](https://raw.githubusercontent.com/bentrevett/pytorch-seq2seq/master/assets/seq2seq2.png)\n",
        "\n",
        "We create this in code by making an `Encoder` module, which requires we inherit from `torch.nn.Module` and use the `super().__init__()` as some boilerplate code. The encoder takes the following arguments:\n",
        "- `n_tokens` is the input (source) vocabulary size.\n",
        "- `emb_dim` is the dimensionality of the embedding layer. This layer converts the one-hot vectors into dense vectors with `emb_dim` dimensions. \n",
        "- `hid_dim` is the dimensionality of the hidden and cell states.\n",
        "- `n_layers` is the number of layers in the RNN.\n",
        "- `dropout` is the amount of dropout to use. This is a regularization parameter to prevent overfitting. Check out [this](https://www.coursera.org/lecture/deep-neural-network/understanding-dropout-YaGbR) for more details about dropout.\n",
        "\n",
        "To get more info about `nn.Embedding` one could refer to these articles: [1](https://monkeylearn.com/blog/word-embeddings-transform-text-numbers/), [2](http://p.migdal.pl/2017/01/06/king-man-woman-queen-why.html), [3](http://mccormickml.com/2016/04/19/word2vec-tutorial-the-skip-gram-model/), [4](http://mccormickml.com/2017/01/11/word2vec-tutorial-part-2-negative-sampling/). \n",
        "\n",
        "The embedding layer is created using `nn.Embedding`, the LSTM with `nn.LSTM` and a dropout layer with `nn.Dropout`. Check the PyTorch [documentation](https://pytorch.org/docs/stable/nn.html) for more about these.\n",
        "\n",
        "One thing to note is that the `dropout` argument to the LSTM is how much dropout to apply between the layers of a multi-layer RNN, i.e. between the hidden states output from layer $l$ and those same hidden states being used for the input of layer $l+1$.\n",
        "\n",
        "In the `forward` method, we pass in the source sentence, $X$, which is converted into dense vectors using the `embedding` layer, and then dropout is applied. These embeddings are then passed into the RNN. As we pass a whole sequence to the RNN, it will automatically do the recurrent calculation of the hidden states over the whole sequence for us! You may notice that we do not pass an initial hidden or cell state to the RNN. This is because, as noted in the [documentation](https://pytorch.org/docs/stable/nn.html#torch.nn.LSTM), that if no hidden/cell state is passed to the RNN, it will automatically create an initial hidden/cell state as a tensor of all zeros. \n",
        "\n",
        "The RNN returns: `outputs` (the top-layer hidden state for each time-step), `hidden` (the final hidden state for each layer, $h_T$, stacked on top of each other) and `cell` (the final cell state for each layer, $c_T$, stacked on top of each other).\n",
        "\n",
        "As we only need the final hidden and cell states (to make our context vector), `forward` only returns `hidden` and `cell`. \n",
        "\n",
        "The sizes of each of the tensors is left as comments in the code. In this implementation `n_directions` will always be 1, because for now we are working only with one-direction LSTM."
      ]
    },
    {
      "cell_type": "code",
      "execution_count": null,
      "metadata": {
        "id": "JfL9ctI52qZW"
      },
      "outputs": [],
      "source": [
        "import torch.nn as nn\n",
        "\n",
        "\n",
        "class Encoder(nn.Module):\n",
        "    def __init__(self, n_tokens, emb_dim, hid_dim, n_layers, dropout):\n",
        "        super().__init__()\n",
        "\n",
        "        self.n_tokens = n_tokens\n",
        "        self.hid_dim = hid_dim\n",
        "        self.n_layers = n_layers\n",
        "\n",
        "        # YOUR CODE HERE\n",
        "        # Define embedding, dropout and LSTM layers.\n",
        "\n",
        "    def forward(self, src):\n",
        "        # src has a shape of [seq_len, batch_size]\n",
        "\n",
        "        # YOUR CODE HERE\n",
        "        # Compute an embedding from src data and apply dropout.\n",
        "        # embedded = ...\n",
        "        # embedded should have a shape of [seq_len, batch_size, emb_dim]\n",
        "\n",
        "        # YOUR CODE HERE\n",
        "        # Compute the RNN output values.\n",
        "        # hidden = ...\n",
        "        # When using LSTM, hidden should be a tuple of two tensors:\n",
        "        # 1) hidden state\n",
        "        # 2) cell state\n",
        "        # both of shape [n_layers * n_directions, batch_size, hid_dim]\n",
        "\n",
        "        return hidden"
      ]
    },
    {
      "cell_type": "markdown",
      "metadata": {
        "id": "yfgVcuSQ2qZX"
      },
      "source": [
        "### Decoder\n",
        "\n",
        "Next, we'll build our decoder, which will also be a 2-layer (4 in the paper) LSTM.\n",
        "\n",
        "![](https://raw.githubusercontent.com/bentrevett/pytorch-seq2seq/master/assets/seq2seq3.png)\n",
        "\n",
        "The `Decoder` class does a single step of decoding. The first layer will receive a hidden and cell state from the previous time-step, $(s_{t-1}^1, c_{t-1}^1)$, and feed it through the LSTM with the current token, $y_t$, to produce a new hidden and cell state, $(s_t^1, c_t^1)$. The subsequent layers will use the hidden state from the layer below, $s_t^{l-1}$, and the previous hidden and cell states from their layer, $(s_{t-1}^l, c_{t-1}^l)$. This provides equations very similar to those in the encoder.\n",
        "\n",
        "$$\\begin{align*}\n",
        "(s_t^1, c_t^1) = \\text{DecoderLSTM}^1(y_t, (s_{t-1}^1, c_{t-1}^1))\\\\\n",
        "(s_t^2, c_t^2) = \\text{DecoderLSTM}^2(s_t^1, (s_{t-1}^2, c_{t-1}^2))\n",
        "\\end{align*}$$\n",
        "\n",
        "Remember that the initial hidden and cell states to our decoder are our context vectors, which are the final hidden and cell states of our encoder from the same layer, i.e. $(s_0^l,c_0^l)=z^l=(h_T^l,c_T^l)$.\n",
        "\n",
        "We then pass the hidden state from the top layer of the RNN, $s_t^L$, through a linear layer, $f$, to make a prediction of what the next token in the target (output) sequence should be, $\\hat{y}_{t+1}$. \n",
        "\n",
        "$$\\hat{y}_{t+1} = f(s_t^L)$$\n",
        "\n",
        "The arguments and initialization are similar to the `Encoder` class, except now `n_tokens` is the size of the target vocabulary. There is also the addition of the `Linear` layer, used to make the predictions from the top layer hidden state.\n",
        "\n",
        "Within the `forward` method, we accept a batch of input tokens, previous hidden states and previous cell states. We `unsqueeze` the input tokens to add a sentence length dimension of 1. Then, similar to the encoder, we pass through an embedding layer and apply dropout. This batch of embedded tokens is then passed into the RNN with the previous hidden and cell states. This produces an `output` (hidden state from the top layer of the RNN), a new `hidden` state (one for each layer, stacked on top of each other) and a new `cell` state (also one per layer, stacked on top of each other). We then pass the `output` (after getting rid of the sentence length dimension) through the linear layer to receive our `prediction`. We then return the `prediction`, the new `hidden` state and the new `cell` state."
      ]
    },
    {
      "cell_type": "code",
      "execution_count": null,
      "metadata": {
        "id": "iaWldjzK2qZX"
      },
      "outputs": [],
      "source": [
        "class Decoder(nn.Module):\n",
        "    def __init__(self, n_tokens, emb_dim, hid_dim, n_layers, dropout):\n",
        "        super().__init__()\n",
        "\n",
        "        self.n_tokens = n_tokens\n",
        "        self.hid_dim = hid_dim\n",
        "        self.n_layers = n_layers\n",
        "\n",
        "        # YOUR CODE HERE\n",
        "        # Define embedding, dropout and LSTM layers.\n",
        "        # Additionaly, Decoder will need a linear layer to predict next token.\n",
        "\n",
        "    def forward(self, input, hidden):\n",
        "        # input has a shape of [batch_size]\n",
        "        # hidden is a tuple of two tensors:\n",
        "        # 1) hidden state\n",
        "        # 2) cell state\n",
        "        # both of shape [n_layers, batch_size, hid_dim]\n",
        "        # (n_directions in the decoder shall always be 1)\n",
        "\n",
        "        # YOUR CODE HERE\n",
        "        # Compute an embedding from input data and apply dropout.\n",
        "        # Remember, that LSTM layer expects input to have a shape of\n",
        "        # [seq_len, batch_size, emb_dim], which means that we need\n",
        "        # to somehow introduce the seq_len dimension into our input tensor.\n",
        "        # embedded = ...\n",
        "\n",
        "        # YOUR CODE HERE\n",
        "        # Compute the RNN output values.\n",
        "        # output, hidden = ...\n",
        "\n",
        "        # YOUR CODE HERE\n",
        "        # output has a shape of [seq_len, batch_size, hid dim]\n",
        "        # Compute logits for the next token probabilities from RNN output.\n",
        "        # pred = ...\n",
        "\n",
        "        # should have a shape [batch_size, n_tokens]\n",
        "        return pred, hidden"
      ]
    },
    {
      "cell_type": "markdown",
      "metadata": {
        "id": "bpDHck392qZY"
      },
      "source": [
        "### Seq2Seq\n",
        "\n",
        "For the final part of the implemenetation, we'll implement the seq2seq model. This will handle: \n",
        "- receiving the input/source sentence\n",
        "- using the encoder to produce the context vectors \n",
        "- using the decoder to produce the predicted output/target sentence\n",
        "\n",
        "Our full model will look like this:\n",
        "\n",
        "![](https://raw.githubusercontent.com/bentrevett/pytorch-seq2seq/master/assets/seq2seq4.png)\n",
        "\n",
        "The `Seq2Seq` model takes in an `Encoder`, `Decoder`, and a `device` (used to place tensors on the GPU, if it exists).\n",
        "\n",
        "For this implementation, we have to ensure that the number of layers and the hidden (and cell) dimensions are equal in the `Encoder` and `Decoder`. This is not always the case, you do not necessarily need the same number of layers or the same hidden dimension sizes in a sequence-to-sequence model. However, if you do something like having a different number of layers you will need to make decisions about how this is handled. For example, if your encoder has 2 layers and your decoder only has 1, how is this handled? Do you average the two context vectors output by the decoder? Do you pass both through a linear layer? Do you only use the context vector from the highest layer? Etc.\n",
        "\n",
        "Our `forward` method takes the source sentence, target sentence and a teacher-forcing ratio. The teacher forcing ratio is used when training our model. When decoding, at each time-step we will predict what the next token in the target sequence will be from the previous tokens decoded, $\\hat{y}_{t+1}=f(s_t^L)$. With probability equal to the teaching forcing ratio (`teacher_forcing_ratio`) we will use the actual ground-truth next token in the sequence as the input to the decoder during the next time-step. However, with probability `1 - teacher_forcing_ratio`, we will use the token that the model predicted as the next input to the model, even if it doesn't match the actual next token in the sequence.  \n",
        "\n",
        "The first thing we do in the `forward` method is to create an `outputs` tensor that will store all of our predictions, $\\hat{Y}$.\n",
        "\n",
        "We then feed the input/source sentence, $X$/`src`, into the encoder and receive out final hidden and cell states.\n",
        "\n",
        "The first input to the decoder is the start of sequence (`<sos>`) token. As our `trg` tensor already has the `<sos>` token appended (all the way back when we defined the `init_token` in our `TRG` field) we get our $y_1$ by slicing into it. We know how long our target sentences should be (`max_len`), so we loop that many times. During each iteration of the loop, we:\n",
        "- pass the input, previous hidden and previous cell states ($y_t, s_{t-1}, c_{t-1}$) into the decoder\n",
        "- receive a prediction, next hidden state and next cell state ($\\hat{y}_{t+1}, s_{t}, c_{t}$) from the decoder\n",
        "- place our prediction, $\\hat{y}_{t+1}$/`output` in our tensor of predictions, $\\hat{Y}$/`outputs`\n",
        "- decide if we are going to \"teacher force\" or not\n",
        "    - if we do, the next `input` is the ground-truth next token in the sequence, $y_{t+1}$/`trg[t]`\n",
        "    - if we don't, the next `input` is the predicted next token in the sequence, $\\hat{y}_{t+1}$/`top1`\n",
        "    \n",
        "Once we've made all of our predictions, we return our tensor full of predictions, $\\hat{Y}$/`outputs`.\n",
        "\n",
        "> **Note:** our decoder loop starts at 1, not 0. This means that `preds` will have `seq_len - 1` items. So our `trg` and `outputs` look something like:\n",
        "> $$\\begin{align*}\n",
        "  \\text{trg} = [<sos>, &y_1, y_2, y_3, <eos>]\\\\\n",
        "  \\text{preds} = [&\\hat{y}_1, \\hat{y}_2, \\hat{y}_3, <eos>]\n",
        "  \\end{align*}$$\n",
        "> Later on when we calculate the loss, we cut off the first element of `trg` tensor to get:\n",
        "> $$\\begin{align*}\n",
        "  \\text{trg} = [&y_1, y_2, y_3, <eos>]\\\\\n",
        "  \\text{preds} = [&\\hat{y}_1, \\hat{y}_2, \\hat{y}_3, <eos>]\n",
        "  \\end{align*}$$"
      ]
    },
    {
      "cell_type": "code",
      "execution_count": null,
      "metadata": {
        "id": "-JC8O-iq2qZY"
      },
      "outputs": [],
      "source": [
        "import random\n",
        "\n",
        "\n",
        "class Seq2Seq(nn.Module):\n",
        "    def __init__(self, encoder, decoder):\n",
        "        super().__init__()\n",
        "\n",
        "        self.encoder = encoder\n",
        "        self.decoder = decoder\n",
        "\n",
        "        assert encoder.hid_dim == decoder.hid_dim, \"encoder and decoder must have same hidden dim\"\n",
        "        assert (\n",
        "            encoder.n_layers == decoder.n_layers\n",
        "        ), \"encoder and decoder must have equal number of layers\"\n",
        "\n",
        "    def forward(self, src, trg, teacher_forcing_ratio=0.5):\n",
        "        # src has a shape of [src_seq_len, batch_size]\n",
        "        # trg has a shape of [trg_seq_len, batch_size]\n",
        "        # teacher_forcing_ratio is probability to use teacher forcing, e.g. if\n",
        "        # teacher_forcing_ratio is 0.75 we use ground-truth inputs 75% of the time\n",
        "        batch_size = trg.shape[1]\n",
        "        trg_len = trg.shape[0]\n",
        "        trg_vocab_size = self.decoder.n_tokens\n",
        "\n",
        "        # tensor to store decoder predictions\n",
        "        preds = []\n",
        "\n",
        "        # Last hidden state of the encoder is used as\n",
        "        # the initial hidden state of the decoder.\n",
        "        hidden = self.encoder(src)\n",
        "\n",
        "        # First input to the decoder is the <sos> token.\n",
        "        input = trg[0, :]\n",
        "\n",
        "        for i in range(1, trg_len):\n",
        "            pred, hidden = self.decoder(input, hidden)\n",
        "            preds.append(pred)\n",
        "            teacher_force = random.random() < teacher_forcing_ratio\n",
        "            _, top_pred = pred.max(dim=1)\n",
        "            input = trg[i, :] if teacher_force else top_pred\n",
        "\n",
        "        return torch.stack(preds)"
      ]
    },
    {
      "cell_type": "markdown",
      "metadata": {
        "id": "WDT4zepz2qZZ"
      },
      "source": [
        "# Training the Seq2Seq Model\n",
        "\n",
        "Now we have our model implemented, we can begin training it. \n",
        "\n",
        "First, we'll initialize our model. As mentioned before, the input and output dimensions are defined by the size of the vocabulary. The embedding dimesions and dropout for the encoder and decoder can be different, but the number of layers and the size of the hidden/cell states must be the same. \n",
        "\n",
        "We then define the encoder, decoder and then our `Seq2Seq` model, which we place on the `device`."
      ]
    },
    {
      "cell_type": "code",
      "execution_count": null,
      "metadata": {
        "id": "t1dLOVOh2qZZ"
      },
      "outputs": [],
      "source": [
        "device = torch.device(\"cuda:0\" if torch.cuda.is_available() else \"cpu\")\n",
        "enc = Encoder(len(src_vocab), emb_dim=256, hid_dim=512, n_layers=2, dropout=0.5)\n",
        "dec = Decoder(len(trg_vocab), emb_dim=256, hid_dim=512, n_layers=2, dropout=0.5)\n",
        "model = Seq2Seq(enc, dec).to(device)"
      ]
    },
    {
      "cell_type": "markdown",
      "metadata": {
        "id": "QAsrHprc2qZa"
      },
      "source": [
        "Next up is initializing the weights of our model. In the paper they state they initialize all weights from a uniform distribution between -0.08 and +0.08, i.e. $\\mathcal{U}(-0.08, 0.08)$.\n",
        "\n",
        "We initialize weights in PyTorch by creating a function which we `apply` to our model. When using `apply`, the `init_weights` function will be called on every module and sub-module within our model. For each module we loop through all of the parameters and sample them from a uniform distribution with `nn.init.uniform_`."
      ]
    },
    {
      "cell_type": "code",
      "execution_count": null,
      "metadata": {
        "id": "fisgiJHW2qZa"
      },
      "outputs": [],
      "source": [
        "def init_weights(m):\n",
        "    for name, param in m.named_parameters():\n",
        "        nn.init.uniform_(param, -0.08, 0.08)\n",
        "\n",
        "\n",
        "model.apply(init_weights);"
      ]
    },
    {
      "cell_type": "markdown",
      "metadata": {
        "id": "INrm4wZH2qZa"
      },
      "source": [
        "We also define a function that will calculate the number of trainable parameters in the model."
      ]
    },
    {
      "cell_type": "code",
      "execution_count": null,
      "metadata": {
        "id": "AHqE345g2qZb"
      },
      "outputs": [],
      "source": [
        "def count_parameters(model):\n",
        "    return sum(p.numel() for p in model.parameters() if p.requires_grad)\n",
        "\n",
        "\n",
        "print(f\"The model has {count_parameters(model):,} trainable parameters\")"
      ]
    },
    {
      "cell_type": "markdown",
      "metadata": {
        "id": "6DrtgWxH2qZb"
      },
      "source": [
        "We define our optimizer, which we use to update our parameters in the training loop. Check out [this](http://ruder.io/optimizing-gradient-descent/) post for information about different optimizers. Here, we'll use Adam."
      ]
    },
    {
      "cell_type": "code",
      "execution_count": null,
      "metadata": {
        "id": "n7LTayX92qZc"
      },
      "outputs": [],
      "source": [
        "optimizer = torch.optim.Adam(model.parameters())"
      ]
    },
    {
      "cell_type": "markdown",
      "metadata": {
        "id": "StQQiLly2qZc"
      },
      "source": [
        "Next, we define our loss function. The `CrossEntropyLoss` function calculates both the log softmax as well as the negative log-likelihood of our predictions. \n",
        "\n",
        "Our loss function calculates the average loss per token, however by passing the index of the `<pad>` token as the `ignore_index` argument we ignore the loss whenever the target token is a padding token. "
      ]
    },
    {
      "cell_type": "code",
      "execution_count": null,
      "metadata": {
        "id": "crHi0b8l2qZc"
      },
      "outputs": [],
      "source": [
        "criterion = nn.CrossEntropyLoss(ignore_index=trg_vocab[pad_token])"
      ]
    },
    {
      "cell_type": "markdown",
      "metadata": {
        "id": "KPbr6WCTETd6"
      },
      "source": [
        "Now we have everything we need to start training our model. However, there is one more detail to todays practice. Today, instead of plotting the training process with `matplotlib`, we will use a [TensorBoard](https://www.tensorflow.org/tensorboard) to track our training process online. TensorBoard is an application by Google which allows to visualize training logs. In order for this to work, however, you need to store your logs in a local directory and using special data format. Luckily, PyTorch has a [module](https://pytorch.org/docs/stable/tensorboard.html) which handles the data flow for us. We will see, how to work with this module in a minute, however, right now we need to start our tensorboard process, so that we can keep track of our progress on the go. Jupyter notebooks (and Google Colab) have a special extension to run tensorboard and display it in a notebook inplace. You can read more on that in this [guide](https://www.tensorflow.org/tensorboard/tensorboard_in_notebooks). For now let's just copy-paste the required commands and move on.\n",
        "\n",
        "**Note**: if you're running this notebook on your own machine, you would need to install the `tensorboard` package before running the following cell."
      ]
    },
    {
      "cell_type": "code",
      "execution_count": null,
      "metadata": {
        "id": "-IQlgCXMHYLV"
      },
      "outputs": [],
      "source": [
        "%load_ext tensorboard\n",
        "%tensorboard --logdir runs"
      ]
    },
    {
      "cell_type": "markdown",
      "metadata": {
        "id": "kwltT7jp2qZc"
      },
      "source": [
        "Finally, let's train our model. We will train it for 50 epochs, evaluating it after each epoch on a validation data. We will only track crossentropy for now, however, you're free to try and add accuracy or even BLEU score computation.\n",
        "\n",
        "First, we'll set the model into \"training mode\" with `model.train()`. This will turn on dropout (and batch normalization, which we aren't using) and then iterate through our data iterator.\n",
        "\n",
        "At each iteration:\n",
        "- get the source and target sentences from the batch, $X$ and $Y$\n",
        "- zero the gradients calculated from the last batch\n",
        "- feed the source and target into the model to get the output, $\\hat{Y}$\n",
        "- as the loss function only works on 2d inputs with 1d targets we need to flatten each of them with `.view`\n",
        "    - we also don't want to measure the loss of the `<sos>` token, hence we slice off the first column of the output and target tensors\n",
        "- calculate the gradients with `loss.backward()`\n",
        "- clip the gradients to prevent them from exploding (a common issue in RNNs)\n",
        "- update the parameters of our model by doing an optimizer step\n",
        "- sum the loss value to a running total\n",
        "\n",
        "Finally, we average the loss over all batches and evaluate our model on validation. During evaluation it's important to remember to switch model to \"evaluation mode\" with `model.eval()` and use the `with torch.no_grad()` block to ensure no gradients are calculated within the block. This reduces memory consumption and speeds things up."
      ]
    },
    {
      "cell_type": "code",
      "execution_count": null,
      "metadata": {
        "id": "zdksAnYSI_DW"
      },
      "outputs": [],
      "source": [
        "from torch.nn.utils import clip_grad_norm_  # noqa: F401\n",
        "from torch.utils.tensorboard import SummaryWriter\n",
        "from tqdm.auto import tqdm, trange\n",
        "\n",
        "\n",
        "writer = SummaryWriter()\n",
        "n_epochs = 50\n",
        "clip = 1\n",
        "global_step = 0  # for writer\n",
        "for epoch in trange(n_epochs, desc=\"Epochs\"):\n",
        "    model.train()\n",
        "    train_loss = 0\n",
        "    for src, trg in tqdm(train_dataloader, desc=\"Train\", leave=False):\n",
        "        # YOUR CODE HERE\n",
        "        # Use model to get prediction and compute loss using criterion.\n",
        "        # After you've computed loss, zero gradients, run backprop, clip\n",
        "        # gradients and update model with optimizer.\n",
        "        # loss = ...\n",
        "\n",
        "        train_loss += loss.item()\n",
        "        writer.add_scalar(\"Training/loss\", loss.item(), global_step)\n",
        "        global_step += 1\n",
        "\n",
        "    train_loss /= len(train_dataloader)\n",
        "    writer.add_scalar(\"Evaluation/train_loss\", train_loss, epoch)\n",
        "\n",
        "    model.eval()\n",
        "    val_loss = 0\n",
        "    with torch.no_grad():\n",
        "        for src, trg in tqdm(val_dataloader, desc=\"Val\", leave=False):\n",
        "            # YOUR CODE HERE\n",
        "            # Once again compute model prediction and loss, but don't\n",
        "            # try and update model parameters with it.\n",
        "            # Just use it for model evaluation.\n",
        "            # loss = ...\n",
        "\n",
        "            val_loss += loss.item()\n",
        "\n",
        "    val_loss /= len(val_dataloader)\n",
        "    writer.add_scalar(\"Evaluation/val_loss\", val_loss, epoch)"
      ]
    },
    {
      "cell_type": "markdown",
      "metadata": {
        "id": "JjC3yD5GiSWT"
      },
      "source": [
        "Now that we've trained our model, let's see how good is it at actual translation. Let's translate first 10 examples in validation dataset."
      ]
    },
    {
      "cell_type": "code",
      "execution_count": null,
      "metadata": {
        "id": "YpHY3re3O7Wq"
      },
      "outputs": [],
      "source": [
        "trg_itos = trg_vocab.get_itos()\n",
        "model.eval()\n",
        "max_len = 50\n",
        "with torch.no_grad():\n",
        "    for src, trg in val_data[:10]:\n",
        "        encoded = encode(src, src_vocab)[::-1]\n",
        "        encoded = torch.tensor(encoded)[:, None].to(device)\n",
        "        hidden = model.encoder(encoded)\n",
        "\n",
        "        pred_tokens = [trg_vocab[sos_token]]\n",
        "        for _ in range(max_len):\n",
        "            decoder_input = torch.tensor([pred_tokens[-1]]).to(device)\n",
        "            pred, hidden = model.decoder(decoder_input, hidden)\n",
        "            _, pred_token = pred.max(dim=1)\n",
        "            if pred_token == trg_vocab[eos_token]:\n",
        "                # Don't add it to prediction for cleaner output.\n",
        "                break\n",
        "\n",
        "            pred_tokens.append(pred_token.item())\n",
        "\n",
        "        print(f\"src: '{src.rstrip().lower()}'\")\n",
        "        print(f\"trg: '{trg.rstrip().lower()}'\")\n",
        "        print(f\"pred: '{' '.join(trg_itos[i] for i in pred_tokens[1:])}'\")\n",
        "        print()"
      ]
    },
    {
      "cell_type": "code",
      "execution_count": null,
      "metadata": {
        "id": "OVFbqiqnDzPM"
      },
      "outputs": [],
      "source": [
        ""
      ]
    }
  ],
  "metadata": {
    "accelerator": "GPU",
    "colab": {
      "collapsed_sections": [],
      "name": "binpord_practice_seq2seq_for_nmt_clean.ipynb",
      "provenance": []
    },
    "kernelspec": {
      "display_name": "Python 3 (ipykernel)",
      "language": "python",
      "name": "python3"
    },
    "language_info": {
      "codemirror_mode": {
        "name": "ipython",
        "version": 3
      },
      "file_extension": ".py",
      "mimetype": "text/x-python",
      "name": "python",
      "nbconvert_exporter": "python",
      "pygments_lexer": "ipython3",
      "version": "3.9.7"
    }
  },
  "nbformat": 4,
  "nbformat_minor": 0
}
