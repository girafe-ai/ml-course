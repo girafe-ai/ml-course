{
 "cells": [
  {
   "cell_type": "markdown",
   "metadata": {
    "id": "izA3-6kffbdT"
   },
   "source": [
    "# Practice: A Visual Notebook to Using BERT for the First Time"
   ]
  },
  {
   "cell_type": "markdown",
   "metadata": {
    "id": "SEBgv15zoaX6"
   },
   "source": [
    "*Credits: first part of this notebook is strongly based on Jay Alammar's [great blog post](http://jalammar.github.io/a-visual-guide-to-using-bert-for-the-first-time/). His blog is a great way to dive into the DL and NLP concepts.*\n",
    "\n",
    "<img src=\"https://jalammar.github.io/images/distilBERT/bert-distilbert-sentence-classification.png\" />"
   ]
  },
  {
   "cell_type": "markdown",
   "metadata": {
    "id": "dVgtANpYoaX7"
   },
   "source": [
    "In this notebook, we will use pre-trained deep learning model to process some text. We will then use the output of that model to classify the text. The text is a list of sentences from film reviews. And we will calssify each sentence as either speaking \"positively\" about its subject of \"negatively\"."
   ]
  },
  {
   "cell_type": "markdown",
   "metadata": {
    "id": "0oCi6ZSnoaX7"
   },
   "source": [
    "## Models: Sentence Sentiment Classification"
   ]
  },
  {
   "cell_type": "markdown",
   "metadata": {
    "id": "pyRwVEI4oaX7"
   },
   "source": [
    "Our goal is to create a model that takes a sentence (just like the ones in our dataset) and produces either 1 (indicating the sentence carries a positive sentiment) or a 0 (indicating the sentence carries a negative sentiment). We can think of it as looking like this:\n",
    "\n",
    "<img src=\"https://jalammar.github.io/images/distilBERT/sentiment-classifier-1.png\" />\n",
    "\n",
    "Under the hood, the model is actually made up of two model.\n",
    "\n",
    "* DistilBERT processes the sentence and passes along some information it extracted from it on to the next model. DistilBERT is a smaller version of BERT developed and open sourced by the team at HuggingFace. It’s a lighter and faster version of BERT that roughly matches its performance.\n",
    "* The next model, a basic Logistic Regression model from scikit learn will take in the result of DistilBERT’s processing, and classify the sentence as either positive or negative (1 or 0, respectively).\n",
    "\n",
    "The data we pass between the two models is a vector of size 768. We can think of this of vector as an embedding for the sentence that we can use for classification.\n",
    "\n",
    "<img src=\"https://jalammar.github.io/images/distilBERT/distilbert-bert-sentiment-classifier.png\" />"
   ]
  },
  {
   "cell_type": "markdown",
   "metadata": {
    "id": "mQVOYe4PoaX8"
   },
   "source": [
    "## Dataset"
   ]
  },
  {
   "cell_type": "markdown",
   "metadata": {
    "id": "3S7DFxaeoaX9"
   },
   "source": [
    "The dataset we will use in this example is [SST2](https://nlp.stanford.edu/sentiment/index.html), which contains sentences from movie reviews, each labeled as either positive (has the value 1) or negative (has the value 0):\n",
    "\n",
    "\n",
    "<table class=\"features-table\">\n",
    "  <tr>\n",
    "    <th class=\"mdc-text-light-green-600\">\n",
    "    sentence\n",
    "    </th>\n",
    "    <th class=\"mdc-text-purple-600\">\n",
    "    label\n",
    "    </th>\n",
    "  </tr>\n",
    "  <tr>\n",
    "    <td class=\"mdc-bg-light-green-50\" style=\"text-align:left\">\n",
    "      a stirring , funny and finally transporting re imagining of beauty and the beast and 1930s horror films\n",
    "    </td>\n",
    "    <td class=\"mdc-bg-purple-50\">\n",
    "      1\n",
    "    </td>\n",
    "  </tr>\n",
    "  <tr>\n",
    "    <td class=\"mdc-bg-light-green-50\" style=\"text-align:left\">\n",
    "      apparently reassembled from the cutting room floor of any given daytime soap\n",
    "    </td>\n",
    "    <td class=\"mdc-bg-purple-50\">\n",
    "      0\n",
    "    </td>\n",
    "  </tr>\n",
    "  <tr>\n",
    "    <td class=\"mdc-bg-light-green-50\" style=\"text-align:left\">\n",
    "      they presume their audience won't sit still for a sociology lesson\n",
    "    </td>\n",
    "    <td class=\"mdc-bg-purple-50\">\n",
    "      0\n",
    "    </td>\n",
    "  </tr>\n",
    "  <tr>\n",
    "    <td class=\"mdc-bg-light-green-50\" style=\"text-align:left\">\n",
    "      this is a visually stunning rumination on love , memory , history and the war between art and commerce\n",
    "    </td>\n",
    "    <td class=\"mdc-bg-purple-50\">\n",
    "      1\n",
    "    </td>\n",
    "  </tr>\n",
    "  <tr>\n",
    "    <td class=\"mdc-bg-light-green-50\" style=\"text-align:left\">\n",
    "      jonathan parker 's bartleby should have been the be all end all of the modern office anomie films\n",
    "    </td>\n",
    "    <td class=\"mdc-bg-purple-50\">\n",
    "      1\n",
    "    </td>\n",
    "  </tr>\n",
    "</table>"
   ]
  },
  {
   "cell_type": "markdown",
   "metadata": {
    "id": "kPMv-7fOoaX-"
   },
   "source": [
    "## Installing the transformers library"
   ]
  },
  {
   "cell_type": "markdown",
   "metadata": {
    "id": "S9zZk1UgoaX_"
   },
   "source": [
    "Let's start by installing the huggingface transformers library so we can load our deep learning NLP model."
   ]
  },
  {
   "cell_type": "code",
   "execution_count": 1,
   "metadata": {
    "id": "To9ENLU90WGl"
   },
   "outputs": [],
   "source": [
    "!pip install -Uqq transformers"
   ]
  },
  {
   "cell_type": "markdown",
   "metadata": {
    "id": "zQ-42fh0hjsF"
   },
   "source": [
    "## Part 1. Using BERT for text classification."
   ]
  },
  {
   "cell_type": "markdown",
   "metadata": {
    "id": "SwbK19NFoaYB"
   },
   "source": [
    "## Loading pretrained BERT."
   ]
  },
  {
   "cell_type": "markdown",
   "metadata": {
    "id": "GITfp914oaYB"
   },
   "source": [
    "Here we will be using the pretrained DistilBERT model from `transformers` library. The easiest way to use such model is to use a `pipeline`. This can be done as follows:"
   ]
  },
  {
   "cell_type": "code",
   "execution_count": 2,
   "metadata": {
    "id": "4LyOoG8IoaYB",
    "outputId": "ffc9b3d4-f5c6-43ee-c31c-947f25e5e9f7",
    "colab": {
     "base_uri": "https://localhost:8080/"
    }
   },
   "outputs": [
    {
     "output_type": "execute_result",
     "data": {
      "text/plain": [
       "[{'score': 0.052928660064935684,\n",
       "  'sequence': \"hello i'm a role model.\",\n",
       "  'token': 2535,\n",
       "  'token_str': 'role'},\n",
       " {'score': 0.03968597203493118,\n",
       "  'sequence': \"hello i'm a fashion model.\",\n",
       "  'token': 4827,\n",
       "  'token_str': 'fashion'},\n",
       " {'score': 0.0347437709569931,\n",
       "  'sequence': \"hello i'm a business model.\",\n",
       "  'token': 2449,\n",
       "  'token_str': 'business'},\n",
       " {'score': 0.034622907638549805,\n",
       "  'sequence': \"hello i'm a model model.\",\n",
       "  'token': 2944,\n",
       "  'token_str': 'model'},\n",
       " {'score': 0.01814514584839344,\n",
       "  'sequence': \"hello i'm a modeling model.\",\n",
       "  'token': 11643,\n",
       "  'token_str': 'modeling'}]"
      ]
     },
     "metadata": {},
     "execution_count": 2
    }
   ],
   "source": [
    "from transformers import pipeline\n",
    "\n",
    "\n",
    "unmasker = pipeline('fill-mask', 'distilbert-base-uncased')\n",
    "unmasker(\"Hello I'm a [MASK] model.\")"
   ]
  },
  {
   "cell_type": "markdown",
   "metadata": {
    "id": "NnA23_CpoaYC"
   },
   "source": [
    "However, such approach is not very flexible and certainly doesn't allow you to fine-tune a model. For this reason we will use the model in a more manual way. For this we load the model and appropriate tokenizer and use them together. Here is how we can use them to extract features from our text:"
   ]
  },
  {
   "cell_type": "code",
   "execution_count": 3,
   "metadata": {
    "id": "O8gHVTAEoaYC",
    "outputId": "42d75b3d-0ff7-4061-ef1b-efb09ca7ca49",
    "colab": {
     "base_uri": "https://localhost:8080/"
    }
   },
   "outputs": [
    {
     "output_type": "execute_result",
     "data": {
      "text/plain": [
       "torch.Size([1, 23, 768])"
      ]
     },
     "metadata": {},
     "execution_count": 3
    }
   ],
   "source": [
    "import torch\n",
    "from transformers import DistilBertModel, DistilBertTokenizer, logging\n",
    "\n",
    "\n",
    "logging.set_verbosity_error()  # Ignore warning on model loading.\n",
    "tokenizer = DistilBertTokenizer.from_pretrained('distilbert-base-uncased')\n",
    "model = DistilBertModel.from_pretrained('distilbert-base-uncased')\n",
    "\n",
    "text = 'Lorem ipsum dolor sit amet, consectetur adipiscing elit.'\n",
    "tokenized_text = tokenizer(text, return_tensors='pt')\n",
    "\n",
    "with torch.no_grad():\n",
    "    output = model(**tokenized_text)\n",
    "\n",
    "output.last_hidden_state.shape"
   ]
  },
  {
   "cell_type": "markdown",
   "source": [
    "Except for the `logging` part, everything looks very similar to the code we saw in previous practice notebooks. The first thing we do is, just like always, tokenize our text.\n",
    "\n",
    "> **Note:** as you can see, we used `return_tensors` keyword argument in code above. This parameters just tells tokenizer to convert result into a PyTorch tensors to use them with our model. If we don't specify this parameter, we will get exactly same results, but packed into a python `list` objects.\n",
    "\n",
    "Let's look at this step a little closer. What exactly does the `tokenizer.__call__` return? Let's find out:"
   ],
   "metadata": {
    "id": "P5DAZw0tN8wi"
   }
  },
  {
   "cell_type": "code",
   "source": [
    "tokenized_text = tokenizer(text)\n",
    "\n",
    "for key, values in tokenized_text.items():\n",
    "    values_type = type(values).__name__\n",
    "    item_type = type(values[0]).__name__\n",
    "    values_sample = f\"[{', '.join(str(value) for value in values[:5])}, ...]\"\n",
    "    print(f\"{key}: {values_type}[{item_type}], length {len(values)}: {values_sample}\")"
   ],
   "metadata": {
    "colab": {
     "base_uri": "https://localhost:8080/"
    },
    "id": "KH77JkiNPCxA",
    "outputId": "13ff8021-d2b2-4760-eb79-73d5d7cc5cc0"
   },
   "execution_count": 4,
   "outputs": [
    {
     "output_type": "stream",
     "name": "stdout",
     "text": [
      "input_ids: list[int], length 23: [101, 19544, 2213, 12997, 17421, ...]\n",
      "attention_mask: list[int], length 23: [1, 1, 1, 1, 1, ...]\n"
     ]
    }
   ]
  },
  {
   "cell_type": "markdown",
   "source": [
    "The contents may differ for different models, however for the `DistilBert` model tokenizer returns a `dict`-like object with two python lists under keys `\"input_ids\"` and `\"attention_mask\"`. Both lists have the same length and the attention mask seems to only have ones. We'll deal with the mask later, for now let's focus on `\"input_ids\"` which is the token ids for the tokenized sequence. Let's decode them to make sure and see what is actually going on:"
   ],
   "metadata": {
    "id": "MzDnPSvrQdCB"
   }
  },
  {
   "cell_type": "code",
   "source": [
    "print(f\"Tokens: {tokenizer.convert_ids_to_tokens(tokenized_text['input_ids'])}\")\n",
    "print(f\"Decoded sequence: '{tokenizer.decode(tokenized_text['input_ids'])}'\")"
   ],
   "metadata": {
    "colab": {
     "base_uri": "https://localhost:8080/"
    },
    "id": "SK-Yg-FDMN3I",
    "outputId": "3b76b053-d60a-414e-9557-8681cd77fe55"
   },
   "execution_count": 5,
   "outputs": [
    {
     "output_type": "stream",
     "name": "stdout",
     "text": [
      "Tokens: ['[CLS]', 'lore', '##m', 'ip', '##sum', 'do', '##lor', 'sit', 'am', '##et', ',', 'con', '##se', '##ct', '##et', '##ur', 'adi', '##pis', '##cing', 'eli', '##t', '.', '[SEP]']\n",
      "Decoded sequence: '[CLS] lorem ipsum dolor sit amet, consectetur adipiscing elit. [SEP]'\n"
     ]
    }
   ]
  },
  {
   "cell_type": "markdown",
   "source": [
    "We see that tokenizer actually does quite a lot of work behind the curtains: it lowercases the sequence (remember, we use `*-uncased` model, which implies that it doesn't understand the upper case), adds special tokens (`[CLS]` and `[SEP]`) and applies the BPE. That is how we get 23 tokens for such a little text."
   ],
   "metadata": {
    "id": "syJ8naWFT87_"
   }
  },
  {
   "cell_type": "markdown",
   "source": [
    "<img src=\"https://jalammar.github.io/images/distilBERT/bert-distilbert-tokenization-2-token-ids.png\" />"
   ],
   "metadata": {
    "id": "pUmYkLeHd1m7"
   }
  },
  {
   "cell_type": "markdown",
   "metadata": {
    "id": "SVlcZqXqoaYC"
   },
   "source": [
    "## Loading the dataset"
   ]
  },
  {
   "cell_type": "markdown",
   "metadata": {
    "id": "M3YBY3DWoaYC"
   },
   "source": [
    "However, working with manually edited sentence is not interesting. Let's use our model to work with a dataset for sentiment classification. We'll use pandas to read the dataset and load it into a dataframe."
   ]
  },
  {
   "cell_type": "code",
   "execution_count": 6,
   "metadata": {
    "id": "cyoj29J24hPX",
    "colab": {
     "base_uri": "https://localhost:8080/",
     "height": 206
    },
    "outputId": "908c0b1c-1a7a-44e5-942b-3e18cd3c5e1f"
   },
   "outputs": [
    {
     "output_type": "execute_result",
     "data": {
      "text/html": [
       "\n",
       "  <div id=\"df-c8945663-ea39-4709-b7a9-cb34e6415474\">\n",
       "    <div class=\"colab-df-container\">\n",
       "      <div>\n",
       "<style scoped>\n",
       "    .dataframe tbody tr th:only-of-type {\n",
       "        vertical-align: middle;\n",
       "    }\n",
       "\n",
       "    .dataframe tbody tr th {\n",
       "        vertical-align: top;\n",
       "    }\n",
       "\n",
       "    .dataframe thead th {\n",
       "        text-align: right;\n",
       "    }\n",
       "</style>\n",
       "<table border=\"1\" class=\"dataframe\">\n",
       "  <thead>\n",
       "    <tr style=\"text-align: right;\">\n",
       "      <th></th>\n",
       "      <th>text</th>\n",
       "      <th>label</th>\n",
       "    </tr>\n",
       "  </thead>\n",
       "  <tbody>\n",
       "    <tr>\n",
       "      <th>0</th>\n",
       "      <td>a stirring , funny and finally transporting re...</td>\n",
       "      <td>1</td>\n",
       "    </tr>\n",
       "    <tr>\n",
       "      <th>1</th>\n",
       "      <td>apparently reassembled from the cutting room f...</td>\n",
       "      <td>0</td>\n",
       "    </tr>\n",
       "    <tr>\n",
       "      <th>2</th>\n",
       "      <td>they presume their audience wo n't sit still f...</td>\n",
       "      <td>0</td>\n",
       "    </tr>\n",
       "    <tr>\n",
       "      <th>3</th>\n",
       "      <td>this is a visually stunning rumination on love...</td>\n",
       "      <td>1</td>\n",
       "    </tr>\n",
       "    <tr>\n",
       "      <th>4</th>\n",
       "      <td>jonathan parker 's bartleby should have been t...</td>\n",
       "      <td>1</td>\n",
       "    </tr>\n",
       "  </tbody>\n",
       "</table>\n",
       "</div>\n",
       "      <button class=\"colab-df-convert\" onclick=\"convertToInteractive('df-c8945663-ea39-4709-b7a9-cb34e6415474')\"\n",
       "              title=\"Convert this dataframe to an interactive table.\"\n",
       "              style=\"display:none;\">\n",
       "        \n",
       "  <svg xmlns=\"http://www.w3.org/2000/svg\" height=\"24px\"viewBox=\"0 0 24 24\"\n",
       "       width=\"24px\">\n",
       "    <path d=\"M0 0h24v24H0V0z\" fill=\"none\"/>\n",
       "    <path d=\"M18.56 5.44l.94 2.06.94-2.06 2.06-.94-2.06-.94-.94-2.06-.94 2.06-2.06.94zm-11 1L8.5 8.5l.94-2.06 2.06-.94-2.06-.94L8.5 2.5l-.94 2.06-2.06.94zm10 10l.94 2.06.94-2.06 2.06-.94-2.06-.94-.94-2.06-.94 2.06-2.06.94z\"/><path d=\"M17.41 7.96l-1.37-1.37c-.4-.4-.92-.59-1.43-.59-.52 0-1.04.2-1.43.59L10.3 9.45l-7.72 7.72c-.78.78-.78 2.05 0 2.83L4 21.41c.39.39.9.59 1.41.59.51 0 1.02-.2 1.41-.59l7.78-7.78 2.81-2.81c.8-.78.8-2.07 0-2.86zM5.41 20L4 18.59l7.72-7.72 1.47 1.35L5.41 20z\"/>\n",
       "  </svg>\n",
       "      </button>\n",
       "      \n",
       "  <style>\n",
       "    .colab-df-container {\n",
       "      display:flex;\n",
       "      flex-wrap:wrap;\n",
       "      gap: 12px;\n",
       "    }\n",
       "\n",
       "    .colab-df-convert {\n",
       "      background-color: #E8F0FE;\n",
       "      border: none;\n",
       "      border-radius: 50%;\n",
       "      cursor: pointer;\n",
       "      display: none;\n",
       "      fill: #1967D2;\n",
       "      height: 32px;\n",
       "      padding: 0 0 0 0;\n",
       "      width: 32px;\n",
       "    }\n",
       "\n",
       "    .colab-df-convert:hover {\n",
       "      background-color: #E2EBFA;\n",
       "      box-shadow: 0px 1px 2px rgba(60, 64, 67, 0.3), 0px 1px 3px 1px rgba(60, 64, 67, 0.15);\n",
       "      fill: #174EA6;\n",
       "    }\n",
       "\n",
       "    [theme=dark] .colab-df-convert {\n",
       "      background-color: #3B4455;\n",
       "      fill: #D2E3FC;\n",
       "    }\n",
       "\n",
       "    [theme=dark] .colab-df-convert:hover {\n",
       "      background-color: #434B5C;\n",
       "      box-shadow: 0px 1px 3px 1px rgba(0, 0, 0, 0.15);\n",
       "      filter: drop-shadow(0px 1px 2px rgba(0, 0, 0, 0.3));\n",
       "      fill: #FFFFFF;\n",
       "    }\n",
       "  </style>\n",
       "\n",
       "      <script>\n",
       "        const buttonEl =\n",
       "          document.querySelector('#df-c8945663-ea39-4709-b7a9-cb34e6415474 button.colab-df-convert');\n",
       "        buttonEl.style.display =\n",
       "          google.colab.kernel.accessAllowed ? 'block' : 'none';\n",
       "\n",
       "        async function convertToInteractive(key) {\n",
       "          const element = document.querySelector('#df-c8945663-ea39-4709-b7a9-cb34e6415474');\n",
       "          const dataTable =\n",
       "            await google.colab.kernel.invokeFunction('convertToInteractive',\n",
       "                                                     [key], {});\n",
       "          if (!dataTable) return;\n",
       "\n",
       "          const docLinkHtml = 'Like what you see? Visit the ' +\n",
       "            '<a target=\"_blank\" href=https://colab.research.google.com/notebooks/data_table.ipynb>data table notebook</a>'\n",
       "            + ' to learn more about interactive tables.';\n",
       "          element.innerHTML = '';\n",
       "          dataTable['output_type'] = 'display_data';\n",
       "          await google.colab.output.renderOutput(dataTable, element);\n",
       "          const docLink = document.createElement('div');\n",
       "          docLink.innerHTML = docLinkHtml;\n",
       "          element.appendChild(docLink);\n",
       "        }\n",
       "      </script>\n",
       "    </div>\n",
       "  </div>\n",
       "  "
      ],
      "text/plain": [
       "                                                text  label\n",
       "0  a stirring , funny and finally transporting re...      1\n",
       "1  apparently reassembled from the cutting room f...      0\n",
       "2  they presume their audience wo n't sit still f...      0\n",
       "3  this is a visually stunning rumination on love...      1\n",
       "4  jonathan parker 's bartleby should have been t...      1"
      ]
     },
     "metadata": {},
     "execution_count": 6
    }
   ],
   "source": [
    "import pandas as pd\n",
    "\n",
    "\n",
    "dataset_url = (\n",
    "    'https://github.com/clairett/pytorch-sentiment-classification/raw/master/data/SST2/train.tsv'\n",
    ")\n",
    "dataset = pd.read_csv(dataset_url, delimiter='\\t', header=None)\n",
    "dataset.columns = ['text', 'label']\n",
    "dataset.head()"
   ]
  },
  {
   "cell_type": "markdown",
   "metadata": {
    "id": "dMVE3waNhuNj"
   },
   "source": [
    "For performance reasons, we'll only use 2,000 sentences from the dataset"
   ]
  },
  {
   "cell_type": "code",
   "execution_count": 7,
   "metadata": {
    "id": "gTM3hOHW4hUY"
   },
   "outputs": [],
   "source": [
    "dataset = dataset[:2000]"
   ]
  },
  {
   "cell_type": "markdown",
   "metadata": {
    "id": "PRc2L89hh1Tf"
   },
   "source": [
    "We can ask pandas how many sentences are labeled as \"positive\" (value 1) and how many are labeled \"negative\" (having the value 0)"
   ]
  },
  {
   "cell_type": "code",
   "execution_count": 8,
   "metadata": {
    "colab": {
     "base_uri": "https://localhost:8080/"
    },
    "id": "jGvcfcCP5xpZ",
    "outputId": "a6214c63-65d0-42a4-f78d-d94fdd3bc4cc"
   },
   "outputs": [
    {
     "output_type": "execute_result",
     "data": {
      "text/plain": [
       "1    1041\n",
       "0     959\n",
       "Name: label, dtype: int64"
      ]
     },
     "metadata": {},
     "execution_count": 8
    }
   ],
   "source": [
    "dataset['label'].value_counts()"
   ]
  },
  {
   "cell_type": "markdown",
   "metadata": {
    "id": "lZDBMn3wiSX6"
   },
   "source": [
    "## Preparing the Dataset"
   ]
  },
  {
   "cell_type": "markdown",
   "metadata": {
    "id": "NiNzCErkoaYE"
   },
   "source": [
    "Before we can hand our sentences to BERT, we need to so some processing to put them in the format it requires. First, let's split our `dataset` into separate `texts` and `labels`."
   ]
  },
  {
   "cell_type": "code",
   "source": [
    "texts = dataset['text'].tolist()\n",
    "labels = dataset['label'].values"
   ],
   "metadata": {
    "id": "m8ipGP0raY7r"
   },
   "execution_count": 9,
   "outputs": []
  },
  {
   "cell_type": "markdown",
   "source": [
    "Now we need to tokenize our texts."
   ],
   "metadata": {
    "id": "PmNUir6fcLbl"
   }
  },
  {
   "cell_type": "code",
   "source": [
    "# YOUR CODE HERE\n",
    "# Tokenize the texts in dataset.\n",
    "# Hint: our tokenizer can also work with lists of strings.\n",
    "# tokenized_texts = ...\n",
    "tokenized_texts = tokenizer(texts)\n",
    "\n",
    "for key, values in tokenized_texts.items():\n",
    "    values_type = type(values).__name__\n",
    "    item_type = type(values[0]).__name__\n",
    "    print(f\"{key}: {values_type}[{item_type}], length {len(values)}\")"
   ],
   "metadata": {
    "colab": {
     "base_uri": "https://localhost:8080/"
    },
    "id": "PyLowtCxajkq",
    "outputId": "9d386cd9-3c37-45cd-f8fe-34f054285270"
   },
   "execution_count": 10,
   "outputs": [
    {
     "output_type": "stream",
     "name": "stdout",
     "text": [
      "input_ids: list[list], length 2000\n",
      "attention_mask: list[list], length 2000\n"
     ]
    }
   ]
  },
  {
   "cell_type": "markdown",
   "source": [
    "We obtained a list of lists. However, what we want is `torch.tensor` so that we could use it with our model. It's time to remember how we used to specify the `return_tensors` option! However, if we were to just specify it blindly, we would get an error. The problem here lies in the fact that sequences tend to have different lenghts:"
   ],
   "metadata": {
    "id": "ooqGLMl7cTe-"
   }
  },
  {
   "cell_type": "code",
   "source": [
    "for seq in tokenized_texts[\"input_ids\"][:5]:\n",
    "    print(len(seq))"
   ],
   "metadata": {
    "colab": {
     "base_uri": "https://localhost:8080/"
    },
    "id": "7SMycKghdkh2",
    "outputId": "dcb95cd1-907e-4edb-8fcb-df6cfd67d6b2"
   },
   "execution_count": 11,
   "outputs": [
    {
     "output_type": "stream",
     "name": "stdout",
     "text": [
      "20\n",
      "16\n",
      "45\n",
      "22\n",
      "25\n"
     ]
    }
   ]
  },
  {
   "cell_type": "markdown",
   "source": [
    "The most common solution to this problem, often used in NLP is the use of padding. Luckily for us, tokenizer from `transformers` can do the padding for us:"
   ],
   "metadata": {
    "id": "_MjmmfMseJVf"
   }
  },
  {
   "cell_type": "code",
   "source": [
    "tokenized_texts = tokenizer(dataset['text'].tolist(), return_tensors=\"pt\", padding=True)\n",
    "\n",
    "for key, values in tokenized_texts.items():\n",
    "    values_type = type(values).__name__\n",
    "    print(f\"{key}: {values_type}, {values.shape}\")"
   ],
   "metadata": {
    "colab": {
     "base_uri": "https://localhost:8080/"
    },
    "id": "ONgnhkuxe9kB",
    "outputId": "a63fa412-5317-4788-8050-4d73c38a507b"
   },
   "execution_count": 12,
   "outputs": [
    {
     "output_type": "stream",
     "name": "stdout",
     "text": [
      "input_ids: Tensor, torch.Size([2000, 59])\n",
      "attention_mask: Tensor, torch.Size([2000, 59])\n"
     ]
    }
   ]
  },
  {
   "cell_type": "markdown",
   "source": [
    "However, we just added lot's of extra items into most of our sequences:"
   ],
   "metadata": {
    "id": "u1AlfPcefj-m"
   }
  },
  {
   "cell_type": "code",
   "source": [
    "tokenized_texts[\"input_ids\"]"
   ],
   "metadata": {
    "colab": {
     "base_uri": "https://localhost:8080/"
    },
    "id": "XjfXDg8pgsFd",
    "outputId": "b1635101-98de-48bb-b7cf-5b9560c96edb"
   },
   "execution_count": 13,
   "outputs": [
    {
     "output_type": "execute_result",
     "data": {
      "text/plain": [
       "tensor([[  101,  1037, 18385,  ...,     0,     0,     0],\n",
       "        [  101,  4593,  2128,  ...,     0,     0,     0],\n",
       "        [  101,  2027,  3653,  ...,     0,     0,     0],\n",
       "        ...,\n",
       "        [  101,  2023,  2028,  ...,     0,     0,     0],\n",
       "        [  101,  1999,  1996,  ...,     0,     0,     0],\n",
       "        [  101,  1996,  3185,  ...,     0,     0,     0]])"
      ]
     },
     "metadata": {},
     "execution_count": 13
    }
   ]
  },
  {
   "cell_type": "markdown",
   "source": [
    "Note how all the sequences end with zeros. We already encountered such a problem, when trained our RNN on previous lessons and we tackled it with specifying the padding index to the `CrossEntropyLoss` so that our model doesn't train to predict padding. Right now we don't want to train our model to do anything, however, we are working with a transformer, which means that it uses the self-attention operation extensively. If we were to simply add these extra items, it would be likely to affect our results. And this is exactly the place where the `\"attention_mask\"` comes into play. It is used exactly to mask the padding from getting in a way of attention!"
   ],
   "metadata": {
    "id": "zkhDolkRgrti"
   }
  },
  {
   "cell_type": "code",
   "source": [
    "import matplotlib.pyplot as plt\n",
    "\n",
    "\n",
    "plt.pcolormesh(tokenized_texts[\"attention_mask\"])\n",
    "plt.axis(\"off\")\n",
    "plt.colorbar()\n",
    "plt.show()"
   ],
   "metadata": {
    "colab": {
     "base_uri": "https://localhost:8080/",
     "height": 258
    },
    "id": "gSCXbXVLg_7T",
    "outputId": "6cd0e97a-4127-43fe-8342-02b8117d00da"
   },
   "execution_count": 14,
   "outputs": [
    {
     "output_type": "display_data",
     "data": {
      "image/png": "[encoded data removed]",
      "text/plain": [
       "<Figure size 432x288 with 2 Axes>"
      ]
     },
     "metadata": {
      "needs_background": "light"
     }
    }
   ]
  },
  {
   "cell_type": "markdown",
   "metadata": {
    "id": "jK-CQB9-kN99"
   },
   "source": [
    "## And Now, Deep Learning!"
   ]
  },
  {
   "cell_type": "markdown",
   "metadata": {
    "id": "a0UsQGQ2oaYF"
   },
   "source": [
    "Now that we have our model and inputs ready, let's run our model! However, running it on a cpu takes several minutes. We can speed this up via using the GPU. For this, however, we would need to split our dataset into batches of data.\n",
    "\n",
    "<img src=\"https://jalammar.github.io/images/distilBERT/bert-distilbert-tutorial-sentence-embedding.png\" />"
   ]
  },
  {
   "cell_type": "markdown",
   "source": [
    "Let's slice only the part of the output that we need. That is the output corresponding the first token of each sentence. The way BERT does sentence classification, is that it adds a token called `[CLS]` (for classification) at the beginning of every sentence. The output corresponding to that token can be thought of as an embedding for the entire sentence.\n",
    "\n",
    "<img src=\"https://jalammar.github.io/images/distilBERT/bert-output-tensor-selection.png\" />\n",
    "\n",
    "We'll save those in the `features` variable, as they'll serve as the features to our logitics regression model. Also remember, how we created the `labels` variable to hold our labels."
   ],
   "metadata": {
    "id": "KBqHs4d_ObTc"
   }
  },
  {
   "cell_type": "code",
   "execution_count": 15,
   "metadata": {
    "id": "39UVjAV56PJz",
    "colab": {
     "base_uri": "https://localhost:8080/"
    },
    "outputId": "78b7f067-325f-47f2-c218-a99331f2c7d2"
   },
   "outputs": [
    {
     "output_type": "execute_result",
     "data": {
      "text/plain": [
       "(2000, 768)"
      ]
     },
     "metadata": {},
     "execution_count": 15
    }
   ],
   "source": [
    "import numpy as np\n",
    "\n",
    "\n",
    "device = torch.device(\"cuda:0\" if torch.cuda.is_available() else \"cpu\")\n",
    "model.to(device)\n",
    "\n",
    "batch_size = 32\n",
    "features = []\n",
    "with torch.no_grad():\n",
    "    for i in range(0, len(texts), batch_size):\n",
    "        texts_batch = tokenized_texts[\"input_ids\"][i : i + batch_size].to(device)\n",
    "        masks_batch = tokenized_texts[\"attention_mask\"][i : i + batch_size].to(device)\n",
    "        output = model(texts_batch, masks_batch)\n",
    "        batch_features = output.last_hidden_state[:, 0, :].cpu().numpy()\n",
    "        features.append(batch_features)\n",
    "\n",
    "features = np.concatenate(features, axis=0)\n",
    "features.shape"
   ]
  },
  {
   "cell_type": "markdown",
   "metadata": {
    "id": "iaoEvM2evRx1"
   },
   "source": [
    "## Classifier training"
   ]
  },
  {
   "cell_type": "markdown",
   "metadata": {
    "id": "02wlGPSLoaYG"
   },
   "source": [
    "Let's now split our datset into a training set and testing set (even though we're using 2,000 sentences from the SST2 training set)."
   ]
  },
  {
   "cell_type": "code",
   "execution_count": 16,
   "metadata": {
    "id": "ddAqbkoU6PP9"
   },
   "outputs": [],
   "source": [
    "from sklearn.model_selection import train_test_split\n",
    "\n",
    "\n",
    "train_features, test_features, train_labels, test_labels = train_test_split(features, labels)"
   ]
  },
  {
   "cell_type": "markdown",
   "metadata": {
    "id": "B9bhSJpcv1Bl"
   },
   "source": [
    "<img src=\"https://jalammar.github.io/images/distilBERT/bert-distilbert-train-test-split-sentence-embedding.png\" />"
   ]
  },
  {
   "cell_type": "markdown",
   "metadata": {
    "id": "uW_IiKvToaYG"
   },
   "source": [
    "We can dive into Logistic regression directly with the Scikit Learn default parameters, but sometimes it's worth searching for the best value of the C parameter, which determines regularization strength."
   ]
  },
  {
   "cell_type": "code",
   "execution_count": 17,
   "metadata": {
    "id": "cyEwr7yYD3Ci"
   },
   "outputs": [],
   "source": [
    "# YOUR CODE HERE\n",
    "# [EXTRA] Grid search for parameters"
   ]
  },
  {
   "cell_type": "markdown",
   "metadata": {
    "id": "KCT9u8vAwnID"
   },
   "source": [
    "We now train the LogisticRegression model. If you've chosen to do the gridsearch, you can plug the best hyperparameter values into the model declaration."
   ]
  },
  {
   "cell_type": "code",
   "execution_count": 18,
   "metadata": {
    "id": "gG-EVWx4CzBc"
   },
   "outputs": [],
   "source": [
    "import warnings\n",
    "\n",
    "from sklearn.linear_model import LogisticRegression\n",
    "\n",
    "\n",
    "warnings.simplefilter('ignore')  # Ignore warning on model fitting.\n",
    "lr_clf = LogisticRegression().fit(train_features, train_labels)"
   ]
  },
  {
   "cell_type": "markdown",
   "metadata": {
    "id": "3rUMKuVgwzkY"
   },
   "source": [
    "<img src=\"https://jalammar.github.io/images/distilBERT/bert-training-logistic-regression.png\" />\n",
    "\n",
    "So how well does our model do in classifying sentences? One way is to check the accuracy against the testing dataset:"
   ]
  },
  {
   "cell_type": "code",
   "execution_count": 19,
   "metadata": {
    "colab": {
     "base_uri": "https://localhost:8080/"
    },
    "id": "iCoyxRJ7ECTA",
    "outputId": "3472fa11-e7bb-45aa-b5c9-d23db7392423"
   },
   "outputs": [
    {
     "output_type": "execute_result",
     "data": {
      "text/plain": [
       "0.868"
      ]
     },
     "metadata": {},
     "execution_count": 19
    }
   ],
   "source": [
    "lr_clf.score(test_features, test_labels)"
   ]
  },
  {
   "cell_type": "markdown",
   "source": [
    "Another way to evaluate classification model is to plot the ROC curve and compute the area under it."
   ],
   "metadata": {
    "id": "2xA5YIJPDYek"
   }
  },
  {
   "cell_type": "code",
   "source": [
    "from sklearn.metrics import roc_auc_score, roc_curve\n",
    "\n",
    "\n",
    "plt.figure(figsize=(10, 6))\n",
    "\n",
    "proba = lr_clf.predict_proba(train_features)[:, 1]\n",
    "auc = roc_auc_score(train_labels, proba)\n",
    "plt.plot(*roc_curve(train_labels, proba)[:2], label=f'train AUC={auc:.4f}')\n",
    "\n",
    "proba = lr_clf.predict_proba(test_features)[:, 1]\n",
    "auc = roc_auc_score(test_labels, proba)\n",
    "plt.plot(*roc_curve(test_labels, proba)[:2], label=f'test AUC={auc:.4f}')\n",
    "\n",
    "plt.legend()\n",
    "plt.show()"
   ],
   "metadata": {
    "colab": {
     "base_uri": "https://localhost:8080/",
     "height": 374
    },
    "id": "186Bwg7UDLkU",
    "outputId": "26f970d5-4bad-44d4-fa09-cbe42c1c9d6c"
   },
   "execution_count": 20,
   "outputs": [
    {
     "output_type": "display_data",
     "data": {
      "image/png": "[encoded data removed]",
      "text/plain": [
       "<Figure size 720x432 with 1 Axes>"
      ]
     },
     "metadata": {
      "needs_background": "light"
     }
    }
   ]
  },
  {
   "cell_type": "markdown",
   "metadata": {
    "id": "75oyhr3VxHoE"
   },
   "source": [
    "How good is this score? What can we compare it against? Let's first look at a dummy classifier:"
   ]
  },
  {
   "cell_type": "code",
   "execution_count": 21,
   "metadata": {
    "colab": {
     "base_uri": "https://localhost:8080/"
    },
    "id": "lnwgmqNG7i5l",
    "outputId": "2425fa54-58a7-4224-effe-f9c7f37d3a05"
   },
   "outputs": [
    {
     "output_type": "stream",
     "name": "stdout",
     "text": [
      "Dummy classifier score: 0.518 (+/- 0.003)\n"
     ]
    }
   ],
   "source": [
    "from sklearn.dummy import DummyClassifier\n",
    "from sklearn.model_selection import cross_val_score\n",
    "\n",
    "\n",
    "clf = DummyClassifier()\n",
    "scores = cross_val_score(clf, train_features, train_labels)\n",
    "print(f\"Dummy classifier score: {scores.mean():.3f} (+/- {2 * scores.std():.3f})\")"
   ]
  },
  {
   "cell_type": "markdown",
   "metadata": {
    "id": "7Lg4LOpoxSOR"
   },
   "source": [
    "So our model clearly does better than a dummy classifier. But how does it compare against the best models?\n",
    "\n",
    "For reference, the [highest accuracy score](http://nlpprogress.com/english/sentiment_analysis.html) for this dataset is currently **96.8**. DistilBERT can be trained to improve its score on this task – a process called **fine-tuning** which updates BERT’s weights to make it achieve a better performance in this sentence classification task (which we can call the downstream task). The fine-tuned DistilBERT turns out to achieve an accuracy score of **90.7**. The full size BERT model achieves **94.9**.\n",
    "\n",
    "And that’s it! That’s a good first contact with BERT. The next step would be to head over to the documentation and try your hand at [fine-tuning](https://huggingface.co/transformers/examples.html#glue). You can also go back and switch from distilBERT to BERT and see how that works."
   ]
  },
  {
   "cell_type": "markdown",
   "metadata": {
    "id": "EJQuqV6cnWQu",
    "outputId": "402d109c-01bb-485d-a510-4be8684c9c06"
   },
   "source": [
    "## Part 2: Looking back."
   ]
  },
  {
   "cell_type": "markdown",
   "metadata": {
    "outputId": "402d109c-01bb-485d-a510-4be8684c9c06",
    "id": "zIBbP_oroaYH"
   },
   "source": [
    "Now it is your turn to reproduce the steps above.\n",
    "\n",
    "We shall revisit the first homework and see whether we could improve the results a little bit more. The average ROC-AUC on test set was around $0.9$ (using the words embeddings). \n",
    "\n",
    "__Let's see whether we can beat it.__"
   ]
  },
  {
   "cell_type": "code",
   "execution_count": 22,
   "metadata": {
    "colab": {
     "base_uri": "https://localhost:8080/",
     "height": 206
    },
    "id": "kz8QBEXozHJx",
    "outputId": "d4ac5072-c505-4c8f-89a6-b09eac02856a"
   },
   "outputs": [
    {
     "output_type": "execute_result",
     "data": {
      "text/html": [
       "\n",
       "  <div id=\"df-cd601245-75ce-4132-986d-c184b271112f\">\n",
       "    <div class=\"colab-df-container\">\n",
       "      <div>\n",
       "<style scoped>\n",
       "    .dataframe tbody tr th:only-of-type {\n",
       "        vertical-align: middle;\n",
       "    }\n",
       "\n",
       "    .dataframe tbody tr th {\n",
       "        vertical-align: top;\n",
       "    }\n",
       "\n",
       "    .dataframe thead th {\n",
       "        text-align: right;\n",
       "    }\n",
       "</style>\n",
       "<table border=\"1\" class=\"dataframe\">\n",
       "  <thead>\n",
       "    <tr style=\"text-align: right;\">\n",
       "      <th></th>\n",
       "      <th>should_ban</th>\n",
       "      <th>comment_text</th>\n",
       "    </tr>\n",
       "  </thead>\n",
       "  <tbody>\n",
       "    <tr>\n",
       "      <th>0</th>\n",
       "      <td>0</td>\n",
       "      <td>The picture on the article is not of the actor...</td>\n",
       "    </tr>\n",
       "    <tr>\n",
       "      <th>1</th>\n",
       "      <td>1</td>\n",
       "      <td>Its madness. Shes of Chinese heritage, but JAP...</td>\n",
       "    </tr>\n",
       "    <tr>\n",
       "      <th>2</th>\n",
       "      <td>1</td>\n",
       "      <td>Fuck You. Why don't you suck a turd out of my ...</td>\n",
       "    </tr>\n",
       "    <tr>\n",
       "      <th>3</th>\n",
       "      <td>1</td>\n",
       "      <td>God is dead\\nI don't mean to startle anyone bu...</td>\n",
       "    </tr>\n",
       "    <tr>\n",
       "      <th>4</th>\n",
       "      <td>1</td>\n",
       "      <td>THIS USER IS A PLANT FROM BRUCE PERENS AND GRO...</td>\n",
       "    </tr>\n",
       "  </tbody>\n",
       "</table>\n",
       "</div>\n",
       "      <button class=\"colab-df-convert\" onclick=\"convertToInteractive('df-cd601245-75ce-4132-986d-c184b271112f')\"\n",
       "              title=\"Convert this dataframe to an interactive table.\"\n",
       "              style=\"display:none;\">\n",
       "        \n",
       "  <svg xmlns=\"http://www.w3.org/2000/svg\" height=\"24px\"viewBox=\"0 0 24 24\"\n",
       "       width=\"24px\">\n",
       "    <path d=\"M0 0h24v24H0V0z\" fill=\"none\"/>\n",
       "    <path d=\"M18.56 5.44l.94 2.06.94-2.06 2.06-.94-2.06-.94-.94-2.06-.94 2.06-2.06.94zm-11 1L8.5 8.5l.94-2.06 2.06-.94-2.06-.94L8.5 2.5l-.94 2.06-2.06.94zm10 10l.94 2.06.94-2.06 2.06-.94-2.06-.94-.94-2.06-.94 2.06-2.06.94z\"/><path d=\"M17.41 7.96l-1.37-1.37c-.4-.4-.92-.59-1.43-.59-.52 0-1.04.2-1.43.59L10.3 9.45l-7.72 7.72c-.78.78-.78 2.05 0 2.83L4 21.41c.39.39.9.59 1.41.59.51 0 1.02-.2 1.41-.59l7.78-7.78 2.81-2.81c.8-.78.8-2.07 0-2.86zM5.41 20L4 18.59l7.72-7.72 1.47 1.35L5.41 20z\"/>\n",
       "  </svg>\n",
       "      </button>\n",
       "      \n",
       "  <style>\n",
       "    .colab-df-container {\n",
       "      display:flex;\n",
       "      flex-wrap:wrap;\n",
       "      gap: 12px;\n",
       "    }\n",
       "\n",
       "    .colab-df-convert {\n",
       "      background-color: #E8F0FE;\n",
       "      border: none;\n",
       "      border-radius: 50%;\n",
       "      cursor: pointer;\n",
       "      display: none;\n",
       "      fill: #1967D2;\n",
       "      height: 32px;\n",
       "      padding: 0 0 0 0;\n",
       "      width: 32px;\n",
       "    }\n",
       "\n",
       "    .colab-df-convert:hover {\n",
       "      background-color: #E2EBFA;\n",
       "      box-shadow: 0px 1px 2px rgba(60, 64, 67, 0.3), 0px 1px 3px 1px rgba(60, 64, 67, 0.15);\n",
       "      fill: #174EA6;\n",
       "    }\n",
       "\n",
       "    [theme=dark] .colab-df-convert {\n",
       "      background-color: #3B4455;\n",
       "      fill: #D2E3FC;\n",
       "    }\n",
       "\n",
       "    [theme=dark] .colab-df-convert:hover {\n",
       "      background-color: #434B5C;\n",
       "      box-shadow: 0px 1px 3px 1px rgba(0, 0, 0, 0.15);\n",
       "      filter: drop-shadow(0px 1px 2px rgba(0, 0, 0, 0.3));\n",
       "      fill: #FFFFFF;\n",
       "    }\n",
       "  </style>\n",
       "\n",
       "      <script>\n",
       "        const buttonEl =\n",
       "          document.querySelector('#df-cd601245-75ce-4132-986d-c184b271112f button.colab-df-convert');\n",
       "        buttonEl.style.display =\n",
       "          google.colab.kernel.accessAllowed ? 'block' : 'none';\n",
       "\n",
       "        async function convertToInteractive(key) {\n",
       "          const element = document.querySelector('#df-cd601245-75ce-4132-986d-c184b271112f');\n",
       "          const dataTable =\n",
       "            await google.colab.kernel.invokeFunction('convertToInteractive',\n",
       "                                                     [key], {});\n",
       "          if (!dataTable) return;\n",
       "\n",
       "          const docLinkHtml = 'Like what you see? Visit the ' +\n",
       "            '<a target=\"_blank\" href=https://colab.research.google.com/notebooks/data_table.ipynb>data table notebook</a>'\n",
       "            + ' to learn more about interactive tables.';\n",
       "          element.innerHTML = '';\n",
       "          dataTable['output_type'] = 'display_data';\n",
       "          await google.colab.output.renderOutput(dataTable, element);\n",
       "          const docLink = document.createElement('div');\n",
       "          docLink.innerHTML = docLinkHtml;\n",
       "          element.appendChild(docLink);\n",
       "        }\n",
       "      </script>\n",
       "    </div>\n",
       "  </div>\n",
       "  "
      ],
      "text/plain": [
       "   should_ban                                       comment_text\n",
       "0           0  The picture on the article is not of the actor...\n",
       "1           1  Its madness. Shes of Chinese heritage, but JAP...\n",
       "2           1  Fuck You. Why don't you suck a turd out of my ...\n",
       "3           1  God is dead\\nI don't mean to startle anyone bu...\n",
       "4           1  THIS USER IS A PLANT FROM BRUCE PERENS AND GRO..."
      ]
     },
     "metadata": {},
     "execution_count": 22
    }
   ],
   "source": [
    "dataset_url = 'https://raw.githubusercontent.com/neychev/made_nlp_course/master/datasets/comments_small_dataset/comments.tsv'\n",
    "dataset = pd.read_csv(dataset_url, sep='\\t')\n",
    "dataset.head()"
   ]
  },
  {
   "cell_type": "markdown",
   "source": [
    "One last note: this dataset contains some very long sentences, while the vast majority of sequences fall into category of 500 tokens and less:"
   ],
   "metadata": {
    "id": "ZPyxeBCgGtfg"
   }
  },
  {
   "cell_type": "code",
   "execution_count": 23,
   "metadata": {
    "id": "XdZjuVxRoaYH",
    "colab": {
     "base_uri": "https://localhost:8080/",
     "height": 374
    },
    "outputId": "b3c3d368-87b5-4c37-b24c-0507f2a8ad0d"
   },
   "outputs": [
    {
     "output_type": "display_data",
     "data": {
      "image/png": "[encoded data removed]",
      "text/plain": [
       "<Figure size 720x432 with 1 Axes>"
      ]
     },
     "metadata": {
      "needs_background": "light"
     }
    }
   ],
   "source": [
    "texts = dataset[\"comment_text\"].tolist()\n",
    "tokenized_texts = tokenizer(texts)\n",
    "ids_lens = list(len(toks) for toks in tokenized_texts[\"input_ids\"])\n",
    "\n",
    "plt.figure(figsize=(10, 6))\n",
    "plt.hist(ids_lens)\n",
    "plt.show()"
   ]
  },
  {
   "cell_type": "markdown",
   "source": [
    "We already know, how to tackle the problem of different sizes of sequences with padding. However, blind padding here would make pad all the sequenes to the size of the largest one, which seems to be an overkill. In such case it might be sensible to actually truncate the too-long sequences into a fixed length, say 512. And we can do this easily by specifying the `max_length` and `truncation=True` arguments to the tokenizer."
   ],
   "metadata": {
    "id": "66wufVncHF8f"
   }
  },
  {
   "cell_type": "code",
   "source": [
    "# YOUR CODE HERE\n",
    "tokenized_texts = tokenizer(\n",
    "    texts, max_length=512, return_tensors=\"pt\", padding=True, truncation=True\n",
    ")\n",
    "\n",
    "features = []\n",
    "with torch.no_grad():\n",
    "    for i in range(0, len(texts), batch_size):\n",
    "        texts_batch = tokenized_texts[\"input_ids\"][i : i + batch_size].to(device)\n",
    "        masks_batch = tokenized_texts[\"attention_mask\"][i : i + batch_size].to(device)\n",
    "        output = model(texts_batch, masks_batch)\n",
    "        batch_features = output.last_hidden_state[:, 0, :].cpu().numpy()\n",
    "        features.append(batch_features)\n",
    "\n",
    "features = np.concatenate(features, axis=0)\n",
    "features.shape"
   ],
   "metadata": {
    "colab": {
     "base_uri": "https://localhost:8080/"
    },
    "id": "_LOYXhz_FKTr",
    "outputId": "3810844f-2c91-4131-d510-bd75f1593975"
   },
   "execution_count": 24,
   "outputs": [
    {
     "output_type": "execute_result",
     "data": {
      "text/plain": [
       "(1000, 768)"
      ]
     },
     "metadata": {},
     "execution_count": 24
    }
   ]
  },
  {
   "cell_type": "code",
   "source": [
    "labels = dataset[\"should_ban\"].values\n",
    "train_features, test_features, train_labels, test_labels = train_test_split(features, labels)\n",
    "lr_clf = LogisticRegression(C=0.1)\n",
    "lr_clf.fit(train_features, train_labels)\n",
    "lr_clf.score(test_features, test_labels)"
   ],
   "metadata": {
    "colab": {
     "base_uri": "https://localhost:8080/"
    },
    "id": "Q6dOtVJsMXGa",
    "outputId": "22d7b8e5-3205-4c95-8f57-e9dcaddc2add"
   },
   "execution_count": 25,
   "outputs": [
    {
     "output_type": "execute_result",
     "data": {
      "text/plain": [
       "0.832"
      ]
     },
     "metadata": {},
     "execution_count": 25
    }
   ]
  },
  {
   "cell_type": "code",
   "source": [
    "plt.figure(figsize=(10, 6))\n",
    "\n",
    "proba = lr_clf.predict_proba(train_features)[:, 1]\n",
    "auc = roc_auc_score(train_labels, proba)\n",
    "plt.plot(*roc_curve(train_labels, proba)[:2], label=f'train AUC={auc:.4f}')\n",
    "\n",
    "proba = lr_clf.predict_proba(test_features)[:, 1]\n",
    "auc = roc_auc_score(test_labels, proba)\n",
    "plt.plot(*roc_curve(test_labels, proba)[:2], label=f'test AUC={auc:.4f}')\n",
    "\n",
    "plt.legend()\n",
    "plt.show()"
   ],
   "metadata": {
    "colab": {
     "base_uri": "https://localhost:8080/",
     "height": 374
    },
    "id": "spZ4yhrdMm4V",
    "outputId": "02c2449b-1786-4de1-cb6b-aeff6de3c775"
   },
   "execution_count": 26,
   "outputs": [
    {
     "output_type": "display_data",
     "data": {
      "image/png": "[encoded data removed]",
      "text/plain": [
       "<Figure size 720x432 with 1 Axes>"
      ]
     },
     "metadata": {
      "needs_background": "light"
     }
    }
   ]
  },
  {
   "cell_type": "markdown",
   "metadata": {
    "id": "cc1hBVfbzHJ7"
   },
   "source": [
    "So, how does it look? Did we achieve better results? \n",
    "\n",
    "Here come some further ideas:\n",
    "\n",
    "* Try using the larger BERT (e.g. BERT-base or BERT-large) and compare the results (be careful, they require more memory).\n",
    "\n",
    "* Using BERT output for translation? Why not ;)"
   ]
  }
 ],
 "metadata": {
  "colab": {
   "machine_shape": "hm",
   "name": "practice_bert_for_text_classification_solved.ipynb",
   "provenance": [],
   "collapsed_sections": []
  },
  "kernelspec": {
   "display_name": "Python 3 (ipykernel)",
   "language": "python",
   "name": "python3"
  },
  "language_info": {
   "codemirror_mode": {
    "name": "ipython",
    "version": 3
   },
   "file_extension": ".py",
   "mimetype": "text/x-python",
   "name": "python",
   "nbconvert_exporter": "python",
   "pygments_lexer": "ipython3",
   "version": "3.9.7"
  },
  "accelerator": "GPU"
 },
 "nbformat": 4,
 "nbformat_minor": 0
}
