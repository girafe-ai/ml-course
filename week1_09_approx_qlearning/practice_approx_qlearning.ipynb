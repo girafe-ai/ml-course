{
 "cells": [
  {
   "cell_type": "markdown",
   "metadata": {
    "id": "vDwqM_GRYaOY"
   },
   "source": [
    "# Practice: approximate q-learning"
   ]
  },
  {
   "cell_type": "markdown",
   "metadata": {
    "id": "SLrzIf8aeOs9"
   },
   "source": [
    "In this notebook you will teach a __PyTorch__ neural network to do Q-learning."
   ]
  },
  {
   "cell_type": "code",
   "execution_count": null,
   "metadata": {
    "id": "S1mg93zbYaOb"
   },
   "outputs": [],
   "source": [
    "import os\n",
    "import sys\n",
    "\n",
    "\n",
    "if \"google.colab\" in sys.modules and not os.path.exists(\".setup_complete\"):\n",
    "    !wget -q https://raw.githubusercontent.com/yandexdataschool/Practical_RL/master/setup_colab.sh -O- | bash\n",
    "    !touch .setup_complete\n",
    "\n",
    "# This code creates a virtual display to draw game images on.\n",
    "# It will have no effect if your machine has a monitor.\n",
    "if type(os.environ.get(\"DISPLAY\")) is not str or len(os.environ.get(\"DISPLAY\")) == 0:\n",
    "    !bash ../xvfb start\n",
    "    os.environ[\"DISPLAY\"] = \":1\""
   ]
  },
  {
   "cell_type": "code",
   "execution_count": null,
   "metadata": {
    "id": "MnGor2mlYaOc"
   },
   "outputs": [],
   "source": [
    "import gym\n",
    "import matplotlib.pyplot as plt\n",
    "import numpy as np\n",
    "import pandas as pd\n",
    "\n",
    "\n",
    "plt.rcParams['figure.figsize'] = (20, 7)\n",
    "plt.rcParams['font.size'] = 16"
   ]
  },
  {
   "cell_type": "code",
   "execution_count": null,
   "metadata": {
    "id": "1oloxWjFYaOd"
   },
   "outputs": [],
   "source": [
    "env = gym.make(\"CartPole-v0\").env\n",
    "env.reset()\n",
    "n_actions = env.action_space.n\n",
    "state_dim = env.observation_space.shape[0]\n",
    "\n",
    "plt.imshow(env.render(\"rgb_array\"))\n",
    "env.close()"
   ]
  },
  {
   "cell_type": "markdown",
   "metadata": {
    "id": "_KGMX6sfYaOd"
   },
   "source": [
    "## Approximate Q-learning: building the network"
   ]
  },
  {
   "cell_type": "markdown",
   "metadata": {
    "id": "RJQyUFGjeUKM"
   },
   "source": [
    "To train a neural network policy one must have a neural network policy. Let's build it.\n",
    "\n",
    "\n",
    "Since we're working with a pre-extracted features (cart positions, angles and velocities), we don't need a complicated network yet. In fact, let's build something like this for starters:\n",
    "\n",
    "![img](https://raw.githubusercontent.com/yandexdataschool/Practical_RL/master/yet_another_week/_resource/qlearning_scheme.png)\n",
    "\n",
    "For your first run, please only use linear layers (`nn.Linear`) and activations. Stuff like batch normalization or dropout may ruin everything if used haphazardly. \n",
    "\n",
    "Also please avoid using nonlinearities like sigmoid & tanh: since agent's observations are not normalized, sigmoids might be saturated at initialization. Instead, use non-saturating nonlinearities like ReLU.\n",
    "\n",
    "Ideally you should start small with maybe 1-2 hidden layers with < 200 neurons and then increase network size if agent doesn't beat the target score."
   ]
  },
  {
   "cell_type": "code",
   "execution_count": null,
   "metadata": {
    "id": "jC0VtAEKYaOe"
   },
   "outputs": [],
   "source": [
    "import torch\n",
    "import torch.nn as nn\n",
    "import torch.nn.functional as F"
   ]
  },
  {
   "cell_type": "code",
   "execution_count": null,
   "metadata": {
    "id": "Z4U-SjNvYaOe"
   },
   "outputs": [],
   "source": [
    "network = nn.Sequential()\n",
    "\n",
    "# YOUR CODE HERE\n",
    "# Hint: use state_dim as input size and n_actions as output size.\n",
    "# network.add_module(\"layer1\", ...)"
   ]
  },
  {
   "cell_type": "code",
   "execution_count": null,
   "metadata": {
    "id": "vEktD_R5YaOf"
   },
   "outputs": [],
   "source": [
    "import random\n",
    "\n",
    "\n",
    "def get_action(state, epsilon=0.0):\n",
    "    state = torch.tensor(state[None, ...], dtype=torch.float32)\n",
    "    q_values = network(state).detach().numpy()\n",
    "\n",
    "    # YOUR CODE HERE\n",
    "    # Sample actions with epsilon-greedy policy, i.e. pick random action\n",
    "    # with probability of epsilon else pick action with highest Q(s,a).\n",
    "    # action = ...\n",
    "\n",
    "    return action"
   ]
  },
  {
   "cell_type": "code",
   "execution_count": null,
   "metadata": {
    "id": "lrtctVyhYaOg"
   },
   "outputs": [],
   "source": [
    "state = env.reset()\n",
    "assert tuple(network(torch.tensor([state] * 3, dtype=torch.float32)).size()) == (\n",
    "    3,\n",
    "    n_actions,\n",
    "), \"please make sure your model maps state s -> [Q(s,a0), ..., Q(s, a_last)]\"\n",
    "assert isinstance(\n",
    "    list(network.modules())[-1], nn.Linear\n",
    "), \"please make sure you predict q-values without nonlinearity (ignore if you know what you're doing)\"\n",
    "assert isinstance(\n",
    "    get_action(state), int\n",
    "), f\"get_action(s) must return int, not {type(get_action(s))}. try int(action)\"\n",
    "\n",
    "# test epsilon-greedy exploration\n",
    "for eps in [0.0, 0.1, 0.5, 1.0]:\n",
    "    state_frequencies = np.bincount(\n",
    "        [get_action(state, epsilon=eps) for i in range(10000)],\n",
    "        minlength=n_actions,\n",
    "    )\n",
    "    best_action = state_frequencies.argmax()\n",
    "    assert abs(state_frequencies[best_action] - 10000 * (1 - eps + eps / n_actions)) < 200\n",
    "    for other_action in range(n_actions):\n",
    "        if other_action != best_action:\n",
    "            assert abs(state_frequencies[other_action] - 10000 * (eps / n_actions)) < 200\n",
    "    print(f\"eps={eps} tests passed\")"
   ]
  },
  {
   "cell_type": "markdown",
   "metadata": {
    "id": "edUEt2mOYaOh"
   },
   "source": [
    "## Q-learning via gradient descent"
   ]
  },
  {
   "cell_type": "markdown",
   "metadata": {
    "id": "uOqgs_Qth0Ek"
   },
   "source": [
    "We shall now train our agent's Q-function by minimizing the TD loss:\n",
    "\n",
    "$$\n",
    "L = { 1 \\over N} \\sum_i (Q_{\\theta}(s,a) - [r(s,a) + \\gamma \\cdot max_{a'} Q_{-}(s', a')]) ^2\n",
    "$$\n",
    "\n",
    "Where\n",
    "* $s, a, r, s'$ are current state, action, reward and next state respectively\n",
    "* $\\gamma$ is a discount factor defined two cells above.\n",
    "\n",
    "The tricky part is with  $Q_{-}(s',a')$. From an engineering standpoint, it's the same as $Q_{\\theta}$ - the output of your neural network policy. However, when doing gradient descent, __we won't propagate gradients through it__ to make training more stable (see lectures).\n",
    "\n",
    "To do so, we shall use `x.detach()` function which basically says \"consider this thing constant when doingbackprop\"."
   ]
  },
  {
   "cell_type": "code",
   "execution_count": null,
   "metadata": {
    "id": "sCQIHp9GYaOi"
   },
   "outputs": [],
   "source": [
    "def compute_td_loss(states, actions, rewards, next_states, done, gamma=0.99, check_shapes=False):\n",
    "    \"\"\"Compute td loss using torch operations only. Use the formula above.\"\"\"\n",
    "    states = torch.tensor(states, dtype=torch.float32)  # shape: [batch_size, state_size]\n",
    "    actions = torch.tensor(actions, dtype=torch.long)  # shape: [batch_size]\n",
    "    rewards = torch.tensor(rewards, dtype=torch.float32)  # shape: [batch_size]\n",
    "    next_states = torch.tensor(next_states, dtype=torch.float32)  # shape: [batch_size, state_size]\n",
    "    done = torch.tensor(done, dtype=torch.bool)  # shape: [batch_size]\n",
    "\n",
    "    # get q-values for all actions in current states\n",
    "    predicted_qvalues = network(states)\n",
    "\n",
    "    # select q-values for chosen actions\n",
    "    predicted_qvalues_for_actions = predicted_qvalues[range(states.shape[0]), actions]\n",
    "\n",
    "    # YOUR CODE HERE\n",
    "    # compute q-values for all actions in next states\n",
    "    # predicted_next_qvalues = ...\n",
    "\n",
    "    # YOUR CODE HERE\n",
    "    # compute V*(next_states) using predicted next q-values\n",
    "    # next_state_values = ...\n",
    "    assert next_state_values.dtype == torch.float32\n",
    "\n",
    "    # YOUR CODE HERE\n",
    "    # compute \"target q-values\" for loss - it's what's inside square parentheses in the above formula.\n",
    "    # target_qvalues_for_actions = ...\n",
    "\n",
    "    # at the last state we shall use simplified formula: Q(s,a) = r(s,a) since s' doesn't exist\n",
    "    target_qvalues_for_actions = torch.where(done, rewards, target_qvalues_for_actions)\n",
    "\n",
    "    # mean squared error loss to minimize\n",
    "    loss = F.mse_loss(predicted_qvalues_for_actions, target_qvalues_for_actions.detach())\n",
    "\n",
    "    if check_shapes:\n",
    "        assert (\n",
    "            predicted_next_qvalues.data.dim() == 2\n",
    "        ), \"make sure you predicted q-values for all actions in next state\"\n",
    "        assert (\n",
    "            next_state_values.data.dim() == 1\n",
    "        ), \"make sure you computed V(s') as maximum over just the actions axis and not all axes\"\n",
    "        assert (\n",
    "            target_qvalues_for_actions.data.dim() == 1\n",
    "        ), \"there's something wrong with target q-values, they must be a vector\"\n",
    "\n",
    "    return loss"
   ]
  },
  {
   "cell_type": "code",
   "execution_count": null,
   "metadata": {
    "id": "63LeDmSxYaOi"
   },
   "outputs": [],
   "source": [
    "# sanity checks\n",
    "state = env.reset()\n",
    "action = env.action_space.sample()\n",
    "next_state, reward, done, _ = env.step(action)\n",
    "loss = compute_td_loss([state], [action], [reward], [next_state], [done], check_shapes=True)\n",
    "loss.backward()\n",
    "\n",
    "assert len(loss.size()) == 0, \"you must return scalar loss - mean over batch\"\n",
    "assert np.any(\n",
    "    next(network.parameters()).grad.detach().numpy() != 0\n",
    "), \"loss must be differentiable w.r.t. network weights\""
   ]
  },
  {
   "cell_type": "markdown",
   "metadata": {
    "id": "qx9UOxiQYaOi"
   },
   "source": [
    "### Playing the game"
   ]
  },
  {
   "cell_type": "code",
   "execution_count": null,
   "metadata": {
    "id": "ptFregdIYaOj"
   },
   "outputs": [],
   "source": [
    "optimizer = torch.optim.Adam(network.parameters(), lr=1e-4)"
   ]
  },
  {
   "cell_type": "code",
   "execution_count": null,
   "metadata": {
    "id": "Yz6SDmgdYaOj"
   },
   "outputs": [],
   "source": [
    "def generate_session(env, epsilon=0.0, train=False, time_limit=1000):\n",
    "    \"\"\"play env with approximate q-learning agent and train it at the same time\"\"\"\n",
    "    total_reward = 0.0\n",
    "    state = env.reset()\n",
    "\n",
    "    for _ in range(time_limit):\n",
    "        action = get_action(state, epsilon)\n",
    "        next_state, reward, done, _ = env.step(action)\n",
    "\n",
    "        if train:\n",
    "            optimizer.zero_grad()\n",
    "            loss = compute_td_loss([state], [action], [reward], [next_state], [done])\n",
    "            loss.backward()\n",
    "            optimizer.step()\n",
    "\n",
    "        total_reward += reward\n",
    "        state = next_state\n",
    "        if done:\n",
    "            break\n",
    "\n",
    "    return total_reward"
   ]
  },
  {
   "cell_type": "code",
   "execution_count": null,
   "metadata": {
    "id": "aHPp0pU_nBWs"
   },
   "outputs": [],
   "source": [
    "# Helper functions to plot rewards.\n",
    "\n",
    "\n",
    "def moving_average(data, span):\n",
    "    return pd.Series(data).ewm(span=span).mean().values\n",
    "\n",
    "\n",
    "def plot_results(epoch, mean_rewards, epsilons, span=10):\n",
    "    rewards_ewma = moving_average(mean_rewards, span)\n",
    "    plt.suptitle(f\"epoch #{epoch}: mean reward = {rewards_ewma[-1]:.1f}, epsilon = {epsilon:.1f}\")\n",
    "\n",
    "    plt.subplot(1, 2, 1)\n",
    "    plt.plot(mean_rewards, label=\"mean reward\")\n",
    "    plt.plot(rewards_ewma, label=f\"mean reward ewma@{span}\")\n",
    "\n",
    "    plt.xlabel(\"epoch\")\n",
    "    plt.ylabel(\"reward\")\n",
    "    plt.legend()\n",
    "    plt.grid()\n",
    "\n",
    "    plt.subplot(1, 2, 2)\n",
    "    plt.plot(epsilons)\n",
    "    plt.xlabel(\"epoch\")\n",
    "    plt.ylabel(\"epsilon\")\n",
    "    plt.grid()\n",
    "\n",
    "    plt.show()"
   ]
  },
  {
   "cell_type": "code",
   "execution_count": null,
   "metadata": {
    "id": "RZvS-6owYaOj"
   },
   "outputs": [],
   "source": [
    "from IPython.display import clear_output\n",
    "\n",
    "\n",
    "mean_rewards, epsilons = [], []\n",
    "epsilon = 0.5\n",
    "for epoch in range(1000):\n",
    "    session_rewards = [generate_session(env, epsilon, train=True) for _ in range(100)]\n",
    "    mean_reward = np.mean(session_rewards)\n",
    "    mean_rewards.append(mean_reward)\n",
    "    epsilons.append(epsilon)\n",
    "\n",
    "    if epoch % 5 == 0:\n",
    "        clear_output(wait=True)\n",
    "        plot_results(epoch, mean_rewards, epsilons)\n",
    "\n",
    "    if mean_reward > 300:\n",
    "        print(\"You Win!\")\n",
    "        clear_output(wait=True)\n",
    "        plot_results(epoch, mean_rewards, epsilons)\n",
    "        break\n",
    "\n",
    "    epsilon *= 0.99\n",
    "    assert epsilon >= 1e-4, \"Make sure epsilon is always nonzero during training\""
   ]
  },
  {
   "cell_type": "markdown",
   "metadata": {
    "id": "txVjLZx5YaOk"
   },
   "source": [
    "## How to interpret results"
   ]
  },
  {
   "cell_type": "markdown",
   "metadata": {
    "id": "v2QwGPtUi0pG"
   },
   "source": [
    "Welcome to the f.. world of deep f...n reinforcement learning. Don't expect agent's reward to smoothly go up. Hope for it to go increase eventually. If it deems you worthy.\n",
    "\n",
    "Seriously though,\n",
    "* __mean reward__ is the average reward per game. For a correct implementation it may stay low for some 10 epochs, then start growing while oscilating insanely and converges by ~50-100 steps depending on the network architecture. \n",
    "* If it never reaches target score by the end of for loop, try increasing the number of hidden neurons or look at the epsilon.\n",
    "* __epsilon__ - agent's willingness to explore. If you see that agent's already at < 0.01 epsilon before it's is at least 200, just reset it back to 0.1 - 0.5."
   ]
  },
  {
   "cell_type": "markdown",
   "metadata": {
    "id": "4fz76RXcYaOk"
   },
   "source": [
    "## Record videos"
   ]
  },
  {
   "cell_type": "markdown",
   "metadata": {
    "id": "ab6FxJkmi33o"
   },
   "source": [
    "As usual, we now use `gym.wrappers.Monitor` to record a video of our agent playing the game. Unlike our previous attempts with state binarization, this time we expect our agent to act ~~(or fail)~~ more smoothly since there's no more binarization error at play.\n",
    "\n",
    "As you already did with tabular q-learning, we set epsilon=0 for final evaluation to prevent agent from exploring himself to death."
   ]
  },
  {
   "cell_type": "code",
   "execution_count": null,
   "metadata": {
    "id": "YzYRdScNYaOk"
   },
   "outputs": [],
   "source": [
    "import gym.wrappers\n",
    "\n",
    "\n",
    "with gym.wrappers.Monitor(gym.make(\"CartPole-v0\"), directory=\"videos\", force=True) as env_monitor:\n",
    "    sessions = [generate_session(env_monitor, epsilon=0, train=False) for _ in range(100)]"
   ]
  },
  {
   "cell_type": "code",
   "execution_count": null,
   "metadata": {
    "id": "rmRVjyYLYaOk"
   },
   "outputs": [],
   "source": [
    "from base64 import b64encode\n",
    "from pathlib import Path\n",
    "\n",
    "from IPython.display import HTML\n",
    "\n",
    "\n",
    "video_paths = sorted([s for s in Path(\"videos\").iterdir() if s.suffix == \".mp4\"])\n",
    "video_path = video_paths[-1]  # You can also try other indices\n",
    "\n",
    "if \"google.colab\" in sys.modules:\n",
    "    # https://stackoverflow.com/a/57378660/1214547\n",
    "    with video_path.open('rb') as fp:\n",
    "        mp4 = fp.read()\n",
    "    data_url = \"data:video/mp4;base64,\" + b64encode(mp4).decode()\n",
    "else:\n",
    "    data_url = str(video_path)\n",
    "\n",
    "HTML(\n",
    "    \"\"\"\n",
    "<video width=\"640\" height=\"480\" controls>\n",
    "  <source src=\"{}\" type=\"video/mp4\">\n",
    "</video>\n",
    "\"\"\".format(\n",
    "        data_url\n",
    "    )\n",
    ")"
   ]
  },
  {
   "cell_type": "code",
   "execution_count": null,
   "metadata": {
    "id": "tupIsK2xkEbA"
   },
   "outputs": [],
   "source": []
  }
 ],
 "metadata": {
  "colab": {
   "name": "practice_approximate_q_learning_clean.ipynb",
   "provenance": []
  },
  "kernelspec": {
   "display_name": "Python 3 (ipykernel)",
   "language": "python",
   "name": "python3"
  },
  "language_info": {
   "codemirror_mode": {
    "name": "ipython",
    "version": 3
   },
   "file_extension": ".py",
   "mimetype": "text/x-python",
   "name": "python",
   "nbconvert_exporter": "python",
   "pygments_lexer": "ipython3",
   "version": "3.9.7"
  }
 },
 "nbformat": 4,
 "nbformat_minor": 4
}
