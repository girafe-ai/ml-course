{
 "nbformat": 4,
 "nbformat_minor": 0,
 "metadata": {
  "colab": {
   "name": "practice_approximate_q_learning.ipynb",
   "provenance": []
  },
  "language_info": {
   "name": "python"
  },
  "kernelspec": {
   "name": "python3",
   "display_name": "Python 3"
  }
 },
 "cells": [
  {
   "cell_type": "markdown",
   "metadata": {
    "id": "vDwqM_GRYaOY"
   },
   "source": [
    "# Practice: approximate q-learning"
   ]
  },
  {
   "cell_type": "markdown",
   "metadata": {
    "id": "SLrzIf8aeOs9"
   },
   "source": [
    "In this notebook you will teach a __PyTorch__ neural network to do Q-learning."
   ]
  },
  {
   "cell_type": "code",
   "metadata": {
    "id": "S1mg93zbYaOb",
    "colab": {
     "base_uri": "https://localhost:8080/"
    },
    "outputId": "3ffdeb7c-1c9d-4e64-b137-97c9949e4fce"
   },
   "source": [
    "import os\n",
    "import sys\n",
    "\n",
    "\n",
    "if \"google.colab\" in sys.modules and not os.path.exists(\".setup_complete\"):\n",
    "    !wget -q https://raw.githubusercontent.com/yandexdataschool/Practical_RL/master/setup_colab.sh -O- | bash\n",
    "    !touch .setup_complete\n",
    "\n",
    "# This code creates a virtual display to draw game images on.\n",
    "# It will have no effect if your machine has a monitor.\n",
    "if type(os.environ.get(\"DISPLAY\")) is not str or len(os.environ.get(\"DISPLAY\")) == 0:\n",
    "    !bash ../xvfb start\n",
    "    os.environ[\"DISPLAY\"] = \":1\""
   ],
   "execution_count": 1,
   "outputs": [
    {
     "output_type": "stream",
     "name": "stdout",
     "text": [
      "Starting virtual X frame buffer: Xvfb.\n"
     ]
    }
   ]
  },
  {
   "cell_type": "code",
   "metadata": {
    "id": "MnGor2mlYaOc"
   },
   "source": [
    "import gym\n",
    "import matplotlib.pyplot as plt\n",
    "import numpy as np\n",
    "import pandas as pd\n",
    "\n",
    "\n",
    "plt.rcParams['figure.figsize'] = (20, 7)\n",
    "plt.rcParams['font.size'] = 16"
   ],
   "execution_count": 2,
   "outputs": []
  },
  {
   "cell_type": "code",
   "metadata": {
    "id": "1oloxWjFYaOd",
    "colab": {
     "base_uri": "https://localhost:8080/",
     "height": 439
    },
    "outputId": "7809baca-8120-45c4-be5d-b17339568603"
   },
   "source": [
    "env = gym.make(\"CartPole-v0\").env\n",
    "env.reset()\n",
    "n_actions = env.action_space.n\n",
    "state_dim = env.observation_space.shape[0]\n",
    "\n",
    "plt.imshow(env.render(\"rgb_array\"))\n",
    "env.close()"
   ],
   "execution_count": 3,
   "outputs": [
    {
     "output_type": "display_data",
     "data": {
      "image/png": "[encoded data removed]",
      "text/plain": [
       "<Figure size 1440x504 with 1 Axes>"
      ]
     },
     "metadata": {
      "needs_background": "light"
     }
    }
   ]
  },
  {
   "cell_type": "markdown",
   "metadata": {
    "id": "_KGMX6sfYaOd"
   },
   "source": [
    "## Approximate Q-learning: building the network"
   ]
  },
  {
   "cell_type": "markdown",
   "metadata": {
    "id": "RJQyUFGjeUKM"
   },
   "source": [
    "To train a neural network policy one must have a neural network policy. Let's build it.\n",
    "\n",
    "\n",
    "Since we're working with a pre-extracted features (cart positions, angles and velocities), we don't need a complicated network yet. In fact, let's build something like this for starters:\n",
    "\n",
    "![img](https://raw.githubusercontent.com/yandexdataschool/Practical_RL/master/yet_another_week/_resource/qlearning_scheme.png)\n",
    "\n",
    "For your first run, please only use linear layers (`nn.Linear`) and activations. Stuff like batch normalization or dropout may ruin everything if used haphazardly. \n",
    "\n",
    "Also please avoid using nonlinearities like sigmoid & tanh: since agent's observations are not normalized, sigmoids might be saturated at initialization. Instead, use non-saturating nonlinearities like ReLU.\n",
    "\n",
    "Ideally you should start small with maybe 1-2 hidden layers with < 200 neurons and then increase network size if agent doesn't beat the target score."
   ]
  },
  {
   "cell_type": "code",
   "metadata": {
    "id": "jC0VtAEKYaOe"
   },
   "source": [
    "import torch\n",
    "import torch.nn as nn\n",
    "import torch.nn.functional as F"
   ],
   "execution_count": 4,
   "outputs": []
  },
  {
   "cell_type": "code",
   "metadata": {
    "id": "Z4U-SjNvYaOe"
   },
   "source": [
    "network = nn.Sequential()\n",
    "\n",
    "# YOUR CODE HERE\n",
    "# Hint: use state_dim as input size and n_actions as output size.\n",
    "# network.add_module(\"layer1\", ...)\n",
    "\n",
    "hidden_dim = 16\n",
    "network.add_module(\"layer1\", nn.Linear(state_dim, hidden_dim))\n",
    "network.add_module(\"relu1\", nn.ReLU())\n",
    "network.add_module(\"layer2\", nn.Linear(hidden_dim, hidden_dim))\n",
    "network.add_module(\"relu2\", nn.ReLU())\n",
    "network.add_module(\"layer3\", nn.Linear(hidden_dim, n_actions))"
   ],
   "execution_count": 5,
   "outputs": []
  },
  {
   "cell_type": "code",
   "metadata": {
    "id": "vEktD_R5YaOf"
   },
   "source": [
    "import random\n",
    "\n",
    "\n",
    "def get_action(state, epsilon=0.0):\n",
    "    state = torch.tensor(state[None, ...], dtype=torch.float32)\n",
    "    q_values = network(state).detach().numpy()\n",
    "\n",
    "    # YOUR CODE HERE\n",
    "    # Sample actions with epsilon-greedy policy, i.e. pick random action\n",
    "    # with probability of epsilon else pick action with highest Q(s,a).\n",
    "    # action = ...\n",
    "\n",
    "    if random.random() < epsilon:\n",
    "        action = random.choice(range(n_actions))\n",
    "    else:\n",
    "        action = q_values.argmax().item()\n",
    "\n",
    "    return action"
   ],
   "execution_count": 6,
   "outputs": []
  },
  {
   "cell_type": "code",
   "metadata": {
    "id": "lrtctVyhYaOg",
    "colab": {
     "base_uri": "https://localhost:8080/"
    },
    "outputId": "9e076c67-82e0-4246-fdd1-9083445914ae"
   },
   "source": [
    "state = env.reset()\n",
    "assert tuple(network(torch.tensor([state] * 3, dtype=torch.float32)).size()) == (\n",
    "    3,\n",
    "    n_actions,\n",
    "), \"please make sure your model maps state s -> [Q(s,a0), ..., Q(s, a_last)]\"\n",
    "assert isinstance(\n",
    "    list(network.modules())[-1], nn.Linear\n",
    "), \"please make sure you predict q-values without nonlinearity (ignore if you know what you're doing)\"\n",
    "assert isinstance(\n",
    "    get_action(state), int\n",
    "), f\"get_action(s) must return int, not {type(get_action(s))}. try int(action)\"\n",
    "\n",
    "# test epsilon-greedy exploration\n",
    "for eps in [0.0, 0.1, 0.5, 1.0]:\n",
    "    state_frequencies = np.bincount(\n",
    "        [get_action(state, epsilon=eps) for i in range(10000)],\n",
    "        minlength=n_actions,\n",
    "    )\n",
    "    best_action = state_frequencies.argmax()\n",
    "    assert abs(state_frequencies[best_action] - 10000 * (1 - eps + eps / n_actions)) < 200\n",
    "    for other_action in range(n_actions):\n",
    "        if other_action != best_action:\n",
    "            assert abs(state_frequencies[other_action] - 10000 * (eps / n_actions)) < 200\n",
    "    print(f\"eps={eps} tests passed\")"
   ],
   "execution_count": 7,
   "outputs": [
    {
     "output_type": "stream",
     "name": "stdout",
     "text": [
      "eps=0.0 tests passed\n",
      "eps=0.1 tests passed\n",
      "eps=0.5 tests passed\n",
      "eps=1.0 tests passed\n"
     ]
    }
   ]
  },
  {
   "cell_type": "markdown",
   "metadata": {
    "id": "edUEt2mOYaOh"
   },
   "source": [
    "## Q-learning via gradient descent"
   ]
  },
  {
   "cell_type": "markdown",
   "metadata": {
    "id": "uOqgs_Qth0Ek"
   },
   "source": [
    "We shall now train our agent's Q-function by minimizing the TD loss:\n",
    "\n",
    "$$\n",
    "L = { 1 \\over N} \\sum_i (Q_{\\theta}(s,a) - [r(s,a) + \\gamma \\cdot max_{a'} Q_{-}(s', a')]) ^2\n",
    "$$\n",
    "\n",
    "Where\n",
    "* $s, a, r, s'$ are current state, action, reward and next state respectively\n",
    "* $\\gamma$ is a discount factor defined two cells above.\n",
    "\n",
    "The tricky part is with  $Q_{-}(s',a')$. From an engineering standpoint, it's the same as $Q_{\\theta}$ - the output of your neural network policy. However, when doing gradient descent, __we won't propagate gradients through it__ to make training more stable (see lectures).\n",
    "\n",
    "To do so, we shall use `x.detach()` function which basically says \"consider this thing constant when doingbackprop\"."
   ]
  },
  {
   "cell_type": "code",
   "metadata": {
    "id": "sCQIHp9GYaOi"
   },
   "source": [
    "def compute_td_loss(states, actions, rewards, next_states, done, gamma=0.99, check_shapes=False):\n",
    "    \"\"\"Compute td loss using torch operations only. Use the formula above.\"\"\"\n",
    "    states = torch.tensor(states, dtype=torch.float32)  # shape: [batch_size, state_size]\n",
    "    actions = torch.tensor(actions, dtype=torch.long)  # shape: [batch_size]\n",
    "    rewards = torch.tensor(rewards, dtype=torch.float32)  # shape: [batch_size]\n",
    "    next_states = torch.tensor(next_states, dtype=torch.float32)  # shape: [batch_size, state_size]\n",
    "    done = torch.tensor(done, dtype=torch.bool)  # shape: [batch_size]\n",
    "\n",
    "    # get q-values for all actions in current states\n",
    "    predicted_qvalues = network(states)\n",
    "\n",
    "    # select q-values for chosen actions\n",
    "    predicted_qvalues_for_actions = predicted_qvalues[range(states.shape[0]), actions]\n",
    "\n",
    "    # compute q-values for all actions in next states\n",
    "    # predicted_next_qvalues = <YOUR CODE>\n",
    "    predicted_next_qvalues = network(next_states)\n",
    "\n",
    "    # compute V*(next_states) using predicted next q-values\n",
    "    # next_state_values = <YOUR CODE>\n",
    "    next_state_values = predicted_next_qvalues.max(dim=1).values\n",
    "    assert next_state_values.dtype == torch.float32\n",
    "\n",
    "    # compute \"target q-values\" for loss - it's what's inside square parentheses in the above formula.\n",
    "    # target_qvalues_for_actions = <YOUR CODE>\n",
    "    target_qvalues_for_actions = rewards + gamma * next_state_values\n",
    "\n",
    "    # at the last state we shall use simplified formula: Q(s,a) = r(s,a) since s' doesn't exist\n",
    "    target_qvalues_for_actions = torch.where(done, rewards, target_qvalues_for_actions)\n",
    "\n",
    "    # mean squared error loss to minimize\n",
    "    loss = F.mse_loss(predicted_qvalues_for_actions, target_qvalues_for_actions.detach())\n",
    "\n",
    "    if check_shapes:\n",
    "        assert (\n",
    "            predicted_next_qvalues.data.dim() == 2\n",
    "        ), \"make sure you predicted q-values for all actions in next state\"\n",
    "        assert (\n",
    "            next_state_values.data.dim() == 1\n",
    "        ), \"make sure you computed V(s') as maximum over just the actions axis and not all axes\"\n",
    "        assert (\n",
    "            target_qvalues_for_actions.data.dim() == 1\n",
    "        ), \"there's something wrong with target q-values, they must be a vector\"\n",
    "\n",
    "    return loss"
   ],
   "execution_count": 8,
   "outputs": []
  },
  {
   "cell_type": "code",
   "metadata": {
    "id": "63LeDmSxYaOi"
   },
   "source": [
    "# sanity checks\n",
    "state = env.reset()\n",
    "action = env.action_space.sample()\n",
    "next_state, reward, done, _ = env.step(action)\n",
    "loss = compute_td_loss([state], [action], [reward], [next_state], [done], check_shapes=True)\n",
    "loss.backward()\n",
    "\n",
    "assert len(loss.size()) == 0, \"you must return scalar loss - mean over batch\"\n",
    "assert np.any(\n",
    "    next(network.parameters()).grad.detach().numpy() != 0\n",
    "), \"loss must be differentiable w.r.t. network weights\""
   ],
   "execution_count": 9,
   "outputs": []
  },
  {
   "cell_type": "markdown",
   "metadata": {
    "id": "qx9UOxiQYaOi"
   },
   "source": [
    "### Playing the game"
   ]
  },
  {
   "cell_type": "code",
   "metadata": {
    "id": "ptFregdIYaOj"
   },
   "source": [
    "optimizer = torch.optim.Adam(network.parameters(), lr=1e-4)"
   ],
   "execution_count": 10,
   "outputs": []
  },
  {
   "cell_type": "code",
   "metadata": {
    "id": "Yz6SDmgdYaOj"
   },
   "source": [
    "def generate_session(env, epsilon=0.0, train=False, time_limit=1000):\n",
    "    \"\"\"play env with approximate q-learning agent and train it at the same time\"\"\"\n",
    "    total_reward = 0.0\n",
    "    state = env.reset()\n",
    "\n",
    "    for _ in range(time_limit):\n",
    "        action = get_action(state, epsilon)\n",
    "        next_state, reward, done, _ = env.step(action)\n",
    "\n",
    "        if train:\n",
    "            optimizer.zero_grad()\n",
    "            loss = compute_td_loss([state], [action], [reward], [next_state], [done])\n",
    "            loss.backward()\n",
    "            optimizer.step()\n",
    "\n",
    "        total_reward += reward\n",
    "        state = next_state\n",
    "        if done:\n",
    "            break\n",
    "\n",
    "    return total_reward"
   ],
   "execution_count": 11,
   "outputs": []
  },
  {
   "cell_type": "code",
   "metadata": {
    "id": "aHPp0pU_nBWs"
   },
   "source": [
    "# Helper functions to plot rewards.\n",
    "\n",
    "\n",
    "def moving_average(data, span):\n",
    "    return pd.Series(data).ewm(span=span).mean().values\n",
    "\n",
    "\n",
    "def plot_results(epoch, mean_rewards, epsilons, span=10):\n",
    "    rewards_ewma = moving_average(mean_rewards, span)\n",
    "    plt.suptitle(f\"epoch #{epoch}: mean reward = {rewards_ewma[-1]:.1f}, epsilon = {epsilon:.1f}\")\n",
    "\n",
    "    plt.subplot(1, 2, 1)\n",
    "    plt.plot(mean_rewards, label=\"mean reward\")\n",
    "    plt.plot(rewards_ewma, label=f\"mean reward ewma@{span}\")\n",
    "\n",
    "    plt.xlabel(\"epoch\")\n",
    "    plt.ylabel(\"reward\")\n",
    "    plt.legend()\n",
    "    plt.grid()\n",
    "\n",
    "    plt.subplot(1, 2, 2)\n",
    "    plt.plot(epsilons)\n",
    "    plt.xlabel(\"epoch\")\n",
    "    plt.ylabel(\"epsilon\")\n",
    "    plt.grid()\n",
    "\n",
    "    plt.show()"
   ],
   "execution_count": 12,
   "outputs": []
  },
  {
   "cell_type": "code",
   "metadata": {
    "id": "RZvS-6owYaOj",
    "colab": {
     "base_uri": "https://localhost:8080/",
     "height": 503
    },
    "outputId": "4c66ebe1-c565-41d1-bc40-321f911271ac"
   },
   "source": [
    "from IPython.display import clear_output\n",
    "\n",
    "\n",
    "mean_rewards, epsilons = [], []\n",
    "epsilon = 0.5\n",
    "for epoch in range(1000):\n",
    "    session_rewards = [generate_session(env, epsilon, train=True) for _ in range(100)]\n",
    "    mean_reward = np.mean(session_rewards)\n",
    "    mean_rewards.append(mean_reward)\n",
    "    epsilons.append(epsilon)\n",
    "\n",
    "    if epoch % 5 == 0:\n",
    "        clear_output(wait=True)\n",
    "        plot_results(epoch, mean_rewards, epsilons)\n",
    "\n",
    "    if mean_reward > 300:\n",
    "        print(\"You Win!\")\n",
    "        clear_output(wait=True)\n",
    "        plot_results(epoch, mean_rewards, epsilons)\n",
    "        break\n",
    "\n",
    "    epsilon *= 0.99\n",
    "    assert epsilon >= 1e-4, \"Make sure epsilon is always nonzero during training\""
   ],
   "execution_count": 13,
   "outputs": [
    {
     "output_type": "display_data",
     "data": {
      "image/png": "[encoded data removed]",
      "text/plain": [
       "<Figure size 1440x504 with 2 Axes>"
      ]
     },
     "metadata": {
      "needs_background": "light"
     }
    }
   ]
  },
  {
   "cell_type": "markdown",
   "metadata": {
    "id": "txVjLZx5YaOk"
   },
   "source": [
    "## How to interpret results"
   ]
  },
  {
   "cell_type": "markdown",
   "metadata": {
    "id": "v2QwGPtUi0pG"
   },
   "source": [
    "Welcome to the f.. world of deep f...n reinforcement learning. Don't expect agent's reward to smoothly go up. Hope for it to go increase eventually. If it deems you worthy.\n",
    "\n",
    "Seriously though,\n",
    "* __mean reward__ is the average reward per game. For a correct implementation it may stay low for some 10 epochs, then start growing while oscilating insanely and converges by ~50-100 steps depending on the network architecture. \n",
    "* If it never reaches target score by the end of for loop, try increasing the number of hidden neurons or look at the epsilon.\n",
    "* __epsilon__ - agent's willingness to explore. If you see that agent's already at < 0.01 epsilon before it's is at least 200, just reset it back to 0.1 - 0.5."
   ]
  },
  {
   "cell_type": "markdown",
   "metadata": {
    "id": "4fz76RXcYaOk"
   },
   "source": [
    "## Record videos"
   ]
  },
  {
   "cell_type": "markdown",
   "metadata": {
    "id": "ab6FxJkmi33o"
   },
   "source": [
    "As usual, we now use `gym.wrappers.Monitor` to record a video of our agent playing the game. Unlike our previous attempts with state binarization, this time we expect our agent to act ~~(or fail)~~ more smoothly since there's no more binarization error at play.\n",
    "\n",
    "As you already did with tabular q-learning, we set epsilon=0 for final evaluation to prevent agent from exploring himself to death."
   ]
  },
  {
   "cell_type": "code",
   "metadata": {
    "id": "YzYRdScNYaOk"
   },
   "source": [
    "import gym.wrappers\n",
    "\n",
    "\n",
    "with gym.wrappers.Monitor(gym.make(\"CartPole-v0\"), directory=\"videos\", force=True) as env_monitor:\n",
    "    sessions = [generate_session(env_monitor, epsilon=0, train=False) for _ in range(100)]"
   ],
   "execution_count": 14,
   "outputs": []
  },
  {
   "cell_type": "code",
   "metadata": {
    "id": "rmRVjyYLYaOk",
    "colab": {
     "base_uri": "https://localhost:8080/",
     "height": 501
    },
    "outputId": "a59bf8ab-d616-472f-b11e-7d429a50161c"
   },
   "source": [
    "from base64 import b64encode\n",
    "from pathlib import Path\n",
    "\n",
    "from IPython.display import HTML\n",
    "\n",
    "\n",
    "video_paths = sorted([s for s in Path(\"videos\").iterdir() if s.suffix == \".mp4\"])\n",
    "video_path = video_paths[-1]  # You can also try other indices\n",
    "\n",
    "if \"google.colab\" in sys.modules:\n",
    "    # https://stackoverflow.com/a/57378660/1214547\n",
    "    with video_path.open('rb') as fp:\n",
    "        mp4 = fp.read()\n",
    "    data_url = \"data:video/mp4;base64,\" + b64encode(mp4).decode()\n",
    "else:\n",
    "    data_url = str(video_path)\n",
    "\n",
    "HTML(\n",
    "    \"\"\"\n",
    "<video width=\"640\" height=\"480\" controls>\n",
    "  <source src=\"{}\" type=\"video/mp4\">\n",
    "</video>\n",
    "\"\"\".format(\n",
    "        data_url\n",
    "    )\n",
    ")"
   ],
   "execution_count": 15,
   "outputs": [
    {
     "output_type": "execute_result",
     "data": {
      "text/html": [
       "\n",
       "<video width=\"640\" height=\"480\" controls>\n",
       "  <source src=\"data:video/mp4;base64,AAAAIGZ0eXBpc29tAAACAGlzb21pc28yYXZjMW1wNDEAAAAIZnJlZQAAMwNtZGF0AAACrgYF//+q3EXpvebZSLeWLNgg2SPu73gyNjQgLSBjb3JlIDE1MiByMjg1NCBlOWE1OTAzIC0gSC4yNjQvTVBFRy00IEFWQyBjb2RlYyAtIENvcHlsZWZ0IDIwMDMtMjAxNyAtIGh0dHA6Ly93d3cudmlkZW9sYW4ub3JnL3gyNjQuaHRtbCAtIG9wdGlvbnM6IGNhYmFjPTEgcmVmPTMgZGVibG9jaz0xOjA6MCBhbmFseXNlPTB4MzoweDExMyBtZT1oZXggc3VibWU9NyBwc3k9MSBwc3lfcmQ9MS4wMDowLjAwIG1peGVkX3JlZj0xIG1lX3JhbmdlPTE2IGNocm9tYV9tZT0xIHRyZWxsaXM9MSA4eDhkY3Q9MSBjcW09MCBkZWFkem9uZT0yMSwxMSBmYXN0X3Bza2lwPTEgY2hyb21hX3FwX29mZnNldD0tMiB0aHJlYWRzPTMgbG9va2FoZWFkX3RocmVhZHM9MSBzbGljZWRfdGhyZWFkcz0wIG5yPTAgZGVjaW1hdGU9MSBpbnRlcmxhY2VkPTAgYmx1cmF5X2NvbXBhdD0wIGNvbnN0cmFpbmVkX2ludHJhPTAgYmZyYW1lcz0zIGJfcHlyYW1pZD0yIGJfYWRhcHQ9MSBiX2JpYXM9MCBkaXJlY3Q9MSB3ZWlnaHRiPTEgb3Blbl9nb3A9MCB3ZWlnaHRwPTIga2V5aW50PTI1MCBrZXlpbnRfbWluPTI1IHNjZW5lY3V0PTQwIGludHJhX3JlZnJlc2g9MCByY19sb29rYWhlYWQ9NDAgcmM9Y3JmIG1idHJlZT0xIGNyZj0yMy4wIHFjb21wPTAuNjAgcXBtaW49MCBxcG1heD02OSBxcHN0ZXA9NCBpcF9yYXRpbz0xLjQwIGFxPTE6MS4wMACAAAACP2WIhAAz//727L4FNf2f0JcRLMXaSnA+KqSAgHc0wAAAAwAAAwAAFgn0I7DkqgN3QAAAHGAFBCwCPCVC2EhIBrPjGV/gdYwAQ8G6VFYWgk/ZwibTz2FUwSi81WhRJIB2t7NLTfuYJUZ15v6oItGTWtVesFExd+vJHQX/TtQnVmqcLSO46cQ6ThKsRCm8Snz04K9B/4pguLgu9L16+X4E4dVlDc0xNdSei1zZgGrlGQgXMqxUJlhGf9pU9TBDKM0IUbAHR07sCJYWMDyZvV1rogE29DWGSs9o4HDNtjF9CA/aQT8A+yKX+N8Qpb0FgdROAOPZKJIjpggk2N3NF2WmzmlB5dtk+YSZC6vwtTLmvGcpNgEv4AAFIIJXryWVVmj+VflS3XNAkgC7QVZTlAAUYqShKgakkz/Q3YcMLx0BoQOR+M1ATSQLu69TY7nuTouEJuKp4N6ligjiU9s32toQZiO4GQYZeWLGawPyuUD1nzzMJ8RRuWsSDnLD/KzMxtHTARNe13Uel+yVxenXVW2dH2YOsSIfdcheHlymkQ1KAHuRrR72hA53EAPgTRzkNqfPZp87AjqoBuPVg10wED3RUEYC5LBFiiLKjk6yCac3ZdrYV3S9ajXcMb7QUxkjl2L90MIHe4++gSx/uiIK80ojTFwhvOwPbm4nFSAAAVMSV5DVxJZGgWZMoaIQOlH6KVda+sLZ0G2K/TkNA9ra7/utXNNKtCCudfZx1vxUtw3dFoCm69Fr1nGAAAADAAADACAhAAAAz0GaJGxC//6MsAAARDWpbNANPv08/+G6cJ+KEyh8FqI7Ms/fLcUKfVMmWXSTNFyjIb78YpK3e0tqONVUsRAx/kA7pujpWGg4TUjamiZfBzmIx/MFCRz6mwnA4fUuqwRainnes07cmxbYGXIzDO4+Ze+pEQmuH9KreOuKxz7wd9LYpqACKMW7YsXHov1JXmNbDehX4ozJyWz6T6UOz3U9EFM8q5OAzRwENZjiNJZ7fWqzwL3zmqiQAAADAAA1IG6MG/RTEEYHYzPpAVk4eBIJ6gAAAFJBnkJ4hH8AABYlXzsmcjCzwkAHEKC7ukciZOlcm57CzREZMXhXbcrmxStdriw+u5hKJdLlQv0ogQFjApa/Z1BB12QaIAAAAwCR1YRJnhVYvJJxAAAAPAGeYXRH/wAAIsaso/SGN1LFwLXTbsfPrLTdID9Mrup+MfukgnbvmrKNLNgAAAMAAAMAcBjSjb4Tr4RbQAAAAEIBnmNqR/8AAA2EkZXQALqJWrOhGDgyYsBUem03BNUCnphNqiGgX1qzVeatvy7op6p8pyY+IAAADXF/qB2EEqpmfcEAAACRQZpoSahBaJlMCF///oywAABGDmYpfjEQFBNKEyJYo7BMAE9oGVYJrJ3Y8wue+TiCrvq9DBjqQn4G40Lf2XbTiKKP6ovhcYsU2Kx1JA1D/IVaSKVWnoHqXOnK9m678k2gtyjAsTLCC5+Gu1S2jfmdL+fk7Eqlqvun60YKXOmPAEFN288QSA7Ufwx3TIK9sTky/QAAADJBnoZFESwj/wAAFrwzw+xX+Cwui9VTTNkuxaZI/qgAMnV/CcnJBDVPu0Ih8YMX/eU5UQAAADcBnqV0R/8AACKsPnsoRQweOu16a830Di/n087AAXUSs9zjfTmwZGby5lJAJ7nbEtuHlRBkiJeBAAAAJAGep2pH/wAAI77iRXGfyTuvZxcIEtZwkyqEPBJ3TSOzK5S5uAAAAJxBmqxJqEFsmUwIX//+jLAAAEQlH/v3lE4C0AH3ue3sZv7HNA6c4K3Oiy3FyTdRstoQpEGGgvkdOQp+xUdkpIWeUhwhNpbMZ/3Ys1uX59SvNFJ2T9TvT1ID3R/eEryFzVJz29W7M39/A+8SoPU1a25rMexh/S1JStTGGfqqWiNilobfP6H+zRCAiNi7FoLkT9GgSSTF6kLYd2Kv4VAAAAA8QZ7KRRUsI/8AAAMDOTB5p9I65AErrqS+elECduAATjSo1++Xv6//0WzFse61qpUkZZxx1pGWV0TyKfPhAAAAKAGe6XRH/wAAIqw9I2PVrFrhBi4baY9Bh7EaSmoMNPC3ksXANU42m4AAAABBAZ7rakf/AAAivx016duSygt29FO4Ic9HFACWKbgGcLIBEE4MAEMJoQh6KnVzWDwD36CZK1advzAqtlwT+AuM5UAAAAAzQZrtSahBbJlMCF///oywAAAaiTqUmupE3Xp8IW6GTgJdk5Z6Px8CJLaK3JvoC4uB4TAhAAAAeEGbEUnhClJlMCF//oywAABGAvZY49klnMmLrxm7oD9UgO119qAE+5rFcj+SFttkADXOJm2O9Nl7oUcBGn45ii5SK8mqL3XBodJP+hdULAoKw6ICr/HqdIMngQ0RCL5PaGKMFNyMm1nrLcOQFtSnocmFwzv5V4A0PQAAADNBny9FNEwj/wAAFrxDzT6SYky897EnG3r5riHSgJxENN9fawH3eS2sRY3K/UK81caV6ykAAAAhAZ9OdEf/AAANh6+kWFaRNG6yNyiPGCioL8tYXuYjwi0IAAAAMQGfUGpH/wAAI76qF8E8Qw12U5vWqBobimNJfDe8gAe8iXuM9/UKcj/3C+bL4wlfGfAAAAA5QZtUSahBaJlMCF///oywAAAaofLphONyqnREMEeU9wUdW5HoAOambxY1mKs4WUxMhBpfPhWVbVz5AAAAPUGfckURLCP/AAAIbyHlLw/QCOtbHytpeWS+gaRaiPpkUPVaP3raABCLkkISW+2IEUI/vHJ7yoq3zmlcJ84AAAAoAZ+Takf/AAANhJUtDJSYis0K204KeMaaaRr383C2z6rqUqxecnDPnAAAAF1Bm5hJqEFsmUwIX//+jLAAAEYDb7cAcwDw5epL19BJcGQTYcEMe2EVvS4uzJDZj+wdX4ySTq1KKOcLxj4J1bQaBats2eP7uALpPMXH3TBrK3pbfHxzk0RMPenEjpMAAAAsQZ+2RRUsI/8AABa8Q83MS616A+RIGNwGDrdxHs2sggBYwNdzC7stIw7JW0AAAAAuAZ/VdEf/AAANh8EJercJgC3xcz1oD4k9W3K7IAE6wgTbLRtpIo5+dxM6RHUvLwAAABoBn9dqR/8AACO/BCdmNIJnK6U1rPj3zrABWwAAAEpBm9tJqEFsmUwIX//+jLAAAEZ6b0MPcPcAJ6yBFGhiAfob6NusPKNZPFLjTiB6PCeTTjj1iBAka8zGTpBY+GH0anB908PGZCtUwAAAABtBn/lFFSwj/wAAFrMsmSTFPclG2iUCUbTRdBEAAAA6AZ4aakf/AAAjsNxUDwA29fhiPuvMW3NHGK/6T9BzrZET6GMt70aYFctDIT153ibRSO+5cba5LoC4gAAAAFRBmh1JqEFsmUwUTC///oywAABENEiIcAmRWPgjXeYL1QK3kI969GJLfOw36wM2jAbB/RDQCHuhjJF75UUJ6v++4ef2aLG3lPf1eF/j4MaovVrEOEEAAAAfAZ48akf/AAAisjI8R0xcf1Si5gtzhGZX+zORKbva5wAAADNBmj5J4QpSZTAhn/6eEAAAAwOeUgdCByzL/5sRSagAvmldCG38tC4Y+z6ut0rXQ0WSekAAAABvQZpCSeEOiZTAhn/+nhAAAEVFBPcceEeVKJrlgATr8qI4Ebe7NqqVK91vmEwjk/ZzVxOGyfZcI5P/7O0TP0kpVPjvNFzuqIFr1iB6/yRPhxu1mKqRqDgb8xbRB8r/JqZkhc6W1YGlZDyLnxexnItmAAAAMUGeYEURPCP/AAAWvEPKkGvI7DKM8JwA25NE1TaPb9Wu4u15YQyBPm8itZ9UWd3DickAAAAjAZ6fdEf/AAAj1SEAUGaCv405YtoFYe5joU4k9pI1QpfaTTMAAAAhAZ6Bakf/AAAjvYQBpVUGGZM9bE6luUsmGGU5ITwOpdbNAAAAOkGahkmoQWiZTAhf//6MsAAARhD0PlhexDfoTEkhYJtz8qBjzZsWB5/OOLvh3ucqrginGM5L3zw88YAAAAA1QZ6kRREsI/8AABa1WE+V/joCffHH5oJbq/xiiZloy5IVKGc0aO5AfHW7uVQqjW8gZ9obOrEAAAAyAZ7DdEf/AAAjrDlb6Hfb/6L4kPSMURcmgDVGeKlAAAD2Fcci6mwLw17AN7zIKI2WVGEAAAAYAZ7Fakf/AAAFHkdP3La/CoTePQo07weBAAAAeUGaykmoQWyZTAhf//6MsAAARgLT3gUxqD56L3xCTzc1IqGdJYd8By+0woZZvnNzOHsNeA0w/i46zwhos4wn68deCMPzF3qVqnDL3igxag4S37mY3m4Huu4qGug1uPXoAas9Lmk2z44sF8fdRL0kTQLYVUKNT2ZYb28AAAAvQZ7oRRUsI/8AABa8Q823F3EsSpal4FangUAI18XqRIkngmIQjqmfLa13V2YMwt8AAAAdAZ8HdEf/AAADAeb0GQLrkLQdg6gmpa+kYMMvrHwAAAAkAZ8Jakf/AAAjsixnMO4RMcC22VqfoWyDcDM8r9TGwRtLlb2ZAAAARUGbDEmoQWyZTBRMM//+nhAAABp/UTMjFQyQyQAoZdK3iotCN8aNTWDHiBFnGHO9AzLeKP3ba3LHB5dLXFtORMbjuip1xAAAADABnytqR/8AAA1/tofYkg8MtMXRpWTASxtdfRHeE49OQAe/GvAupHfbW3F33V0J7MAAAABPQZswSeEKUmUwIZ/+nhAAAEVUqUH2JwH7bPIyABUm/O8rQppYzYqaq+0znrctbnR3JttZypZ7ousvhw3VjYCaQWGu2l6vXRWK7/Adk25iIQAAAD1Bn05FNEwj/wAAFrxEQxAAjAIX60tE8f5U/hMOdOB8MZ47dj5P2uFDuANbiH3fqaoy8RlEhoLXpXtpmJ4NAAAAHAGfbXRH/wAAIqw9Isxzb37VKtq77AI76wAYWzEAAAAdAZ9vakf/AAAjscwNVadMUtIiRb+gljOiyYF8j4AAAABFQZt0SahBaJlMCGf//p4QAABFcy7Ppjz5ngABdFAQqn52qwy0KLUo6o0SJ1ycnL9AP2taJEyiemAnHPdiJuOQ8UuUJSLAAAAAQ0GfkkURLCP/AAAWvEPNtxV0Qjs6sjHM3ACVDuz/2WfArpEn0JBozpKAaQ1R/xtN04pl/p3s8OyLHx2d3OidS01bvg0AAAAnAZ+xdEf/AAAFHFJqcIGADgZ+bM7gW7sc9tM2jmZIs/o+Zik0YTBgAAAAIgGfs2pH/wAAI78azB/0KtoqfiZ/0V5xjXDAYHt8om1eeDAAAABfQZu4SahBbJlMCGf//p4QAABDSW1gBQDOF5zSBny1P/+hb1DuobPMwpT+yiHphqRGaCDR+dqzFdFkrXNvSA/D28K57WDNmoJrz2UQ1j4I1O54OH8MkvmACxeaXeEAb2EAAAAuQZ/WRRUsI/8AABYlX0cf/qDvzB7QAmrqVWCJQSZ+48KErLt7Z5RCmN6E6HH3FgAAACcBn/V0R/8AACLDRwhq4RPkN6IABKa6nCHYnCHtd3yYlRM9uPqw5fMAAAAZAZ/3akf/AAADALomAcNyg5WATtZ+BDfwYQAAAFBBm/xJqEFsmUwIZ//+nhAAAEWek8ZcosHV9AIC85HIHXL4JNvyFHDNmOxYJX4mBBCtcvs9hBOJKaDIvax61owPZ1QIlZvvGINRisM/xUU5gAAAADNBnhpFFSwj/wAAFrNH+3FgpTAu1/It2zN9nADXGTnuqzV3/bhtV9m9Uxc52kL+KOQUFs0AAAAgAZ45dEf/AAAjq/hbeBKdaG7bABdRBb+8hBQaT7cIFtAAAAArAZ47akf/AAAjscwQ5KgAsf7fuM9aWimU38s/l5/EHRnc9X4MYgw1ZBNtuQAAADhBmiBJqEFsmUwIZ//+nhAAAEVRCU8FNkXNjNMYDBnrl/7AkfPxT3C5AD/i0b0c+R9MreJqtdMUWQAAADhBnl5FFSwj/wAAFruKcKaoAbf2NW6+r/8SF/UvjWLc7XZrwNH53MLmg7rdHc8ptJ1Lv6lcIFhAQAAAACYBnn10R/8AACPDF3cT+PNut8kfUP5O+/WsYMzQAT1armLqQAYUqAAAAB4Bnn9qR/8AACO++JfNFRai0U2YB2nwdiqIeZ34hKkAAABSQZpkSahBbJlMCGf//p4QAABFaPE5remDxL13AeqWdU3GZdnwV5Lco2wAVLWrLRszQ/CRObXXyNmeMCOfF0INdyALQB+W4AsIfc3PudW5xS6SwAAAAD5BnoJFFSwj/wAAFr5p2YCCj1QAdxM+cFIUtwezTc9/w68g6bbRsQo8jChKA6NEtqvUOySeMooQ63gm6qbZgQAAACMBnqF0R/8AACPDF2ipxtVtjx6CABaf299TaXg6Itd4fPiXgAAAACIBnqNqR/8AACO/Gg+FHVh46+X7WZSYyXPH40PoRT/f1WSZAAAAO0GaqEmoQWyZTAhn//6eEAAARVSpPuP8gW+nRZSUE/IS1TQX5RlDenAAcHzGeAmtCK9CTWu39D2qTr7RAAAAM0GexkUVLCP/AAAWb5cqFOeyCKlogA+/ckUaipRGfd3MxBA7QIP3uh1Q27R4KOCOxSC7ZwAAAB4BnuV0R/8AACOr+FfgEl4LoSy+GQG+ZK2ucfiQtuEAAAAsAZ7nakf/AAAjsjI75RISl8TdqcZfgRQAbDDTReOgSuXQ7FT5/jd8Dqh3LZgAAABoQZrsSahBbJlMCGf//p4QAABFRFpsTbydNlPC7DmoIFrgrNB2dHeGpWxkXI2zW58P0ibshUd6e0nbcy5hQbz7s+hLlZl7AbpkuuXBW7GpY9evzoS93KH/GHHiPb58kd9nnwcN6qRiHrgAAAAwQZ8KRRUsI/8AABazR86oQioAWLup/4ikUNSo+6Xjgyz0VKPhibTf47nd8qyoKICBAAAAIgGfKXRH/wAAIz3LOemDS2BlJxNgAsEM/2SPV8wq0h0DNBAAAAAbAZ8rakf/AAAjvxrOe94JuEZxgYBYRfS3ncgIAAAASkGbMEmoQWyZTAhn//6eEAAARUUF71d96+scHOW1mgBSW4xdOYXIR5B6DpBLf7WaEe/CC5IL937Dhql7eSLENQCSWWjTL2tURaTBAAAANkGfTkUVLCP/AAAWtVhVzyjwATjEsJOzoclquzfQvMagBsdssExhjWglzwl7n8LKSHXoGYtJJwAAACEBn210R/8AACPDPg51uNryQ8EgAuogt8iJppvHv8htWLEAAAAdAZ9vakf/AAAFHTAOMGXZuYj8wMC/veypxCBP7MAAAABDQZt0SahBbJlMCGf//p4QAABFRFpzp3njonDqcgAlxaJLiN/8OJSYmPU0jW/Oqt2BIkXk95H58yJotgEj+Dv/CLKmQAAAAC5Bn5JFFSwj/wAAFrNIi98q8M1qC/aDpOXT8AB/NoeuVgl5HufiB5ziafU1eYW5AAAANQGfsXRH/wAAI6w5BJcfkjsVtABdP4lF88eUsHWeCfKTaeQtOHdTSUxUdXxUa+aL8b2vmS2gAAAAIAGfs2pH/wAAI78aznvdt2DarwMfBtEemLnl/PiwaQmAAAAAakGbuEmoQWyZTAhn//6eEAAARUUJ3IAiQ3gJSkF/u4H/9uvhFePUTyR0UWbAGq48IWzelWTyB6EFiSp+p/czdn6jBqszxx+alTt4h6hcPhY9j2uNq5eW8Z1au+fdwznDo7zr099Qnh8cqSMAAAA2QZ/WRRUsI/8AABa8TmzC16uWPus160JUjWZPTTmarRhC3EU31WjcyxBb9+PTstxFW3g1ApswAAAAHAGf9XRH/wAAAwHlh9ptSWnKfo+EgEwWohGq+zEAAAAjAZ/3akf/AAAjvYQABjgMs8tqkAFp/b31Na5oteiaT4qJxSUAAABNQZv8SahBbJlMCGf//p4QAABHRFoF96eYi/gtZXI7gAhvKpsvUJQ95kG2lgp+KJ9hCZNESe8L54Dbz5VvlAdArMdJqAvP9sKbotUi49AAAAA9QZ4aRRUsI/8AABdMPS5jSBQgADf5ZiFvNPSHlK9qC01azBNkRBjlx6VMs1D3zOItiXFQ3HbQjhynWSw1NwAAACMBnjl0R/8AACOsOQWuTxnRLBikGBVSiwsNjibWvSxw5BvUgAAAADcBnjtqR/8AACSyKu6kgrMAEe7R+50Zew6ZN98nq8henkS0l95iX2njTwgRbhY6HeyPJPLH2B1RAAAAVUGaIEmoQWyZTAhn//6eEAAAR0RZ9jEdgAsFLi80BtDsWh5uHaCYXz59C86QeLDkIVjhtWCJ7FE6JsSC0MehlTj6x7Ka3X2uyxPNH1QyHBvDCCqrL0EAAAA5QZ5eRRUsI/8AABdDR0gtebcAAE7rAcN7D0tR1Sro2xdTrRz2wVon3M7ijiAgJcFwE/iEj8CIH2N+AAAAIQGefXRH/wAAJMMXaKmlU9UG+qb6UDRtdzBLnK/Vi7Cp8wAAAB4Bnn9qR/8AACS/BCcSyWmvZRgucVpK3EgIpdrptpMAAABsQZpkSahBbJlMCGf//p4QAABHRNLiAE0o1qksFD/Akq4EKPyzZGmMAR7J+XjT1Rsykibniq9rxU1VCNI6w1TVfRWltxd9OnYgZrNpj7Im1PWPrYwletj+HiOLwPSJaLDGhFqJqmFXHGlqgWScAAAAOEGegkUVLCP/AAAXS4qUZOPmsPhACZYrFa/A14Q26GKqcIJs3vHRvebDGjhc06M1HwA/dMwsJ5ypAAAAHQGeoXRH/wAAJMM+CAhn+5ulbM8uzdpi2lY8TSVMAAAALgGeo2pH/wAAJL8dLBkOAMxt/IdQASoVXJArTPYMQL1mIqxgU96oqb4vxmx4+mEAAABAQZqoSahBbJlMCGf//p4QAABHUQodAAdI+4Wfwfru2ScnTlA7oVPYcb9+4gpr3bFeu8JU0MtmcwcQEmJe1DKEMQAAACNBnsZFFSwj/wAAF0NHtw25HC/l0Nexku5Sd0kjTF62jRAhbQAAAC4BnuV0R/8AACSr+Ft4Ep1oI4gRyxQOAAugBh+0Ch8d4Qp6XHScze/OSbVodpeBAAAAJwGe52pH/wAAI7nOld69np+eaodcesCQtL/kAEymsx8DUqd9GvwbUgAAAElBmuxJqEFsmUwIZ//+nhAAAEdoxofqYLBw9clyyuqVhCZCjZMSInBfjHfzQAW9gMI25ynkNXKdYiG37ss2Mc/6a91reHycNRjgAAAAMUGfCkUVLCP/AAAXQ0e3DbkcL+XQ18fwQAmk+V3ZWi4tc57dA5pLTgKMX3uHtZjuFsEAAAAnAZ8pdEf/AAAkq/hbeAoIdACVJIGFoWV1aKvkiEf/N8u9k/UhblBAAAAAIwGfK2pH/wAAJLHL/HtV1nXuIVvxfEht8OjPHuHeIzckJesoAAAATUGbMEmoQWyZTAhn//6eEAAAR0Rab11r02IrAoHIQgXxZmEnMoq1g0/PTRqHrckiexkHjQtvHiagX/mPupBvrjniwBE5yDXl2jUkrKMlAAAAN0GfTkUVLCP/AAAW/2YWMPp1uhgbsTH/MntKk+tawADYbsh8BGYZz1ACGw9I1Ztxg3RJOJJFyoEAAAAkAZ9tdEf/AAAkwxdoqaVT1PvCCrzpUOexUjX5ILDB+tHiFpFhAAAAOQGfb2pH/wAAJJ6ETg04AFrPbDO3Z9VqsOfZYCF+EeEGpMQyBvoUIS2ODsC0vFbj+ZCY+W/q9LbOpAAAAFNBm3RJqEFsmUwIZ//+nhAAAEdlUOxNdpAESG4fs0W2Roii3N/bRZXY9i3qC2L1I4jHCmzb9J15y9Q8Oc4nsvexqGIf1ludjHi//PXzD69eE3x64AAAACpBn5JFFSwj/wAAF0YlIAjpdmNbG/Klxxm/I5dYOfgZjiM24yPWXsIbd80AAAAiAZ+xdEf/AAAkt/9C2Si2QJpMVvlnaoY4YABNNWQYe1JC8AAAACYBn7NqR/8AAAVDNNWxrK+oz0gXpnwAt4Ht4Kar8k0m/D9icz1MiwAAADdBm7hJqEFsmUwIZ//+nhAAAEdUj+35gYLkFrA2EmJ7c15LuzA5oGL64k5dCV8nAhJNteRHkQ6BAAAANEGf1kUVLCP/AAAXRiUgCOzD7SEWt29LMn2juK3LEiIzBeUb9Yxo01Wdi/O8DA2fgtwwQ8AAAAAWAZ/1dEf/AAAkt/9AETD9p/55lIbZgQAAAB4Bn/dqR/8AACSaWQ03Hgp0FizN0KVKuMpWajnEv00AAABKQZv8SahBbJlMCGf//p4QAABHUMZO4AK888EJ3R27mQ8YMdauz9d53gu4qfOkuEcLH8/OAoXIiNfLSscTjLfNpcWE8UFQQIb/syAAAAA0QZ4aRRUsI/8AABdOW852q4ElTydppeiOCIAP2QAF5ZrKvJ2iFCjC3e25P7GS/VCCqFqGrQAAACIBnjl0R/8AACSsOQWuTx8/JVexvpzjsy/x02xZashL7U2YAAAAHgGeO2pH/wAAJMcIMLxewZZtRj6VtZunG4YMK1diBQAAAExBmiBJqEFsmUwIZ//+nhAAAElo6KxAFQETyvva640FBQlOvHXmLSKstAHStDZcTphn2yrQEEyff/OU5r6COVGxbpEKEna9ytJiY1dBAAAALkGeXkUVLCP/AAAX6X0uY0gQsB6BetZpFMm793ROLChxACzV3SXE/OW+xs4mpMAAAAAeAZ59dEf/AAAkODvuZ5jbHgN9czW6ftIZ3UYTcd8wAAAAMgGef2pH/wAAJbnBWXqQAbk9sMafsavFXyDQnvcz6wgp0Cf6YYn7ZMv9mv7YlnLEPiTBAAAASkGaZEmoQWyZTAhn//6eEAAASURbbgCMuySgr/6BuzGq3/+/154mlzurUzaq2uvmXeRYi7Dps/4vJDE0WU7QQ/BPzOgZiMkcOQTYAAAAI0GegkUVLCP/AAAX4Ie3DbkcL+XQ17GS7lvlX9GE53H5K4ZJAAAAGgGeoXRH/wAAJavYOywwpbEjwwAGP5dValvQAAAALwGeo2pH/wAAJbHMCW+pcFWwAONy7epVhVsP0TAkwvM3hgsM+pH1ERMe3mgZgUmBAAAAMkGaqEmoQWyZTAhn//6eEAAASURaIl04P9l82CW9Q73PSVcp/6h7DEFn97yLPYxkcppRAAAANUGexkUVLCP/AAAX4Ie3Dbk4QAIL+7eyq9udXJ/VPJY9rQ1F1gDrdYBjBrlymXHEoiXVj0nBAAAAIwGe5XRH/wAAJav4W3gSnVfl37dJ55Vci7dSK5+oGHukoVyRAAAALAGe52pH/wAAJb8HH6Zd8SxG37rWCtPr48loNUET/gAAeNDPViY7ju/a6mtgAAAAP0Ga7EmoQWyZTAhn//6eEAAASURaIl04P9l82CW9Va0bQncwAhA5foMH1LD/yDalYvnQqp7XjrcMA1Xw/T9u4AAAAFBBnwpFFSwj/wAAF/b3gCJBrJC+6MZ4ydbTz2XjPAK++1wz7uOMKZZoDM65023BxU3qFqL7heY7tN4rSmHxl2TQvc83PeBDGX2hil5uitqLPwAAAC0Bnyl0R/8AACXIYaYDVaaaN7fv9ngAs4m+jfQAY6IZLAMglcq4jsUFvgYPFJwAAAAcAZ8rakf/AAAlscwJb4Q9SRvhnFI3HTnR6soWUAAAAENBmzBJqEFsmUwIZ//+nhAAAElEWiJdOD/ZfNglvXYom6sDDBpllAFyJ0dbEnLwZuQAHSrNHeVd8fRHwUBo+fZ92KPBAAAAM0GfTkUVLCP/AAAX4Ie3DbkcTkAFJ3KRQN0h5K3bgeloj4aiaWn746aQk3CXYUh0oJMWwQAAACEBn210R/8AACWr+Ft4F9VNW8jwkoV8BRMsycikVpkDmpEAAAAiAZ9vakf/AAAlvwQnEslpmrhWUx8qPSsv+DjCSO3MvE16TAAAAG9Bm3RJqEFsmUwIZ//+nhAAAElEWmxNvJ02U8L5ieaSSlpt7tDf7oQlQAS2HUI8n12huoncsia62rknnHe50TDmoiR6ji1hhhuYBOoJNvFX/G+YvjFWIE/GOE598d+gv/9maP8+gIOaatHdtxT6RXAAAAAmQZ+SRRUsI/8AABfgh86oN9xM0/fSa5vYmdSZoyJPUgooJSzoHpEAAAAhAZ+xdEf/AAAlwxdoqaVT1PvCCY6wGDaIdhqu9fJ+nGpAAAAAFgGfs2pH/wAAJbIrBSTkf8Nn48ONWcAAAABEQZu4SahBbJlMCGf//p4QAABJRFpzp3njomJKxkBM8XaIo3q098yCwg/zy9+sCXcGNL4T5/QoOLBSm2aM1DGVYJ03jacAAAA3QZ/WRRUsI/8AABfgiIvfKvCMvokQy1LO43+ACcYrFbAOqsYErOEKLT8BwEpl2e4cWb5hvOeFfAAAACEBn/V0R/8AACWsOQVKKSuPqyhaCtQ77LDLGDuxpBt5ARcAAAAuAZ/3akf/AAAlsisFJ0KgBZCYJj7pxwELbzRDA3RlPFdPjoXRG9/Dfo4uedaSTwAAAEJBm/xJqEFsmUwIZ//+nhAAAElEWnOneeOiYklJWikN7HwWMNAqjoWQ9gH1nlnHxS437ZBUqziv0L0TEruF0VGKUgQAAAA2QZ4aRRUsI/8AABfgiIvfKvCMulZYBUiXU9znEu2gBUpKOWvy3Ul4GtOEmwnKUpu4w7AOT8CBAAAAKwGeOXRH/wAAJaw5Ba53KDABIohdwD7oXwu85Dn+k66JP1L0MI970EZIgMAAAAAsAZ47akf/AAAlsisHEzmBTYACxZ82Z3kLnzwROPrMNDw+X2KyNPbqkBxeIIMAAAA0QZogSahBbJlMCGf//p4QAABLRFn2JuzOYCFyfpDBMXb+UVwgCmIFz3hkS8o8mcPe37xKSQAAAChBnl5FFSwj/wAAGIl9LmNIELAegXrWaRTJu/d0TiwYqt+K4Iw8hiW0AAAAJgGefXRH/wAAJaw5Ba5PHz8iuE4ALURuEUaNYgI1EuS2g6kPCxO4AAAAGwGef2pH/wAAJrHMCW+pb7IVSPv8BijIPnea8QAAAE1BmmRJqEFsmUwIZ//+nhAAAEtQ3hYgFyQuf7f1q7VmNVgDxOm+lnHYtE9RPzqMkDb3bDa+Q/dQyu0t9b5IdYMpb1yGg/rbJ81UeVzm0AAAADdBnoJFFSwj/wAAGICHtwyJ+zgAC4pT/PgjFQjnESfQkG4UBf4U1IfQkkJFVnK8fy00/oqa38OVAAAAGgGeoXRH/wAAJsCZ3elelFO0QMF52FhB6TuAAAAAHwGeo2pH/wAAJr8LBwN2wFGmvZ+YpPrGCKuQX7FsDXkAAABaQZqoSahBbJlMCGf//p4QAABLVJsQCAHInHrmBh78Zl0lEmJCNKLQzuU77pxFoJzC6NhS8zwKlAxfZp2/r/BuXJJ7lZotDNCl1vWySA8C/m9GtsglmygXBM4ZAAAAL0GexkUVLCP/AAAYgIe3DbkcL+XQ18fwQAmk/QHSt3asMC2QRZkoG0oX/jieyI9xAAAAIQGe5XRH/wAAJsLs4YPnxDMIKVENDrIw5d6zUpMY3VqK2QAAACQBnudqR/8AACa/Bx+mXfEsRt+62vV+/eND8XDj+4fEjBX44coAAABMQZrsSahBbJlMCGf//p4QAABLaMaH6lnLiHEggDkGjTW4I/nv+ALir/BrI1DiDPM3FdWdaK28+1dijceyA7x9lnfl67OCxccdcjPGygAAACBBnwpFFSwj/wAAGICHtw25HC/l0Nf9uLvEPWiaZ/3lHwAAADEBnyl0R/8AACbIZJSADjdBiabYkH6xz2u8qAPTLY//SuC7B0pQLJ2jypBl1Wbpb2VAAAAALQGfK2pH/wAAJrHMCW+Et3AAtRG4RQESBMyib7kx2yWzdTXS47DxK12VT+0QcAAAAGRBmzBJqEFsmUwIZ//+nhAAAEtDkG+ACwUuLzn9109Jr58u0GL9sivFhHkdOUBTrF8IbtbWIBv2dfFHWOTv+lOs93NJRybZwHpp4EMgBKb/dK6RmGuiicgdXEfrGkW/mOBwneUpAAAAOUGfTkUVLCP/AAAYM45ZoI6DhBcAJq6Bs2Ho+GV5DRZN+Ph4jN316hGMDDNb+WMaqGo6bxlnSP1WVQAAACMBn210R/8AACap6hsafpgkZA0z/85npW9J02Cz/eSNTFdHuQAAADABn29qR/8AACa/GzxtplQRVdwyVNgAXTm9+l358SSM+yyt9EHggF7tOHVmL0UvBZUAAAB0QZt0SahBbJlMCF///oywAABMEHssQaDINTfHQBO6SWqspCeSM1Kh/5AubVb3jTCgJ/IP/0bqxxBfE1VgSDOLZWhVRPTBLBNcKfQelg0i2ox0QYATzTvib29qDNTGZLRgQVHJt2VSz108FzaljYFL1j8Q7GAAAABBQZ+SRRUsI/8AABiNhOmwg/Di7Wf5jorXAxFIGsNnhS8AA2BrX0eAMn2Lz6hrYqVvB/cgusgIuFoYiZZsZwerMe8AAAArAZ+xdEf/AAAmwz4N2zs6g7X7hCAC6c3vkauODx49bpF8wG4aSL+upUBz4AAAACQBn7NqR/8AACbHK/6OkRHRG8adocU3gmEiOnmgSx04Hm1pmz4AAABcQZu4SahBbJlMCF///oywAABMEI9Gf8Yfjq4AIfjutA1t+ffRLmXSoGytLq08KeYCUAKkaQ+KO2uZRgT/z43BCbjaXaSqOALEgqHFogbDYaEjx6Mrq9yJzO2lbnsAAABFQZ/WRRUsI/8AABiLm852q4Eu49YmooEiBIcdXrkdtACpSLm/T66Tl3b/Fsde9yHUNcsL+wHrlLfP81lQQ9XjUoOpoIfuAAAALwGf9XRH/wAAJrfMIKCYnX3F8CsC5tQaDaHpV5tAB+46p38PE1vKjwzOH0TRXbKBAAAAPwGf92pH/wAAJq5gC2g22+S4KgAueq3zUgNTmwR/38o+NRJ3LO7s2sOeb8E+00WPnoc2ntlAhtjHWWUVHBw2VQAAADlBm/tJqEFsmUwIX//+jLAAAE4B8ajv2HC0DCJOy+xuywRpaCqfHwLnVrurjXMvyjDPmQImqFv2f1IAAAA0QZ4ZRRUsI/8AABkpd4CIUPlZW0hf8skYjA8rLs7ceLdMSHYXL6yUpcPT5DCbWJx2bb2xYQAAACwBnjpqR/8AACfXqIWT9djaluwAImLicPZsSlhV+QdYg6p6pgOKKnli4ZuKDAAAAE9Bmj9JqEFsmUwIX//+jLAAAE4Ql8xsfT0AOfZQdKMd8C9VIZ8zzsxEe99H2PiiJcmr/D65/QvXcu9pb1q0gCMDDGYYdqKlMXXnkxk82D4hAAAATkGeXUUVLCP/AAAZKMqUZJY/wMeoZADgtj2Gp9k+0/8HF50RbhuzFjI8da+ky58V+vHnecBc502fz9zSOsRHUOqYHUoWf8zP0iG1/2xjbQAAACsBnnx0R/8AAA7Tf34c9ACWcYhA2vm1rE2cVeIcb29iNAMhi1YPR31WtsWAAAAAOgGefmpH/wAAJ8VUg1PxslV5gKTGPgWCAFovpnO9ZXTOj6jvrEXreCY1j72bsOPe/dm4WXwmjajl7VAAAABVQZpjSahBbJlMCFf//jhAAAEtoRFTRkiFckPezwtWcXoEE+BBMKz4eVGIw19Kk11/nNdhIdl0wALoLo7DsGuKc1lQZZBi3g7orlmhEPaSZUxzRgb3XQAAAD9BnoFFFSwj/wAAGR/sXDNF+QgUgBpAynyACduopQorpDsXXIuMnOcz3m8AAc3MOnEz0+d1JhGN5cdJrYRGxYAAAAA3AZ6gdEf/AAAn3jTha/pnRKlu22fqACR1bPWs5+Q0O/mc2lm4KAlbLWYBStNMhRPrPguyZ11aoQAAAEkBnqJqR/8AACfFVINTzpJJPIAWk/U9Lz8rPId3Q9ef2EX/66Okbukbfx9ePHGev18p4YvCBL2KcMRgXvvhFmZs9Q08NwTLAVsuAAAAXEGap0moQWyZTAhH//3hAAAEkz+joYGYiIu9qgBLVZAp1L1jxk9OYTy85xgmdackvZ9EnbidRmfVzP55izt8lRKf65CJO8r4OQIXqo/+2d+s3/KOWnMfN7QeXPjZAAAAXUGexUUVLCP/AAAZH+votFiMWxAe4fV0WBHE4bpDyVu7Vji7s4HiF7kLnOdxHSRYuhpSkOAe3fSnsO4tLnTUiLSYba7F2Aq56zimE/Xf0l9w8eVTpbSCA36eTdA9iwAAADkBnuR0R/8AACfCk1JHF3tACWEfbanU3PnRq2k2CgeQPx5xC/j72hKFwlR2aaPSb3zn7nLpm54su1UAAAA2AZ7makf/AAAnxVQQNHhFh0zLNdyBU7rcMv40OWZuCTCv7oAGnE3vr4NByucKzUOgl5HgKXtVAAAASEGa6EmoQWyZTAj//IQAABHTVon0YX4AC3iVuD6SYQERdwRQsmV4MLCESV+n70ULOPd5g6Wnv7gMuXG7wFZC/uIZ8EastccMeAAADGdtb292AAAAbG12aGQAAAAAAAAAAAAAAAAAAAPoAAAPtAABAAABAAAAAAAAAAAAAAAAAQAAAAAAAAAAAAAAAAAAAAEAAAAAAAAAAAAAAAAAAEAAAAAAAAAAAAAAAAAAAAAAAAAAAAAAAAAAAAAAAAACAAALkXRyYWsAAABcdGtoZAAAAAMAAAAAAAAAAAAAAAEAAAAAAAAPtAAAAAAAAAAAAAAAAAAAAAAAAQAAAAAAAAAAAAAAAAAAAAEAAAAAAAAAAAAAAAAAAEAAAAACWAAAAZAAAAAAACRlZHRzAAAAHGVsc3QAAAAAAAAAAQAAD7QAAAIAAAEAAAAACwltZGlhAAAAIG1kaGQAAAAAAAAAAAAAAAAAADIAAADJAFXEAAAAAAAtaGRscgAAAAAAAAAAdmlkZQAAAAAAAAAAAAAAAFZpZGVvSGFuZGxlcgAAAAq0bWluZgAAABR2bWhkAAAAAQAAAAAAAAAAAAAAJGRpbmYAAAAcZHJlZgAAAAAAAAABAAAADHVybCAAAAABAAAKdHN0YmwAAACYc3RzZAAAAAAAAAABAAAAiGF2YzEAAAAAAAAAAQAAAAAAAAAAAAAAAAAAAAACWAGQAEgAAABIAAAAAAAAAAEAAAAAAAAAAAAAAAAAAAAAAAAAAAAAAAAAAAAAAAAAAAAY//8AAAAyYXZjQwFkAB//4QAZZ2QAH6zZQJgz5eEAAAMAAQAAAwBkDxgxlgEABmjr48siwAAAABhzdHRzAAAAAAAAAAEAAADJAAABAAAAABRzdHNzAAAAAAAAAAEAAAABAAAGQGN0dHMAAAAAAAAAxgAAAAEAAAIAAAAAAQAABQAAAAABAAACAAAAAAEAAAAAAAAAAQAAAQAAAAABAAAFAAAAAAEAAAIAAAAAAQAAAAAAAAABAAABAAAAAAEAAAUAAAAAAQAAAgAAAAABAAAAAAAAAAEAAAEAAAAAAQAAAgAAAAABAAAFAAAAAAEAAAIAAAAAAQAAAAAAAAABAAABAAAAAAEAAAQAAAAAAgAAAQAAAAABAAAFAAAAAAEAAAIAAAAAAQAAAAAAAAABAAABAAAAAAEAAAQAAAAAAgAAAQAAAAABAAADAAAAAAEAAAEAAAAAAQAAAgAAAAABAAAFAAAAAAEAAAIAAAAAAQAAAAAAAAABAAABAAAAAAEAAAUAAAAAAQAAAgAAAAABAAAAAAAAAAEAAAEAAAAAAQAABQAAAAABAAACAAAAAAEAAAAAAAAAAQAAAQAAAAABAAADAAAAAAEAAAEAAAAAAQAABQAAAAABAAACAAAAAAEAAAAAAAAAAQAAAQAAAAABAAAFAAAAAAEAAAIAAAAAAQAAAAAAAAABAAABAAAAAAEAAAUAAAAAAQAAAgAAAAABAAAAAAAAAAEAAAEAAAAAAQAABQAAAAABAAACAAAAAAEAAAAAAAAAAQAAAQAAAAABAAAFAAAAAAEAAAIAAAAAAQAAAAAAAAABAAABAAAAAAEAAAUAAAAAAQAAAgAAAAABAAAAAAAAAAEAAAEAAAAAAQAABQAAAAABAAACAAAAAAEAAAAAAAAAAQAAAQAAAAABAAAFAAAAAAEAAAIAAAAAAQAAAAAAAAABAAABAAAAAAEAAAUAAAAAAQAAAgAAAAABAAAAAAAAAAEAAAEAAAAAAQAABQAAAAABAAACAAAAAAEAAAAAAAAAAQAAAQAAAAABAAAFAAAAAAEAAAIAAAAAAQAAAAAAAAABAAABAAAAAAEAAAUAAAAAAQAAAgAAAAABAAAAAAAAAAEAAAEAAAAAAQAABQAAAAABAAACAAAAAAEAAAAAAAAAAQAAAQAAAAABAAAFAAAAAAEAAAIAAAAAAQAAAAAAAAABAAABAAAAAAEAAAUAAAAAAQAAAgAAAAABAAAAAAAAAAEAAAEAAAAAAQAABQAAAAABAAACAAAAAAEAAAAAAAAAAQAAAQAAAAABAAAFAAAAAAEAAAIAAAAAAQAAAAAAAAABAAABAAAAAAEAAAUAAAAAAQAAAgAAAAABAAAAAAAAAAEAAAEAAAAAAQAABQAAAAABAAACAAAAAAEAAAAAAAAAAQAAAQAAAAABAAAFAAAAAAEAAAIAAAAAAQAAAAAAAAABAAABAAAAAAEAAAUAAAAAAQAAAgAAAAABAAAAAAAAAAEAAAEAAAAAAQAABQAAAAABAAACAAAAAAEAAAAAAAAAAQAAAQAAAAABAAAFAAAAAAEAAAIAAAAAAQAAAAAAAAABAAABAAAAAAEAAAUAAAAAAQAAAgAAAAABAAAAAAAAAAEAAAEAAAAAAQAABQAAAAABAAACAAAAAAEAAAAAAAAAAQAAAQAAAAABAAAFAAAAAAEAAAIAAAAAAQAAAAAAAAABAAABAAAAAAEAAAUAAAAAAQAAAgAAAAABAAAAAAAAAAEAAAEAAAAAAQAABQAAAAABAAACAAAAAAEAAAAAAAAAAQAAAQAAAAABAAAFAAAAAAEAAAIAAAAAAQAAAAAAAAABAAABAAAAAAEAAAUAAAAAAQAAAgAAAAABAAAAAAAAAAEAAAEAAAAAAQAABQAAAAABAAACAAAAAAEAAAAAAAAAAQAAAQAAAAABAAAFAAAAAAEAAAIAAAAAAQAAAAAAAAABAAABAAAAAAEAAAUAAAAAAQAAAgAAAAABAAAAAAAAAAEAAAEAAAAAAQAABQAAAAABAAACAAAAAAEAAAAAAAAAAQAAAQAAAAABAAAFAAAAAAEAAAIAAAAAAQAAAAAAAAABAAABAAAAAAEAAAQAAAAAAgAAAQAAAAABAAAFAAAAAAEAAAIAAAAAAQAAAAAAAAABAAABAAAAAAEAAAUAAAAAAQAAAgAAAAABAAAAAAAAAAEAAAEAAAAAAQAABQAAAAABAAACAAAAAAEAAAAAAAAAAQAAAQAAAAABAAACAAAAABxzdHNjAAAAAAAAAAEAAAABAAAAyQAAAAEAAAM4c3RzegAAAAAAAAAAAAAAyQAABPUAAADTAAAAVgAAAEAAAABGAAAAlQAAADYAAAA7AAAAKAAAAKAAAABAAAAALAAAAEUAAAA3AAAAfAAAADcAAAAlAAAANQAAAD0AAABBAAAALAAAAGEAAAAwAAAAMgAAAB4AAABOAAAAHwAAAD4AAABYAAAAIwAAADcAAABzAAAANQAAACcAAAAlAAAAPgAAADkAAAA2AAAAHAAAAH0AAAAzAAAAIQAAACgAAABJAAAANAAAAFMAAABBAAAAIAAAACEAAABJAAAARwAAACsAAAAmAAAAYwAAADIAAAArAAAAHQAAAFQAAAA3AAAAJAAAAC8AAAA8AAAAPAAAACoAAAAiAAAAVgAAAEIAAAAnAAAAJgAAAD8AAAA3AAAAIgAAADAAAABsAAAANAAAACYAAAAfAAAATgAAADoAAAAlAAAAIQAAAEcAAAAyAAAAOQAAACQAAABuAAAAOgAAACAAAAAnAAAAUQAAAEEAAAAnAAAAOwAAAFkAAAA9AAAAJQAAACIAAABwAAAAPAAAACEAAAAyAAAARAAAACcAAAAyAAAAKwAAAE0AAAA1AAAAKwAAACcAAABRAAAAOwAAACgAAAA9AAAAVwAAAC4AAAAmAAAAKgAAADsAAAA4AAAAGgAAACIAAABOAAAAOAAAACYAAAAiAAAAUAAAADIAAAAiAAAANgAAAE4AAAAnAAAAHgAAADMAAAA2AAAAOQAAACcAAAAwAAAAQwAAAFQAAAAxAAAAIAAAAEcAAAA3AAAAJQAAACYAAABzAAAAKgAAACUAAAAaAAAASAAAADsAAAAlAAAAMgAAAEYAAAA6AAAALwAAADAAAAA4AAAALAAAACoAAAAfAAAAUQAAADsAAAAeAAAAIwAAAF4AAAAzAAAAJQAAACgAAABQAAAAJAAAADUAAAAxAAAAaAAAAD0AAAAnAAAANAAAAHgAAABFAAAALwAAACgAAABgAAAASQAAADMAAABDAAAAPQAAADgAAAAwAAAAUwAAAFIAAAAvAAAAPgAAAFkAAABDAAAAOwAAAE0AAABgAAAAYQAAAD0AAAA6AAAATAAAABRzdGNvAAAAAAAAAAEAAAAwAAAAYnVkdGEAAABabWV0YQAAAAAAAAAhaGRscgAAAAAAAAAAbWRpcmFwcGwAAAAAAAAAAAAAAAAtaWxzdAAAACWpdG9vAAAAHWRhdGEAAAABAAAAAExhdmY1Ny44My4xMDA=\" type=\"video/mp4\">\n",
       "</video>\n"
      ],
      "text/plain": [
       "<IPython.core.display.HTML object>"
      ]
     },
     "metadata": {},
     "execution_count": 15
    }
   ]
  },
  {
   "cell_type": "code",
   "metadata": {
    "id": "tupIsK2xkEbA"
   },
   "source": [],
   "execution_count": 15,
   "outputs": []
  }
 ]
}
