{
 "cells": [
  {
   "cell_type": "markdown",
   "metadata": {
    "id": "yIhUmAAkR24b"
   },
   "source": [
    "# Practice: REINFORCE in PyTorch\n",
    "__This notebook is based on [Practical_RL week06](https://github.com/yandexdataschool/Practical_RL/tree/master/week06_policy_based) materials__"
   ]
  },
  {
   "cell_type": "markdown",
   "metadata": {
    "id": "f4ugm59uR24d"
   },
   "source": [
    "Just like we did before for q-learning, this time we'll design a pytorch network to learn `CartPole-v0` via policy gradient (REINFORCE).\n",
    "\n",
    "Most of the code in this notebook is taken from approximate qlearning, so you'll find it more or less familiar and even simpler."
   ]
  },
  {
   "cell_type": "code",
   "execution_count": 1,
   "metadata": {
    "colab": {
     "base_uri": "https://localhost:8080/"
    },
    "id": "NiaF9QLRR24e",
    "outputId": "e6982101-7eea-4751-d028-45506aa03adb"
   },
   "outputs": [
    {
     "name": "stdout",
     "output_type": "stream",
     "text": [
      "Starting virtual X frame buffer: Xvfb.\n"
     ]
    }
   ],
   "source": [
    "import os\n",
    "import sys\n",
    "\n",
    "\n",
    "if \"google.colab\" in sys.modules and not os.path.exists(\".setup_complete\"):\n",
    "    !wget -q https://raw.githubusercontent.com/yandexdataschool/Practical_RL/master/setup_colab.sh -O- | bash\n",
    "    !touch .setup_complete\n",
    "\n",
    "# This code creates a virtual display to draw game images on.\n",
    "# It will have no effect if your machine has a monitor.\n",
    "if type(os.environ.get(\"DISPLAY\")) is not str or len(os.environ.get(\"DISPLAY\")) == 0:\n",
    "    !bash ../xvfb start\n",
    "    os.environ[\"DISPLAY\"] = \":1\""
   ]
  },
  {
   "cell_type": "code",
   "execution_count": 2,
   "metadata": {
    "colab": {
     "base_uri": "https://localhost:8080/",
     "height": 269
    },
    "id": "7EYF5lpLR24e",
    "outputId": "cb3cd95e-fadb-4ed1-9ac5-73b89e4fceec"
   },
   "outputs": [
    {
     "data": {
      "image/png": "[encoded data removed]",
      "text/plain": [
       "<Figure size 432x288 with 1 Axes>"
      ]
     },
     "metadata": {
      "needs_background": "light"
     },
     "output_type": "display_data"
    }
   ],
   "source": [
    "import gym\n",
    "import matplotlib.pyplot as plt\n",
    "import numpy as np\n",
    "import pandas as pd\n",
    "\n",
    "\n",
    "%matplotlib inline\n",
    "\n",
    "env = gym.make(\"CartPole-v0\").env\n",
    "env.reset()\n",
    "n_actions = env.action_space.n\n",
    "state_dim = env.observation_space.shape[0]\n",
    "\n",
    "plt.imshow(env.render(\"rgb_array\"));"
   ]
  },
  {
   "cell_type": "markdown",
   "metadata": {
    "id": "-PR2YFXrR24f"
   },
   "source": [
    "## Building the network for REINFORCE"
   ]
  },
  {
   "cell_type": "markdown",
   "metadata": {
    "id": "o_tWdvOMR24f"
   },
   "source": [
    "For REINFORCE algorithm, we'll need a model that predicts action probabilities given states. Let's define such a model below."
   ]
  },
  {
   "cell_type": "code",
   "execution_count": 3,
   "metadata": {
    "id": "4bqkxAmgR24f"
   },
   "outputs": [],
   "source": [
    "import torch\n",
    "import torch.nn as nn\n",
    "\n",
    "\n",
    "# YOUR CODE HERE\n",
    "# Build a simple neural network that predicts policy logits.\n",
    "# Hint: keep it simple. CartPole isn't worth deep architectures.\n",
    "# model = nn.Sequential(...)\n",
    "hidden_dim = 16\n",
    "model = nn.Sequential(\n",
    "    nn.Linear(state_dim, hidden_dim),\n",
    "    nn.ReLU(),\n",
    "    nn.Linear(hidden_dim, hidden_dim),\n",
    "    nn.ReLU(),\n",
    "    nn.Linear(hidden_dim, n_actions),\n",
    ")"
   ]
  },
  {
   "cell_type": "markdown",
   "metadata": {
    "id": "WHzZxBk4R24f"
   },
   "source": [
    "## Predict function"
   ]
  },
  {
   "cell_type": "markdown",
   "metadata": {
    "id": "iCzve02MS2rS"
   },
   "source": [
    "Let's define function which will take states as input and return probabilities for actions.\n",
    "\n",
    "> Note: input and output of this function are not a torch tensors, they're numpy arrays."
   ]
  },
  {
   "cell_type": "code",
   "execution_count": 4,
   "metadata": {
    "id": "3ZW2P5oZR24g"
   },
   "outputs": [],
   "source": [
    "def predict_probs(state):\n",
    "    # YOUR CODE HERE\n",
    "    # Predict action probabilities given current state.\n",
    "    # Note: state is a numpy array of shape [state_dim]\n",
    "    # and return value should be a numpy array of shape [n_actions]\n",
    "    # probs = ...\n",
    "    state = torch.tensor(state[None, ...], dtype=torch.float32)\n",
    "    with torch.no_grad():\n",
    "        logits = model(state)[0]\n",
    "\n",
    "    probs = torch.softmax(logits, dim=0).numpy()\n",
    "    return probs"
   ]
  },
  {
   "cell_type": "code",
   "execution_count": 5,
   "metadata": {
    "id": "BYFGLVhXR24g"
   },
   "outputs": [],
   "source": [
    "for _ in range(5):\n",
    "    test_state = env.reset()\n",
    "    test_probs = predict_probs(test_state)\n",
    "    assert isinstance(\n",
    "        test_probs, np.ndarray\n",
    "    ), f\"you must return np array and not {type(test_probs)}\"\n",
    "    assert tuple(test_probs.shape) == (n_actions,), f\"wrong output shape: {test_probs.shape}\"\n",
    "    assert np.isclose(test_probs.sum(), 1), \"probabilities do not sum to 1\""
   ]
  },
  {
   "cell_type": "markdown",
   "metadata": {
    "id": "WN6_Ia3pR24g"
   },
   "source": [
    "## Play the game"
   ]
  },
  {
   "cell_type": "markdown",
   "metadata": {
    "id": "_hcHPzssW7cQ"
   },
   "source": [
    "We can now use our newly built agent to play the game."
   ]
  },
  {
   "cell_type": "code",
   "execution_count": 6,
   "metadata": {
    "id": "ax-53tyaR24g"
   },
   "outputs": [],
   "source": [
    "def generate_session(env, time_limit=1000):\n",
    "    states, actions, rewards = [], [], []\n",
    "    state = env.reset()\n",
    "\n",
    "    for _ in range(time_limit):\n",
    "        action_probs = predict_probs(state)\n",
    "\n",
    "        # YOUR CODE HERE\n",
    "        # Sample action with given probabilities.\n",
    "        # action = ...\n",
    "        action = np.random.choice(n_actions, p=action_probs)\n",
    "\n",
    "        new_state, reward, done, _ = env.step(action)\n",
    "\n",
    "        # record session history to train later.\n",
    "        states.append(state)\n",
    "        actions.append(action)\n",
    "        rewards.append(reward)\n",
    "\n",
    "        state = new_state\n",
    "        if done:\n",
    "            break\n",
    "\n",
    "    # Convert to numpy for faster to torch transformations.\n",
    "    return np.array(states), np.array(actions), np.array(rewards)"
   ]
  },
  {
   "cell_type": "code",
   "execution_count": 7,
   "metadata": {
    "id": "YH9owxzfR24h"
   },
   "outputs": [],
   "source": [
    "# test it\n",
    "states, actions, rewards = generate_session(env)"
   ]
  },
  {
   "cell_type": "markdown",
   "metadata": {
    "id": "f7HDoCmCR24h"
   },
   "source": [
    "## Computing cumulative rewards"
   ]
  },
  {
   "cell_type": "markdown",
   "metadata": {
    "id": "e9VpDiXeXGZE"
   },
   "source": [
    "Now that we have our session's rewards, let's compute cumulative rewards for actions:\n",
    "\n",
    "$$ G_t = r_t + \\gamma r_{t+1} + \\gamma^2 r_{t+2} + \\ldots = r_t + \\gamma G_{t+1} $$"
   ]
  },
  {
   "cell_type": "code",
   "execution_count": 8,
   "metadata": {
    "id": "Uoiw4y83R24h"
   },
   "outputs": [],
   "source": [
    "def get_cumulative_rewards(rewards, gamma=0.99):\n",
    "    # YOUR CODE HERE\n",
    "    # Take a list of rewards for the whole session and compute cumulative rewards.\n",
    "    # Note: you must return an array of cumulative rewards with as many elemnts as\n",
    "    # in the initial one.\n",
    "    # Hint: the simplest way would be to iterate from last reward to first and\n",
    "    # compute G_t = r_t + gamma * G_{t+1} recurrently.\n",
    "    # cumulative_rewards = ...\n",
    "    cumulative_rewards = np.zeros_like(rewards, dtype=float)\n",
    "    cumulative_rewards[-1] = rewards[-1]\n",
    "    for i in reversed(range(len(rewards) - 1)):\n",
    "        cumulative_rewards[i] = rewards[i] + gamma * cumulative_rewards[i + 1]\n",
    "\n",
    "    return cumulative_rewards"
   ]
  },
  {
   "cell_type": "code",
   "execution_count": 9,
   "metadata": {
    "id": "NMJECrKpR24h"
   },
   "outputs": [],
   "source": [
    "assert isinstance(get_cumulative_rewards(rewards), np.ndarray)\n",
    "assert len(get_cumulative_rewards(list(range(100)))) == 100\n",
    "assert np.allclose(\n",
    "    get_cumulative_rewards([0, 0, 1, 0, 0, 1, 0], gamma=0.9),\n",
    "    [1.40049, 1.5561, 1.729, 0.81, 0.9, 1.0, 0.0],\n",
    ")\n",
    "assert np.allclose(\n",
    "    get_cumulative_rewards([0, 0, 1, -2, 3, -4, 0], gamma=0.5),\n",
    "    [0.0625, 0.125, 0.25, -1.5, 1.0, -4.0, 0.0],\n",
    ")\n",
    "assert np.allclose(get_cumulative_rewards([0, 0, 1, 2, 3, 4, 0], gamma=0), [0, 0, 1, 2, 3, 4, 0])"
   ]
  },
  {
   "cell_type": "markdown",
   "metadata": {
    "id": "mgtYuM9ZR24i"
   },
   "source": [
    "## Loss function and updates"
   ]
  },
  {
   "cell_type": "markdown",
   "metadata": {
    "id": "VX0-DFW_btxO"
   },
   "source": [
    "We now need to define objective and update over policy gradient.\n",
    "\n",
    "Our objective function is\n",
    "\n",
    "$$ J \\approx  { 1 \\over N } \\sum_{s_i,a_i} G(s_i,a_i) $$\n",
    "\n",
    "REINFORCE defines a way to compute the gradient of the expected reward with respect to policy parameters. The formula is as follows:\n",
    "\n",
    "$$ \\nabla_\\theta \\hat J(\\theta) \\approx { 1 \\over N } \\sum_{s_i, a_i} \\nabla_\\theta \\log \\pi_\\theta (a_i \\mid s_i) \\cdot G_t(s_i, a_i) $$\n",
    "\n",
    "Which means that we can abuse PyTorch's capabilities for automatic differentiation by defining our objective function as follows:\n",
    "\n",
    "$$ \\hat J(\\theta) \\approx { 1 \\over N } \\sum_{s_i, a_i} \\log \\pi_\\theta (a_i \\mid s_i) \\cdot G_t(s_i, a_i) $$\n",
    "\n",
    "When you compute the gradient of that function with respect to network weights $\\theta$, it will become exactly the policy gradient."
   ]
  },
  {
   "cell_type": "code",
   "execution_count": 10,
   "metadata": {
    "id": "lu2POiuwR24i"
   },
   "outputs": [],
   "source": [
    "optimizer = torch.optim.Adam(model.parameters(), 1e-3)\n",
    "\n",
    "\n",
    "def train_on_session(states, actions, rewards, gamma=0.99, entropy_coef=1e-2):\n",
    "    states = torch.tensor(states, dtype=torch.float32)  # shape: [batch_size, state_dim]\n",
    "    actions = torch.tensor(actions, dtype=torch.long)  # shape: [batch_size]\n",
    "    # cumulative_returns = np.array(get_cumulative_rewards(rewards, gamma))\n",
    "    # cumulative_returns = torch.tensor(cumulative_returns, dtype=torch.float32)  # shape: [batch_size]\n",
    "    cumulative_returns = torch.tensor(\n",
    "        get_cumulative_rewards(rewards, gamma), dtype=torch.float32\n",
    "    )  # shape: [batch_size]\n",
    "\n",
    "    # Predict probas and log-probas using an agent.\n",
    "    logits = model(states)\n",
    "    probs = torch.softmax(logits, dim=1)\n",
    "    log_probs = torch.log_softmax(logits, dim=1)\n",
    "\n",
    "    # Select log-probabilities for chosen actions, log pi(a_i|s_i)\n",
    "    log_probs_for_actions = log_probs[range(states.shape[0]), actions]\n",
    "\n",
    "    # YOUR CODE HERE\n",
    "    # Compute loss here.\n",
    "    # Don't forget entropy regularization with `entropy_coef`.\n",
    "    # entropy = ...\n",
    "    # loss = ...\n",
    "    entropy = (probs * log_probs).sum()\n",
    "    loss = (log_probs_for_actions * cumulative_returns).sum() + entropy_coef * entropy\n",
    "    loss = -loss\n",
    "\n",
    "    # Gradient descent step.\n",
    "    optimizer.zero_grad()\n",
    "    loss.backward()\n",
    "    optimizer.step()\n",
    "\n",
    "    # Return session rewards to print them later.\n",
    "    return rewards.sum()"
   ]
  },
  {
   "cell_type": "markdown",
   "metadata": {
    "id": "3JM455vnR24i"
   },
   "source": [
    "### The actual training"
   ]
  },
  {
   "cell_type": "code",
   "execution_count": 11,
   "metadata": {
    "colab": {
     "base_uri": "https://localhost:8080/"
    },
    "id": "Isuz7Wz7R24j",
    "outputId": "bf3e4f52-9b4d-4ec5-b126-3e093a47a23d",
    "scrolled": true
   },
   "outputs": [
    {
     "name": "stdout",
     "output_type": "stream",
     "text": [
      "mean reward: 24.6\n",
      "mean reward: 29.2\n",
      "mean reward: 44.9\n",
      "mean reward: 56.0\n",
      "mean reward: 120.9\n",
      "mean reward: 192.9\n",
      "mean reward: 320.7\n",
      "mean reward: 354.9\n",
      "mean reward: 562.5\n",
      "You Win!\n"
     ]
    }
   ],
   "source": [
    "for i in range(100):\n",
    "    rewards = [train_on_session(*generate_session(env)) for _ in range(100)]\n",
    "    mean_reward = np.mean(rewards)\n",
    "    print(f\"mean reward: {mean_reward:.1f}\")\n",
    "    if mean_reward > 500:\n",
    "        print(\"You Win!\")\n",
    "        break"
   ]
  },
  {
   "cell_type": "markdown",
   "metadata": {
    "id": "6mD639TSR24j"
   },
   "source": [
    "### Video"
   ]
  },
  {
   "cell_type": "code",
   "execution_count": 12,
   "metadata": {
    "id": "KwNEr5VfR24j"
   },
   "outputs": [],
   "source": [
    "# Record sessions\n",
    "import gym.wrappers\n",
    "\n",
    "\n",
    "with gym.wrappers.Monitor(gym.make(\"CartPole-v0\"), directory=\"videos\", force=True) as env_monitor:\n",
    "    sessions = [generate_session(env_monitor) for _ in range(100)]"
   ]
  },
  {
   "cell_type": "code",
   "execution_count": 13,
   "metadata": {
    "colab": {
     "base_uri": "https://localhost:8080/",
     "height": 501
    },
    "id": "IDjLfLV3R24j",
    "outputId": "4a27d1b9-41f3-4d3e-a78e-77e17e86f96e"
   },
   "outputs": [
    {
     "data": {
      "text/html": [
       "\n",
       "<video width=\"640\" height=\"480\" controls>\n",
       "  <source src=\"data:video/mp4;base64,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\" type=\"video/mp4\">\n",
       "</video>\n"
      ],
      "text/plain": [
       "<IPython.core.display.HTML object>"
      ]
     },
     "execution_count": 13,
     "metadata": {},
     "output_type": "execute_result"
    }
   ],
   "source": [
    "# Show video. This may not work in some setups. If it doesn't\n",
    "# work for you, you can download the videos and view them locally.\n",
    "\n",
    "from base64 import b64encode\n",
    "from pathlib import Path\n",
    "\n",
    "from IPython.display import HTML\n",
    "\n",
    "\n",
    "video_paths = sorted([s for s in Path('videos').iterdir() if s.suffix == '.mp4'])\n",
    "video_path = video_paths[-1]  # You can also try other indices\n",
    "\n",
    "if 'google.colab' in sys.modules:\n",
    "    # https://stackoverflow.com/a/57378660/1214547\n",
    "    with video_path.open('rb') as fp:\n",
    "        mp4 = fp.read()\n",
    "    data_url = 'data:video/mp4;base64,' + b64encode(mp4).decode()\n",
    "else:\n",
    "    data_url = str(video_path)\n",
    "\n",
    "HTML(\n",
    "    \"\"\"\n",
    "<video width=\"640\" height=\"480\" controls>\n",
    "  <source src=\"{}\" type=\"video/mp4\">\n",
    "</video>\n",
    "\"\"\".format(\n",
    "        data_url\n",
    "    )\n",
    ")"
   ]
  },
  {
   "cell_type": "markdown",
   "metadata": {
    "id": "8XPawOnFR24j"
   },
   "source": [
    "## Bonus area: solving Acrobot-v1"
   ]
  },
  {
   "cell_type": "markdown",
   "metadata": {
    "id": "0cyaxV6Lg2q4"
   },
   "source": [
    "Try to solve more complex environment using Policy gradient method.\n",
    "*Hint: you will need add some imporovements to the original REINFORCE (e.g. Advantage Actor Critic or anything else).*"
   ]
  },
  {
   "cell_type": "code",
   "execution_count": 14,
   "metadata": {
    "colab": {
     "base_uri": "https://localhost:8080/",
     "height": 269
    },
    "id": "olsGdlZNR24j",
    "outputId": "91c24932-fbf5-4941-a1ec-9d56494482b6"
   },
   "outputs": [
    {
     "data": {
      "image/png": "[encoded data removed]",
      "text/plain": [
       "<Figure size 432x288 with 1 Axes>"
      ]
     },
     "metadata": {
      "needs_background": "light"
     },
     "output_type": "display_data"
    }
   ],
   "source": [
    "env = gym.make(\"Acrobot-v1\")\n",
    "env.reset()\n",
    "\n",
    "plt.imshow(env.render(\"rgb_array\"))\n",
    "state_dim = env.reset().shape[0]\n",
    "n_actions = env.action_space.n"
   ]
  },
  {
   "cell_type": "code",
   "execution_count": 15,
   "metadata": {
    "id": "stsfWcS8R24k"
   },
   "outputs": [],
   "source": [
    "# YOUR CODE HERE"
   ]
  }
 ],
 "metadata": {
  "colab": {
   "name": "binpord_practice_reinforce.ipynb",
   "provenance": []
  },
  "kernelspec": {
   "display_name": "Python 3 (ipykernel)",
   "language": "python",
   "name": "python3"
  },
  "language_info": {
   "codemirror_mode": {
    "name": "ipython",
    "version": 3
   },
   "file_extension": ".py",
   "mimetype": "text/x-python",
   "name": "python",
   "nbconvert_exporter": "python",
   "pygments_lexer": "ipython3",
   "version": "3.9.7"
  }
 },
 "nbformat": 4,
 "nbformat_minor": 0
}
