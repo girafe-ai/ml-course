{
 "cells": [
  {
   "cell_type": "markdown",
   "metadata": {
    "id": "R7cvdqY-9rxi"
   },
   "source": [
    "# Practice: Reinforcement Learning for seq2seq\n",
    "_Reference: based on Practical RL_ [week07](https://github.com/yandexdataschool/Practical_RL/blob/master/week07_seq2seq)\n",
    "\n",
    "This time we'll solve a problem of transсribing Hebrew words in English, also known as g2p (grapheme2phoneme)\n",
    "\n",
    " * word (sequence of letters in source language) -> translation (sequence of letters in target language)\n",
    "\n",
    "Unlike what most deep learning practitioners do, we won't only train it to maximize likelihood of correct translation, but also employ reinforcement learning to actually teach it to translate with as few errors as possible."
   ]
  },
  {
   "cell_type": "markdown",
   "metadata": {
    "id": "1wb0Dy9J-ukg"
   },
   "source": [
    "## About the task\n",
    "\n",
    "One notable property of Hebrew is that it's a consonant language. That is, there are no vowels in the written language. One could represent vowels with diacritics above consonants, but you don't expect people to do that in everyday life.\n",
    "\n",
    "Therefore, some Hebrew characters will correspond to several English letters and others - to none, so we should use encoder-decoder architecture to figure that out.\n",
    "\n",
    "![img](https://esciencegroup.files.wordpress.com/2016/03/seq2seq.jpg)\n",
    "_(img: esciencegroup.files.wordpress.com)_\n",
    "\n",
    "Encoder-decoder architectures are about converting anything to anything, including\n",
    " * Machine translation and spoken dialogue systems\n",
    " * [Image captioning](https://cocodataset.org/#captions-2015) and [image2latex](https://htmlpreview.github.io/?https://github.com/openai/requests-for-research/blob/master/_requests_for_research/im2latex.html) (convolutional encoder, recurrent decoder)\n",
    " * Generating [images by captions](https://arxiv.org/abs/1511.02793) (recurrent encoder, convolutional decoder)\n",
    " * Grapheme2phoneme - convert words to transcripts\n",
    "\n",
    "We chose simplified __Hebrew->English__ machine translation for words and short phrases (character-level), as it is relatively quick to train even without a gpu cluster."
   ]
  },
  {
   "cell_type": "markdown",
   "metadata": {
    "id": "hKzrzfKL-x4K"
   },
   "source": [
    "## Setup"
   ]
  },
  {
   "cell_type": "code",
   "execution_count": null,
   "metadata": {
    "id": "tY-2UIDJ9rxl"
   },
   "outputs": [],
   "source": [
    "!wget -nc https://raw.githubusercontent.com/girafe-ai/ml-mipt/21f_advanced/week1_11_rl_outside_games/basic_model_torch.py -O basic_model_torch.py\n",
    "!wget -nc https://raw.githubusercontent.com/girafe-ai/ml-mipt/21f_advanced/week1_11_rl_outside_games/main_dataset.txt -O main_dataset.txt\n",
    "!wget -nc https://raw.githubusercontent.com/girafe-ai/ml-mipt/21f_advanced/week1_11_rl_outside_games/voc.py -O voc.py"
   ]
  },
  {
   "cell_type": "code",
   "execution_count": null,
   "metadata": {
    "id": "mD7MHJWb9rxm"
   },
   "outputs": [],
   "source": [
    "# If True, only translates phrases shorter than 20 characters (way easier).\n",
    "EASY_MODE = True\n",
    "# Useful for initial coding.\n",
    "# If false, works with all phrases (please switch to this mode for homework assignment)\n",
    "\n",
    "# way we translate. Either \"he-to-en\" or \"en-to-he\"\n",
    "MODE = \"he-to-en\"\n",
    "# maximal length of _generated_ output, does not affect training\n",
    "MAX_OUTPUT_LENGTH = 50 if not EASY_MODE else 20\n",
    "REPORT_FREQ = 100  # how often to evaluate validation score"
   ]
  },
  {
   "cell_type": "markdown",
   "metadata": {
    "id": "dAKuALyH9rxn"
   },
   "source": [
    "## Preprocessing\n",
    "\n",
    "We shall store dataset as a dictionary\n",
    "`{ word1:[translation1,translation2,...], word2:[...],...}`.\n",
    "\n",
    "This is mostly due to the fact that many words have several correct translations.\n",
    "\n",
    "We have implemented this thing for you so that you can focus on more interesting parts."
   ]
  },
  {
   "cell_type": "code",
   "execution_count": null,
   "metadata": {
    "id": "bp-nSrAO9rxn"
   },
   "outputs": [],
   "source": [
    "from collections import defaultdict\n",
    "\n",
    "import numpy as np\n",
    "\n",
    "\n",
    "word_to_translation = defaultdict(list)\n",
    "bos, eos = '_', ';'\n",
    "with open(\"main_dataset.txt\", encoding=\"utf-8\") as fin:\n",
    "    for line in fin:\n",
    "        en, he = line[:-1].lower().replace(bos, ' ').replace(eos, ' ').split('\\t')\n",
    "        word, trans = (he, en) if MODE == 'he-to-en' else (en, he)\n",
    "\n",
    "        if len(word) < 3:\n",
    "            continue\n",
    "\n",
    "        if EASY_MODE and max(len(word), len(trans)) > 20:\n",
    "            continue\n",
    "\n",
    "        word_to_translation[word].append(trans)\n",
    "\n",
    "# get all unique lines in source language\n",
    "all_words = np.array(list(word_to_translation.keys()))\n",
    "# get all unique lines in translation language\n",
    "all_translations = np.array([ts for all_ts in word_to_translation.values() for ts in all_ts])\n",
    "\n",
    "print(f\"dataset size = {len(word_to_translation)}\")"
   ]
  },
  {
   "cell_type": "markdown",
   "metadata": {
    "id": "rUIc-pwH9rxo"
   },
   "source": [
    "We shall hold out 10% of all words to be used for validation.\n"
   ]
  },
  {
   "cell_type": "code",
   "execution_count": null,
   "metadata": {
    "id": "8ULcOaYN9rxo"
   },
   "outputs": [],
   "source": [
    "from sklearn.model_selection import train_test_split\n",
    "\n",
    "\n",
    "train_words, test_words = train_test_split(all_words, test_size=0.1, random_state=42)"
   ]
  },
  {
   "cell_type": "markdown",
   "metadata": {
    "id": "CP9Eu_2k9rxp"
   },
   "source": [
    "## Building vocabularies\n",
    "\n",
    "We now need to build vocabularies that map strings to token ids and vice versa. We're gonna need these fellas when we feed training data into model or convert output matrices into english words."
   ]
  },
  {
   "cell_type": "code",
   "execution_count": null,
   "metadata": {
    "id": "m0kSks8-2DF-"
   },
   "outputs": [],
   "source": [
    "all_words"
   ]
  },
  {
   "cell_type": "code",
   "execution_count": null,
   "metadata": {
    "id": "t6pONzuq9rxq"
   },
   "outputs": [],
   "source": [
    "from voc import Vocab\n",
    "\n",
    "\n",
    "input_vocab = Vocab.from_lines(''.join(all_words), bos=bos, eos=eos, sep='')\n",
    "output_vocab = Vocab.from_lines(''.join(all_translations), bos=bos, eos=eos, sep='')"
   ]
  },
  {
   "cell_type": "code",
   "execution_count": null,
   "metadata": {
    "id": "zgzsRiWo9rxq"
   },
   "outputs": [],
   "source": [
    "# Here's how you cast lines into ids and backwards.\n",
    "batch_lines = all_words[:5]\n",
    "batch_ids = input_vocab.to_matrix(batch_lines)\n",
    "batch_lines_restored = input_vocab.to_lines(batch_ids)\n",
    "\n",
    "print(\"Lines:\")\n",
    "print(batch_lines)\n",
    "print()\n",
    "print(\"Words to ids (0 = bos, 1 = eos):\")\n",
    "print(batch_ids)\n",
    "print()\n",
    "print(\"Back to lines:\")\n",
    "print(batch_lines_restored)"
   ]
  },
  {
   "cell_type": "markdown",
   "metadata": {
    "id": "Z_EUPt909rxr"
   },
   "source": [
    "Draw word/translation length distributions to estimate the scope of the task."
   ]
  },
  {
   "cell_type": "code",
   "execution_count": null,
   "metadata": {
    "id": "D_0Kt-4E9rxr"
   },
   "outputs": [],
   "source": [
    "import matplotlib.pyplot as plt\n",
    "\n",
    "\n",
    "%matplotlib inline\n",
    "\n",
    "plt.figure(figsize=[8, 4])\n",
    "plt.subplot(1, 2, 1)\n",
    "plt.title(\"words\")\n",
    "plt.hist(list(map(len, all_words)), bins=20)\n",
    "\n",
    "plt.subplot(1, 2, 2)\n",
    "plt.title('translations')\n",
    "plt.hist(list(map(len, all_translations)), bins=20);"
   ]
  },
  {
   "cell_type": "markdown",
   "metadata": {
    "id": "juAIXtNu9rxr"
   },
   "source": [
    "## Our model\n",
    "\n",
    "Our architecture consists of two main blocks:\n",
    "* Encoder reads words character by character and outputs code vector (usually a function of last RNN state)\n",
    "* Decoder takes that code vector and produces translations character by character\n",
    "\n",
    "Than it gets fed into a model that follows this simple interface:\n",
    "* __`model(inp, out, **flags) -> logp`__ - takes symbolic int32 matrices of hebrew words and their english translations. Computes the log-probabilities of all possible english characters given english prefices and hebrew word.\n",
    "* __`model.translate(inp, **flags) -> out, logp`__ - takes symbolic int32 matrix of hebrew words, produces output tokens sampled from the model and output log-probabilities for all possible tokens at each tick.\n",
    "  * if given flag __`greedy=True`__, takes most likely next token at each iteration. Otherwise samples with next token probabilities predicted by model.\n",
    "\n",
    "That's all! It's as hard as it gets. With those two methods alone you can implement all kinds of prediction and training."
   ]
  },
  {
   "cell_type": "code",
   "execution_count": null,
   "metadata": {
    "id": "vq9SVPb69rxr"
   },
   "outputs": [],
   "source": [
    "import torch\n",
    "import torch.nn as nn\n",
    "import torch.nn.functional as F\n",
    "from basic_model_torch import BasicTranslationModel\n",
    "\n",
    "\n",
    "device = torch.device('cuda:0' if torch.cuda.is_available() else 'cpu')\n",
    "model = BasicTranslationModel(input_vocab, output_vocab, emb_size=64, hid_size=256).to(device)"
   ]
  },
  {
   "cell_type": "code",
   "execution_count": null,
   "metadata": {
    "id": "feq2JWHs9rxs"
   },
   "outputs": [],
   "source": [
    "# Play around with symbolic translate and symbolic score.\n",
    "input = torch.tensor(np.random.randint(0, 10, [3, 5]), dtype=torch.int64, device=device)\n",
    "target = torch.tensor(np.random.randint(0, 10, [3, 5]), dtype=torch.int64, device=device)\n",
    "\n",
    "# translate inp (with untrained model)\n",
    "output, logp = model.translate(input, greedy=False)\n",
    "\n",
    "print(\"Sample translations:\")\n",
    "print(output)\n",
    "print()\n",
    "print(\"Log-probabilities at each step:\")\n",
    "print(logp)"
   ]
  },
  {
   "cell_type": "code",
   "execution_count": null,
   "metadata": {
    "id": "qOPM8RDI9rxs"
   },
   "outputs": [],
   "source": [
    "# score logp(target | input) with untrained model\n",
    "logp = model(input, target)\n",
    "print(\"Log-probabilities output:\")\n",
    "print(logp)\n",
    "print()\n",
    "print(\"Log-probabilities of output tokens:\")\n",
    "print(torch.gather(logp, dim=2, index=target[:, :, None]))"
   ]
  },
  {
   "cell_type": "code",
   "execution_count": null,
   "metadata": {
    "id": "zE0iunOh9rxs"
   },
   "outputs": [],
   "source": [
    "def translate(words, max_len=MAX_OUTPUT_LENGTH):\n",
    "    # Convert words to a tensor of indices\n",
    "    words = input_vocab.to_matrix(words)\n",
    "    words = torch.tensor(words, dtype=torch.int64, device=device)\n",
    "\n",
    "    with torch.no_grad():\n",
    "        # YOUR CODE HERE\n",
    "        # Compute translations in form of indices.\n",
    "        # Note: use greedy translation to ensure determinism.\n",
    "        # translation = ...\n",
    "        pass\n",
    "\n",
    "    # Convert translations back into strings\n",
    "    return output_vocab.to_lines(translation.cpu().numpy())"
   ]
  },
  {
   "cell_type": "code",
   "execution_count": null,
   "metadata": {
    "id": "sske-BHZ9rxs"
   },
   "outputs": [],
   "source": [
    "print(\"Sample inputs:\", all_words[:3])\n",
    "print(\"Dummy translations:\", translate(all_words[:3]))\n",
    "trans = translate(all_words[:3])\n",
    "\n",
    "assert translate(all_words[:3]) == translate(\n",
    "    all_words[:3]\n",
    "), \"make sure translation is deterministic (use greedy=True and disable any noise layers)\"\n",
    "assert isinstance(translate(all_words[:3]), list) and isinstance(\n",
    "    translate(all_words[:1])[0], str\n",
    "), \"translate(lines) must return a sequence of strings!\"\n",
    "# Note: if translation freezes, make sure you used max_len parameter"
   ]
  },
  {
   "cell_type": "markdown",
   "metadata": {
    "id": "oi6Iv31S9rxs"
   },
   "source": [
    "## Scoring function\n",
    "\n",
    "LogLikelihood is a poor estimator of model performance.\n",
    "* If we predict zero probability once, it shouldn't ruin entire model.\n",
    "* It is enough to learn just one translation if there are several correct ones.\n",
    "* What matters is how many mistakes model's gonna make when it translates!\n",
    "\n",
    "Therefore, we will use minimal Levenshtein distance. It measures how many characters do we need to add/remove/replace from model translation to make it perfect. Alternatively, one could use character-level BLEU/RougeL or other similar metrics.\n",
    "\n",
    "The catch here is that Levenshtein distance is not differentiable: it isn't even continuous. We can't train our neural network to maximize it by gradient descent."
   ]
  },
  {
   "cell_type": "code",
   "execution_count": null,
   "metadata": {
    "id": "K9AW0Pv29rxs"
   },
   "outputs": [],
   "source": [
    "import editdistance\n",
    "\n",
    "\n",
    "def get_distance(word, translation):\n",
    "    \"\"\"\n",
    "    A function that takes word and predicted translation\n",
    "    and evaluates (Levenshtein's) edit distance to closest correct translation\n",
    "    \"\"\"\n",
    "    references = word_to_translation[word]\n",
    "    assert len(references) != 0, \"wrong/unknown word\"\n",
    "    return min(editdistance.eval(translation, reference) for reference in references)\n",
    "\n",
    "\n",
    "def score(words, bsize=100):\n",
    "    \"\"\"a function that computes levenshtein distance for bsize random samples\"\"\"\n",
    "    assert isinstance(words, np.ndarray)\n",
    "    batch_words = np.random.choice(words, size=bsize, replace=False)\n",
    "    batch_translation = translate(batch_words)\n",
    "    distances = [\n",
    "        get_distance(word, translation) for word, translation in zip(batch_words, batch_translation)\n",
    "    ]\n",
    "    return np.array(distances, dtype='float32')"
   ]
  },
  {
   "cell_type": "code",
   "execution_count": null,
   "metadata": {
    "id": "F90fsOhl9rxt"
   },
   "outputs": [],
   "source": [
    "# should be around 5-50 and decrease rapidly after training :)\n",
    "[score(test_words, 10).mean() for _ in range(5)]"
   ]
  },
  {
   "cell_type": "markdown",
   "metadata": {
    "id": "CQ6TZkKE9rxt"
   },
   "source": [
    "## Supervised pre-training\n",
    "\n",
    "Here we define a function that trains our model through maximizing log-likelihood a.k.a. minimizing crossentropy."
   ]
  },
  {
   "cell_type": "code",
   "execution_count": null,
   "metadata": {
    "id": "4wFcLk959rxt"
   },
   "outputs": [],
   "source": [
    "import random\n",
    "\n",
    "\n",
    "def sample_batch(words, word_to_translation, batch_size):\n",
    "    # choose words\n",
    "    batch_words = np.random.choice(words, size=batch_size)\n",
    "\n",
    "    # choose translations\n",
    "    batch_reference_translations = [word_to_translation[word] for word in batch_words]\n",
    "    batch_translations = [random.choice(references) for references in batch_reference_translations]\n",
    "\n",
    "    return batch_words, batch_translations"
   ]
  },
  {
   "cell_type": "code",
   "execution_count": null,
   "metadata": {
    "id": "kdfjyhsS9rxt"
   },
   "outputs": [],
   "source": [
    "bx, by = sample_batch(train_words, word_to_translation, batch_size=3)\n",
    "print(\"Source:\")\n",
    "print(bx)\n",
    "print()\n",
    "print(\"Target:\")\n",
    "print(by)"
   ]
  },
  {
   "cell_type": "code",
   "execution_count": null,
   "metadata": {
    "id": "3xcnyaq39rxt"
   },
   "outputs": [],
   "source": [
    "from basic_model_torch import infer_mask\n",
    "\n",
    "\n",
    "def compute_loss_on_batch(input_sequence, reference_answers):\n",
    "    \"\"\" Compute crossentropy loss given a batch of sources and translations \"\"\"\n",
    "    input_sequence = torch.tensor(\n",
    "        input_vocab.to_matrix(input_sequence), dtype=torch.int64, device=device\n",
    "    )\n",
    "    reference_answers = torch.tensor(\n",
    "        output_vocab.to_matrix(reference_answers), dtype=torch.int64, device=device\n",
    "    )\n",
    "\n",
    "    # YOUR CODE HERE\n",
    "    # Compute log-probabilities of all possible tokens at each step. Use model interface.\n",
    "    # logprobs = ...\n",
    "\n",
    "    # Compute elementwise crossentropy as negative log-probabilities of reference_answers.\n",
    "    reference_logprobs = torch.gather(logprobs, dim=2, index=reference_answers[:, :, None])\n",
    "    crossentropy = -torch.squeeze(reference_logprobs, dim=2)\n",
    "\n",
    "    # average with mask\n",
    "    mask = infer_mask(reference_answers, output_vocab.eos_ix)\n",
    "    loss = torch.sum(crossentropy * mask) / torch.sum(mask)\n",
    "\n",
    "    return loss"
   ]
  },
  {
   "cell_type": "code",
   "execution_count": null,
   "metadata": {
    "id": "Eidx8i5s9rxt"
   },
   "outputs": [],
   "source": [
    "# test it\n",
    "loss = compute_loss_on_batch(*sample_batch(train_words, word_to_translation, 3))\n",
    "print(f'loss = {loss}')\n",
    "\n",
    "assert loss.item() > 0.0\n",
    "loss.backward()\n",
    "for w in model.parameters():\n",
    "    assert (\n",
    "        w.grad is not None and torch.max(torch.abs(w.grad)).item() != 0\n",
    "    ), f\"loss is not differentiable w.r.t. a weight with shape {w.size()}. Check compute_loss_on_batch.\""
   ]
  },
  {
   "cell_type": "markdown",
   "metadata": {
    "id": "CSx1nIFr9rxt"
   },
   "source": [
    "## Actually train the model\n",
    "\n",
    "Minibatches and stuff..."
   ]
  },
  {
   "cell_type": "code",
   "execution_count": null,
   "metadata": {
    "id": "NRHXz5ZW9rxt"
   },
   "outputs": [],
   "source": [
    "from IPython.display import clear_output, display\n",
    "from ipywidgets import Output\n",
    "from tqdm.auto import tqdm, trange\n",
    "\n",
    "\n",
    "output_display = Output()\n",
    "display(output_display)\n",
    "\n",
    "loss_history = []\n",
    "editdist_history = []\n",
    "entropy_history = []\n",
    "opt = torch.optim.Adam(model.parameters())\n",
    "batch_size = 32\n",
    "\n",
    "for i in trange(5000):\n",
    "    loss = compute_loss_on_batch(*sample_batch(train_words, word_to_translation, batch_size))\n",
    "\n",
    "    # train with backprop\n",
    "    opt.zero_grad()\n",
    "    loss.backward()\n",
    "    opt.step()\n",
    "\n",
    "    loss_history.append(loss.item())\n",
    "\n",
    "    if i % REPORT_FREQ == 0:\n",
    "        with output_display:\n",
    "            clear_output(wait=True)\n",
    "\n",
    "            current_scores = score(test_words)\n",
    "            editdist_history.append(current_scores.mean())\n",
    "            mean_loss = np.mean(loss_history[-10:])\n",
    "            mean_score = np.mean(editdist_history[-10:])\n",
    "            print(f\"mean loss = {mean_loss:.3f}, mean score = {mean_score:.3f}\")\n",
    "\n",
    "            plt.figure(figsize=(12, 4))\n",
    "            plt.subplot(131)\n",
    "            plt.title('train loss')\n",
    "            plt.plot(loss_history)\n",
    "            plt.grid()\n",
    "            plt.subplot(132)\n",
    "            plt.title('val score distribution')\n",
    "            plt.hist(current_scores, bins=20)\n",
    "            plt.subplot(133)\n",
    "            plt.title('val score (lower is better)')\n",
    "            plt.plot(editdist_history)\n",
    "            plt.grid()\n",
    "            plt.show()"
   ]
  },
  {
   "cell_type": "markdown",
   "metadata": {
    "id": "RGYvH47Q9rxt"
   },
   "source": [
    "__How to interpret the plots:__\n",
    "\n",
    "* __Train loss__ - that's your model's crossentropy over minibatches. It should go down steadily. Most importantly, it shouldn't be NaN :)\n",
    "* __Val score distribution__ - distribution of translation edit distance (score) within batch. It should move to the left over time.\n",
    "* __Val score / training time__ - it's your current mean edit distance. This plot is much whimsier than loss, but make sure it goes below 8 by 2500 steps. \n",
    "\n",
    "If it doesn't, first try to re-create both model and opt. You may have changed it's weight too much while debugging. If that doesn't help, it's debugging time."
   ]
  },
  {
   "cell_type": "code",
   "execution_count": null,
   "metadata": {
    "id": "50zrI-pQ9rxu"
   },
   "outputs": [],
   "source": [
    "for word in train_words[:10]:\n",
    "    translation = translate([word])[0]\n",
    "    print(f\"{word} -> {translation}\")"
   ]
  },
  {
   "cell_type": "code",
   "execution_count": null,
   "metadata": {
    "id": "9w8yX4Kn9rxu"
   },
   "outputs": [],
   "source": [
    "test_scores = []\n",
    "for i in trange(0, len(test_words), batch_size):\n",
    "    batch_words = test_words[i : i + batch_size]\n",
    "    batch_translation = translate(batch_words)\n",
    "    distances = [\n",
    "        get_distance(word, translation) for word, translation in zip(batch_words, batch_translation)\n",
    "    ]\n",
    "    test_scores.extend(distances)\n",
    "\n",
    "print(\"Supervised test score:\", np.mean(test_scores))"
   ]
  },
  {
   "cell_type": "markdown",
   "metadata": {
    "id": "ugvkPI169rxu"
   },
   "source": [
    "## Self-critical policy gradient\n",
    "\n",
    "In this section you'll implement algorithm called self-critical sequence training (here's an [article](https://arxiv.org/abs/1612.00563)).\n",
    "\n",
    "The algorithm is a vanilla policy gradient with a special baseline. \n",
    "\n",
    "$$ \\nabla J = E_{x \\sim p(s)} E_{y \\sim \\pi(y|x)} \\nabla log \\pi(y|x) \\cdot (R(x,y) - b(x)) $$\n",
    "\n",
    "Here reward R(x,y) is a __negative levenshtein distance__ (since we minimize it). The baseline __b(x)__ represents how well model fares on word __x__.\n",
    "\n",
    "In practice, this means that we compute baseline as a score of greedy translation, $b(x) = R(x,y_{greedy}(x)) $.\n",
    "\n",
    "![img](https://github.com/yandexdataschool/Practical_RL/raw/master/yet_another_week/_resource/scheme.png)\n",
    "\n",
    "Luckily, we already obtained the required outputs: `model.translate` with `greedy=True` and `greedy=False` and we only need to compute levenshtein using `get_distance` function.\n"
   ]
  },
  {
   "cell_type": "code",
   "execution_count": null,
   "metadata": {
    "id": "PYBaNPjD9rxu"
   },
   "outputs": [],
   "source": [
    "def compute_reward(input_sequence, translations):\n",
    "    \"\"\" computes sample-wise reward given token ids for inputs and translations \"\"\"\n",
    "    distances = [\n",
    "        get_distance(word, translation)\n",
    "        for word, translation in zip(\n",
    "            input_vocab.to_lines(input_sequence.detach().numpy()),\n",
    "            output_vocab.to_lines(translations.detach().numpy()),\n",
    "        )\n",
    "    ]\n",
    "\n",
    "    # use negative levenshtein distance so that larger reward means better policy\n",
    "    return -torch.tensor(distances, dtype=torch.int64, device=device)"
   ]
  },
  {
   "cell_type": "code",
   "execution_count": null,
   "metadata": {
    "id": "BnH-8sG59rxu"
   },
   "outputs": [],
   "source": [
    "def scst_objective_on_batch(input_sequence, max_len=MAX_OUTPUT_LENGTH):\n",
    "    \"\"\" Compute pseudo-loss for policy gradient given a batch of sources \"\"\"\n",
    "    input_sequence = torch.tensor(\n",
    "        input_vocab.to_matrix(input_sequence), dtype=torch.int64, device=device\n",
    "    )\n",
    "\n",
    "    # YOUR CODE HERE\n",
    "    # use model to __sample__ symbolic translations given input_sequence\n",
    "    # sample_translations, sample_logp = ...\n",
    "\n",
    "    # YOUR CODE HERE\n",
    "    # use model to __greedy__ symbolic translations given input_sequence\n",
    "    # greedy_translations, greedy_logp = ...\n",
    "\n",
    "    # YOUR CODE HERE\n",
    "    # Compute rewards and baseline.\n",
    "    # Be careful with device: rewards require casting to numpy, so send everything to cpu.\n",
    "    # rewards = ...\n",
    "    # baseline = ...\n",
    "\n",
    "    # YOUR CODE HERE\n",
    "    # compute advantage using rewards and baseline\n",
    "    # Yet again be careful with the device: advantage is used to compute gradients, so send it to device.\n",
    "    # advantage = ...\n",
    "\n",
    "    # YOUR CODE HERE\n",
    "    # Compute log_pi(a_t|s_t), shape = [batch, seq_length]\n",
    "    # Hint: look at how crossentropy is implemented in supervised learning loss above.\n",
    "    # Mind the sign - this one should not be multiplied by -1 :)\n",
    "    # logp_sample = ...\n",
    "\n",
    "    # Policy gradient pseudo-loss. Gradient of J is exactly policy gradient.\n",
    "    J = logp_sample * advantage[:, None]\n",
    "\n",
    "    assert J.dim() == 2, \"please return elementwise objective, don't compute mean just yet\"\n",
    "\n",
    "    # average with mask\n",
    "    mask = infer_mask(sample_translations, output_vocab.eos_ix)\n",
    "    loss = -torch.sum(J * mask) / torch.sum(mask)\n",
    "\n",
    "    # YOUR CODE HERE\n",
    "    # Regularize with negative entropy. Don't forget the sign!\n",
    "    # Note: for entropy you need probabilities for all tokens (sample_logp), not just logp_sample\n",
    "    # entropy = ...\n",
    "\n",
    "    assert entropy.dim() == 2, \"please make sure elementwise entropy is of shape [batch,time]\"\n",
    "\n",
    "    reg = -0.01 * torch.sum(entropy * mask) / torch.sum(mask)\n",
    "    return loss + reg, torch.sum(entropy * mask) / torch.sum(mask)"
   ]
  },
  {
   "cell_type": "markdown",
   "metadata": {
    "id": "ZO4sOvJe9rxu"
   },
   "source": [
    "### Policy gradient training\n"
   ]
  },
  {
   "cell_type": "code",
   "execution_count": null,
   "metadata": {
    "id": "s86YtJXh9rxu"
   },
   "outputs": [],
   "source": [
    "entropy_history = [np.nan] * len(loss_history)\n",
    "opt = torch.optim.Adam(model.parameters(), lr=1e-5)\n",
    "\n",
    "debug_list = []\n",
    "\n",
    "output_display = Output()\n",
    "display(output_display)\n",
    "\n",
    "# Feel free to use more steps if necessary.\n",
    "for i in trange(5000):\n",
    "    loss, ent = scst_objective_on_batch(\n",
    "        sample_batch(train_words, word_to_translation, 32)[0]\n",
    "    )  # [0] = only source sentence\n",
    "\n",
    "    # train with backprop\n",
    "    opt.zero_grad()\n",
    "    loss.backward()\n",
    "    opt.step()\n",
    "\n",
    "    loss_history.append(loss.item())\n",
    "    entropy_history.append(ent.item())\n",
    "    debug_list.append(current_scores)\n",
    "\n",
    "    if (i + 1) % REPORT_FREQ == 0:\n",
    "        with output_display:\n",
    "            clear_output(wait=True)\n",
    "\n",
    "            current_scores = score(test_words)\n",
    "            editdist_history.append(current_scores.mean())\n",
    "            mean_loss = np.mean(loss_history[-10:])\n",
    "            mean_score = np.mean(editdist_history[-10:])\n",
    "            print(f\"J={mean_loss:.3f}, mean score={mean_score:.3f}\")\n",
    "\n",
    "            plt.figure(figsize=(12, 4))\n",
    "            plt.subplot(131)\n",
    "            plt.title('val score distribution')\n",
    "            plt.hist(current_scores, bins=20)\n",
    "            plt.subplot(132)\n",
    "            plt.title('val score / traning time')\n",
    "            plt.plot(editdist_history)\n",
    "            plt.grid()\n",
    "            plt.subplot(133)\n",
    "            plt.title('policy entropy / traning time')\n",
    "            plt.plot(entropy_history)\n",
    "            plt.grid()\n",
    "            plt.show()"
   ]
  },
  {
   "cell_type": "markdown",
   "metadata": {
    "id": "JmrG0CBu9rxv"
   },
   "source": [
    "__Debugging tips:__\n",
    "![img](https://github.com/yandexdataschool/Practical_RL/raw/master/yet_another_week/_resource/do_something_scst.png)\n",
    "\n",
    " * As usual, don't expect improvements right away, but in general the model should be able to show some positive changes by 5k steps.\n",
    " * Entropy is a good indicator of many problems. \n",
    "   * If it reaches zero, you may need greater entropy regularizer.\n",
    "   * If it has rapid changes time to time, you may need gradient clipping.\n",
    "   * If it oscillates up and down in an erratic manner... it's perfectly okay for entropy to do so. But it should decrease at the end.\n",
    "   \n",
    " * We don't show loss_history cuz it's uninformative for pseudo-losses in policy gradient. However, if something goes wrong you can check it to see if everything isn't a constant zero."
   ]
  },
  {
   "cell_type": "markdown",
   "metadata": {
    "id": "m8__jC3T9rxv"
   },
   "source": [
    "### Results"
   ]
  },
  {
   "cell_type": "code",
   "execution_count": null,
   "metadata": {
    "id": "H-Ovy4Cs9rxv"
   },
   "outputs": [],
   "source": [
    "for word in train_words[:10]:\n",
    "    translation = translate([word])[0]\n",
    "    print(f\"{word} -> {translation}\")"
   ]
  },
  {
   "cell_type": "code",
   "execution_count": null,
   "metadata": {
    "id": "OQwarlFJ9rxv"
   },
   "outputs": [],
   "source": [
    "test_scores = []\n",
    "for i in trange(0, len(test_words), batch_size):\n",
    "    batch_words = test_words[i : i + batch_size]\n",
    "    batch_translation = translate(batch_words)\n",
    "    distances = [\n",
    "        get_distance(word, translation) for word, translation in zip(batch_words, batch_translation)\n",
    "    ]\n",
    "    test_scores.extend(distances)\n",
    "\n",
    "print(\"SCST test score:\", np.mean(test_scores))"
   ]
  },
  {
   "cell_type": "markdown",
   "metadata": {
    "id": "xobu7apf9rxv"
   },
   "source": [
    "## Bonus: make it actually work\n",
    "\n",
    "In this section, we want you to finally __restart with EASY_MODE=False__ and experiment to find a good model/curriculum for that task.\n",
    "\n",
    "We recommend you to start with the following architecture\n",
    "\n",
    "```\n",
    "encoder---decoder\n",
    "\n",
    "           P(y|h)\n",
    "             ^\n",
    " LSTM  ->   LSTM\n",
    "  ^          ^\n",
    " biLSTM  ->   LSTM\n",
    "  ^          ^\n",
    "input       y_prev\n",
    "```\n",
    "\n",
    "__Note:__ you can fit all 4 state tensors of both LSTMs into in a single state - just assume that it contains, for example, [h0, c0, h1, c1] - pack it in encode and update in decode.\n",
    "\n",
    "\n",
    "Here are some cool ideas on what you can do then.\n",
    "\n",
    "__General tips & tricks:__\n",
    "* You will likely need to adjust pre-training time for such a network.\n",
    "* Supervised pre-training may benefit from clipping gradients somehow.\n",
    "* SCST may indulge a higher learning rate in some cases and changing entropy regularizer over time.\n",
    "* It's often useful to save pre-trained model parameters to not re-train it every time you want new policy gradient parameters.\n",
    "* When leaving training for nighttime, try setting REPORT_FREQ to a larger value (e.g. 500) not to waste time on it.\n",
    "\n",
    "__Formal criteria:__\n",
    "To get 5 points, we want you to build an architecture that:\n",
    "* _doesn't consist of single GRU_\n",
    "* _works better_ than single GRU baseline.\n",
    "* We also want you to provide either learning curve or trained model, preferably both\n",
    "* ... and write a brief report or experiment log describing what you did and how it fared.\n",
    "\n",
    "### Attention\n",
    "There's more than one way to connect decoder to encoder\n",
    "  * __Vanilla:__ layer_i of encoder last state goes to layer_i of decoder initial state\n",
    "  * __Every tick:__ feed encoder last state _on every iteration_ of decoder.\n",
    "  * __Attention:__ allow decoder to \"peek\" at one (or several) positions of encoded sequence on every tick.\n",
    "\n",
    "The most effective (and cool) of those is, of course, attention.\n",
    "You can read more about attention [in this nice blog post](https://distill.pub/2016/augmented-rnns/). The easiest way to begin is to use \"soft\" attention with \"additive\" or \"dot-product\" intermediate layers.\n",
    "\n",
    "__Tips__\n",
    "* Model usually generalizes better if you no longer allow decoder to see final encoder state\n",
    "* Once your model made it through several epochs, it is a good idea to visualize attention maps to understand what your model has actually learned\n",
    "\n",
    "* There's more stuff [here](bonus_pytorch.ipynb)\n",
    "* If you opted for hard attention, we recommend [gumbel-softmax](https://blog.evjang.com/2016/11/tutorial-categorical-variational.html) instead of sampling. Also, please make sure soft attention works fine before you switch to hard.\n",
    "\n",
    "### UREX\n",
    "* This is a way to improve exploration in policy-based settings. The main idea is that you find and upweight under-appreciated actions.\n",
    "* Here's [video](https://www.youtube.com/watch?v=fZNyHoXgV7M&feature=youtu.be&t=3444)\n",
    " and an [article](https://arxiv.org/abs/1611.09321).\n",
    "* You may want to reduce batch size 'cuz UREX requires you to sample multiple times per source sentence.\n",
    "* Once you got it working, try using experience replay with importance sampling instead of (in addition to) basic UREX.\n",
    "\n",
    "### Some additional ideas:\n",
    "* (advanced deep learning) It may be a good idea to first train on small phrases and then adapt to larger ones (a.k.a. training curriculum).\n",
    "* (advanced nlp) You may want to switch from raw utf8 to something like unicode or even syllables to make the task easier.\n",
    "* (advanced nlp) Since Hebrew words are written __with vowels omitted__, you may want to use a small Hebrew vowel markup dataset at `he-pron-wiktionary.txt`."
   ]
  },
  {
   "cell_type": "code",
   "execution_count": null,
   "metadata": {
    "id": "HjOSzs5Y9rxv"
   },
   "outputs": [],
   "source": [
    "assert not EASY_MODE, \"make sure you set EASY_MODE = False at the top of the notebook.\""
   ]
  },
  {
   "cell_type": "markdown",
   "metadata": {
    "id": "U_Vyaoic9rxv"
   },
   "source": [
    "`[your report/log here or anywhere you please]`"
   ]
  },
  {
   "cell_type": "markdown",
   "metadata": {
    "id": "mN41Cy4p9rxv"
   },
   "source": [
    "__Contributions:__ This notebook is brought to you by\n",
    "* Yandex [MT team](https://tech.yandex.com/translate/)\n",
    "* Denis Mazur ([DeniskaMazur](https://github.com/DeniskaMazur)), Oleg Vasilev ([Omrigan](https://github.com/Omrigan/)), Dmitry Emelyanenko ([TixFeniks](https://github.com/tixfeniks)) and Fedor Ratnikov ([justheuristic](https://github.com/justheuristic/))\n",
    "* Dataset is parsed from [Wiktionary](https://en.wiktionary.org), which is under CC-BY-SA and GFDL licenses.\n"
   ]
  }
 ],
 "metadata": {
  "accelerator": "GPU",
  "colab": {
   "collapsed_sections": [],
   "name": "binpord_practice_rl_for_seq2sec_clean.ipynb",
   "provenance": []
  },
  "kernelspec": {
   "display_name": "Python 3 (ipykernel)",
   "language": "python",
   "name": "python3"
  },
  "language_info": {
   "codemirror_mode": {
    "name": "ipython",
    "version": 3
   },
   "file_extension": ".py",
   "mimetype": "text/x-python",
   "name": "python",
   "nbconvert_exporter": "python",
   "pygments_lexer": "ipython3",
   "version": "3.9.7"
  }
 },
 "nbformat": 4,
 "nbformat_minor": 4
}
