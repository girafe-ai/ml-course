{
 "cells": [
  {
   "cell_type": "markdown",
   "metadata": {
    "id": "R7cvdqY-9rxi"
   },
   "source": [
    "# Practice: Reinforcement Learning for seq2seq\n",
    "_Reference: based on Practical RL_ [week07](https://github.com/yandexdataschool/Practical_RL/blob/master/week07_seq2seq)\n",
    "\n",
    "This time we'll solve a problem of transсribing Hebrew words in English, also known as g2p (grapheme2phoneme)\n",
    "\n",
    " * word (sequence of letters in source language) -> translation (sequence of letters in target language)\n",
    "\n",
    "Unlike what most deep learning practitioners do, we won't only train it to maximize likelihood of correct translation, but also employ reinforcement learning to actually teach it to translate with as few errors as possible."
   ]
  },
  {
   "cell_type": "markdown",
   "metadata": {
    "id": "1wb0Dy9J-ukg"
   },
   "source": [
    "## About the task\n",
    "\n",
    "One notable property of Hebrew is that it's a consonant language. That is, there are no vowels in the written language. One could represent vowels with diacritics above consonants, but you don't expect people to do that in everyday life.\n",
    "\n",
    "Therefore, some Hebrew characters will correspond to several English letters and others - to none, so we should use encoder-decoder architecture to figure that out.\n",
    "\n",
    "![img](https://esciencegroup.files.wordpress.com/2016/03/seq2seq.jpg)\n",
    "_(img: esciencegroup.files.wordpress.com)_\n",
    "\n",
    "Encoder-decoder architectures are about converting anything to anything, including\n",
    " * Machine translation and spoken dialogue systems\n",
    " * [Image captioning](https://cocodataset.org/#captions-2015) and [image2latex](https://htmlpreview.github.io/?https://github.com/openai/requests-for-research/blob/master/_requests_for_research/im2latex.html) (convolutional encoder, recurrent decoder)\n",
    " * Generating [images by captions](https://arxiv.org/abs/1511.02793) (recurrent encoder, convolutional decoder)\n",
    " * Grapheme2phoneme - convert words to transcripts\n",
    "\n",
    "We chose simplified __Hebrew->English__ machine translation for words and short phrases (character-level), as it is relatively quick to train even without a gpu cluster."
   ]
  },
  {
   "cell_type": "markdown",
   "metadata": {
    "id": "hKzrzfKL-x4K"
   },
   "source": [
    "## Setup"
   ]
  },
  {
   "cell_type": "code",
   "execution_count": null,
   "metadata": {
    "colab": {
     "base_uri": "https://localhost:8080/"
    },
    "id": "tY-2UIDJ9rxl",
    "outputId": "40e721c0-8c4e-429d-da52-937497231942"
   },
   "outputs": [],
   "source": [
    "!wget -nc https://raw.githubusercontent.com/girafe-ai/ml-mipt/21f_advanced/week1_11_rl_outside_games/basic_model_torch.py -O basic_model_torch.py\n",
    "!wget -nc https://raw.githubusercontent.com/girafe-ai/ml-mipt/21f_advanced/week1_11_rl_outside_games/main_dataset.txt -O main_dataset.txt\n",
    "!wget -nc https://raw.githubusercontent.com/girafe-ai/ml-mipt/21f_advanced/week1_11_rl_outside_games/voc.py -O voc.py"
   ]
  },
  {
   "cell_type": "code",
   "execution_count": 2,
   "metadata": {
    "id": "mD7MHJWb9rxm"
   },
   "outputs": [],
   "source": [
    "# If True, only translates phrases shorter than 20 characters (way easier).\n",
    "EASY_MODE = True\n",
    "# Useful for initial coding.\n",
    "# If false, works with all phrases (please switch to this mode for homework assignment)\n",
    "\n",
    "# way we translate. Either \"he-to-en\" or \"en-to-he\"\n",
    "MODE = \"he-to-en\"\n",
    "# maximal length of _generated_ output, does not affect training\n",
    "MAX_OUTPUT_LENGTH = 50 if not EASY_MODE else 20\n",
    "REPORT_FREQ = 100  # how often to evaluate validation score"
   ]
  },
  {
   "cell_type": "markdown",
   "metadata": {
    "id": "dAKuALyH9rxn"
   },
   "source": [
    "## Preprocessing\n",
    "\n",
    "We shall store dataset as a dictionary\n",
    "`{ word1:[translation1,translation2,...], word2:[...],...}`.\n",
    "\n",
    "This is mostly due to the fact that many words have several correct translations.\n",
    "\n",
    "We have implemented this thing for you so that you can focus on more interesting parts."
   ]
  },
  {
   "cell_type": "code",
   "execution_count": 3,
   "metadata": {
    "colab": {
     "base_uri": "https://localhost:8080/"
    },
    "id": "bp-nSrAO9rxn",
    "outputId": "16cfb97c-a46a-4adc-880f-57d554083526"
   },
   "outputs": [
    {
     "name": "stdout",
     "output_type": "stream",
     "text": [
      "dataset size = 130114\n"
     ]
    }
   ],
   "source": [
    "from collections import defaultdict\n",
    "\n",
    "import numpy as np\n",
    "\n",
    "\n",
    "word_to_translation = defaultdict(list)\n",
    "bos, eos = '_', ';'\n",
    "with open(\"main_dataset.txt\", encoding=\"utf-8\") as fin:\n",
    "    for line in fin:\n",
    "        en, he = line[:-1].lower().replace(bos, ' ').replace(eos, ' ').split('\\t')\n",
    "        word, trans = (he, en) if MODE == 'he-to-en' else (en, he)\n",
    "\n",
    "        if len(word) < 3:\n",
    "            continue\n",
    "\n",
    "        if EASY_MODE and max(len(word), len(trans)) > 20:\n",
    "            continue\n",
    "\n",
    "        word_to_translation[word].append(trans)\n",
    "\n",
    "# get all unique lines in source language\n",
    "all_words = np.array(list(word_to_translation.keys()))\n",
    "# get all unique lines in translation language\n",
    "all_translations = np.array([ts for all_ts in word_to_translation.values() for ts in all_ts])\n",
    "\n",
    "print(f\"dataset size = {len(word_to_translation)}\")"
   ]
  },
  {
   "cell_type": "markdown",
   "metadata": {
    "id": "rUIc-pwH9rxo"
   },
   "source": [
    "We shall hold out 10% of all words to be used for validation.\n"
   ]
  },
  {
   "cell_type": "code",
   "execution_count": 4,
   "metadata": {
    "id": "8ULcOaYN9rxo"
   },
   "outputs": [],
   "source": [
    "from sklearn.model_selection import train_test_split\n",
    "\n",
    "\n",
    "train_words, test_words = train_test_split(all_words, test_size=0.1, random_state=42)"
   ]
  },
  {
   "cell_type": "markdown",
   "metadata": {
    "id": "CP9Eu_2k9rxp"
   },
   "source": [
    "## Building vocabularies\n",
    "\n",
    "We now need to build vocabularies that map strings to token ids and vice versa. We're gonna need these fellas when we feed training data into model or convert output matrices into english words."
   ]
  },
  {
   "cell_type": "code",
   "execution_count": 5,
   "metadata": {
    "colab": {
     "base_uri": "https://localhost:8080/"
    },
    "id": "m0kSks8-2DF-",
    "outputId": "96f78060-dc53-4704-de84-c7104ce5eb3c"
   },
   "outputs": [
    {
     "data": {
      "text/plain": [
       "array(['משתמש:צלף/!', 'סימן קריאה', 'תבנית:!!', ..., '星野仙一', 'user:榎',\n",
       "       'מומנט מגנט'], dtype='<U20')"
      ]
     },
     "execution_count": 5,
     "metadata": {},
     "output_type": "execute_result"
    }
   ],
   "source": [
    "all_words"
   ]
  },
  {
   "cell_type": "code",
   "execution_count": 6,
   "metadata": {
    "id": "t6pONzuq9rxq"
   },
   "outputs": [],
   "source": [
    "from voc import Vocab\n",
    "\n",
    "\n",
    "input_vocab = Vocab.from_lines(''.join(all_words), bos=bos, eos=eos, sep='')\n",
    "output_vocab = Vocab.from_lines(''.join(all_translations), bos=bos, eos=eos, sep='')"
   ]
  },
  {
   "cell_type": "code",
   "execution_count": 7,
   "metadata": {
    "colab": {
     "base_uri": "https://localhost:8080/"
    },
    "id": "zgzsRiWo9rxq",
    "outputId": "fe61d9e3-41f3-487e-e62f-54869613eeb6"
   },
   "outputs": [
    {
     "name": "stdout",
     "output_type": "stream",
     "text": [
      "Lines:\n",
      "['משתמש:צלף/!' 'סימן קריאה' 'תבנית:!!' '$9.99' \"תבנית:'\"]\n",
      "\n",
      "Words to ids (0 = bos, 1 = eos):\n",
      "[[  0 127 138 139 127 138  27 135 125 132  16   3   1]\n",
      " [  0 130 122 127 128   2 136 137 122 113 117   1   1]\n",
      " [  0 139 114 129 122 139  27   3   3   1   1   1   1]\n",
      " [  0   6  26  15  26  26   1   1   1   1   1   1   1]\n",
      " [  0 139 114 129 122 139  27   8   1   1   1   1   1]]\n",
      "\n",
      "Back to lines:\n",
      "['משתמש:צלף/!', 'סימן קריאה', 'תבנית:!!', '$9.99', \"תבנית:'\"]\n"
     ]
    }
   ],
   "source": [
    "# Here's how you cast lines into ids and backwards.\n",
    "batch_lines = all_words[:5]\n",
    "batch_ids = input_vocab.to_matrix(batch_lines)\n",
    "batch_lines_restored = input_vocab.to_lines(batch_ids)\n",
    "\n",
    "print(\"Lines:\")\n",
    "print(batch_lines)\n",
    "print()\n",
    "print(\"Words to ids (0 = bos, 1 = eos):\")\n",
    "print(batch_ids)\n",
    "print()\n",
    "print(\"Back to lines:\")\n",
    "print(batch_lines_restored)"
   ]
  },
  {
   "cell_type": "markdown",
   "metadata": {
    "id": "Z_EUPt909rxr"
   },
   "source": [
    "Draw word/translation length distributions to estimate the scope of the task."
   ]
  },
  {
   "cell_type": "code",
   "execution_count": 8,
   "metadata": {
    "colab": {
     "base_uri": "https://localhost:8080/",
     "height": 281
    },
    "id": "D_0Kt-4E9rxr",
    "outputId": "91a0910b-2995-450f-b911-9cde488f4b34"
   },
   "outputs": [
    {
     "data": {
      "image/png": "[encoded data removed]",
      "text/plain": [
       "<Figure size 576x288 with 2 Axes>"
      ]
     },
     "metadata": {
      "needs_background": "light"
     },
     "output_type": "display_data"
    }
   ],
   "source": [
    "import matplotlib.pyplot as plt\n",
    "\n",
    "\n",
    "%matplotlib inline\n",
    "\n",
    "plt.figure(figsize=[8, 4])\n",
    "plt.subplot(1, 2, 1)\n",
    "plt.title(\"words\")\n",
    "plt.hist(list(map(len, all_words)), bins=20)\n",
    "\n",
    "plt.subplot(1, 2, 2)\n",
    "plt.title('translations')\n",
    "plt.hist(list(map(len, all_translations)), bins=20);"
   ]
  },
  {
   "cell_type": "markdown",
   "metadata": {
    "id": "juAIXtNu9rxr"
   },
   "source": [
    "## Our model\n",
    "\n",
    "Our architecture consists of two main blocks:\n",
    "* Encoder reads words character by character and outputs code vector (usually a function of last RNN state)\n",
    "* Decoder takes that code vector and produces translations character by character\n",
    "\n",
    "Than it gets fed into a model that follows this simple interface:\n",
    "* __`model(inp, out, **flags) -> logp`__ - takes symbolic int32 matrices of hebrew words and their english translations. Computes the log-probabilities of all possible english characters given english prefices and hebrew word.\n",
    "* __`model.translate(inp, **flags) -> out, logp`__ - takes symbolic int32 matrix of hebrew words, produces output tokens sampled from the model and output log-probabilities for all possible tokens at each tick.\n",
    "  * if given flag __`greedy=True`__, takes most likely next token at each iteration. Otherwise samples with next token probabilities predicted by model.\n",
    "\n",
    "That's all! It's as hard as it gets. With those two methods alone you can implement all kinds of prediction and training."
   ]
  },
  {
   "cell_type": "code",
   "execution_count": 9,
   "metadata": {
    "id": "vq9SVPb69rxr"
   },
   "outputs": [],
   "source": [
    "import torch\n",
    "import torch.nn as nn\n",
    "import torch.nn.functional as F\n",
    "from basic_model_torch import BasicTranslationModel\n",
    "\n",
    "\n",
    "device = torch.device('cuda:0' if torch.cuda.is_available() else 'cpu')\n",
    "model = BasicTranslationModel(input_vocab, output_vocab, emb_size=64, hid_size=256).to(device)"
   ]
  },
  {
   "cell_type": "code",
   "execution_count": 10,
   "metadata": {
    "colab": {
     "base_uri": "https://localhost:8080/"
    },
    "id": "feq2JWHs9rxs",
    "outputId": "70418040-297a-4fc7-d092-3a5d988d1325"
   },
   "outputs": [
    {
     "name": "stdout",
     "output_type": "stream",
     "text": [
      "Sample translations:\n",
      "tensor([[  0, 203, 224,  ..., 207, 246,  31],\n",
      "        [  0,  43,  59,  ...,  17, 184,   1],\n",
      "        [  0, 151, 219,  ..., 119, 255,  52]], device='cuda:0')\n",
      "\n",
      "Log-probabilities at each step:\n",
      "tensor([[[  0.0000, -69.0776, -69.0776,  ..., -69.0776, -69.0776, -69.0776],\n",
      "         [ -5.7407,  -5.5318,  -5.5326,  ...,  -5.7349,  -5.4969,  -5.5848],\n",
      "         [ -5.6662,  -5.6679,  -5.5422,  ...,  -5.7127,  -5.5735,  -5.5251],\n",
      "         ...,\n",
      "         [ -5.6350,  -5.7743,  -5.6472,  ...,  -5.7226,  -5.7231,  -5.6861],\n",
      "         [ -5.5403,  -5.7273,  -5.6936,  ...,  -5.6538,  -5.7769,  -5.6913],\n",
      "         [ -5.6279,  -5.6041,  -5.6687,  ...,  -5.6103,  -5.8153,  -5.6639]],\n",
      "\n",
      "        [[  0.0000, -69.0776, -69.0776,  ..., -69.0776, -69.0776, -69.0776],\n",
      "         [ -5.7737,  -5.5104,  -5.5469,  ...,  -5.7465,  -5.4857,  -5.5991],\n",
      "         [ -5.7483,  -5.7046,  -5.6310,  ...,  -5.6905,  -5.4878,  -5.5979],\n",
      "         ...,\n",
      "         [ -5.5847,  -5.6360,  -5.7513,  ...,  -5.6378,  -5.7829,  -5.6565],\n",
      "         [ -5.5002,  -5.7114,  -5.6764,  ...,  -5.5924,  -5.6310,  -5.5561],\n",
      "         [ -5.6124,  -5.6504,  -5.6389,  ...,  -5.6335,  -5.6424,  -5.6524]],\n",
      "\n",
      "        [[  0.0000, -69.0776, -69.0776,  ..., -69.0776, -69.0776, -69.0776],\n",
      "         [ -5.6929,  -5.5635,  -5.5766,  ...,  -5.7438,  -5.4805,  -5.5647],\n",
      "         [ -5.5697,  -5.5910,  -5.6188,  ...,  -5.7118,  -5.5017,  -5.6490],\n",
      "         ...,\n",
      "         [ -5.5682,  -5.8889,  -5.7063,  ...,  -5.6809,  -5.6668,  -5.6264],\n",
      "         [ -5.6154,  -5.8084,  -5.5639,  ...,  -5.7660,  -5.6741,  -5.4735],\n",
      "         [ -5.6533,  -5.7308,  -5.5778,  ...,  -5.8780,  -5.7064,  -5.5129]]],\n",
      "       device='cuda:0', grad_fn=<LogSoftmaxBackward0>)\n"
     ]
    }
   ],
   "source": [
    "# Play around with symbolic translate and symbolic score.\n",
    "input = torch.tensor(np.random.randint(0, 10, [3, 5]), dtype=torch.int64, device=device)\n",
    "target = torch.tensor(np.random.randint(0, 10, [3, 5]), dtype=torch.int64, device=device)\n",
    "\n",
    "# translate inp (with untrained model)\n",
    "output, logp = model.translate(input, greedy=False)\n",
    "\n",
    "print(\"Sample translations:\")\n",
    "print(output)\n",
    "print()\n",
    "print(\"Log-probabilities at each step:\")\n",
    "print(logp)"
   ]
  },
  {
   "cell_type": "code",
   "execution_count": 11,
   "metadata": {
    "colab": {
     "base_uri": "https://localhost:8080/"
    },
    "id": "qOPM8RDI9rxs",
    "outputId": "cd0c7c70-3f57-444e-a236-251e1163c408"
   },
   "outputs": [
    {
     "name": "stdout",
     "output_type": "stream",
     "text": [
      "Log-probabilities output:\n",
      "tensor([[[  0.0000, -69.0776, -69.0776,  ..., -69.0776, -69.0776, -69.0776],\n",
      "         [ -5.7407,  -5.5318,  -5.5326,  ...,  -5.7349,  -5.4969,  -5.5848],\n",
      "         [ -5.6547,  -5.6520,  -5.5921,  ...,  -5.7389,  -5.4598,  -5.6995],\n",
      "         [ -5.5667,  -5.6394,  -5.6588,  ...,  -5.7359,  -5.5797,  -5.6181],\n",
      "         [ -5.4853,  -5.7505,  -5.5951,  ...,  -5.5747,  -5.5348,  -5.6372]],\n",
      "\n",
      "        [[  0.0000, -69.0776, -69.0776,  ..., -69.0776, -69.0776, -69.0776],\n",
      "         [ -5.6865,  -5.7610,  -5.5472,  ...,  -5.7533,  -5.6017,  -5.6420],\n",
      "         [ -5.6074,  -5.7710,  -5.6041,  ...,  -5.8146,  -5.5734,  -5.5138],\n",
      "         [ -5.5213,  -5.9026,  -5.6802,  ...,  -5.7692,  -5.6131,  -5.6030],\n",
      "         [ -5.5155,  -5.8955,  -5.6061,  ...,  -5.8455,  -5.5637,  -5.6146]],\n",
      "\n",
      "        [[  0.0000, -69.0776, -69.0776,  ..., -69.0776, -69.0776, -69.0776],\n",
      "         [ -5.6929,  -5.5635,  -5.5766,  ...,  -5.7438,  -5.4805,  -5.5647],\n",
      "         [ -5.5534,  -5.5605,  -5.5412,  ...,  -5.5938,  -5.4435,  -5.5119],\n",
      "         [ -5.4840,  -5.7421,  -5.5715,  ...,  -5.5183,  -5.4889,  -5.5679],\n",
      "         [ -5.4754,  -5.8141,  -5.6069,  ...,  -5.4923,  -5.4956,  -5.5999]]],\n",
      "       device='cuda:0', grad_fn=<LogSoftmaxBackward0>)\n",
      "\n",
      "Log-probabilities of output tokens:\n",
      "tensor([[[  0.0000],\n",
      "         [ -5.5326],\n",
      "         [ -5.6566],\n",
      "         [ -5.5324],\n",
      "         [ -5.8008]],\n",
      "\n",
      "        [[-69.0776],\n",
      "         [ -5.6042],\n",
      "         [ -5.7205],\n",
      "         [ -5.9026],\n",
      "         [ -5.8955]],\n",
      "\n",
      "        [[  0.0000],\n",
      "         [ -5.5200],\n",
      "         [ -5.5931],\n",
      "         [ -5.6353],\n",
      "         [ -5.6121]]], device='cuda:0', grad_fn=<GatherBackward0>)\n"
     ]
    }
   ],
   "source": [
    "# score logp(target | input) with untrained model\n",
    "logp = model(input, target)\n",
    "print(\"Log-probabilities output:\")\n",
    "print(logp)\n",
    "print()\n",
    "print(\"Log-probabilities of output tokens:\")\n",
    "print(torch.gather(logp, dim=2, index=target[:, :, None]))"
   ]
  },
  {
   "cell_type": "code",
   "execution_count": 12,
   "metadata": {
    "id": "zE0iunOh9rxs"
   },
   "outputs": [],
   "source": [
    "def translate(words, max_len=MAX_OUTPUT_LENGTH):\n",
    "    # Convert words to a tensor of indices\n",
    "    words = input_vocab.to_matrix(words)\n",
    "    words = torch.tensor(words, dtype=torch.int64, device=device)\n",
    "\n",
    "    with torch.no_grad():\n",
    "        # YOUR CODE HERE\n",
    "        # Compute translations in form of indices.\n",
    "        # Note: use greedy translation to ensure determinism.\n",
    "        # translation = ...\n",
    "        translation, _ = model.translate(words, greedy=True, max_len=max_len)\n",
    "\n",
    "    # Convert translations back into strings\n",
    "    return output_vocab.to_lines(translation.cpu().numpy())"
   ]
  },
  {
   "cell_type": "code",
   "execution_count": 13,
   "metadata": {
    "colab": {
     "base_uri": "https://localhost:8080/"
    },
    "id": "sske-BHZ9rxs",
    "outputId": "237a71bb-799a-4470-cccb-679fcf2a6f0d"
   },
   "outputs": [
    {
     "name": "stdout",
     "output_type": "stream",
     "text": [
      "Sample inputs: ['משתמש:צלף/!' 'סימן קריאה' 'תבנית:!!']\n",
      "Dummy translations: [\"ļşşم'チ2%'ọоþaþaяο老ع\", 'ek榎いиŋî‘נפ‘ọפあứấạhい', 'ek榎5ọあ熊δħşمuþ‘ε榎иŋδ']\n"
     ]
    }
   ],
   "source": [
    "print(\"Sample inputs:\", all_words[:3])\n",
    "print(\"Dummy translations:\", translate(all_words[:3]))\n",
    "trans = translate(all_words[:3])\n",
    "\n",
    "assert translate(all_words[:3]) == translate(\n",
    "    all_words[:3]\n",
    "), \"make sure translation is deterministic (use greedy=True and disable any noise layers)\"\n",
    "assert isinstance(translate(all_words[:3]), list) and isinstance(\n",
    "    translate(all_words[:1])[0], str\n",
    "), \"translate(lines) must return a sequence of strings!\"\n",
    "# Note: if translation freezes, make sure you used max_len parameter"
   ]
  },
  {
   "cell_type": "markdown",
   "metadata": {
    "id": "oi6Iv31S9rxs"
   },
   "source": [
    "## Scoring function\n",
    "\n",
    "LogLikelihood is a poor estimator of model performance.\n",
    "* If we predict zero probability once, it shouldn't ruin entire model.\n",
    "* It is enough to learn just one translation if there are several correct ones.\n",
    "* What matters is how many mistakes model's gonna make when it translates!\n",
    "\n",
    "Therefore, we will use minimal Levenshtein distance. It measures how many characters do we need to add/remove/replace from model translation to make it perfect. Alternatively, one could use character-level BLEU/RougeL or other similar metrics.\n",
    "\n",
    "The catch here is that Levenshtein distance is not differentiable: it isn't even continuous. We can't train our neural network to maximize it by gradient descent."
   ]
  },
  {
   "cell_type": "code",
   "execution_count": 14,
   "metadata": {
    "id": "K9AW0Pv29rxs"
   },
   "outputs": [],
   "source": [
    "import editdistance\n",
    "\n",
    "\n",
    "def get_distance(word, translation):\n",
    "    \"\"\"\n",
    "    A function that takes word and predicted translation\n",
    "    and evaluates (Levenshtein's) edit distance to closest correct translation\n",
    "    \"\"\"\n",
    "    references = word_to_translation[word]\n",
    "    assert len(references) != 0, \"wrong/unknown word\"\n",
    "    return min(editdistance.eval(translation, reference) for reference in references)\n",
    "\n",
    "\n",
    "def score(words, bsize=100):\n",
    "    \"\"\"a function that computes levenshtein distance for bsize random samples\"\"\"\n",
    "    assert isinstance(words, np.ndarray)\n",
    "    batch_words = np.random.choice(words, size=bsize, replace=False)\n",
    "    batch_translation = translate(batch_words)\n",
    "    distances = [\n",
    "        get_distance(word, translation) for word, translation in zip(batch_words, batch_translation)\n",
    "    ]\n",
    "    return np.array(distances, dtype='float32')"
   ]
  },
  {
   "cell_type": "code",
   "execution_count": 15,
   "metadata": {
    "colab": {
     "base_uri": "https://localhost:8080/"
    },
    "id": "F90fsOhl9rxt",
    "outputId": "b70c4c6e-b977-4187-c828-03013d596f4c"
   },
   "outputs": [
    {
     "data": {
      "text/plain": [
       "[18.4, 18.8, 18.7, 18.6, 18.5]"
      ]
     },
     "execution_count": 15,
     "metadata": {},
     "output_type": "execute_result"
    }
   ],
   "source": [
    "# should be around 5-50 and decrease rapidly after training :)\n",
    "[score(test_words, 10).mean() for _ in range(5)]"
   ]
  },
  {
   "cell_type": "markdown",
   "metadata": {
    "id": "CQ6TZkKE9rxt"
   },
   "source": [
    "## Supervised pre-training\n",
    "\n",
    "Here we define a function that trains our model through maximizing log-likelihood a.k.a. minimizing crossentropy."
   ]
  },
  {
   "cell_type": "code",
   "execution_count": 16,
   "metadata": {
    "id": "4wFcLk959rxt"
   },
   "outputs": [],
   "source": [
    "import random\n",
    "\n",
    "\n",
    "def sample_batch(words, word_to_translation, batch_size):\n",
    "    # choose words\n",
    "    batch_words = np.random.choice(words, size=batch_size)\n",
    "\n",
    "    # choose translations\n",
    "    batch_reference_translations = [word_to_translation[word] for word in batch_words]\n",
    "    batch_translations = [random.choice(references) for references in batch_reference_translations]\n",
    "\n",
    "    return batch_words, batch_translations"
   ]
  },
  {
   "cell_type": "code",
   "execution_count": 17,
   "metadata": {
    "colab": {
     "base_uri": "https://localhost:8080/"
    },
    "id": "kdfjyhsS9rxt",
    "outputId": "fbfda519-5618-4c30-fa1b-a96c77a2b6cc"
   },
   "outputs": [
    {
     "name": "stdout",
     "output_type": "stream",
     "text": [
      "Source:\n",
      "['368' 'מארי-לואיז קארבה' 'פלר']\n",
      "\n",
      "Target:\n",
      "['368', 'marie-louise carven', 'feller']\n"
     ]
    }
   ],
   "source": [
    "bx, by = sample_batch(train_words, word_to_translation, batch_size=3)\n",
    "print(\"Source:\")\n",
    "print(bx)\n",
    "print()\n",
    "print(\"Target:\")\n",
    "print(by)"
   ]
  },
  {
   "cell_type": "code",
   "execution_count": 18,
   "metadata": {
    "id": "3xcnyaq39rxt"
   },
   "outputs": [],
   "source": [
    "from basic_model_torch import infer_mask\n",
    "\n",
    "\n",
    "def compute_loss_on_batch(input_sequence, reference_answers):\n",
    "    \"\"\" Compute crossentropy loss given a batch of sources and translations \"\"\"\n",
    "    input_sequence = torch.tensor(\n",
    "        input_vocab.to_matrix(input_sequence), dtype=torch.int64, device=device\n",
    "    )\n",
    "    reference_answers = torch.tensor(\n",
    "        output_vocab.to_matrix(reference_answers), dtype=torch.int64, device=device\n",
    "    )\n",
    "\n",
    "    # YOUR CODE HERE\n",
    "    # Compute log-probabilities of all possible tokens at each step. Use model interface.\n",
    "    # logprobs = ...\n",
    "    logprobs = model(input_sequence, reference_answers)\n",
    "\n",
    "    # Compute elementwise crossentropy as negative log-probabilities of reference_answers.\n",
    "    reference_logprobs = torch.gather(logprobs, dim=2, index=reference_answers[:, :, None])\n",
    "    crossentropy = -torch.squeeze(reference_logprobs, dim=2)\n",
    "\n",
    "    # average with mask\n",
    "    mask = infer_mask(reference_answers, output_vocab.eos_ix)\n",
    "    loss = torch.sum(crossentropy * mask) / torch.sum(mask)\n",
    "\n",
    "    return loss"
   ]
  },
  {
   "cell_type": "code",
   "execution_count": 19,
   "metadata": {
    "colab": {
     "base_uri": "https://localhost:8080/"
    },
    "id": "Eidx8i5s9rxt",
    "outputId": "a5b25a8b-cdd4-4806-fed6-647801078ac7"
   },
   "outputs": [
    {
     "name": "stdout",
     "output_type": "stream",
     "text": [
      "loss = 5.212831974029541\n"
     ]
    }
   ],
   "source": [
    "# test it\n",
    "loss = compute_loss_on_batch(*sample_batch(train_words, word_to_translation, 3))\n",
    "print(f'loss = {loss}')\n",
    "\n",
    "assert loss.item() > 0.0\n",
    "loss.backward()\n",
    "for w in model.parameters():\n",
    "    assert (\n",
    "        w.grad is not None and torch.max(torch.abs(w.grad)).item() != 0\n",
    "    ), f\"loss is not differentiable w.r.t. a weight with shape {w.size()}. Check compute_loss_on_batch.\""
   ]
  },
  {
   "cell_type": "markdown",
   "metadata": {
    "id": "CSx1nIFr9rxt"
   },
   "source": [
    "## Actually train the model\n",
    "\n",
    "Minibatches and stuff..."
   ]
  },
  {
   "cell_type": "code",
   "execution_count": 20,
   "metadata": {
    "colab": {
     "base_uri": "https://localhost:8080/",
     "height": 330,
     "referenced_widgets": [
      "ff1255d8a6f24e5e950dab5b6f921a3b",
      "cd8bbf2f5b9d4405b5389615bf98ee0b",
      "2b4e8cc64e3946e7bcd18a12dbe5e24d",
      "de6da465634241b292a331b1acb855ac",
      "59524f6ec5cf4a42a05e6e7c5918776c",
      "16be3b2265fd4e70860ec1fd0d2d4404",
      "22eed1b738864df6b5d7b352785e958c",
      "f240f7347a4e4969a811236dc7069422",
      "66fef669160b4e5bba01f744ded917f9",
      "a8b81537e5b547aabf0933d46a49df39",
      "d626fc3dd28846f28f84954c72e27a06",
      "9bac0d204ea5462b8c4ac07f7c9ca3f5",
      "ee748b5096af4542aa1902f0d0295dcc"
     ]
    },
    "id": "NRHXz5ZW9rxt",
    "outputId": "bf86a69e-b421-4d4f-8494-82b1f5bcc7b8"
   },
   "outputs": [
    {
     "data": {
      "application/vnd.jupyter.widget-view+json": {
       "model_id": "ff1255d8a6f24e5e950dab5b6f921a3b",
       "version_major": 2,
       "version_minor": 0
      },
      "text/plain": [
       "Output()"
      ]
     },
     "metadata": {},
     "output_type": "display_data"
    },
    {
     "data": {
      "application/vnd.jupyter.widget-view+json": {
       "model_id": "2b4e8cc64e3946e7bcd18a12dbe5e24d",
       "version_major": 2,
       "version_minor": 0
      },
      "text/plain": [
       "  0%|          | 0/5000 [00:00<?, ?it/s]"
      ]
     },
     "metadata": {},
     "output_type": "display_data"
    }
   ],
   "source": [
    "from IPython.display import clear_output, display\n",
    "from ipywidgets import Output\n",
    "from tqdm.auto import tqdm, trange\n",
    "\n",
    "\n",
    "output_display = Output()\n",
    "display(output_display)\n",
    "\n",
    "loss_history = []\n",
    "editdist_history = []\n",
    "entropy_history = []\n",
    "opt = torch.optim.Adam(model.parameters())\n",
    "batch_size = 32\n",
    "\n",
    "for i in trange(5000):\n",
    "    loss = compute_loss_on_batch(*sample_batch(train_words, word_to_translation, batch_size))\n",
    "\n",
    "    # train with backprop\n",
    "    opt.zero_grad()\n",
    "    loss.backward()\n",
    "    opt.step()\n",
    "\n",
    "    loss_history.append(loss.item())\n",
    "\n",
    "    if i % REPORT_FREQ == 0:\n",
    "        with output_display:\n",
    "            clear_output(wait=True)\n",
    "\n",
    "            current_scores = score(test_words)\n",
    "            editdist_history.append(current_scores.mean())\n",
    "            mean_loss = np.mean(loss_history[-10:])\n",
    "            mean_score = np.mean(editdist_history[-10:])\n",
    "            print(f\"mean loss = {mean_loss:.3f}, mean score = {mean_score:.3f}\")\n",
    "\n",
    "            plt.figure(figsize=(12, 4))\n",
    "            plt.subplot(131)\n",
    "            plt.title('train loss')\n",
    "            plt.plot(loss_history)\n",
    "            plt.grid()\n",
    "            plt.subplot(132)\n",
    "            plt.title('val score distribution')\n",
    "            plt.hist(current_scores, bins=20)\n",
    "            plt.subplot(133)\n",
    "            plt.title('val score (lower is better)')\n",
    "            plt.plot(editdist_history)\n",
    "            plt.grid()\n",
    "            plt.show()"
   ]
  },
  {
   "cell_type": "markdown",
   "metadata": {
    "id": "RGYvH47Q9rxt"
   },
   "source": [
    "__How to interpret the plots:__\n",
    "\n",
    "* __Train loss__ - that's your model's crossentropy over minibatches. It should go down steadily. Most importantly, it shouldn't be NaN :)\n",
    "* __Val score distribution__ - distribution of translation edit distance (score) within batch. It should move to the left over time.\n",
    "* __Val score / training time__ - it's your current mean edit distance. This plot is much whimsier than loss, but make sure it goes below 8 by 2500 steps. \n",
    "\n",
    "If it doesn't, first try to re-create both model and opt. You may have changed it's weight too much while debugging. If that doesn't help, it's debugging time."
   ]
  },
  {
   "cell_type": "code",
   "execution_count": 21,
   "metadata": {
    "colab": {
     "base_uri": "https://localhost:8080/"
    },
    "id": "50zrI-pQ9rxu",
    "outputId": "ca0920d3-981e-42f5-dd83-2f3cec6db46e"
   },
   "outputs": [
    {
     "name": "stdout",
     "output_type": "stream",
     "text": [
      "מפרש קדמה -> camed seado\n",
      "the information -> the formintoni\n",
      "ביאליניצ'י -> bialinich\n",
      "סונו ג'וי -> sono jowey\n",
      "ויוויאן פוקס -> vivanio pack\n",
      "מנורת שמן -> shaman shamen\n",
      "רובין אליס -> roben alis\n",
      "פרנצ'סקו גוארדי -> franccesco gradi\n",
      "צ'איאונו -> chainou\n",
      "תאופיק אל-חכים -> theophel kipper\n"
     ]
    }
   ],
   "source": [
    "for word in train_words[:10]:\n",
    "    translation = translate([word])[0]\n",
    "    print(f\"{word} -> {translation}\")"
   ]
  },
  {
   "cell_type": "code",
   "execution_count": 22,
   "metadata": {
    "colab": {
     "base_uri": "https://localhost:8080/",
     "height": 66,
     "referenced_widgets": [
      "71fb732393ee4a8b9a50d24b07fd08a0",
      "ef21675c993e41ce8e4d03896c6bbac4",
      "24eeadb01b1f46a28197664c7fa6270b",
      "5acdb1a703bc4809ba0222557d0601b2",
      "160481ded6b540fcb8a48b9536d3285a",
      "b6973b3b3aa24b62b5ad21523567dc43",
      "7873e297daff414a9f4d93dedf31c1c6",
      "d16ee79f944946439ca7b1610ccc26a5",
      "01dbf5be21f84352b47a1763165c98f2",
      "cb8fde3e809e4ac7822e1d377dc26518",
      "86a48ccce62b4e3c94579361f2427727"
     ]
    },
    "id": "9w8yX4Kn9rxu",
    "outputId": "5c2a5153-2601-4369-eee6-371e561b1036"
   },
   "outputs": [
    {
     "data": {
      "application/vnd.jupyter.widget-view+json": {
       "model_id": "71fb732393ee4a8b9a50d24b07fd08a0",
       "version_major": 2,
       "version_minor": 0
      },
      "text/plain": [
       "  0%|          | 0/407 [00:00<?, ?it/s]"
      ]
     },
     "metadata": {},
     "output_type": "display_data"
    },
    {
     "name": "stdout",
     "output_type": "stream",
     "text": [
      "Supervised test score: 6.888641254226868\n"
     ]
    }
   ],
   "source": [
    "test_scores = []\n",
    "for i in trange(0, len(test_words), batch_size):\n",
    "    batch_words = test_words[i : i + batch_size]\n",
    "    batch_translation = translate(batch_words)\n",
    "    distances = [\n",
    "        get_distance(word, translation) for word, translation in zip(batch_words, batch_translation)\n",
    "    ]\n",
    "    test_scores.extend(distances)\n",
    "\n",
    "print(\"Supervised test score:\", np.mean(test_scores))"
   ]
  },
  {
   "cell_type": "markdown",
   "metadata": {
    "id": "ugvkPI169rxu"
   },
   "source": [
    "## Self-critical policy gradient\n",
    "\n",
    "In this section you'll implement algorithm called self-critical sequence training (here's an [article](https://arxiv.org/abs/1612.00563)).\n",
    "\n",
    "The algorithm is a vanilla policy gradient with a special baseline. \n",
    "\n",
    "$$ \\nabla J = E_{x \\sim p(s)} E_{y \\sim \\pi(y|x)} \\nabla log \\pi(y|x) \\cdot (R(x,y) - b(x)) $$\n",
    "\n",
    "Here reward R(x,y) is a __negative levenshtein distance__ (since we minimize it). The baseline __b(x)__ represents how well model fares on word __x__.\n",
    "\n",
    "In practice, this means that we compute baseline as a score of greedy translation, $b(x) = R(x,y_{greedy}(x)) $.\n",
    "\n",
    "![img](https://github.com/yandexdataschool/Practical_RL/raw/master/yet_another_week/_resource/scheme.png)\n",
    "\n",
    "Luckily, we already obtained the required outputs: `model.translate` with `greedy=True` and `greedy=False` and we only need to compute levenshtein using `get_distance` function.\n"
   ]
  },
  {
   "cell_type": "code",
   "execution_count": 23,
   "metadata": {
    "id": "PYBaNPjD9rxu"
   },
   "outputs": [],
   "source": [
    "def compute_reward(input_sequence, translations):\n",
    "    \"\"\" computes sample-wise reward given token ids for inputs and translations \"\"\"\n",
    "    distances = [\n",
    "        get_distance(word, translation)\n",
    "        for word, translation in zip(\n",
    "            input_vocab.to_lines(input_sequence.detach().numpy()),\n",
    "            output_vocab.to_lines(translations.detach().numpy()),\n",
    "        )\n",
    "    ]\n",
    "\n",
    "    # use negative levenshtein distance so that larger reward means better policy\n",
    "    return -torch.tensor(distances, dtype=torch.int64, device=device)"
   ]
  },
  {
   "cell_type": "code",
   "execution_count": 24,
   "metadata": {
    "id": "BnH-8sG59rxu"
   },
   "outputs": [],
   "source": [
    "def scst_objective_on_batch(input_sequence, max_len=MAX_OUTPUT_LENGTH):\n",
    "    \"\"\" Compute pseudo-loss for policy gradient given a batch of sources \"\"\"\n",
    "    input_sequence = torch.tensor(\n",
    "        input_vocab.to_matrix(input_sequence), dtype=torch.int64, device=device\n",
    "    )\n",
    "\n",
    "    # YOUR CODE HERE\n",
    "    # use model to __sample__ symbolic translations given input_sequence\n",
    "    # sample_translations, sample_logp = ...\n",
    "    sample_translations, sample_logp = model.translate(\n",
    "        input_sequence, greedy=False, max_len=max_len\n",
    "    )\n",
    "\n",
    "    # YOUR CODE HERE\n",
    "    # use model to __greedy__ symbolic translations given input_sequence\n",
    "    # greedy_translations, greedy_logp = ...\n",
    "    greedy_translations, greedy_logp = model.translate(input_sequence, greedy=True, max_len=max_len)\n",
    "\n",
    "    # YOUR CODE HERE\n",
    "    # Compute rewards and baseline.\n",
    "    # Be careful with device: rewards require casting to numpy, so send everything to cpu.\n",
    "    # rewards = ...\n",
    "    # baseline = ...\n",
    "    rewards = compute_reward(input_sequence.cpu(), sample_translations.cpu())\n",
    "    baseline = compute_reward(input_sequence.cpu(), greedy_translations.cpu())\n",
    "\n",
    "    # YOUR CODE HERE\n",
    "    # compute advantage using rewards and baseline\n",
    "    # Yet again be careful with the device: advantage is used to compute gradients, so send it to device.\n",
    "    # advantage = ...\n",
    "    advantage = (rewards - baseline).to(device)\n",
    "\n",
    "    # YOUR CODE HERE\n",
    "    # Compute log_pi(a_t|s_t), shape = [batch, seq_length]\n",
    "    # Hint: look at how crossentropy is implemented in supervised learning loss above.\n",
    "    # Mind the sign - this one should not be multiplied by -1 :)\n",
    "    # logp_sample = ...\n",
    "    logp_sample = torch.gather(sample_logp, dim=2, index=sample_translations[:, :, None]).squeeze(\n",
    "        dim=2\n",
    "    )\n",
    "\n",
    "    # Policy gradient pseudo-loss. Gradient of J is exactly policy gradient.\n",
    "    J = logp_sample * advantage[:, None]\n",
    "\n",
    "    assert J.dim() == 2, \"please return elementwise objective, don't compute mean just yet\"\n",
    "\n",
    "    # average with mask\n",
    "    mask = infer_mask(sample_translations, output_vocab.eos_ix)\n",
    "    loss = -torch.sum(J * mask) / torch.sum(mask)\n",
    "\n",
    "    # YOUR CODE HERE\n",
    "    # Regularize with negative entropy. Don't forget the sign!\n",
    "    # Note: for entropy you need probabilities for all tokens (sample_logp), not just logp_sample\n",
    "    # entropy = ...\n",
    "    entropy = -torch.sum(torch.exp(sample_logp) * sample_logp, dim=-1)\n",
    "\n",
    "    assert entropy.dim() == 2, \"please make sure elementwise entropy is of shape [batch,time]\"\n",
    "\n",
    "    reg = -0.01 * torch.sum(entropy * mask) / torch.sum(mask)\n",
    "    return loss + reg, torch.sum(entropy * mask) / torch.sum(mask)"
   ]
  },
  {
   "cell_type": "markdown",
   "metadata": {
    "id": "ZO4sOvJe9rxu"
   },
   "source": [
    "### Policy gradient training\n"
   ]
  },
  {
   "cell_type": "code",
   "execution_count": 25,
   "metadata": {
    "colab": {
     "base_uri": "https://localhost:8080/",
     "height": 330,
     "referenced_widgets": [
      "01874dadc2624d89a6dfb252bbc1c8f2",
      "3ed3a510ce824afb804e46d7742f31b1",
      "5bcf27ffc4b34f6a85596c84e640f387",
      "3ba12a56b7024542a76891549ec8124e",
      "b0314b5af89847e78047fa06221e21ba",
      "72d6064b47a24fecb65b31742ca9e15c",
      "85372f4ab57a486289a57b5d6a11922b",
      "1aaee4ad8ace4da1b7e012181277ac90",
      "9ac153c47d6046ddae5afa376bc987b8",
      "412efda9207d435680f614a814336981",
      "2894fe72f5cb453195fb28ff790257be",
      "7f691e296bd34c8d8c27d9f705a55388",
      "349301178de7463ba33d925dd90fc2a9"
     ]
    },
    "id": "s86YtJXh9rxu",
    "outputId": "ae141b82-7a23-4074-fd64-f281055b0cb8"
   },
   "outputs": [
    {
     "data": {
      "application/vnd.jupyter.widget-view+json": {
       "model_id": "01874dadc2624d89a6dfb252bbc1c8f2",
       "version_major": 2,
       "version_minor": 0
      },
      "text/plain": [
       "Output()"
      ]
     },
     "metadata": {},
     "output_type": "display_data"
    },
    {
     "data": {
      "application/vnd.jupyter.widget-view+json": {
       "model_id": "5bcf27ffc4b34f6a85596c84e640f387",
       "version_major": 2,
       "version_minor": 0
      },
      "text/plain": [
       "  0%|          | 0/5000 [00:00<?, ?it/s]"
      ]
     },
     "metadata": {},
     "output_type": "display_data"
    }
   ],
   "source": [
    "entropy_history = [np.nan] * len(loss_history)\n",
    "opt = torch.optim.Adam(model.parameters(), lr=1e-5)\n",
    "\n",
    "debug_list = []\n",
    "\n",
    "output_display = Output()\n",
    "display(output_display)\n",
    "\n",
    "# Feel free to use more steps if necessary.\n",
    "for i in trange(5000):\n",
    "    loss, ent = scst_objective_on_batch(\n",
    "        sample_batch(train_words, word_to_translation, 32)[0]\n",
    "    )  # [0] = only source sentence\n",
    "\n",
    "    # train with backprop\n",
    "    opt.zero_grad()\n",
    "    loss.backward()\n",
    "    opt.step()\n",
    "\n",
    "    loss_history.append(loss.item())\n",
    "    entropy_history.append(ent.item())\n",
    "    debug_list.append(current_scores)\n",
    "\n",
    "    if (i + 1) % REPORT_FREQ == 0:\n",
    "        with output_display:\n",
    "            clear_output(wait=True)\n",
    "\n",
    "            current_scores = score(test_words)\n",
    "            editdist_history.append(current_scores.mean())\n",
    "            mean_loss = np.mean(loss_history[-10:])\n",
    "            mean_score = np.mean(editdist_history[-10:])\n",
    "            print(f\"J={mean_loss:.3f}, mean score={mean_score:.3f}\")\n",
    "\n",
    "            plt.figure(figsize=(12, 4))\n",
    "            plt.subplot(131)\n",
    "            plt.title('val score distribution')\n",
    "            plt.hist(current_scores, bins=20)\n",
    "            plt.subplot(132)\n",
    "            plt.title('val score / traning time')\n",
    "            plt.plot(editdist_history)\n",
    "            plt.grid()\n",
    "            plt.subplot(133)\n",
    "            plt.title('policy entropy / traning time')\n",
    "            plt.plot(entropy_history)\n",
    "            plt.grid()\n",
    "            plt.show()"
   ]
  },
  {
   "cell_type": "markdown",
   "metadata": {
    "id": "JmrG0CBu9rxv"
   },
   "source": [
    "__Debugging tips:__\n",
    "![img](https://github.com/yandexdataschool/Practical_RL/raw/master/yet_another_week/_resource/do_something_scst.png)\n",
    "\n",
    " * As usual, don't expect improvements right away, but in general the model should be able to show some positive changes by 5k steps.\n",
    " * Entropy is a good indicator of many problems. \n",
    "   * If it reaches zero, you may need greater entropy regularizer.\n",
    "   * If it has rapid changes time to time, you may need gradient clipping.\n",
    "   * If it oscillates up and down in an erratic manner... it's perfectly okay for entropy to do so. But it should decrease at the end.\n",
    "   \n",
    " * We don't show loss_history cuz it's uninformative for pseudo-losses in policy gradient. However, if something goes wrong you can check it to see if everything isn't a constant zero."
   ]
  },
  {
   "cell_type": "markdown",
   "metadata": {
    "id": "m8__jC3T9rxv"
   },
   "source": [
    "### Results"
   ]
  },
  {
   "cell_type": "code",
   "execution_count": 26,
   "metadata": {
    "colab": {
     "base_uri": "https://localhost:8080/"
    },
    "id": "H-Ovy4Cs9rxv",
    "outputId": "16d5a38b-b714-4845-d60b-45b087b9b0b3"
   },
   "outputs": [
    {
     "name": "stdout",
     "output_type": "stream",
     "text": [
      "מפרש קדמה -> camped art\n",
      "the information -> the montripon\n",
      "ביאליניצ'י -> bialini\n",
      "סונו ג'וי -> sono jo\n",
      "ויוויאן פוקס -> vivanio pack\n",
      "מנורת שמן -> shaman\n",
      "רובין אליס -> roben alis\n",
      "פרנצ'סקו גוארדי -> francosca duragi\n",
      "צ'איאונו -> chaino\n",
      "תאופיק אל-חכים -> theopic al-mac\n"
     ]
    }
   ],
   "source": [
    "for word in train_words[:10]:\n",
    "    translation = translate([word])[0]\n",
    "    print(f\"{word} -> {translation}\")"
   ]
  },
  {
   "cell_type": "code",
   "execution_count": 27,
   "metadata": {
    "colab": {
     "base_uri": "https://localhost:8080/",
     "height": 66,
     "referenced_widgets": [
      "85de762d8ce842e8b9e71d19038e548e",
      "62a45bb255914f4dac900905efb28977",
      "1f52178db84d44e0b4171f96941267ec",
      "e34e9269fa4a4c13a16e9e87656cc6bf",
      "68dc82df4a92425ab3ae0c9ea328400a",
      "87fbd9d56bd348ad8f9d3d994c81cc5d",
      "3aa7a7c996764e7bbf2c31aeace71b70",
      "3c1898d85e244ba6b385ed1a0d88741f",
      "852e2f6c18eb4f8ebc8a7d73f84ca9a8",
      "b2edf4af65284501be36bf631e5ad996",
      "ac921b6bdabb4cca8cc0f06b90e0ca4c"
     ]
    },
    "id": "OQwarlFJ9rxv",
    "outputId": "7743ca81-0840-49fb-cc0d-50e49257df52"
   },
   "outputs": [
    {
     "data": {
      "application/vnd.jupyter.widget-view+json": {
       "model_id": "85de762d8ce842e8b9e71d19038e548e",
       "version_major": 2,
       "version_minor": 0
      },
      "text/plain": [
       "  0%|          | 0/407 [00:00<?, ?it/s]"
      ]
     },
     "metadata": {},
     "output_type": "display_data"
    },
    {
     "name": "stdout",
     "output_type": "stream",
     "text": [
      "SCST test score: 6.463034122348601\n"
     ]
    }
   ],
   "source": [
    "test_scores = []\n",
    "for i in trange(0, len(test_words), batch_size):\n",
    "    batch_words = test_words[i : i + batch_size]\n",
    "    batch_translation = translate(batch_words)\n",
    "    distances = [\n",
    "        get_distance(word, translation) for word, translation in zip(batch_words, batch_translation)\n",
    "    ]\n",
    "    test_scores.extend(distances)\n",
    "\n",
    "print(\"SCST test score:\", np.mean(test_scores))"
   ]
  },
  {
   "cell_type": "markdown",
   "metadata": {
    "id": "xobu7apf9rxv"
   },
   "source": [
    "## Bonus: make it actually work\n",
    "\n",
    "In this section, we want you to finally __restart with EASY_MODE=False__ and experiment to find a good model/curriculum for that task.\n",
    "\n",
    "We recommend you to start with the following architecture\n",
    "\n",
    "```\n",
    "encoder---decoder\n",
    "\n",
    "           P(y|h)\n",
    "             ^\n",
    " LSTM  ->   LSTM\n",
    "  ^          ^\n",
    " biLSTM  ->   LSTM\n",
    "  ^          ^\n",
    "input       y_prev\n",
    "```\n",
    "\n",
    "__Note:__ you can fit all 4 state tensors of both LSTMs into in a single state - just assume that it contains, for example, [h0, c0, h1, c1] - pack it in encode and update in decode.\n",
    "\n",
    "\n",
    "Here are some cool ideas on what you can do then.\n",
    "\n",
    "__General tips & tricks:__\n",
    "* You will likely need to adjust pre-training time for such a network.\n",
    "* Supervised pre-training may benefit from clipping gradients somehow.\n",
    "* SCST may indulge a higher learning rate in some cases and changing entropy regularizer over time.\n",
    "* It's often useful to save pre-trained model parameters to not re-train it every time you want new policy gradient parameters.\n",
    "* When leaving training for nighttime, try setting REPORT_FREQ to a larger value (e.g. 500) not to waste time on it.\n",
    "\n",
    "__Formal criteria:__\n",
    "To get 5 points, we want you to build an architecture that:\n",
    "* _doesn't consist of single GRU_\n",
    "* _works better_ than single GRU baseline.\n",
    "* We also want you to provide either learning curve or trained model, preferably both\n",
    "* ... and write a brief report or experiment log describing what you did and how it fared.\n",
    "\n",
    "### Attention\n",
    "There's more than one way to connect decoder to encoder\n",
    "  * __Vanilla:__ layer_i of encoder last state goes to layer_i of decoder initial state\n",
    "  * __Every tick:__ feed encoder last state _on every iteration_ of decoder.\n",
    "  * __Attention:__ allow decoder to \"peek\" at one (or several) positions of encoded sequence on every tick.\n",
    "\n",
    "The most effective (and cool) of those is, of course, attention.\n",
    "You can read more about attention [in this nice blog post](https://distill.pub/2016/augmented-rnns/). The easiest way to begin is to use \"soft\" attention with \"additive\" or \"dot-product\" intermediate layers.\n",
    "\n",
    "__Tips__\n",
    "* Model usually generalizes better if you no longer allow decoder to see final encoder state\n",
    "* Once your model made it through several epochs, it is a good idea to visualize attention maps to understand what your model has actually learned\n",
    "\n",
    "* There's more stuff [here](bonus_pytorch.ipynb)\n",
    "* If you opted for hard attention, we recommend [gumbel-softmax](https://blog.evjang.com/2016/11/tutorial-categorical-variational.html) instead of sampling. Also, please make sure soft attention works fine before you switch to hard.\n",
    "\n",
    "### UREX\n",
    "* This is a way to improve exploration in policy-based settings. The main idea is that you find and upweight under-appreciated actions.\n",
    "* Here's [video](https://www.youtube.com/watch?v=fZNyHoXgV7M&feature=youtu.be&t=3444)\n",
    " and an [article](https://arxiv.org/abs/1611.09321).\n",
    "* You may want to reduce batch size 'cuz UREX requires you to sample multiple times per source sentence.\n",
    "* Once you got it working, try using experience replay with importance sampling instead of (in addition to) basic UREX.\n",
    "\n",
    "### Some additional ideas:\n",
    "* (advanced deep learning) It may be a good idea to first train on small phrases and then adapt to larger ones (a.k.a. training curriculum).\n",
    "* (advanced nlp) You may want to switch from raw utf8 to something like unicode or even syllables to make the task easier.\n",
    "* (advanced nlp) Since Hebrew words are written __with vowels omitted__, you may want to use a small Hebrew vowel markup dataset at `he-pron-wiktionary.txt`."
   ]
  },
  {
   "cell_type": "code",
   "execution_count": null,
   "metadata": {
    "id": "HjOSzs5Y9rxv"
   },
   "outputs": [],
   "source": [
    "assert not EASY_MODE, \"make sure you set EASY_MODE = False at the top of the notebook.\""
   ]
  },
  {
   "cell_type": "markdown",
   "metadata": {
    "id": "U_Vyaoic9rxv"
   },
   "source": [
    "`[your report/log here or anywhere you please]`"
   ]
  },
  {
   "cell_type": "markdown",
   "metadata": {
    "id": "mN41Cy4p9rxv"
   },
   "source": [
    "__Contributions:__ This notebook is brought to you by\n",
    "* Yandex [MT team](https://tech.yandex.com/translate/)\n",
    "* Denis Mazur ([DeniskaMazur](https://github.com/DeniskaMazur)), Oleg Vasilev ([Omrigan](https://github.com/Omrigan/)), Dmitry Emelyanenko ([TixFeniks](https://github.com/tixfeniks)) and Fedor Ratnikov ([justheuristic](https://github.com/justheuristic/))\n",
    "* Dataset is parsed from [Wiktionary](https://en.wiktionary.org), which is under CC-BY-SA and GFDL licenses.\n"
   ]
  }
 ],
 "metadata": {
  "accelerator": "GPU",
  "colab": {
   "collapsed_sections": [],
   "name": "binpord_practice_rl_for_seq2sec.ipynb",
   "provenance": []
  },
  "kernelspec": {
   "display_name": "Python 3 (ipykernel)",
   "language": "python",
   "name": "python3"
  },
  "language_info": {
   "codemirror_mode": {
    "name": "ipython",
    "version": 3
   },
   "file_extension": ".py",
   "mimetype": "text/x-python",
   "name": "python",
   "nbconvert_exporter": "python",
   "pygments_lexer": "ipython3",
   "version": "3.9.7"
  },
  "widgets": {
   "application/vnd.jupyter.widget-state+json": {
    "01874dadc2624d89a6dfb252bbc1c8f2": {
     "model_module": "@jupyter-widgets/output",
     "model_module_version": "1.0.0",
     "model_name": "OutputModel",
     "state": {
      "_dom_classes": [],
      "_model_module": "@jupyter-widgets/output",
      "_model_module_version": "1.0.0",
      "_model_name": "OutputModel",
      "_view_count": null,
      "_view_module": "@jupyter-widgets/output",
      "_view_module_version": "1.0.0",
      "_view_name": "OutputView",
      "layout": "IPY_MODEL_3ed3a510ce824afb804e46d7742f31b1",
      "msg_id": "",
      "outputs": [
       {
        "name": "stdout",
        "output_type": "stream",
        "text": [
         "J=-1.551, mean score=6.447\n"
        ]
       },
       {
        "data": {
         "image/png": "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\n",
         "text/plain": "<Figure size 864x288 with 3 Axes>"
        },
        "metadata": {
         "needs_background": "light"
        },
        "output_type": "display_data"
       }
      ]
     }
    },
    "01dbf5be21f84352b47a1763165c98f2": {
     "model_module": "@jupyter-widgets/base",
     "model_module_version": "1.2.0",
     "model_name": "LayoutModel",
     "state": {
      "_model_module": "@jupyter-widgets/base",
      "_model_module_version": "1.2.0",
      "_model_name": "LayoutModel",
      "_view_count": null,
      "_view_module": "@jupyter-widgets/base",
      "_view_module_version": "1.2.0",
      "_view_name": "LayoutView",
      "align_content": null,
      "align_items": null,
      "align_self": null,
      "border": null,
      "bottom": null,
      "display": null,
      "flex": null,
      "flex_flow": null,
      "grid_area": null,
      "grid_auto_columns": null,
      "grid_auto_flow": null,
      "grid_auto_rows": null,
      "grid_column": null,
      "grid_gap": null,
      "grid_row": null,
      "grid_template_areas": null,
      "grid_template_columns": null,
      "grid_template_rows": null,
      "height": null,
      "justify_content": null,
      "justify_items": null,
      "left": null,
      "margin": null,
      "max_height": null,
      "max_width": null,
      "min_height": null,
      "min_width": null,
      "object_fit": null,
      "object_position": null,
      "order": null,
      "overflow": null,
      "overflow_x": null,
      "overflow_y": null,
      "padding": null,
      "right": null,
      "top": null,
      "visibility": null,
      "width": null
     }
    },
    "160481ded6b540fcb8a48b9536d3285a": {
     "model_module": "@jupyter-widgets/controls",
     "model_module_version": "1.5.0",
     "model_name": "HTMLModel",
     "state": {
      "_dom_classes": [],
      "_model_module": "@jupyter-widgets/controls",
      "_model_module_version": "1.5.0",
      "_model_name": "HTMLModel",
      "_view_count": null,
      "_view_module": "@jupyter-widgets/controls",
      "_view_module_version": "1.5.0",
      "_view_name": "HTMLView",
      "description": "",
      "description_tooltip": null,
      "layout": "IPY_MODEL_86a48ccce62b4e3c94579361f2427727",
      "placeholder": "​",
      "style": "IPY_MODEL_cb8fde3e809e4ac7822e1d377dc26518",
      "value": " 407/407 [00:04&lt;00:00, 90.80it/s]"
     }
    },
    "16be3b2265fd4e70860ec1fd0d2d4404": {
     "model_module": "@jupyter-widgets/controls",
     "model_module_version": "1.5.0",
     "model_name": "FloatProgressModel",
     "state": {
      "_dom_classes": [],
      "_model_module": "@jupyter-widgets/controls",
      "_model_module_version": "1.5.0",
      "_model_name": "FloatProgressModel",
      "_view_count": null,
      "_view_module": "@jupyter-widgets/controls",
      "_view_module_version": "1.5.0",
      "_view_name": "ProgressView",
      "bar_style": "success",
      "description": "",
      "description_tooltip": null,
      "layout": "IPY_MODEL_d626fc3dd28846f28f84954c72e27a06",
      "max": 5000,
      "min": 0,
      "orientation": "horizontal",
      "style": "IPY_MODEL_a8b81537e5b547aabf0933d46a49df39",
      "value": 5000
     }
    },
    "1aaee4ad8ace4da1b7e012181277ac90": {
     "model_module": "@jupyter-widgets/controls",
     "model_module_version": "1.5.0",
     "model_name": "DescriptionStyleModel",
     "state": {
      "_model_module": "@jupyter-widgets/controls",
      "_model_module_version": "1.5.0",
      "_model_name": "DescriptionStyleModel",
      "_view_count": null,
      "_view_module": "@jupyter-widgets/base",
      "_view_module_version": "1.2.0",
      "_view_name": "StyleView",
      "description_width": ""
     }
    },
    "1f52178db84d44e0b4171f96941267ec": {
     "model_module": "@jupyter-widgets/controls",
     "model_module_version": "1.5.0",
     "model_name": "HTMLModel",
     "state": {
      "_dom_classes": [],
      "_model_module": "@jupyter-widgets/controls",
      "_model_module_version": "1.5.0",
      "_model_name": "HTMLModel",
      "_view_count": null,
      "_view_module": "@jupyter-widgets/controls",
      "_view_module_version": "1.5.0",
      "_view_name": "HTMLView",
      "description": "",
      "description_tooltip": null,
      "layout": "IPY_MODEL_3aa7a7c996764e7bbf2c31aeace71b70",
      "placeholder": "​",
      "style": "IPY_MODEL_87fbd9d56bd348ad8f9d3d994c81cc5d",
      "value": "100%"
     }
    },
    "22eed1b738864df6b5d7b352785e958c": {
     "model_module": "@jupyter-widgets/controls",
     "model_module_version": "1.5.0",
     "model_name": "HTMLModel",
     "state": {
      "_dom_classes": [],
      "_model_module": "@jupyter-widgets/controls",
      "_model_module_version": "1.5.0",
      "_model_name": "HTMLModel",
      "_view_count": null,
      "_view_module": "@jupyter-widgets/controls",
      "_view_module_version": "1.5.0",
      "_view_name": "HTMLView",
      "description": "",
      "description_tooltip": null,
      "layout": "IPY_MODEL_ee748b5096af4542aa1902f0d0295dcc",
      "placeholder": "​",
      "style": "IPY_MODEL_9bac0d204ea5462b8c4ac07f7c9ca3f5",
      "value": " 5000/5000 [02:45&lt;00:00, 36.58it/s]"
     }
    },
    "24eeadb01b1f46a28197664c7fa6270b": {
     "model_module": "@jupyter-widgets/controls",
     "model_module_version": "1.5.0",
     "model_name": "HTMLModel",
     "state": {
      "_dom_classes": [],
      "_model_module": "@jupyter-widgets/controls",
      "_model_module_version": "1.5.0",
      "_model_name": "HTMLModel",
      "_view_count": null,
      "_view_module": "@jupyter-widgets/controls",
      "_view_module_version": "1.5.0",
      "_view_name": "HTMLView",
      "description": "",
      "description_tooltip": null,
      "layout": "IPY_MODEL_7873e297daff414a9f4d93dedf31c1c6",
      "placeholder": "​",
      "style": "IPY_MODEL_b6973b3b3aa24b62b5ad21523567dc43",
      "value": "100%"
     }
    },
    "2894fe72f5cb453195fb28ff790257be": {
     "model_module": "@jupyter-widgets/base",
     "model_module_version": "1.2.0",
     "model_name": "LayoutModel",
     "state": {
      "_model_module": "@jupyter-widgets/base",
      "_model_module_version": "1.2.0",
      "_model_name": "LayoutModel",
      "_view_count": null,
      "_view_module": "@jupyter-widgets/base",
      "_view_module_version": "1.2.0",
      "_view_name": "LayoutView",
      "align_content": null,
      "align_items": null,
      "align_self": null,
      "border": null,
      "bottom": null,
      "display": null,
      "flex": null,
      "flex_flow": null,
      "grid_area": null,
      "grid_auto_columns": null,
      "grid_auto_flow": null,
      "grid_auto_rows": null,
      "grid_column": null,
      "grid_gap": null,
      "grid_row": null,
      "grid_template_areas": null,
      "grid_template_columns": null,
      "grid_template_rows": null,
      "height": null,
      "justify_content": null,
      "justify_items": null,
      "left": null,
      "margin": null,
      "max_height": null,
      "max_width": null,
      "min_height": null,
      "min_width": null,
      "object_fit": null,
      "object_position": null,
      "order": null,
      "overflow": null,
      "overflow_x": null,
      "overflow_y": null,
      "padding": null,
      "right": null,
      "top": null,
      "visibility": null,
      "width": null
     }
    },
    "2b4e8cc64e3946e7bcd18a12dbe5e24d": {
     "model_module": "@jupyter-widgets/controls",
     "model_module_version": "1.5.0",
     "model_name": "HBoxModel",
     "state": {
      "_dom_classes": [],
      "_model_module": "@jupyter-widgets/controls",
      "_model_module_version": "1.5.0",
      "_model_name": "HBoxModel",
      "_view_count": null,
      "_view_module": "@jupyter-widgets/controls",
      "_view_module_version": "1.5.0",
      "_view_name": "HBoxView",
      "box_style": "",
      "children": [
       "IPY_MODEL_59524f6ec5cf4a42a05e6e7c5918776c",
       "IPY_MODEL_16be3b2265fd4e70860ec1fd0d2d4404",
       "IPY_MODEL_22eed1b738864df6b5d7b352785e958c"
      ],
      "layout": "IPY_MODEL_de6da465634241b292a331b1acb855ac"
     }
    },
    "349301178de7463ba33d925dd90fc2a9": {
     "model_module": "@jupyter-widgets/base",
     "model_module_version": "1.2.0",
     "model_name": "LayoutModel",
     "state": {
      "_model_module": "@jupyter-widgets/base",
      "_model_module_version": "1.2.0",
      "_model_name": "LayoutModel",
      "_view_count": null,
      "_view_module": "@jupyter-widgets/base",
      "_view_module_version": "1.2.0",
      "_view_name": "LayoutView",
      "align_content": null,
      "align_items": null,
      "align_self": null,
      "border": null,
      "bottom": null,
      "display": null,
      "flex": null,
      "flex_flow": null,
      "grid_area": null,
      "grid_auto_columns": null,
      "grid_auto_flow": null,
      "grid_auto_rows": null,
      "grid_column": null,
      "grid_gap": null,
      "grid_row": null,
      "grid_template_areas": null,
      "grid_template_columns": null,
      "grid_template_rows": null,
      "height": null,
      "justify_content": null,
      "justify_items": null,
      "left": null,
      "margin": null,
      "max_height": null,
      "max_width": null,
      "min_height": null,
      "min_width": null,
      "object_fit": null,
      "object_position": null,
      "order": null,
      "overflow": null,
      "overflow_x": null,
      "overflow_y": null,
      "padding": null,
      "right": null,
      "top": null,
      "visibility": null,
      "width": null
     }
    },
    "3aa7a7c996764e7bbf2c31aeace71b70": {
     "model_module": "@jupyter-widgets/base",
     "model_module_version": "1.2.0",
     "model_name": "LayoutModel",
     "state": {
      "_model_module": "@jupyter-widgets/base",
      "_model_module_version": "1.2.0",
      "_model_name": "LayoutModel",
      "_view_count": null,
      "_view_module": "@jupyter-widgets/base",
      "_view_module_version": "1.2.0",
      "_view_name": "LayoutView",
      "align_content": null,
      "align_items": null,
      "align_self": null,
      "border": null,
      "bottom": null,
      "display": null,
      "flex": null,
      "flex_flow": null,
      "grid_area": null,
      "grid_auto_columns": null,
      "grid_auto_flow": null,
      "grid_auto_rows": null,
      "grid_column": null,
      "grid_gap": null,
      "grid_row": null,
      "grid_template_areas": null,
      "grid_template_columns": null,
      "grid_template_rows": null,
      "height": null,
      "justify_content": null,
      "justify_items": null,
      "left": null,
      "margin": null,
      "max_height": null,
      "max_width": null,
      "min_height": null,
      "min_width": null,
      "object_fit": null,
      "object_position": null,
      "order": null,
      "overflow": null,
      "overflow_x": null,
      "overflow_y": null,
      "padding": null,
      "right": null,
      "top": null,
      "visibility": null,
      "width": null
     }
    },
    "3ba12a56b7024542a76891549ec8124e": {
     "model_module": "@jupyter-widgets/base",
     "model_module_version": "1.2.0",
     "model_name": "LayoutModel",
     "state": {
      "_model_module": "@jupyter-widgets/base",
      "_model_module_version": "1.2.0",
      "_model_name": "LayoutModel",
      "_view_count": null,
      "_view_module": "@jupyter-widgets/base",
      "_view_module_version": "1.2.0",
      "_view_name": "LayoutView",
      "align_content": null,
      "align_items": null,
      "align_self": null,
      "border": null,
      "bottom": null,
      "display": null,
      "flex": null,
      "flex_flow": null,
      "grid_area": null,
      "grid_auto_columns": null,
      "grid_auto_flow": null,
      "grid_auto_rows": null,
      "grid_column": null,
      "grid_gap": null,
      "grid_row": null,
      "grid_template_areas": null,
      "grid_template_columns": null,
      "grid_template_rows": null,
      "height": null,
      "justify_content": null,
      "justify_items": null,
      "left": null,
      "margin": null,
      "max_height": null,
      "max_width": null,
      "min_height": null,
      "min_width": null,
      "object_fit": null,
      "object_position": null,
      "order": null,
      "overflow": null,
      "overflow_x": null,
      "overflow_y": null,
      "padding": null,
      "right": null,
      "top": null,
      "visibility": null,
      "width": null
     }
    },
    "3c1898d85e244ba6b385ed1a0d88741f": {
     "model_module": "@jupyter-widgets/controls",
     "model_module_version": "1.5.0",
     "model_name": "ProgressStyleModel",
     "state": {
      "_model_module": "@jupyter-widgets/controls",
      "_model_module_version": "1.5.0",
      "_model_name": "ProgressStyleModel",
      "_view_count": null,
      "_view_module": "@jupyter-widgets/base",
      "_view_module_version": "1.2.0",
      "_view_name": "StyleView",
      "bar_color": null,
      "description_width": ""
     }
    },
    "3ed3a510ce824afb804e46d7742f31b1": {
     "model_module": "@jupyter-widgets/base",
     "model_module_version": "1.2.0",
     "model_name": "LayoutModel",
     "state": {
      "_model_module": "@jupyter-widgets/base",
      "_model_module_version": "1.2.0",
      "_model_name": "LayoutModel",
      "_view_count": null,
      "_view_module": "@jupyter-widgets/base",
      "_view_module_version": "1.2.0",
      "_view_name": "LayoutView",
      "align_content": null,
      "align_items": null,
      "align_self": null,
      "border": null,
      "bottom": null,
      "display": null,
      "flex": null,
      "flex_flow": null,
      "grid_area": null,
      "grid_auto_columns": null,
      "grid_auto_flow": null,
      "grid_auto_rows": null,
      "grid_column": null,
      "grid_gap": null,
      "grid_row": null,
      "grid_template_areas": null,
      "grid_template_columns": null,
      "grid_template_rows": null,
      "height": null,
      "justify_content": null,
      "justify_items": null,
      "left": null,
      "margin": null,
      "max_height": null,
      "max_width": null,
      "min_height": null,
      "min_width": null,
      "object_fit": null,
      "object_position": null,
      "order": null,
      "overflow": null,
      "overflow_x": null,
      "overflow_y": null,
      "padding": null,
      "right": null,
      "top": null,
      "visibility": null,
      "width": null
     }
    },
    "412efda9207d435680f614a814336981": {
     "model_module": "@jupyter-widgets/controls",
     "model_module_version": "1.5.0",
     "model_name": "ProgressStyleModel",
     "state": {
      "_model_module": "@jupyter-widgets/controls",
      "_model_module_version": "1.5.0",
      "_model_name": "ProgressStyleModel",
      "_view_count": null,
      "_view_module": "@jupyter-widgets/base",
      "_view_module_version": "1.2.0",
      "_view_name": "StyleView",
      "bar_color": null,
      "description_width": ""
     }
    },
    "59524f6ec5cf4a42a05e6e7c5918776c": {
     "model_module": "@jupyter-widgets/controls",
     "model_module_version": "1.5.0",
     "model_name": "HTMLModel",
     "state": {
      "_dom_classes": [],
      "_model_module": "@jupyter-widgets/controls",
      "_model_module_version": "1.5.0",
      "_model_name": "HTMLModel",
      "_view_count": null,
      "_view_module": "@jupyter-widgets/controls",
      "_view_module_version": "1.5.0",
      "_view_name": "HTMLView",
      "description": "",
      "description_tooltip": null,
      "layout": "IPY_MODEL_66fef669160b4e5bba01f744ded917f9",
      "placeholder": "​",
      "style": "IPY_MODEL_f240f7347a4e4969a811236dc7069422",
      "value": "100%"
     }
    },
    "5acdb1a703bc4809ba0222557d0601b2": {
     "model_module": "@jupyter-widgets/controls",
     "model_module_version": "1.5.0",
     "model_name": "FloatProgressModel",
     "state": {
      "_dom_classes": [],
      "_model_module": "@jupyter-widgets/controls",
      "_model_module_version": "1.5.0",
      "_model_name": "FloatProgressModel",
      "_view_count": null,
      "_view_module": "@jupyter-widgets/controls",
      "_view_module_version": "1.5.0",
      "_view_name": "ProgressView",
      "bar_style": "success",
      "description": "",
      "description_tooltip": null,
      "layout": "IPY_MODEL_01dbf5be21f84352b47a1763165c98f2",
      "max": 407,
      "min": 0,
      "orientation": "horizontal",
      "style": "IPY_MODEL_d16ee79f944946439ca7b1610ccc26a5",
      "value": 407
     }
    },
    "5bcf27ffc4b34f6a85596c84e640f387": {
     "model_module": "@jupyter-widgets/controls",
     "model_module_version": "1.5.0",
     "model_name": "HBoxModel",
     "state": {
      "_dom_classes": [],
      "_model_module": "@jupyter-widgets/controls",
      "_model_module_version": "1.5.0",
      "_model_name": "HBoxModel",
      "_view_count": null,
      "_view_module": "@jupyter-widgets/controls",
      "_view_module_version": "1.5.0",
      "_view_name": "HBoxView",
      "box_style": "",
      "children": [
       "IPY_MODEL_b0314b5af89847e78047fa06221e21ba",
       "IPY_MODEL_72d6064b47a24fecb65b31742ca9e15c",
       "IPY_MODEL_85372f4ab57a486289a57b5d6a11922b"
      ],
      "layout": "IPY_MODEL_3ba12a56b7024542a76891549ec8124e"
     }
    },
    "62a45bb255914f4dac900905efb28977": {
     "model_module": "@jupyter-widgets/base",
     "model_module_version": "1.2.0",
     "model_name": "LayoutModel",
     "state": {
      "_model_module": "@jupyter-widgets/base",
      "_model_module_version": "1.2.0",
      "_model_name": "LayoutModel",
      "_view_count": null,
      "_view_module": "@jupyter-widgets/base",
      "_view_module_version": "1.2.0",
      "_view_name": "LayoutView",
      "align_content": null,
      "align_items": null,
      "align_self": null,
      "border": null,
      "bottom": null,
      "display": null,
      "flex": null,
      "flex_flow": null,
      "grid_area": null,
      "grid_auto_columns": null,
      "grid_auto_flow": null,
      "grid_auto_rows": null,
      "grid_column": null,
      "grid_gap": null,
      "grid_row": null,
      "grid_template_areas": null,
      "grid_template_columns": null,
      "grid_template_rows": null,
      "height": null,
      "justify_content": null,
      "justify_items": null,
      "left": null,
      "margin": null,
      "max_height": null,
      "max_width": null,
      "min_height": null,
      "min_width": null,
      "object_fit": null,
      "object_position": null,
      "order": null,
      "overflow": null,
      "overflow_x": null,
      "overflow_y": null,
      "padding": null,
      "right": null,
      "top": null,
      "visibility": null,
      "width": null
     }
    },
    "66fef669160b4e5bba01f744ded917f9": {
     "model_module": "@jupyter-widgets/base",
     "model_module_version": "1.2.0",
     "model_name": "LayoutModel",
     "state": {
      "_model_module": "@jupyter-widgets/base",
      "_model_module_version": "1.2.0",
      "_model_name": "LayoutModel",
      "_view_count": null,
      "_view_module": "@jupyter-widgets/base",
      "_view_module_version": "1.2.0",
      "_view_name": "LayoutView",
      "align_content": null,
      "align_items": null,
      "align_self": null,
      "border": null,
      "bottom": null,
      "display": null,
      "flex": null,
      "flex_flow": null,
      "grid_area": null,
      "grid_auto_columns": null,
      "grid_auto_flow": null,
      "grid_auto_rows": null,
      "grid_column": null,
      "grid_gap": null,
      "grid_row": null,
      "grid_template_areas": null,
      "grid_template_columns": null,
      "grid_template_rows": null,
      "height": null,
      "justify_content": null,
      "justify_items": null,
      "left": null,
      "margin": null,
      "max_height": null,
      "max_width": null,
      "min_height": null,
      "min_width": null,
      "object_fit": null,
      "object_position": null,
      "order": null,
      "overflow": null,
      "overflow_x": null,
      "overflow_y": null,
      "padding": null,
      "right": null,
      "top": null,
      "visibility": null,
      "width": null
     }
    },
    "68dc82df4a92425ab3ae0c9ea328400a": {
     "model_module": "@jupyter-widgets/controls",
     "model_module_version": "1.5.0",
     "model_name": "HTMLModel",
     "state": {
      "_dom_classes": [],
      "_model_module": "@jupyter-widgets/controls",
      "_model_module_version": "1.5.0",
      "_model_name": "HTMLModel",
      "_view_count": null,
      "_view_module": "@jupyter-widgets/controls",
      "_view_module_version": "1.5.0",
      "_view_name": "HTMLView",
      "description": "",
      "description_tooltip": null,
      "layout": "IPY_MODEL_ac921b6bdabb4cca8cc0f06b90e0ca4c",
      "placeholder": "​",
      "style": "IPY_MODEL_b2edf4af65284501be36bf631e5ad996",
      "value": " 407/407 [00:04&lt;00:00, 102.42it/s]"
     }
    },
    "71fb732393ee4a8b9a50d24b07fd08a0": {
     "model_module": "@jupyter-widgets/controls",
     "model_module_version": "1.5.0",
     "model_name": "HBoxModel",
     "state": {
      "_dom_classes": [],
      "_model_module": "@jupyter-widgets/controls",
      "_model_module_version": "1.5.0",
      "_model_name": "HBoxModel",
      "_view_count": null,
      "_view_module": "@jupyter-widgets/controls",
      "_view_module_version": "1.5.0",
      "_view_name": "HBoxView",
      "box_style": "",
      "children": [
       "IPY_MODEL_24eeadb01b1f46a28197664c7fa6270b",
       "IPY_MODEL_5acdb1a703bc4809ba0222557d0601b2",
       "IPY_MODEL_160481ded6b540fcb8a48b9536d3285a"
      ],
      "layout": "IPY_MODEL_ef21675c993e41ce8e4d03896c6bbac4"
     }
    },
    "72d6064b47a24fecb65b31742ca9e15c": {
     "model_module": "@jupyter-widgets/controls",
     "model_module_version": "1.5.0",
     "model_name": "FloatProgressModel",
     "state": {
      "_dom_classes": [],
      "_model_module": "@jupyter-widgets/controls",
      "_model_module_version": "1.5.0",
      "_model_name": "FloatProgressModel",
      "_view_count": null,
      "_view_module": "@jupyter-widgets/controls",
      "_view_module_version": "1.5.0",
      "_view_name": "ProgressView",
      "bar_style": "success",
      "description": "",
      "description_tooltip": null,
      "layout": "IPY_MODEL_2894fe72f5cb453195fb28ff790257be",
      "max": 5000,
      "min": 0,
      "orientation": "horizontal",
      "style": "IPY_MODEL_412efda9207d435680f614a814336981",
      "value": 5000
     }
    },
    "7873e297daff414a9f4d93dedf31c1c6": {
     "model_module": "@jupyter-widgets/base",
     "model_module_version": "1.2.0",
     "model_name": "LayoutModel",
     "state": {
      "_model_module": "@jupyter-widgets/base",
      "_model_module_version": "1.2.0",
      "_model_name": "LayoutModel",
      "_view_count": null,
      "_view_module": "@jupyter-widgets/base",
      "_view_module_version": "1.2.0",
      "_view_name": "LayoutView",
      "align_content": null,
      "align_items": null,
      "align_self": null,
      "border": null,
      "bottom": null,
      "display": null,
      "flex": null,
      "flex_flow": null,
      "grid_area": null,
      "grid_auto_columns": null,
      "grid_auto_flow": null,
      "grid_auto_rows": null,
      "grid_column": null,
      "grid_gap": null,
      "grid_row": null,
      "grid_template_areas": null,
      "grid_template_columns": null,
      "grid_template_rows": null,
      "height": null,
      "justify_content": null,
      "justify_items": null,
      "left": null,
      "margin": null,
      "max_height": null,
      "max_width": null,
      "min_height": null,
      "min_width": null,
      "object_fit": null,
      "object_position": null,
      "order": null,
      "overflow": null,
      "overflow_x": null,
      "overflow_y": null,
      "padding": null,
      "right": null,
      "top": null,
      "visibility": null,
      "width": null
     }
    },
    "7f691e296bd34c8d8c27d9f705a55388": {
     "model_module": "@jupyter-widgets/controls",
     "model_module_version": "1.5.0",
     "model_name": "DescriptionStyleModel",
     "state": {
      "_model_module": "@jupyter-widgets/controls",
      "_model_module_version": "1.5.0",
      "_model_name": "DescriptionStyleModel",
      "_view_count": null,
      "_view_module": "@jupyter-widgets/base",
      "_view_module_version": "1.2.0",
      "_view_name": "StyleView",
      "description_width": ""
     }
    },
    "852e2f6c18eb4f8ebc8a7d73f84ca9a8": {
     "model_module": "@jupyter-widgets/base",
     "model_module_version": "1.2.0",
     "model_name": "LayoutModel",
     "state": {
      "_model_module": "@jupyter-widgets/base",
      "_model_module_version": "1.2.0",
      "_model_name": "LayoutModel",
      "_view_count": null,
      "_view_module": "@jupyter-widgets/base",
      "_view_module_version": "1.2.0",
      "_view_name": "LayoutView",
      "align_content": null,
      "align_items": null,
      "align_self": null,
      "border": null,
      "bottom": null,
      "display": null,
      "flex": null,
      "flex_flow": null,
      "grid_area": null,
      "grid_auto_columns": null,
      "grid_auto_flow": null,
      "grid_auto_rows": null,
      "grid_column": null,
      "grid_gap": null,
      "grid_row": null,
      "grid_template_areas": null,
      "grid_template_columns": null,
      "grid_template_rows": null,
      "height": null,
      "justify_content": null,
      "justify_items": null,
      "left": null,
      "margin": null,
      "max_height": null,
      "max_width": null,
      "min_height": null,
      "min_width": null,
      "object_fit": null,
      "object_position": null,
      "order": null,
      "overflow": null,
      "overflow_x": null,
      "overflow_y": null,
      "padding": null,
      "right": null,
      "top": null,
      "visibility": null,
      "width": null
     }
    },
    "85372f4ab57a486289a57b5d6a11922b": {
     "model_module": "@jupyter-widgets/controls",
     "model_module_version": "1.5.0",
     "model_name": "HTMLModel",
     "state": {
      "_dom_classes": [],
      "_model_module": "@jupyter-widgets/controls",
      "_model_module_version": "1.5.0",
      "_model_name": "HTMLModel",
      "_view_count": null,
      "_view_module": "@jupyter-widgets/controls",
      "_view_module_version": "1.5.0",
      "_view_name": "HTMLView",
      "description": "",
      "description_tooltip": null,
      "layout": "IPY_MODEL_349301178de7463ba33d925dd90fc2a9",
      "placeholder": "​",
      "style": "IPY_MODEL_7f691e296bd34c8d8c27d9f705a55388",
      "value": " 5000/5000 [04:14&lt;00:00, 22.74it/s]"
     }
    },
    "85de762d8ce842e8b9e71d19038e548e": {
     "model_module": "@jupyter-widgets/controls",
     "model_module_version": "1.5.0",
     "model_name": "HBoxModel",
     "state": {
      "_dom_classes": [],
      "_model_module": "@jupyter-widgets/controls",
      "_model_module_version": "1.5.0",
      "_model_name": "HBoxModel",
      "_view_count": null,
      "_view_module": "@jupyter-widgets/controls",
      "_view_module_version": "1.5.0",
      "_view_name": "HBoxView",
      "box_style": "",
      "children": [
       "IPY_MODEL_1f52178db84d44e0b4171f96941267ec",
       "IPY_MODEL_e34e9269fa4a4c13a16e9e87656cc6bf",
       "IPY_MODEL_68dc82df4a92425ab3ae0c9ea328400a"
      ],
      "layout": "IPY_MODEL_62a45bb255914f4dac900905efb28977"
     }
    },
    "86a48ccce62b4e3c94579361f2427727": {
     "model_module": "@jupyter-widgets/base",
     "model_module_version": "1.2.0",
     "model_name": "LayoutModel",
     "state": {
      "_model_module": "@jupyter-widgets/base",
      "_model_module_version": "1.2.0",
      "_model_name": "LayoutModel",
      "_view_count": null,
      "_view_module": "@jupyter-widgets/base",
      "_view_module_version": "1.2.0",
      "_view_name": "LayoutView",
      "align_content": null,
      "align_items": null,
      "align_self": null,
      "border": null,
      "bottom": null,
      "display": null,
      "flex": null,
      "flex_flow": null,
      "grid_area": null,
      "grid_auto_columns": null,
      "grid_auto_flow": null,
      "grid_auto_rows": null,
      "grid_column": null,
      "grid_gap": null,
      "grid_row": null,
      "grid_template_areas": null,
      "grid_template_columns": null,
      "grid_template_rows": null,
      "height": null,
      "justify_content": null,
      "justify_items": null,
      "left": null,
      "margin": null,
      "max_height": null,
      "max_width": null,
      "min_height": null,
      "min_width": null,
      "object_fit": null,
      "object_position": null,
      "order": null,
      "overflow": null,
      "overflow_x": null,
      "overflow_y": null,
      "padding": null,
      "right": null,
      "top": null,
      "visibility": null,
      "width": null
     }
    },
    "87fbd9d56bd348ad8f9d3d994c81cc5d": {
     "model_module": "@jupyter-widgets/controls",
     "model_module_version": "1.5.0",
     "model_name": "DescriptionStyleModel",
     "state": {
      "_model_module": "@jupyter-widgets/controls",
      "_model_module_version": "1.5.0",
      "_model_name": "DescriptionStyleModel",
      "_view_count": null,
      "_view_module": "@jupyter-widgets/base",
      "_view_module_version": "1.2.0",
      "_view_name": "StyleView",
      "description_width": ""
     }
    },
    "9ac153c47d6046ddae5afa376bc987b8": {
     "model_module": "@jupyter-widgets/base",
     "model_module_version": "1.2.0",
     "model_name": "LayoutModel",
     "state": {
      "_model_module": "@jupyter-widgets/base",
      "_model_module_version": "1.2.0",
      "_model_name": "LayoutModel",
      "_view_count": null,
      "_view_module": "@jupyter-widgets/base",
      "_view_module_version": "1.2.0",
      "_view_name": "LayoutView",
      "align_content": null,
      "align_items": null,
      "align_self": null,
      "border": null,
      "bottom": null,
      "display": null,
      "flex": null,
      "flex_flow": null,
      "grid_area": null,
      "grid_auto_columns": null,
      "grid_auto_flow": null,
      "grid_auto_rows": null,
      "grid_column": null,
      "grid_gap": null,
      "grid_row": null,
      "grid_template_areas": null,
      "grid_template_columns": null,
      "grid_template_rows": null,
      "height": null,
      "justify_content": null,
      "justify_items": null,
      "left": null,
      "margin": null,
      "max_height": null,
      "max_width": null,
      "min_height": null,
      "min_width": null,
      "object_fit": null,
      "object_position": null,
      "order": null,
      "overflow": null,
      "overflow_x": null,
      "overflow_y": null,
      "padding": null,
      "right": null,
      "top": null,
      "visibility": null,
      "width": null
     }
    },
    "9bac0d204ea5462b8c4ac07f7c9ca3f5": {
     "model_module": "@jupyter-widgets/controls",
     "model_module_version": "1.5.0",
     "model_name": "DescriptionStyleModel",
     "state": {
      "_model_module": "@jupyter-widgets/controls",
      "_model_module_version": "1.5.0",
      "_model_name": "DescriptionStyleModel",
      "_view_count": null,
      "_view_module": "@jupyter-widgets/base",
      "_view_module_version": "1.2.0",
      "_view_name": "StyleView",
      "description_width": ""
     }
    },
    "a8b81537e5b547aabf0933d46a49df39": {
     "model_module": "@jupyter-widgets/controls",
     "model_module_version": "1.5.0",
     "model_name": "ProgressStyleModel",
     "state": {
      "_model_module": "@jupyter-widgets/controls",
      "_model_module_version": "1.5.0",
      "_model_name": "ProgressStyleModel",
      "_view_count": null,
      "_view_module": "@jupyter-widgets/base",
      "_view_module_version": "1.2.0",
      "_view_name": "StyleView",
      "bar_color": null,
      "description_width": ""
     }
    },
    "ac921b6bdabb4cca8cc0f06b90e0ca4c": {
     "model_module": "@jupyter-widgets/base",
     "model_module_version": "1.2.0",
     "model_name": "LayoutModel",
     "state": {
      "_model_module": "@jupyter-widgets/base",
      "_model_module_version": "1.2.0",
      "_model_name": "LayoutModel",
      "_view_count": null,
      "_view_module": "@jupyter-widgets/base",
      "_view_module_version": "1.2.0",
      "_view_name": "LayoutView",
      "align_content": null,
      "align_items": null,
      "align_self": null,
      "border": null,
      "bottom": null,
      "display": null,
      "flex": null,
      "flex_flow": null,
      "grid_area": null,
      "grid_auto_columns": null,
      "grid_auto_flow": null,
      "grid_auto_rows": null,
      "grid_column": null,
      "grid_gap": null,
      "grid_row": null,
      "grid_template_areas": null,
      "grid_template_columns": null,
      "grid_template_rows": null,
      "height": null,
      "justify_content": null,
      "justify_items": null,
      "left": null,
      "margin": null,
      "max_height": null,
      "max_width": null,
      "min_height": null,
      "min_width": null,
      "object_fit": null,
      "object_position": null,
      "order": null,
      "overflow": null,
      "overflow_x": null,
      "overflow_y": null,
      "padding": null,
      "right": null,
      "top": null,
      "visibility": null,
      "width": null
     }
    },
    "b0314b5af89847e78047fa06221e21ba": {
     "model_module": "@jupyter-widgets/controls",
     "model_module_version": "1.5.0",
     "model_name": "HTMLModel",
     "state": {
      "_dom_classes": [],
      "_model_module": "@jupyter-widgets/controls",
      "_model_module_version": "1.5.0",
      "_model_name": "HTMLModel",
      "_view_count": null,
      "_view_module": "@jupyter-widgets/controls",
      "_view_module_version": "1.5.0",
      "_view_name": "HTMLView",
      "description": "",
      "description_tooltip": null,
      "layout": "IPY_MODEL_9ac153c47d6046ddae5afa376bc987b8",
      "placeholder": "​",
      "style": "IPY_MODEL_1aaee4ad8ace4da1b7e012181277ac90",
      "value": "100%"
     }
    },
    "b2edf4af65284501be36bf631e5ad996": {
     "model_module": "@jupyter-widgets/controls",
     "model_module_version": "1.5.0",
     "model_name": "DescriptionStyleModel",
     "state": {
      "_model_module": "@jupyter-widgets/controls",
      "_model_module_version": "1.5.0",
      "_model_name": "DescriptionStyleModel",
      "_view_count": null,
      "_view_module": "@jupyter-widgets/base",
      "_view_module_version": "1.2.0",
      "_view_name": "StyleView",
      "description_width": ""
     }
    },
    "b6973b3b3aa24b62b5ad21523567dc43": {
     "model_module": "@jupyter-widgets/controls",
     "model_module_version": "1.5.0",
     "model_name": "DescriptionStyleModel",
     "state": {
      "_model_module": "@jupyter-widgets/controls",
      "_model_module_version": "1.5.0",
      "_model_name": "DescriptionStyleModel",
      "_view_count": null,
      "_view_module": "@jupyter-widgets/base",
      "_view_module_version": "1.2.0",
      "_view_name": "StyleView",
      "description_width": ""
     }
    },
    "cb8fde3e809e4ac7822e1d377dc26518": {
     "model_module": "@jupyter-widgets/controls",
     "model_module_version": "1.5.0",
     "model_name": "DescriptionStyleModel",
     "state": {
      "_model_module": "@jupyter-widgets/controls",
      "_model_module_version": "1.5.0",
      "_model_name": "DescriptionStyleModel",
      "_view_count": null,
      "_view_module": "@jupyter-widgets/base",
      "_view_module_version": "1.2.0",
      "_view_name": "StyleView",
      "description_width": ""
     }
    },
    "cd8bbf2f5b9d4405b5389615bf98ee0b": {
     "model_module": "@jupyter-widgets/base",
     "model_module_version": "1.2.0",
     "model_name": "LayoutModel",
     "state": {
      "_model_module": "@jupyter-widgets/base",
      "_model_module_version": "1.2.0",
      "_model_name": "LayoutModel",
      "_view_count": null,
      "_view_module": "@jupyter-widgets/base",
      "_view_module_version": "1.2.0",
      "_view_name": "LayoutView",
      "align_content": null,
      "align_items": null,
      "align_self": null,
      "border": null,
      "bottom": null,
      "display": null,
      "flex": null,
      "flex_flow": null,
      "grid_area": null,
      "grid_auto_columns": null,
      "grid_auto_flow": null,
      "grid_auto_rows": null,
      "grid_column": null,
      "grid_gap": null,
      "grid_row": null,
      "grid_template_areas": null,
      "grid_template_columns": null,
      "grid_template_rows": null,
      "height": null,
      "justify_content": null,
      "justify_items": null,
      "left": null,
      "margin": null,
      "max_height": null,
      "max_width": null,
      "min_height": null,
      "min_width": null,
      "object_fit": null,
      "object_position": null,
      "order": null,
      "overflow": null,
      "overflow_x": null,
      "overflow_y": null,
      "padding": null,
      "right": null,
      "top": null,
      "visibility": null,
      "width": null
     }
    },
    "d16ee79f944946439ca7b1610ccc26a5": {
     "model_module": "@jupyter-widgets/controls",
     "model_module_version": "1.5.0",
     "model_name": "ProgressStyleModel",
     "state": {
      "_model_module": "@jupyter-widgets/controls",
      "_model_module_version": "1.5.0",
      "_model_name": "ProgressStyleModel",
      "_view_count": null,
      "_view_module": "@jupyter-widgets/base",
      "_view_module_version": "1.2.0",
      "_view_name": "StyleView",
      "bar_color": null,
      "description_width": ""
     }
    },
    "d626fc3dd28846f28f84954c72e27a06": {
     "model_module": "@jupyter-widgets/base",
     "model_module_version": "1.2.0",
     "model_name": "LayoutModel",
     "state": {
      "_model_module": "@jupyter-widgets/base",
      "_model_module_version": "1.2.0",
      "_model_name": "LayoutModel",
      "_view_count": null,
      "_view_module": "@jupyter-widgets/base",
      "_view_module_version": "1.2.0",
      "_view_name": "LayoutView",
      "align_content": null,
      "align_items": null,
      "align_self": null,
      "border": null,
      "bottom": null,
      "display": null,
      "flex": null,
      "flex_flow": null,
      "grid_area": null,
      "grid_auto_columns": null,
      "grid_auto_flow": null,
      "grid_auto_rows": null,
      "grid_column": null,
      "grid_gap": null,
      "grid_row": null,
      "grid_template_areas": null,
      "grid_template_columns": null,
      "grid_template_rows": null,
      "height": null,
      "justify_content": null,
      "justify_items": null,
      "left": null,
      "margin": null,
      "max_height": null,
      "max_width": null,
      "min_height": null,
      "min_width": null,
      "object_fit": null,
      "object_position": null,
      "order": null,
      "overflow": null,
      "overflow_x": null,
      "overflow_y": null,
      "padding": null,
      "right": null,
      "top": null,
      "visibility": null,
      "width": null
     }
    },
    "de6da465634241b292a331b1acb855ac": {
     "model_module": "@jupyter-widgets/base",
     "model_module_version": "1.2.0",
     "model_name": "LayoutModel",
     "state": {
      "_model_module": "@jupyter-widgets/base",
      "_model_module_version": "1.2.0",
      "_model_name": "LayoutModel",
      "_view_count": null,
      "_view_module": "@jupyter-widgets/base",
      "_view_module_version": "1.2.0",
      "_view_name": "LayoutView",
      "align_content": null,
      "align_items": null,
      "align_self": null,
      "border": null,
      "bottom": null,
      "display": null,
      "flex": null,
      "flex_flow": null,
      "grid_area": null,
      "grid_auto_columns": null,
      "grid_auto_flow": null,
      "grid_auto_rows": null,
      "grid_column": null,
      "grid_gap": null,
      "grid_row": null,
      "grid_template_areas": null,
      "grid_template_columns": null,
      "grid_template_rows": null,
      "height": null,
      "justify_content": null,
      "justify_items": null,
      "left": null,
      "margin": null,
      "max_height": null,
      "max_width": null,
      "min_height": null,
      "min_width": null,
      "object_fit": null,
      "object_position": null,
      "order": null,
      "overflow": null,
      "overflow_x": null,
      "overflow_y": null,
      "padding": null,
      "right": null,
      "top": null,
      "visibility": null,
      "width": null
     }
    },
    "e34e9269fa4a4c13a16e9e87656cc6bf": {
     "model_module": "@jupyter-widgets/controls",
     "model_module_version": "1.5.0",
     "model_name": "FloatProgressModel",
     "state": {
      "_dom_classes": [],
      "_model_module": "@jupyter-widgets/controls",
      "_model_module_version": "1.5.0",
      "_model_name": "FloatProgressModel",
      "_view_count": null,
      "_view_module": "@jupyter-widgets/controls",
      "_view_module_version": "1.5.0",
      "_view_name": "ProgressView",
      "bar_style": "success",
      "description": "",
      "description_tooltip": null,
      "layout": "IPY_MODEL_852e2f6c18eb4f8ebc8a7d73f84ca9a8",
      "max": 407,
      "min": 0,
      "orientation": "horizontal",
      "style": "IPY_MODEL_3c1898d85e244ba6b385ed1a0d88741f",
      "value": 407
     }
    },
    "ee748b5096af4542aa1902f0d0295dcc": {
     "model_module": "@jupyter-widgets/base",
     "model_module_version": "1.2.0",
     "model_name": "LayoutModel",
     "state": {
      "_model_module": "@jupyter-widgets/base",
      "_model_module_version": "1.2.0",
      "_model_name": "LayoutModel",
      "_view_count": null,
      "_view_module": "@jupyter-widgets/base",
      "_view_module_version": "1.2.0",
      "_view_name": "LayoutView",
      "align_content": null,
      "align_items": null,
      "align_self": null,
      "border": null,
      "bottom": null,
      "display": null,
      "flex": null,
      "flex_flow": null,
      "grid_area": null,
      "grid_auto_columns": null,
      "grid_auto_flow": null,
      "grid_auto_rows": null,
      "grid_column": null,
      "grid_gap": null,
      "grid_row": null,
      "grid_template_areas": null,
      "grid_template_columns": null,
      "grid_template_rows": null,
      "height": null,
      "justify_content": null,
      "justify_items": null,
      "left": null,
      "margin": null,
      "max_height": null,
      "max_width": null,
      "min_height": null,
      "min_width": null,
      "object_fit": null,
      "object_position": null,
      "order": null,
      "overflow": null,
      "overflow_x": null,
      "overflow_y": null,
      "padding": null,
      "right": null,
      "top": null,
      "visibility": null,
      "width": null
     }
    },
    "ef21675c993e41ce8e4d03896c6bbac4": {
     "model_module": "@jupyter-widgets/base",
     "model_module_version": "1.2.0",
     "model_name": "LayoutModel",
     "state": {
      "_model_module": "@jupyter-widgets/base",
      "_model_module_version": "1.2.0",
      "_model_name": "LayoutModel",
      "_view_count": null,
      "_view_module": "@jupyter-widgets/base",
      "_view_module_version": "1.2.0",
      "_view_name": "LayoutView",
      "align_content": null,
      "align_items": null,
      "align_self": null,
      "border": null,
      "bottom": null,
      "display": null,
      "flex": null,
      "flex_flow": null,
      "grid_area": null,
      "grid_auto_columns": null,
      "grid_auto_flow": null,
      "grid_auto_rows": null,
      "grid_column": null,
      "grid_gap": null,
      "grid_row": null,
      "grid_template_areas": null,
      "grid_template_columns": null,
      "grid_template_rows": null,
      "height": null,
      "justify_content": null,
      "justify_items": null,
      "left": null,
      "margin": null,
      "max_height": null,
      "max_width": null,
      "min_height": null,
      "min_width": null,
      "object_fit": null,
      "object_position": null,
      "order": null,
      "overflow": null,
      "overflow_x": null,
      "overflow_y": null,
      "padding": null,
      "right": null,
      "top": null,
      "visibility": null,
      "width": null
     }
    },
    "f240f7347a4e4969a811236dc7069422": {
     "model_module": "@jupyter-widgets/controls",
     "model_module_version": "1.5.0",
     "model_name": "DescriptionStyleModel",
     "state": {
      "_model_module": "@jupyter-widgets/controls",
      "_model_module_version": "1.5.0",
      "_model_name": "DescriptionStyleModel",
      "_view_count": null,
      "_view_module": "@jupyter-widgets/base",
      "_view_module_version": "1.2.0",
      "_view_name": "StyleView",
      "description_width": ""
     }
    },
    "ff1255d8a6f24e5e950dab5b6f921a3b": {
     "model_module": "@jupyter-widgets/output",
     "model_module_version": "1.0.0",
     "model_name": "OutputModel",
     "state": {
      "_dom_classes": [],
      "_model_module": "@jupyter-widgets/output",
      "_model_module_version": "1.0.0",
      "_model_name": "OutputModel",
      "_view_count": null,
      "_view_module": "@jupyter-widgets/output",
      "_view_module_version": "1.0.0",
      "_view_name": "OutputView",
      "layout": "IPY_MODEL_cd8bbf2f5b9d4405b5389615bf98ee0b",
      "msg_id": "",
      "outputs": [
       {
        "name": "stdout",
        "output_type": "stream",
        "text": [
         "mean loss = 1.342, mean score = 7.168\n"
        ]
       },
       {
        "data": {
         "image/png": "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\n",
         "text/plain": "<Figure size 864x288 with 3 Axes>"
        },
        "metadata": {
         "needs_background": "light"
        },
        "output_type": "display_data"
       }
      ]
     }
    }
   }
  }
 },
 "nbformat": 4,
 "nbformat_minor": 4
}
